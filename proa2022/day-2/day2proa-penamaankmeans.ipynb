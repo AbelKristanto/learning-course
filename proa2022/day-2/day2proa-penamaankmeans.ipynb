{
  "cells": [
    {
      "cell_type": "markdown",
      "metadata": {
        "id": "nRZlbGgm-Jtj"
      },
      "source": [
        "## Penamaan dengan K-Means\n",
        "\n",
        "Penamaan perlu untuk seluruh referensi hasil konversi dan objek kmeans ini supaya bisa digunakan untuk mengolah data baru dan berguna di bisnis dengan tahapan sebagai berikut:\n",
        "1. Menamakan cluster dengan karakteristik yang lebih mudah dimengerti. Penamaan ini kita simpan dalam variable Segmen.Pelanggan.\n",
        "2. Menggabungkan variable Segmen. Pelanggan, Profesi, Jenis.Kelamin, Tipe.Residen, dan Segmentasi ke dalam satu objek bertipe list ke dalam variable Identitas.Cluster.\n",
        "3. Menyimpan objek Identitas.Cluster dalam bentuk file sehingga dapat digunakan kemudian, ini bisa disebut model bagi kita\n",
        "\n",
        "\n",
        "Disini kita akan memuat penamaan cluster dengan berikut ini:\n",
        "1. **Cluster 3** : Silver Youth Gals: alasannya adalah karena umurnya rata-rata adalah 20, wanita semua, profesinya bercampur antar pelajar dan professional serta pembelanjaan sekitar 6 juta.\n",
        "2. **Cluster 1** : Diamond Senior Member: alasannya adalah karena umurnya rata-rata adalah 61 tahun dan pembelanjaan di atas 8 juta.\n",
        "3. **Cluster 2** : Gold Young Professional: alasannya adalah karena umurnya rata-rata adalah 31 tahun, professional dan pembelanjaan cukup besar.\n",
        "4. **Cluster 4** : Diamond Profesional: alasannya adalah karena umurnya rata-rata adalah 42 tahun, pembelanjaan paling tinggi dan semuanya professional.\n",
        "5. **Cluster 5** : Silver Mid Professional: alasannya adalah karena umurnya rata-rata adalah 52 tahun dan pembelanjaan sekitar 6 juta.\n",
        "\n",
        "```r\n",
        "# Penamaan segmen pelanggan\n",
        "Segmen.Pelanggan <- data.frame(cluster = c(1,2,3,4,5), \n",
        "  Nama.Segmen = c(\"Silver Youth Gals\", \"Diamond Senior Member\", \"Gold Young Professional\", \"Diamond Professional\", \"Silver Mid Professional\"))\n",
        "Segmen.Pelanggan\n",
        "```"
      ]
    },
    {
      "cell_type": "code",
      "execution_count": null,
      "metadata": {
        "colab": {
          "base_uri": "https://localhost:8080/",
          "height": 255
        },
        "id": "ouBJBOma-UAY",
        "outputId": "baea3ef4-1205-42b1-d292-db9b4424bc61",
        "vscode": {
          "languageId": "r"
        }
      },
      "outputs": [
        {
          "data": {
            "text/html": [
              "<table class=\"dataframe\">\n",
              "<caption>A data.frame: 5 × 2</caption>\n",
              "<thead>\n",
              "\t<tr><th scope=col>cluster</th><th scope=col>Nama.Segmen</th></tr>\n",
              "\t<tr><th scope=col>&lt;dbl&gt;</th><th scope=col>&lt;chr&gt;</th></tr>\n",
              "</thead>\n",
              "<tbody>\n",
              "\t<tr><td>1</td><td>Diamond Senior Member  </td></tr>\n",
              "\t<tr><td>2</td><td>Gold Young Professional</td></tr>\n",
              "\t<tr><td>3</td><td>Silver Youth Gals      </td></tr>\n",
              "\t<tr><td>4</td><td>Diamond Professional   </td></tr>\n",
              "\t<tr><td>5</td><td>Silver Mid Professional</td></tr>\n",
              "</tbody>\n",
              "</table>\n"
            ],
            "text/latex": [
              "A data.frame: 5 × 2\n",
              "\\begin{tabular}{ll}\n",
              " cluster & Nama.Segmen\\\\\n",
              " <dbl> & <chr>\\\\\n",
              "\\hline\n",
              "\t 1 & Diamond Senior Member  \\\\\n",
              "\t 2 & Gold Young Professional\\\\\n",
              "\t 3 & Silver Youth Gals      \\\\\n",
              "\t 4 & Diamond Professional   \\\\\n",
              "\t 5 & Silver Mid Professional\\\\\n",
              "\\end{tabular}\n"
            ],
            "text/markdown": [
              "\n",
              "A data.frame: 5 × 2\n",
              "\n",
              "| cluster &lt;dbl&gt; | Nama.Segmen &lt;chr&gt; |\n",
              "|---|---|\n",
              "| 1 | Diamond Senior Member   |\n",
              "| 2 | Gold Young Professional |\n",
              "| 3 | Silver Youth Gals       |\n",
              "| 4 | Diamond Professional    |\n",
              "| 5 | Silver Mid Professional |\n",
              "\n"
            ],
            "text/plain": [
              "  cluster Nama.Segmen            \n",
              "1 1       Diamond Senior Member  \n",
              "2 2       Gold Young Professional\n",
              "3 3       Silver Youth Gals      \n",
              "4 4       Diamond Professional   \n",
              "5 5       Silver Mid Professional"
            ]
          },
          "metadata": {},
          "output_type": "display_data"
        }
      ],
      "source": [
        "# Silahkan coba disini\n",
        "Segmen.Pelanggan <- data.frame(cluster = c(1,2,3,4,5), \n",
        "  Nama.Segmen = c(\"Diamond Senior Member\", \"Gold Young Professional\", \"Silver Youth Gals\", \"Diamond Professional\", \"Silver Mid Professional\"))\n",
        "Segmen.Pelanggan"
      ]
    },
    {
      "cell_type": "markdown",
      "metadata": {
        "id": "LPjnC20rVquI"
      },
      "source": [
        "Review yang sudah dipelajari:\n",
        "1. Dataset pelanggan yang telah \"diperkaya\" dengan tambahan kolom hasil konversi teks menjadi numerik, dan menormalisasikan field NilaiBelanjaSetahun.\n",
        "2. Objek kmeans dengan k=5, dipilih berdasarkan metodologi menggunakan metrik Sum of Squares (SS).\n",
        "3. Membuat variable referensi atau pemetaan numerik dan teks asli (kategori) dari kolom Jenis Kelamin, Profesi dan Tipe Residen.\n",
        "4. Variable data.frame dengan nama Pelanggan yang berisi penamaan cluster sesuai analisa karakteristik dari centroid kolom-kolom pelanggan yang digunakan.\n",
        "5. Vector dari field yang digunakan."
      ]
    },
    {
      "cell_type": "markdown",
      "metadata": {
        "id": "-NIoGbgD-b-z"
      },
      "source": [
        "Disini kita akan memuat data dalam satu file yang sama dengan melakukan penyimpanan dengan list, hal tersebut akan berguna apabila kita mengakses aksesor $, maka dari penting membuat poin aksesornya.\n",
        "\n",
        "```r\n",
        "# Penamaan variabel\n",
        "Identitas.Cluster <- list(Profesi=Profesi, \n",
        "  Jenis.Kelamin=Jenis.Kelamin, Tipe.Residen=Tipe.Residen,\n",
        "  Segmentasi=segmentasi, Segmen.Pelanggan=Segmen.Pelanggan,\n",
        "  field_yang_digunakan=field_yang_digunakan)\n",
        "# Penyimpanan dalam dokumen\n",
        "saveRDS(Identitas.Cluster,\"cluster.rds\")\n",
        "```"
      ]
    },
    {
      "cell_type": "code",
      "execution_count": null,
      "metadata": {
        "id": "6HNU95bU-sRQ",
        "vscode": {
          "languageId": "r"
        }
      },
      "outputs": [],
      "source": [
        "# Silahkan coba disini\n",
        "Identitas.Cluster <- list(Profesi=Profesi, \n",
        "  Jenis.Kelamin=Jenis.Kelamin, Tipe.Residen=Tipe.Residen,\n",
        "  Segmentasi=segmentasi, Segmen.Pelanggan=Segmen.Pelanggan,\n",
        "  field_yang_digunakan=field_yang_digunakan)\n",
        "\n",
        "saveRDS(Identitas.Cluster,\"cluster.rds\")"
      ]
    }
  ],
  "metadata": {
    "colab": {
      "collapsed_sections": [],
      "name": "day2proa-segpro.ipynb",
      "provenance": []
    },
    "kernelspec": {
      "display_name": "R",
      "name": "ir"
    },
    "language_info": {
      "name": "R"
    }
  },
  "nbformat": 4,
  "nbformat_minor": 0
}
