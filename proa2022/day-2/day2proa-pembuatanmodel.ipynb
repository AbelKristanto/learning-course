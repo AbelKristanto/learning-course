{
  "cells": [
    {
      "cell_type": "markdown",
      "metadata": {
        "id": "84h6uBtA1_bb"
      },
      "source": [
        "## Pembuatan Pemodelan\n",
        "\n",
        "Disini kita akan membuat pemodelan K-Means dengan memiliki cluster 5 dengan dimulai dari 25\n",
        "\n",
        "```r\n",
        "field_yang_digunakan = c(\"Jenis.Kelamin.1\", \"Umur\", \"Profesi.1\", \n",
        "\"Tipe.Residen.1\",\"NilaiBelanjaSetahun\")\n",
        "# Pembuatan seed\n",
        "set.seed(100)\n",
        "# Pembuatan variabel kmeans\n",
        "segmentasi <- kmeans(x=pelanggan[field_yang_digunakan], centers=5, nstart=25)\n",
        "# Penampilan beragam cluster yang terbentuk\n",
        "segmentasi$cluster\n",
        "# Penggabungan cluster\n",
        "pelanggan$cluster <- segmentasi$cluster\n",
        "# Penampilan informasi hasil\n",
        "str(pelanggan)\n",
        "# Penampilan view data\n",
        "head(pelanggan, 5)\n",
        "```"
      ]
    },
    {
      "cell_type": "code",
      "execution_count": null,
      "metadata": {
        "colab": {
          "base_uri": "https://localhost:8080/",
          "height": 518
        },
        "id": "Jz4yHVpR4hyl",
        "outputId": "73f6a674-4ced-4177-f342-d209bc8abbc8",
        "vscode": {
          "languageId": "r"
        }
      },
      "outputs": [
        {
          "data": {
            "text/html": [
              "<style>\n",
              ".list-inline {list-style: none; margin:0; padding: 0}\n",
              ".list-inline>li {display: inline-block}\n",
              ".list-inline>li:not(:last-child)::after {content: \"\\00b7\"; padding: 0 .5ex}\n",
              "</style>\n",
              "<ol class=list-inline><li>1</li><li>3</li><li>5</li><li>5</li><li>4</li><li>3</li><li>1</li><li>5</li><li>2</li><li>2</li><li>5</li><li>5</li><li>1</li><li>1</li><li>3</li><li>2</li><li>2</li><li>1</li><li>2</li><li>3</li><li>4</li><li>5</li><li>2</li><li>4</li><li>2</li><li>5</li><li>2</li><li>4</li><li>5</li><li>4</li><li>3</li><li>4</li><li>3</li><li>3</li><li>4</li><li>2</li><li>3</li><li>4</li><li>3</li><li>3</li><li>3</li><li>2</li><li>2</li><li>3</li><li>3</li><li>3</li><li>5</li><li>4</li><li>2</li><li>5</li></ol>\n"
            ],
            "text/latex": [
              "\\begin{enumerate*}\n",
              "\\item 1\n",
              "\\item 3\n",
              "\\item 5\n",
              "\\item 5\n",
              "\\item 4\n",
              "\\item 3\n",
              "\\item 1\n",
              "\\item 5\n",
              "\\item 2\n",
              "\\item 2\n",
              "\\item 5\n",
              "\\item 5\n",
              "\\item 1\n",
              "\\item 1\n",
              "\\item 3\n",
              "\\item 2\n",
              "\\item 2\n",
              "\\item 1\n",
              "\\item 2\n",
              "\\item 3\n",
              "\\item 4\n",
              "\\item 5\n",
              "\\item 2\n",
              "\\item 4\n",
              "\\item 2\n",
              "\\item 5\n",
              "\\item 2\n",
              "\\item 4\n",
              "\\item 5\n",
              "\\item 4\n",
              "\\item 3\n",
              "\\item 4\n",
              "\\item 3\n",
              "\\item 3\n",
              "\\item 4\n",
              "\\item 2\n",
              "\\item 3\n",
              "\\item 4\n",
              "\\item 3\n",
              "\\item 3\n",
              "\\item 3\n",
              "\\item 2\n",
              "\\item 2\n",
              "\\item 3\n",
              "\\item 3\n",
              "\\item 3\n",
              "\\item 5\n",
              "\\item 4\n",
              "\\item 2\n",
              "\\item 5\n",
              "\\end{enumerate*}\n"
            ],
            "text/markdown": [
              "1. 1\n",
              "2. 3\n",
              "3. 5\n",
              "4. 5\n",
              "5. 4\n",
              "6. 3\n",
              "7. 1\n",
              "8. 5\n",
              "9. 2\n",
              "10. 2\n",
              "11. 5\n",
              "12. 5\n",
              "13. 1\n",
              "14. 1\n",
              "15. 3\n",
              "16. 2\n",
              "17. 2\n",
              "18. 1\n",
              "19. 2\n",
              "20. 3\n",
              "21. 4\n",
              "22. 5\n",
              "23. 2\n",
              "24. 4\n",
              "25. 2\n",
              "26. 5\n",
              "27. 2\n",
              "28. 4\n",
              "29. 5\n",
              "30. 4\n",
              "31. 3\n",
              "32. 4\n",
              "33. 3\n",
              "34. 3\n",
              "35. 4\n",
              "36. 2\n",
              "37. 3\n",
              "38. 4\n",
              "39. 3\n",
              "40. 3\n",
              "41. 3\n",
              "42. 2\n",
              "43. 2\n",
              "44. 3\n",
              "45. 3\n",
              "46. 3\n",
              "47. 5\n",
              "48. 4\n",
              "49. 2\n",
              "50. 5\n",
              "\n",
              "\n"
            ],
            "text/plain": [
              " [1] 1 3 5 5 4 3 1 5 2 2 5 5 1 1 3 2 2 1 2 3 4 5 2 4 2 5 2 4 5 4 3 4 3 3 4 2 3 4\n",
              "[39] 3 3 3 2 2 3 3 3 5 4 2 5"
            ]
          },
          "metadata": {},
          "output_type": "display_data"
        },
        {
          "name": "stdout",
          "output_type": "stream",
          "text": [
            "'data.frame':\t50 obs. of  11 variables:\n",
            " $ Customer_ID        : chr  \"CUST-001\" \"CUST-002\" \"CUST-003\" \"CUST-004\" ...\n",
            " $ Nama.Pelanggan     : chr  \"Budi Anggara\" \"Shirley Ratuwati\" \"Agus Cahyono\" \"Antonius Winarta\" ...\n",
            " $ Jenis.Kelamin      : chr  \"Pria\" \"Wanita\" \"Pria\" \"Pria\" ...\n",
            " $ Umur               : int  58 14 48 53 41 24 64 52 29 33 ...\n",
            " $ Profesi            : chr  \"Wiraswasta\" \"Pelajar\" \"Professional\" \"Professional\" ...\n",
            " $ Tipe.Residen       : chr  \"Sector\" \"Cluster\" \"Cluster\" \"Cluster\" ...\n",
            " $ NilaiBelanjaSetahun: num  9.5 2.72 5.29 5.2 10.62 ...\n",
            " $ Jenis.Kelamin.1    : int  1 2 1 1 2 2 1 1 2 1 ...\n",
            " $ Profesi.1          : int  5 3 4 4 5 4 5 4 4 4 ...\n",
            " $ Tipe.Residen.1     : int  2 1 1 1 1 1 2 1 2 1 ...\n",
            " $ cluster            : int  1 3 5 5 4 3 1 5 2 2 ...\n"
          ]
        },
        {
          "data": {
            "text/html": [
              "<table class=\"dataframe\">\n",
              "<caption>A data.frame: 5 × 11</caption>\n",
              "<thead>\n",
              "\t<tr><th></th><th scope=col>Customer_ID</th><th scope=col>Nama.Pelanggan</th><th scope=col>Jenis.Kelamin</th><th scope=col>Umur</th><th scope=col>Profesi</th><th scope=col>Tipe.Residen</th><th scope=col>NilaiBelanjaSetahun</th><th scope=col>Jenis.Kelamin.1</th><th scope=col>Profesi.1</th><th scope=col>Tipe.Residen.1</th><th scope=col>cluster</th></tr>\n",
              "\t<tr><th></th><th scope=col>&lt;chr&gt;</th><th scope=col>&lt;chr&gt;</th><th scope=col>&lt;chr&gt;</th><th scope=col>&lt;int&gt;</th><th scope=col>&lt;chr&gt;</th><th scope=col>&lt;chr&gt;</th><th scope=col>&lt;dbl&gt;</th><th scope=col>&lt;int&gt;</th><th scope=col>&lt;int&gt;</th><th scope=col>&lt;int&gt;</th><th scope=col>&lt;int&gt;</th></tr>\n",
              "</thead>\n",
              "<tbody>\n",
              "\t<tr><th scope=row>1</th><td>CUST-001</td><td>Budi Anggara       </td><td>Pria  </td><td>58</td><td>Wiraswasta  </td><td>Sector </td><td> 9.497927</td><td>1</td><td>5</td><td>2</td><td>1</td></tr>\n",
              "\t<tr><th scope=row>2</th><td>CUST-002</td><td>Shirley Ratuwati   </td><td>Wanita</td><td>14</td><td>Pelajar     </td><td>Cluster</td><td> 2.722700</td><td>2</td><td>3</td><td>1</td><td>3</td></tr>\n",
              "\t<tr><th scope=row>3</th><td>CUST-003</td><td>Agus Cahyono       </td><td>Pria  </td><td>48</td><td>Professional</td><td>Cluster</td><td> 5.286429</td><td>1</td><td>4</td><td>1</td><td>5</td></tr>\n",
              "\t<tr><th scope=row>4</th><td>CUST-004</td><td>Antonius Winarta   </td><td>Pria  </td><td>53</td><td>Professional</td><td>Cluster</td><td> 5.204498</td><td>1</td><td>4</td><td>1</td><td>5</td></tr>\n",
              "\t<tr><th scope=row>5</th><td>CUST-005</td><td>Ibu Sri Wahyuni, IR</td><td>Wanita</td><td>41</td><td>Wiraswasta  </td><td>Cluster</td><td>10.615206</td><td>2</td><td>5</td><td>1</td><td>4</td></tr>\n",
              "</tbody>\n",
              "</table>\n"
            ],
            "text/latex": [
              "A data.frame: 5 × 11\n",
              "\\begin{tabular}{r|lllllllllll}\n",
              "  & Customer\\_ID & Nama.Pelanggan & Jenis.Kelamin & Umur & Profesi & Tipe.Residen & NilaiBelanjaSetahun & Jenis.Kelamin.1 & Profesi.1 & Tipe.Residen.1 & cluster\\\\\n",
              "  & <chr> & <chr> & <chr> & <int> & <chr> & <chr> & <dbl> & <int> & <int> & <int> & <int>\\\\\n",
              "\\hline\n",
              "\t1 & CUST-001 & Budi Anggara        & Pria   & 58 & Wiraswasta   & Sector  &  9.497927 & 1 & 5 & 2 & 1\\\\\n",
              "\t2 & CUST-002 & Shirley Ratuwati    & Wanita & 14 & Pelajar      & Cluster &  2.722700 & 2 & 3 & 1 & 3\\\\\n",
              "\t3 & CUST-003 & Agus Cahyono        & Pria   & 48 & Professional & Cluster &  5.286429 & 1 & 4 & 1 & 5\\\\\n",
              "\t4 & CUST-004 & Antonius Winarta    & Pria   & 53 & Professional & Cluster &  5.204498 & 1 & 4 & 1 & 5\\\\\n",
              "\t5 & CUST-005 & Ibu Sri Wahyuni, IR & Wanita & 41 & Wiraswasta   & Cluster & 10.615206 & 2 & 5 & 1 & 4\\\\\n",
              "\\end{tabular}\n"
            ],
            "text/markdown": [
              "\n",
              "A data.frame: 5 × 11\n",
              "\n",
              "| <!--/--> | Customer_ID &lt;chr&gt; | Nama.Pelanggan &lt;chr&gt; | Jenis.Kelamin &lt;chr&gt; | Umur &lt;int&gt; | Profesi &lt;chr&gt; | Tipe.Residen &lt;chr&gt; | NilaiBelanjaSetahun &lt;dbl&gt; | Jenis.Kelamin.1 &lt;int&gt; | Profesi.1 &lt;int&gt; | Tipe.Residen.1 &lt;int&gt; | cluster &lt;int&gt; |\n",
              "|---|---|---|---|---|---|---|---|---|---|---|---|\n",
              "| 1 | CUST-001 | Budi Anggara        | Pria   | 58 | Wiraswasta   | Sector  |  9.497927 | 1 | 5 | 2 | 1 |\n",
              "| 2 | CUST-002 | Shirley Ratuwati    | Wanita | 14 | Pelajar      | Cluster |  2.722700 | 2 | 3 | 1 | 3 |\n",
              "| 3 | CUST-003 | Agus Cahyono        | Pria   | 48 | Professional | Cluster |  5.286429 | 1 | 4 | 1 | 5 |\n",
              "| 4 | CUST-004 | Antonius Winarta    | Pria   | 53 | Professional | Cluster |  5.204498 | 1 | 4 | 1 | 5 |\n",
              "| 5 | CUST-005 | Ibu Sri Wahyuni, IR | Wanita | 41 | Wiraswasta   | Cluster | 10.615206 | 2 | 5 | 1 | 4 |\n",
              "\n"
            ],
            "text/plain": [
              "  Customer_ID Nama.Pelanggan      Jenis.Kelamin Umur Profesi      Tipe.Residen\n",
              "1 CUST-001    Budi Anggara        Pria          58   Wiraswasta   Sector      \n",
              "2 CUST-002    Shirley Ratuwati    Wanita        14   Pelajar      Cluster     \n",
              "3 CUST-003    Agus Cahyono        Pria          48   Professional Cluster     \n",
              "4 CUST-004    Antonius Winarta    Pria          53   Professional Cluster     \n",
              "5 CUST-005    Ibu Sri Wahyuni, IR Wanita        41   Wiraswasta   Cluster     \n",
              "  NilaiBelanjaSetahun Jenis.Kelamin.1 Profesi.1 Tipe.Residen.1 cluster\n",
              "1  9.497927           1               5         2              1      \n",
              "2  2.722700           2               3         1              3      \n",
              "3  5.286429           1               4         1              5      \n",
              "4  5.204498           1               4         1              5      \n",
              "5 10.615206           2               5         1              4      "
            ]
          },
          "metadata": {},
          "output_type": "display_data"
        }
      ],
      "source": [
        "# Silahkan coba disini\n",
        "field_yang_digunakan = c(\"Jenis.Kelamin.1\", \"Umur\", \"Profesi.1\", \n",
        "\"Tipe.Residen.1\",\"NilaiBelanjaSetahun\")\n",
        "# Pembuatan seed\n",
        "set.seed(100)\n",
        "# Pembuatan variabel kmeans\n",
        "segmentasi <- kmeans(x=pelanggan[field_yang_digunakan], centers=5, nstart=25)\n",
        "# Penampilan beragam cluster yang terbentuk\n",
        "segmentasi$cluster\n",
        "# Penggabungan cluster\n",
        "pelanggan$cluster <- segmentasi$cluster\n",
        "# Penampilan informasi hasil\n",
        "str(pelanggan)\n",
        "# Penampilan view data\n",
        "head(pelanggan, 5)"
      ]
    },
    {
      "cell_type": "markdown",
      "metadata": {
        "id": "Hrji5bD84KRx"
      },
      "source": [
        "Disini kita akan memuat informasi apabila menggunakan dua cluster dengan centers 2 dan centers 5\n",
        "\n",
        "```r\n",
        "# Pemanggilan perbedaan cluster\n",
        "kmeans(x=pelanggan[field_yang_digunakan], centers=2, nstart=25)\n",
        "kmeans(x=pelanggan[field_yang_digunakan], centers=5, nstart=25)\n",
        "```\n",
        "\n",
        "1. total_SS: adalah SS untuk seluruh titik terhadap nilai rata-rata global, bukan untuk per cluster. Nilai ini selalu tetap dan tidak terpengaruh dengan jumlah cluster.\n",
        "2. between_SS: adalah total_SS dikurangi dengan jumlah nilai SS seluruh cluster.\n",
        "3. (between_SS / total_SS) adalah rasio antara between_SS dibagi dengan total_SS. Semakin besar persentasenya, biasanya akan semakin baik."
      ]
    },
    {
      "cell_type": "code",
      "execution_count": null,
      "metadata": {
        "colab": {
          "base_uri": "https://localhost:8080/",
          "height": 729
        },
        "id": "4XFFvk9v1vjv",
        "outputId": "2f53955a-a81d-432f-a318-53172e57c990",
        "vscode": {
          "languageId": "r"
        }
      },
      "outputs": [
        {
          "data": {
            "text/plain": [
              "K-means clustering with 2 clusters of sizes 23, 27\n",
              "\n",
              "Cluster means:\n",
              "  Jenis.Kelamin.1     Umur Profesi.1 Tipe.Residen.1 NilaiBelanjaSetahun\n",
              "1        1.739130 51.17391  3.913043       1.434783            7.551518\n",
              "2        1.888889 25.85185  3.777778       1.296296            6.659586\n",
              "\n",
              "Clustering vector:\n",
              " [1] 1 2 1 1 1 2 1 1 2 2 1 1 1 1 2 2 2 1 2 2 2 1 2 1 2 1 2 1 1 1 2 1 2 2 1 2 2 1\n",
              "[39] 2 2 2 2 2 2 2 2 1 1 2 1\n",
              "\n",
              "Within cluster sum of squares by cluster:\n",
              "[1] 1492.481 1524.081\n",
              " (between_SS / total_SS =  72.6 %)\n",
              "\n",
              "Available components:\n",
              "\n",
              "[1] \"cluster\"      \"centers\"      \"totss\"        \"withinss\"     \"tot.withinss\"\n",
              "[6] \"betweenss\"    \"size\"         \"iter\"         \"ifault\"      "
            ]
          },
          "metadata": {},
          "output_type": "display_data"
        },
        {
          "data": {
            "text/plain": [
              "K-means clustering with 5 clusters of sizes 12, 14, 9, 5, 10\n",
              "\n",
              "Cluster means:\n",
              "  Jenis.Kelamin.1     Umur Profesi.1 Tipe.Residen.1 NilaiBelanjaSetahun\n",
              "1            1.75 31.58333  3.916667       1.250000            7.330958\n",
              "2            2.00 20.07143  3.571429       1.357143            5.901089\n",
              "3            2.00 42.33333  4.000000       1.555556            8.804791\n",
              "4            1.40 61.80000  4.200000       1.400000            8.696132\n",
              "5            1.70 52.50000  3.800000       1.300000            6.018321\n",
              "\n",
              "Clustering vector:\n",
              " [1] 4 2 5 5 3 2 4 5 1 1 5 5 4 4 2 1 1 4 1 2 3 5 1 3 1 5 1 3 5 3 2 3 2 2 3 1 2 3\n",
              "[39] 2 2 2 1 1 2 2 2 5 3 1 5\n",
              "\n",
              "Within cluster sum of squares by cluster:\n",
              "[1] 174.85164 316.73367 171.67372  58.21123 108.49735\n",
              " (between_SS / total_SS =  92.4 %)\n",
              "\n",
              "Available components:\n",
              "\n",
              "[1] \"cluster\"      \"centers\"      \"totss\"        \"withinss\"     \"tot.withinss\"\n",
              "[6] \"betweenss\"    \"size\"         \"iter\"         \"ifault\"      "
            ]
          },
          "metadata": {},
          "output_type": "display_data"
        }
      ],
      "source": [
        "# Silahkan coba disini\n",
        "kmeans(x=pelanggan[field_yang_digunakan], centers=2, nstart=25)\n",
        "kmeans(x=pelanggan[field_yang_digunakan], centers=5, nstart=25)"
      ]
    },
    {
      "cell_type": "markdown",
      "metadata": {
        "id": "hmSuf2Pj3KS9"
      },
      "source": [
        "Disini kita akan memuat data yang terkandung dalam clustering yang terpilih dimana:\n",
        "1. Which: Ambil data pelanggan yang isi dari kolom clusternya tertentu\n",
        "2. Length: Menampilkan banyaknya data\n",
        "```r\n",
        "# Penampilan posisi data yang termasuk cluster 2\n",
        "which(pelanggan$cluster == 2)\n",
        "# Penampilan informasi banyak data yang termasuk cluster 2\n",
        "length(which(pelanggan$cluster == 2))\n",
        "# Penampilan frekuensi dan cluster\n",
        "as.data.frame(table(pelanggan$cluster))\n",
        "```"
      ]
    },
    {
      "cell_type": "code",
      "execution_count": null,
      "metadata": {
        "colab": {
          "base_uri": "https://localhost:8080/",
          "height": 307
        },
        "id": "eLSw2yor3iAj",
        "outputId": "0656b31d-b54e-44fd-df2c-10d616e89ef2",
        "vscode": {
          "languageId": "r"
        }
      },
      "outputs": [
        {
          "data": {
            "text/html": [
              "<style>\n",
              ".list-inline {list-style: none; margin:0; padding: 0}\n",
              ".list-inline>li {display: inline-block}\n",
              ".list-inline>li:not(:last-child)::after {content: \"\\00b7\"; padding: 0 .5ex}\n",
              "</style>\n",
              "<ol class=list-inline><li>2</li><li>6</li><li>15</li><li>20</li><li>31</li><li>33</li><li>34</li><li>37</li><li>39</li><li>40</li><li>41</li><li>44</li><li>45</li><li>46</li></ol>\n"
            ],
            "text/latex": [
              "\\begin{enumerate*}\n",
              "\\item 2\n",
              "\\item 6\n",
              "\\item 15\n",
              "\\item 20\n",
              "\\item 31\n",
              "\\item 33\n",
              "\\item 34\n",
              "\\item 37\n",
              "\\item 39\n",
              "\\item 40\n",
              "\\item 41\n",
              "\\item 44\n",
              "\\item 45\n",
              "\\item 46\n",
              "\\end{enumerate*}\n"
            ],
            "text/markdown": [
              "1. 2\n",
              "2. 6\n",
              "3. 15\n",
              "4. 20\n",
              "5. 31\n",
              "6. 33\n",
              "7. 34\n",
              "8. 37\n",
              "9. 39\n",
              "10. 40\n",
              "11. 41\n",
              "12. 44\n",
              "13. 45\n",
              "14. 46\n",
              "\n",
              "\n"
            ],
            "text/plain": [
              " [1]  2  6 15 20 31 33 34 37 39 40 41 44 45 46"
            ]
          },
          "metadata": {},
          "output_type": "display_data"
        },
        {
          "data": {
            "text/html": [
              "14"
            ],
            "text/latex": [
              "14"
            ],
            "text/markdown": [
              "14"
            ],
            "text/plain": [
              "[1] 14"
            ]
          },
          "metadata": {},
          "output_type": "display_data"
        },
        {
          "data": {
            "text/html": [
              "<table class=\"dataframe\">\n",
              "<caption>A data.frame: 5 × 2</caption>\n",
              "<thead>\n",
              "\t<tr><th scope=col>Var1</th><th scope=col>Freq</th></tr>\n",
              "\t<tr><th scope=col>&lt;fct&gt;</th><th scope=col>&lt;int&gt;</th></tr>\n",
              "</thead>\n",
              "<tbody>\n",
              "\t<tr><td>1</td><td> 5</td></tr>\n",
              "\t<tr><td>2</td><td>12</td></tr>\n",
              "\t<tr><td>3</td><td>14</td></tr>\n",
              "\t<tr><td>4</td><td> 9</td></tr>\n",
              "\t<tr><td>5</td><td>10</td></tr>\n",
              "</tbody>\n",
              "</table>\n"
            ],
            "text/latex": [
              "A data.frame: 5 × 2\n",
              "\\begin{tabular}{ll}\n",
              " Var1 & Freq\\\\\n",
              " <fct> & <int>\\\\\n",
              "\\hline\n",
              "\t 1 &  5\\\\\n",
              "\t 2 & 12\\\\\n",
              "\t 3 & 14\\\\\n",
              "\t 4 &  9\\\\\n",
              "\t 5 & 10\\\\\n",
              "\\end{tabular}\n"
            ],
            "text/markdown": [
              "\n",
              "A data.frame: 5 × 2\n",
              "\n",
              "| Var1 &lt;fct&gt; | Freq &lt;int&gt; |\n",
              "|---|---|\n",
              "| 1 |  5 |\n",
              "| 2 | 12 |\n",
              "| 3 | 14 |\n",
              "| 4 |  9 |\n",
              "| 5 | 10 |\n",
              "\n"
            ],
            "text/plain": [
              "  Var1 Freq\n",
              "1 1     5  \n",
              "2 2    12  \n",
              "3 3    14  \n",
              "4 4     9  \n",
              "5 5    10  "
            ]
          },
          "metadata": {},
          "output_type": "display_data"
        }
      ],
      "source": [
        "# Silahkan coba disini\n",
        "which(pelanggan$cluster == 3)\n",
        "length(which(pelanggan$cluster == 3))\n",
        "as.data.frame(table(pelanggan$cluster))"
      ]
    },
    {
      "cell_type": "markdown",
      "metadata": {
        "id": "xifh-a6t3jFW"
      },
      "source": [
        "Disini kita akan memuat data keseluruhan yang terkandung dalam cluster ke-3 s.d ke-5\n",
        "\n",
        "```r\n",
        "# Penampilan informasi yang tergabung dalam clustering\n",
        "# namatable[row, column]\n",
        "head(pelanggan[which(pelanggan$cluster == 3),],3)\n",
        "head(pelanggan[which(pelanggan$cluster == 4),],3)\n",
        "head(pelanggan[which(pelanggan$cluster == 5),],3)\n",
        "```"
      ]
    },
    {
      "cell_type": "code",
      "execution_count": null,
      "metadata": {
        "colab": {
          "base_uri": "https://localhost:8080/",
          "height": 212
        },
        "id": "Xe-U7LSq34RM",
        "outputId": "72b88f1c-cc22-401c-b0d2-7865d2ecd43a",
        "vscode": {
          "languageId": "r"
        }
      },
      "outputs": [
        {
          "data": {
            "text/html": [
              "<table class=\"dataframe\">\n",
              "<caption>A data.frame: 3 × 11</caption>\n",
              "<thead>\n",
              "\t<tr><th></th><th scope=col>Customer_ID</th><th scope=col>Nama.Pelanggan</th><th scope=col>Jenis.Kelamin</th><th scope=col>Umur</th><th scope=col>Profesi</th><th scope=col>Tipe.Residen</th><th scope=col>NilaiBelanjaSetahun</th><th scope=col>Jenis.Kelamin.1</th><th scope=col>Profesi.1</th><th scope=col>Tipe.Residen.1</th><th scope=col>cluster</th></tr>\n",
              "\t<tr><th></th><th scope=col>&lt;chr&gt;</th><th scope=col>&lt;chr&gt;</th><th scope=col>&lt;chr&gt;</th><th scope=col>&lt;int&gt;</th><th scope=col>&lt;chr&gt;</th><th scope=col>&lt;chr&gt;</th><th scope=col>&lt;dbl&gt;</th><th scope=col>&lt;int&gt;</th><th scope=col>&lt;int&gt;</th><th scope=col>&lt;int&gt;</th><th scope=col>&lt;int&gt;</th></tr>\n",
              "</thead>\n",
              "<tbody>\n",
              "\t<tr><th scope=row>2</th><td>CUST-002</td><td>Shirley Ratuwati</td><td>Wanita</td><td>14</td><td>Pelajar     </td><td>Cluster</td><td> 2.722700</td><td>2</td><td>3</td><td>1</td><td>3</td></tr>\n",
              "\t<tr><th scope=row>6</th><td>CUST-006</td><td>Rosalina Kurnia </td><td>Wanita</td><td>24</td><td>Professional</td><td>Cluster</td><td> 5.215541</td><td>2</td><td>4</td><td>1</td><td>3</td></tr>\n",
              "\t<tr><th scope=row>15</th><td>CUST-015</td><td>Shirley Ratuwati</td><td>Wanita</td><td>20</td><td>Wiraswasta  </td><td>Cluster</td><td>10.365668</td><td>2</td><td>5</td><td>1</td><td>3</td></tr>\n",
              "</tbody>\n",
              "</table>\n"
            ],
            "text/latex": [
              "A data.frame: 3 × 11\n",
              "\\begin{tabular}{r|lllllllllll}\n",
              "  & Customer\\_ID & Nama.Pelanggan & Jenis.Kelamin & Umur & Profesi & Tipe.Residen & NilaiBelanjaSetahun & Jenis.Kelamin.1 & Profesi.1 & Tipe.Residen.1 & cluster\\\\\n",
              "  & <chr> & <chr> & <chr> & <int> & <chr> & <chr> & <dbl> & <int> & <int> & <int> & <int>\\\\\n",
              "\\hline\n",
              "\t2 & CUST-002 & Shirley Ratuwati & Wanita & 14 & Pelajar      & Cluster &  2.722700 & 2 & 3 & 1 & 3\\\\\n",
              "\t6 & CUST-006 & Rosalina Kurnia  & Wanita & 24 & Professional & Cluster &  5.215541 & 2 & 4 & 1 & 3\\\\\n",
              "\t15 & CUST-015 & Shirley Ratuwati & Wanita & 20 & Wiraswasta   & Cluster & 10.365668 & 2 & 5 & 1 & 3\\\\\n",
              "\\end{tabular}\n"
            ],
            "text/markdown": [
              "\n",
              "A data.frame: 3 × 11\n",
              "\n",
              "| <!--/--> | Customer_ID &lt;chr&gt; | Nama.Pelanggan &lt;chr&gt; | Jenis.Kelamin &lt;chr&gt; | Umur &lt;int&gt; | Profesi &lt;chr&gt; | Tipe.Residen &lt;chr&gt; | NilaiBelanjaSetahun &lt;dbl&gt; | Jenis.Kelamin.1 &lt;int&gt; | Profesi.1 &lt;int&gt; | Tipe.Residen.1 &lt;int&gt; | cluster &lt;int&gt; |\n",
              "|---|---|---|---|---|---|---|---|---|---|---|---|\n",
              "| 2 | CUST-002 | Shirley Ratuwati | Wanita | 14 | Pelajar      | Cluster |  2.722700 | 2 | 3 | 1 | 3 |\n",
              "| 6 | CUST-006 | Rosalina Kurnia  | Wanita | 24 | Professional | Cluster |  5.215541 | 2 | 4 | 1 | 3 |\n",
              "| 15 | CUST-015 | Shirley Ratuwati | Wanita | 20 | Wiraswasta   | Cluster | 10.365668 | 2 | 5 | 1 | 3 |\n",
              "\n"
            ],
            "text/plain": [
              "   Customer_ID Nama.Pelanggan   Jenis.Kelamin Umur Profesi      Tipe.Residen\n",
              "2  CUST-002    Shirley Ratuwati Wanita        14   Pelajar      Cluster     \n",
              "6  CUST-006    Rosalina Kurnia  Wanita        24   Professional Cluster     \n",
              "15 CUST-015    Shirley Ratuwati Wanita        20   Wiraswasta   Cluster     \n",
              "   NilaiBelanjaSetahun Jenis.Kelamin.1 Profesi.1 Tipe.Residen.1 cluster\n",
              "2   2.722700           2               3         1              3      \n",
              "6   5.215541           2               4         1              3      \n",
              "15 10.365668           2               5         1              3      "
            ]
          },
          "metadata": {},
          "output_type": "display_data"
        }
      ],
      "source": [
        "# Silahkan coba disini\n",
        "head(pelanggan[which(pelanggan$cluster == 3),],3)"
      ]
    },
    {
      "cell_type": "markdown",
      "metadata": {
        "id": "3I7edenO39eb"
      },
      "source": [
        "Disini kita akan memuat informasi rata-rata (centroid) setiap cluster dalam variabel\n",
        "\n",
        "```r\n",
        "# Pemanggilan centers\n",
        "segmentasi$centers\n",
        "```\n",
        "\n",
        "Dimana:\n",
        "1. **Jenis.Kelamin.1** menunjukkan nilai rata-rata dari data jenis kelamin yang telah dikonversi menjadi numerik, dengan angka 1 mewakili Pria dan angka 2 mewakili wanita.\n",
        "2. **Umur** adalah representasi dari dataset awal tanpa mengalami konversi.\n",
        "3. **Profesi.1** adalah nilai rata-rata data Profesi untuk tiap cluster yang telah dikonversi menjadi numerik. Angka 1, 2, 3, 4, dan 5 di kolom ini masing-masingnya secara berurutan mewakili Ibu Rumah Tangga, Mahasiswa, Pelajar, Professional, dan Wiraswasta.\n",
        "4. **Tipe.Residen.1** adalah representasi data Tipe.Residen yang telah dikonversi menjadi numerik dengan angka 1 mewakili Cluster dan 2 mewakili Sector.\n",
        "5. **NilaiBelanjaSetahun** adalah representasi dari dataset awal tanpa mengalami konversi."
      ]
    },
    {
      "cell_type": "code",
      "execution_count": null,
      "metadata": {
        "colab": {
          "base_uri": "https://localhost:8080/",
          "height": 223
        },
        "id": "4guacisz4Jf1",
        "outputId": "6fb2613c-940d-4a42-ffc9-c47427800173",
        "vscode": {
          "languageId": "r"
        }
      },
      "outputs": [
        {
          "data": {
            "text/html": [
              "<table class=\"dataframe\">\n",
              "<caption>A matrix: 5 × 5 of type dbl</caption>\n",
              "<thead>\n",
              "\t<tr><th></th><th scope=col>Jenis.Kelamin.1</th><th scope=col>Umur</th><th scope=col>Profesi.1</th><th scope=col>Tipe.Residen.1</th><th scope=col>NilaiBelanjaSetahun</th></tr>\n",
              "</thead>\n",
              "<tbody>\n",
              "\t<tr><th scope=row>1</th><td>1.40</td><td>61.80000</td><td>4.200000</td><td>1.400000</td><td>8.696132</td></tr>\n",
              "\t<tr><th scope=row>2</th><td>1.75</td><td>31.58333</td><td>3.916667</td><td>1.250000</td><td>7.330958</td></tr>\n",
              "\t<tr><th scope=row>3</th><td>2.00</td><td>20.07143</td><td>3.571429</td><td>1.357143</td><td>5.901089</td></tr>\n",
              "\t<tr><th scope=row>4</th><td>2.00</td><td>42.33333</td><td>4.000000</td><td>1.555556</td><td>8.804791</td></tr>\n",
              "\t<tr><th scope=row>5</th><td>1.70</td><td>52.50000</td><td>3.800000</td><td>1.300000</td><td>6.018321</td></tr>\n",
              "</tbody>\n",
              "</table>\n"
            ],
            "text/latex": [
              "A matrix: 5 × 5 of type dbl\n",
              "\\begin{tabular}{r|lllll}\n",
              "  & Jenis.Kelamin.1 & Umur & Profesi.1 & Tipe.Residen.1 & NilaiBelanjaSetahun\\\\\n",
              "\\hline\n",
              "\t1 & 1.40 & 61.80000 & 4.200000 & 1.400000 & 8.696132\\\\\n",
              "\t2 & 1.75 & 31.58333 & 3.916667 & 1.250000 & 7.330958\\\\\n",
              "\t3 & 2.00 & 20.07143 & 3.571429 & 1.357143 & 5.901089\\\\\n",
              "\t4 & 2.00 & 42.33333 & 4.000000 & 1.555556 & 8.804791\\\\\n",
              "\t5 & 1.70 & 52.50000 & 3.800000 & 1.300000 & 6.018321\\\\\n",
              "\\end{tabular}\n"
            ],
            "text/markdown": [
              "\n",
              "A matrix: 5 × 5 of type dbl\n",
              "\n",
              "| <!--/--> | Jenis.Kelamin.1 | Umur | Profesi.1 | Tipe.Residen.1 | NilaiBelanjaSetahun |\n",
              "|---|---|---|---|---|---|\n",
              "| 1 | 1.40 | 61.80000 | 4.200000 | 1.400000 | 8.696132 |\n",
              "| 2 | 1.75 | 31.58333 | 3.916667 | 1.250000 | 7.330958 |\n",
              "| 3 | 2.00 | 20.07143 | 3.571429 | 1.357143 | 5.901089 |\n",
              "| 4 | 2.00 | 42.33333 | 4.000000 | 1.555556 | 8.804791 |\n",
              "| 5 | 1.70 | 52.50000 | 3.800000 | 1.300000 | 6.018321 |\n",
              "\n"
            ],
            "text/plain": [
              "  Jenis.Kelamin.1 Umur     Profesi.1 Tipe.Residen.1 NilaiBelanjaSetahun\n",
              "1 1.40            61.80000 4.200000  1.400000       8.696132           \n",
              "2 1.75            31.58333 3.916667  1.250000       7.330958           \n",
              "3 2.00            20.07143 3.571429  1.357143       5.901089           \n",
              "4 2.00            42.33333 4.000000  1.555556       8.804791           \n",
              "5 1.70            52.50000 3.800000  1.300000       6.018321           "
            ]
          },
          "metadata": {},
          "output_type": "display_data"
        }
      ],
      "source": [
        "# Silahkan coba disini\n",
        "segmentasi$centers\n"
      ]
    },
    {
      "cell_type": "markdown",
      "metadata": {
        "id": "3e-i96qA4lHn"
      },
      "source": [
        "Disini kita akan memuat bagaimana lebih detail dari objek K-Means yang mana diakses dengan menggunakan aksesor $\n",
        "\n",
        "```r\n",
        "# Pemanggilan komponen cluster\n",
        "segmentasi$withinss\n",
        "segmentasi$cluster\n",
        "segmentasi$tot.withinss\n",
        "```\n",
        "\n",
        "Informasi lengkap terkait komponen yang dimiliki cluster sebagai berikut:\n",
        "![image.png](data:image/png;base64,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)"
      ]
    },
    {
      "cell_type": "code",
      "execution_count": null,
      "metadata": {
        "colab": {
          "base_uri": "https://localhost:8080/",
          "height": 69
        },
        "id": "gaU6mCB-44tP",
        "outputId": "67e238c5-c4db-4eca-d37e-12479957a2ad",
        "vscode": {
          "languageId": "r"
        }
      },
      "outputs": [
        {
          "data": {
            "text/html": [
              "<style>\n",
              ".list-inline {list-style: none; margin:0; padding: 0}\n",
              ".list-inline>li {display: inline-block}\n",
              ".list-inline>li:not(:last-child)::after {content: \"\\00b7\"; padding: 0 .5ex}\n",
              "</style>\n",
              "<ol class=list-inline><li>58.211228098358</li><li>174.851640331072</li><li>316.733666810598</li><li>171.673715890372</li><li>108.497347873209</li></ol>\n"
            ],
            "text/latex": [
              "\\begin{enumerate*}\n",
              "\\item 58.211228098358\n",
              "\\item 174.851640331072\n",
              "\\item 316.733666810598\n",
              "\\item 171.673715890372\n",
              "\\item 108.497347873209\n",
              "\\end{enumerate*}\n"
            ],
            "text/markdown": [
              "1. 58.211228098358\n",
              "2. 174.851640331072\n",
              "3. 316.733666810598\n",
              "4. 171.673715890372\n",
              "5. 108.497347873209\n",
              "\n",
              "\n"
            ],
            "text/plain": [
              "[1]  58.21123 174.85164 316.73367 171.67372 108.49735"
            ]
          },
          "metadata": {},
          "output_type": "display_data"
        },
        {
          "data": {
            "text/html": [
              "<style>\n",
              ".list-inline {list-style: none; margin:0; padding: 0}\n",
              ".list-inline>li {display: inline-block}\n",
              ".list-inline>li:not(:last-child)::after {content: \"\\00b7\"; padding: 0 .5ex}\n",
              "</style>\n",
              "<ol class=list-inline><li>1</li><li>3</li><li>5</li><li>5</li><li>4</li><li>3</li><li>1</li><li>5</li><li>2</li><li>2</li><li>5</li><li>5</li><li>1</li><li>1</li><li>3</li><li>2</li><li>2</li><li>1</li><li>2</li><li>3</li><li>4</li><li>5</li><li>2</li><li>4</li><li>2</li><li>5</li><li>2</li><li>4</li><li>5</li><li>4</li><li>3</li><li>4</li><li>3</li><li>3</li><li>4</li><li>2</li><li>3</li><li>4</li><li>3</li><li>3</li><li>3</li><li>2</li><li>2</li><li>3</li><li>3</li><li>3</li><li>5</li><li>4</li><li>2</li><li>5</li></ol>\n"
            ],
            "text/latex": [
              "\\begin{enumerate*}\n",
              "\\item 1\n",
              "\\item 3\n",
              "\\item 5\n",
              "\\item 5\n",
              "\\item 4\n",
              "\\item 3\n",
              "\\item 1\n",
              "\\item 5\n",
              "\\item 2\n",
              "\\item 2\n",
              "\\item 5\n",
              "\\item 5\n",
              "\\item 1\n",
              "\\item 1\n",
              "\\item 3\n",
              "\\item 2\n",
              "\\item 2\n",
              "\\item 1\n",
              "\\item 2\n",
              "\\item 3\n",
              "\\item 4\n",
              "\\item 5\n",
              "\\item 2\n",
              "\\item 4\n",
              "\\item 2\n",
              "\\item 5\n",
              "\\item 2\n",
              "\\item 4\n",
              "\\item 5\n",
              "\\item 4\n",
              "\\item 3\n",
              "\\item 4\n",
              "\\item 3\n",
              "\\item 3\n",
              "\\item 4\n",
              "\\item 2\n",
              "\\item 3\n",
              "\\item 4\n",
              "\\item 3\n",
              "\\item 3\n",
              "\\item 3\n",
              "\\item 2\n",
              "\\item 2\n",
              "\\item 3\n",
              "\\item 3\n",
              "\\item 3\n",
              "\\item 5\n",
              "\\item 4\n",
              "\\item 2\n",
              "\\item 5\n",
              "\\end{enumerate*}\n"
            ],
            "text/markdown": [
              "1. 1\n",
              "2. 3\n",
              "3. 5\n",
              "4. 5\n",
              "5. 4\n",
              "6. 3\n",
              "7. 1\n",
              "8. 5\n",
              "9. 2\n",
              "10. 2\n",
              "11. 5\n",
              "12. 5\n",
              "13. 1\n",
              "14. 1\n",
              "15. 3\n",
              "16. 2\n",
              "17. 2\n",
              "18. 1\n",
              "19. 2\n",
              "20. 3\n",
              "21. 4\n",
              "22. 5\n",
              "23. 2\n",
              "24. 4\n",
              "25. 2\n",
              "26. 5\n",
              "27. 2\n",
              "28. 4\n",
              "29. 5\n",
              "30. 4\n",
              "31. 3\n",
              "32. 4\n",
              "33. 3\n",
              "34. 3\n",
              "35. 4\n",
              "36. 2\n",
              "37. 3\n",
              "38. 4\n",
              "39. 3\n",
              "40. 3\n",
              "41. 3\n",
              "42. 2\n",
              "43. 2\n",
              "44. 3\n",
              "45. 3\n",
              "46. 3\n",
              "47. 5\n",
              "48. 4\n",
              "49. 2\n",
              "50. 5\n",
              "\n",
              "\n"
            ],
            "text/plain": [
              " [1] 1 3 5 5 4 3 1 5 2 2 5 5 1 1 3 2 2 1 2 3 4 5 2 4 2 5 2 4 5 4 3 4 3 3 4 2 3 4\n",
              "[39] 3 3 3 2 2 3 3 3 5 4 2 5"
            ]
          },
          "metadata": {},
          "output_type": "display_data"
        },
        {
          "data": {
            "text/html": [
              "829.967599003609"
            ],
            "text/latex": [
              "829.967599003609"
            ],
            "text/markdown": [
              "829.967599003609"
            ],
            "text/plain": [
              "[1] 829.9676"
            ]
          },
          "metadata": {},
          "output_type": "display_data"
        }
      ],
      "source": [
        "# Silahkan coba disini\n",
        "segmentasi$withinss\n",
        "segmentasi$cluster\n",
        "segmentasi$tot.withinss"
      ]
    }
  ],
  "metadata": {
    "colab": {
      "collapsed_sections": [],
      "name": "day2proa-segpro.ipynb",
      "provenance": []
    },
    "kernelspec": {
      "display_name": "R",
      "name": "ir"
    },
    "language_info": {
      "name": "R"
    }
  },
  "nbformat": 4,
  "nbformat_minor": 0
}
