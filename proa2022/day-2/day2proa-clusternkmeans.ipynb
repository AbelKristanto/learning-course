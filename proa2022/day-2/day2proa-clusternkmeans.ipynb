{
  "cells": [
    {
      "cell_type": "markdown",
      "metadata": {
        "id": "XnxSXk2E0bUj"
      },
      "source": [
        "## Clustering dan K-Means\n",
        "\n",
        "Clustering adalah proses pembagian objek-objek ke dalam beberapa kelompok (cluster) berdasarkan tingkat kemiripan antara satu objek dengan yang lain.\n",
        "Adapun contoh clustering:\n",
        "1. Pengelompokan manusia berdasarkan berat badan: 10kg, > 10kg.\n",
        "2. Pengelompokan customer berdasarkan wilayah: Ibukota dan Pedesaan.\n",
        "\n",
        "K-means adalah algoritma yang membagi data menjadi sejumlah partisi dengan cara sederhana: mencari kedekatan dari tiap titik pada suatu cluster dengan sejumlah nilai rata-rata atau mean. Hal yang perlu diingat dalam K-Means:\n",
        "1. Jumlah partisi yang diinginkan, diwakili oleh huruf k\n",
        "2. Mencari \"jarak\" kedekatan tiap titik ke sejumlah nilai rata-rata cluster yang diamati, diwakili oleh means\n",
        "\n",
        "Disini kita akan melakukan persiapan dan pelatihan bagaimana penggunaan K-Means yang mana akan mencoba membentuk kluster dari data yang kita miliki\n",
        "\n",
        "```r\n",
        "# Pemberian seed agar mempermudah variabel acak\n",
        "set.seed(100)\n",
        "# Membuat variabel Segmentasi yang berisikan clustering\n",
        "segmentasi <- kmeans(x=pelanggan[c(\"Umur\",\"Profesi.1\")], centers=3, nstart=25)\n",
        "# Menampilkan hasil variabel\n",
        "segmentasi\n",
        "```\n",
        "\n",
        "Parameter dalam K-Means yang perlu diketahui:\n",
        "1. x: data yang digunakan, dimana semua isi datanya harus berupa numerik.\n",
        "2. centers: jumlah cluster yang diinginkan.\n",
        "3. nstart: yang merupakan jumlah kombinasi acak yang dihasilkan secara internal oleh R. Berdasarkan jumlah yang diberikan, algoritma akan memilih mana yang terbaik dari kombinasi-kombinasi tersebut. Jika disoal dituliskan **nstart=25** artinya pemilihan 25 titik centroids secara random dan memilih yang terbaik bagi algoritma.\n",
        "\n",
        "Cara membaca hasil segmentasi:\n",
        "1. Ukuran / jumlah titik data pada tiap cluster\n",
        "2. Nilai rata-rata (centroid) dari tiap cluster\n",
        "3. Pembagian cluster dari tiap elemen data berdasarkan posisinya\n",
        "4. Jumlah jarak kuadrat dari tiap titik ke centroidnya\n",
        "5. Komponen informasi lain yang terkandung di dalam objek kmeans ini"
      ]
    },
    {
      "cell_type": "code",
      "execution_count": null,
      "metadata": {
        "colab": {
          "base_uri": "https://localhost:8080/",
          "height": 364
        },
        "id": "EpeKS-nL0WYM",
        "outputId": "b3d19dda-2a92-403c-b967-38cdc3130411",
        "vscode": {
          "languageId": "r"
        }
      },
      "outputs": [
        {
          "data": {
            "text/plain": [
              "K-means clustering with 3 clusters of sizes 16, 15, 19\n",
              "\n",
              "Cluster means:\n",
              "      Umur Profesi.1\n",
              "1 34.37500  3.875000\n",
              "2 20.46667  3.666667\n",
              "3 53.57895  3.947368\n",
              "\n",
              "Clustering vector:\n",
              " [1] 3 2 3 3 1 2 3 3 1 1 3 3 3 3 2 1 1 3 1 2 1 3 1 1 1 3 1 1 3 3 2 3 2 2 1 1 2 3\n",
              "[39] 2 2 2 2 1 2 2 2 3 3 1 3\n",
              "\n",
              "Within cluster sum of squares by cluster:\n",
              "[1] 269.5000 237.0667 715.5789\n",
              " (between_SS / total_SS =  88.5 %)\n",
              "\n",
              "Available components:\n",
              "\n",
              "[1] \"cluster\"      \"centers\"      \"totss\"        \"withinss\"     \"tot.withinss\"\n",
              "[6] \"betweenss\"    \"size\"         \"iter\"         \"ifault\"      "
            ]
          },
          "metadata": {},
          "output_type": "display_data"
        }
      ],
      "source": [
        "# Silahkan coba disini\n",
        "# Pemberian seed agar mempermudah variabel acak\n",
        "set.seed(100)\n",
        "# Membuat variabel Segmentasi yang berisikan clustering\n",
        "segmentasi <- kmeans(x=pelanggan[c(\"Umur\",\"Profesi.1\")], centers=3, nstart=25)\n",
        "# Menampilkan hasil variabel\n",
        "segmentasi"
      ]
    },
    {
      "cell_type": "markdown",
      "metadata": {
        "id": "SGSk1naeJoRf"
      },
      "source": [
        "Perhatikan **K-means clustering** adalah informasi data yang terkandung setiap cluster.\n",
        "\n",
        "Perhatikan **clustering vector** adalah rangkaian vector yang berisi angka cluster. Dari hasil kita, vector berisi angka 1 sampai dengan 3, maksimum sesuai dengan jumlah cluster yang kita inginkan. Jika kita perhatikan bahwa posisi data-1 memiliki cluster 3 dan yang posisi data-terakhir memiliki cluster 3 juga."
      ]
    },
    {
      "cell_type": "markdown",
      "metadata": {
        "id": "vN1vlJmh1Vav"
      },
      "source": [
        "**set.seed** membantu menggunakan kembali set variabel acak yang sama, yang mungkin kita perlukan di masa depan untuk mengevaluasi kembali tugas tertentu lagi dengan varibales acak yang sama.\n",
        "\n",
        "Coba bedakan hasil dibawah ini:\n",
        "\n",
        "```r\n",
        "sample(LETTERS, 5)\n",
        "```\n",
        "\n",
        "Dengan yang ini:\n",
        "\n",
        "```r\n",
        "set.seed(42); \n",
        "sample(LETTERS, 5)\n",
        "```\n"
      ]
    },
    {
      "cell_type": "code",
      "execution_count": null,
      "metadata": {
        "id": "0Zp302bq1jXh",
        "vscode": {
          "languageId": "r"
        }
      },
      "outputs": [],
      "source": [
        "# Silahkan coba disini\n",
        "\n"
      ]
    }
  ],
  "metadata": {
    "colab": {
      "collapsed_sections": [],
      "name": "day2proa-segpro.ipynb",
      "provenance": []
    },
    "kernelspec": {
      "display_name": "R",
      "name": "ir"
    },
    "language_info": {
      "name": "R"
    }
  },
  "nbformat": 4,
  "nbformat_minor": 0
}
