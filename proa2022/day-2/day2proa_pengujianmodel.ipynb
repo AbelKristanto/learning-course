{
  "cells": [
    {
      "cell_type": "markdown",
      "metadata": {
        "id": "-GXCtEgW-24H"
      },
      "source": [
        "## Pengujian hasil model\n",
        "\n",
        "Disini kita akan menguji model yang telah kita simpan sebelumnya dengan mengidentifikasi segmen mana pelanggan baru dengan cepat.\n",
        "\n",
        "```r\n",
        "# Pembuatan variabel baru yang tidak ada hubungan dengan variabel sebelumnya\n",
        "databaru <- data.frame(Customer_ID=\"CUST-100\", \n",
        "  Nama.Pelanggan=\"Rudi Wilamar\", Umur=20, Jenis.Kelamin=\"Wanita\", \n",
        "  Profesi=\"Pelajar\", Tipe.Residen=\"Cluster\", NilaiBelanjaSetahun=3.5)\n",
        "databaru\n",
        "```"
      ]
    },
    {
      "cell_type": "code",
      "execution_count": null,
      "metadata": {
        "colab": {
          "base_uri": "https://localhost:8080/",
          "height": 129
        },
        "id": "vMCDGX85_Adc",
        "outputId": "24949636-46ff-4cce-81b8-50a76c8a9a76",
        "vscode": {
          "languageId": "r"
        }
      },
      "outputs": [
        {
          "data": {
            "text/html": [
              "<table class=\"dataframe\">\n",
              "<caption>A data.frame: 1 × 7</caption>\n",
              "<thead>\n",
              "\t<tr><th scope=col>Customer_ID</th><th scope=col>Nama.Pelanggan</th><th scope=col>Umur</th><th scope=col>Jenis.Kelamin</th><th scope=col>Profesi</th><th scope=col>Tipe.Residen</th><th scope=col>NilaiBelanjaSetahun</th></tr>\n",
              "\t<tr><th scope=col>&lt;chr&gt;</th><th scope=col>&lt;chr&gt;</th><th scope=col>&lt;dbl&gt;</th><th scope=col>&lt;chr&gt;</th><th scope=col>&lt;chr&gt;</th><th scope=col>&lt;chr&gt;</th><th scope=col>&lt;dbl&gt;</th></tr>\n",
              "</thead>\n",
              "<tbody>\n",
              "\t<tr><td>CUST-100</td><td>Rudi Wilamar</td><td>20</td><td>Wanita</td><td>Pelajar</td><td>Cluster</td><td>3.5</td></tr>\n",
              "</tbody>\n",
              "</table>\n"
            ],
            "text/latex": [
              "A data.frame: 1 × 7\n",
              "\\begin{tabular}{lllllll}\n",
              " Customer\\_ID & Nama.Pelanggan & Umur & Jenis.Kelamin & Profesi & Tipe.Residen & NilaiBelanjaSetahun\\\\\n",
              " <chr> & <chr> & <dbl> & <chr> & <chr> & <chr> & <dbl>\\\\\n",
              "\\hline\n",
              "\t CUST-100 & Rudi Wilamar & 20 & Wanita & Pelajar & Cluster & 3.5\\\\\n",
              "\\end{tabular}\n"
            ],
            "text/markdown": [
              "\n",
              "A data.frame: 1 × 7\n",
              "\n",
              "| Customer_ID &lt;chr&gt; | Nama.Pelanggan &lt;chr&gt; | Umur &lt;dbl&gt; | Jenis.Kelamin &lt;chr&gt; | Profesi &lt;chr&gt; | Tipe.Residen &lt;chr&gt; | NilaiBelanjaSetahun &lt;dbl&gt; |\n",
              "|---|---|---|---|---|---|---|\n",
              "| CUST-100 | Rudi Wilamar | 20 | Wanita | Pelajar | Cluster | 3.5 |\n",
              "\n"
            ],
            "text/plain": [
              "  Customer_ID Nama.Pelanggan Umur Jenis.Kelamin Profesi Tipe.Residen\n",
              "1 CUST-100    Rudi Wilamar   20   Wanita        Pelajar Cluster     \n",
              "  NilaiBelanjaSetahun\n",
              "1 3.5                "
            ]
          },
          "metadata": {},
          "output_type": "display_data"
        }
      ],
      "source": [
        "# Silahkan coba disini\n",
        "databaru <- data.frame(Customer_ID=\"CUST-100\", \n",
        "  Nama.Pelanggan=\"Rudi Wilamar\", Umur=20, Jenis.Kelamin=\"Wanita\", \n",
        "  Profesi=\"Pelajar\", Tipe.Residen=\"Cluster\", NilaiBelanjaSetahun=3.5)\n",
        "databaru"
      ]
    },
    {
      "cell_type": "markdown",
      "metadata": {
        "id": "qoNfzN6o_Ga4"
      },
      "source": [
        "Disini kita akan memuat dokumen yang telah tersimpan sebelumnya\n",
        "\n",
        "```r\n",
        "# Pemanggilan model yang telah dibuat\n",
        "Identitas.Cluster <- readRDS(file=\"cluster.rds\")\n",
        "Identitas.Cluster\n",
        "```"
      ]
    },
    {
      "cell_type": "code",
      "execution_count": null,
      "metadata": {
        "colab": {
          "base_uri": "https://localhost:8080/",
          "height": 937
        },
        "id": "KBj8dhfE_Ohy",
        "outputId": "c1857ddb-c76d-44df-ddc2-73d7962cff07",
        "vscode": {
          "languageId": "r"
        }
      },
      "outputs": [
        {
          "data": {
            "text/plain": [
              "$Profesi\n",
              "            Profesi Profesi.1\n",
              "1        Wiraswasta         5\n",
              "2           Pelajar         3\n",
              "3      Professional         4\n",
              "17 Ibu Rumah Tangga         1\n",
              "31        Mahasiswa         2\n",
              "\n",
              "$Jenis.Kelamin\n",
              "  Jenis.Kelamin Jenis.Kelamin.1\n",
              "1          Pria               1\n",
              "2        Wanita               2\n",
              "\n",
              "$Tipe.Residen\n",
              "  Tipe.Residen Tipe.Residen.1\n",
              "1       Sector              2\n",
              "2      Cluster              1\n",
              "\n",
              "$Segmentasi\n",
              "K-means clustering with 5 clusters of sizes 5, 12, 14, 9, 10\n",
              "\n",
              "Cluster means:\n",
              "  Jenis.Kelamin.1     Umur Profesi.1 Tipe.Residen.1 NilaiBelanjaSetahun\n",
              "1            1.40 61.80000  4.200000       1.400000            8.696132\n",
              "2            1.75 31.58333  3.916667       1.250000            7.330958\n",
              "3            2.00 20.07143  3.571429       1.357143            5.901089\n",
              "4            2.00 42.33333  4.000000       1.555556            8.804791\n",
              "5            1.70 52.50000  3.800000       1.300000            6.018321\n",
              "\n",
              "Clustering vector:\n",
              " [1] 1 3 5 5 4 3 1 5 2 2 5 5 1 1 3 2 2 1 2 3 4 5 2 4 2 5 2 4 5 4 3 4 3 3 4 2 3 4\n",
              "[39] 3 3 3 2 2 3 3 3 5 4 2 5\n",
              "\n",
              "Within cluster sum of squares by cluster:\n",
              "[1]  58.21123 174.85164 316.73367 171.67372 108.49735\n",
              " (between_SS / total_SS =  92.4 %)\n",
              "\n",
              "Available components:\n",
              "\n",
              "[1] \"cluster\"      \"centers\"      \"totss\"        \"withinss\"     \"tot.withinss\"\n",
              "[6] \"betweenss\"    \"size\"         \"iter\"         \"ifault\"      \n",
              "\n",
              "$Segmen.Pelanggan\n",
              "  cluster             Nama.Segmen\n",
              "1       1   Diamond Senior Member\n",
              "2       2 Gold Young Professional\n",
              "3       3       Silver Youth Gals\n",
              "4       4    Diamond Professional\n",
              "5       5 Silver Mid Professional\n",
              "\n",
              "$field_yang_digunakan\n",
              "[1] \"Jenis.Kelamin.1\"     \"Umur\"                \"Profesi.1\"          \n",
              "[4] \"Tipe.Residen.1\"      \"NilaiBelanjaSetahun\"\n"
            ]
          },
          "metadata": {},
          "output_type": "display_data"
        }
      ],
      "source": [
        "# Silahkan coba disini\n",
        "Identitas.Cluster <- readRDS(file=\"cluster.rds\")\n",
        "Identitas.Cluster"
      ]
    },
    {
      "cell_type": "markdown",
      "metadata": {
        "id": "PXkRcvtM_Wf0"
      },
      "source": [
        "Disini kita akan melakukan pemetaan dummy yang digunakan sebelumnya\n",
        "\n",
        "```r\n",
        "# Pemanggilan model yang dibuat\n",
        "databaru <- merge(databaru, Identitas.Cluster$Profesi)\n",
        "databaru <- merge(databaru, Identitas.Cluster$Jenis.Kelamin)\n",
        "databaru <- merge(databaru, Identitas.Cluster$Tipe.Residen)\n",
        "databaru\n",
        "```\n",
        "\n",
        "Kita akan bisa mencari segmen pelanggannya dengan data numerik hasil penggabungan. Cara menggabungkannya adalah dengan menggunakan function merge, dimana kedua data akan digabungkan dengan mencari persamaan nama kolom dan isinya."
      ]
    },
    {
      "cell_type": "code",
      "execution_count": null,
      "metadata": {
        "colab": {
          "base_uri": "https://localhost:8080/",
          "height": 129
        },
        "id": "QhpLxW0k_jXu",
        "outputId": "228108d3-43a9-4310-d586-83887ac48d83",
        "vscode": {
          "languageId": "r"
        }
      },
      "outputs": [
        {
          "data": {
            "text/html": [
              "<table class=\"dataframe\">\n",
              "<caption>A data.frame: 1 × 10</caption>\n",
              "<thead>\n",
              "\t<tr><th scope=col>Tipe.Residen</th><th scope=col>Tipe.Residen.1</th><th scope=col>Jenis.Kelamin</th><th scope=col>Jenis.Kelamin.1</th><th scope=col>Profesi</th><th scope=col>Profesi.1</th><th scope=col>Customer_ID</th><th scope=col>Nama.Pelanggan</th><th scope=col>Umur</th><th scope=col>NilaiBelanjaSetahun</th></tr>\n",
              "\t<tr><th scope=col>&lt;chr&gt;</th><th scope=col>&lt;int&gt;</th><th scope=col>&lt;chr&gt;</th><th scope=col>&lt;int&gt;</th><th scope=col>&lt;chr&gt;</th><th scope=col>&lt;int&gt;</th><th scope=col>&lt;chr&gt;</th><th scope=col>&lt;chr&gt;</th><th scope=col>&lt;dbl&gt;</th><th scope=col>&lt;dbl&gt;</th></tr>\n",
              "</thead>\n",
              "<tbody>\n",
              "\t<tr><td>Cluster</td><td>1</td><td>Wanita</td><td>2</td><td>Pelajar</td><td>3</td><td>CUST-100</td><td>Rudi Wilamar</td><td>20</td><td>3.5</td></tr>\n",
              "</tbody>\n",
              "</table>\n"
            ],
            "text/latex": [
              "A data.frame: 1 × 10\n",
              "\\begin{tabular}{llllllllll}\n",
              " Tipe.Residen & Tipe.Residen.1 & Jenis.Kelamin & Jenis.Kelamin.1 & Profesi & Profesi.1 & Customer\\_ID & Nama.Pelanggan & Umur & NilaiBelanjaSetahun\\\\\n",
              " <chr> & <int> & <chr> & <int> & <chr> & <int> & <chr> & <chr> & <dbl> & <dbl>\\\\\n",
              "\\hline\n",
              "\t Cluster & 1 & Wanita & 2 & Pelajar & 3 & CUST-100 & Rudi Wilamar & 20 & 3.5\\\\\n",
              "\\end{tabular}\n"
            ],
            "text/markdown": [
              "\n",
              "A data.frame: 1 × 10\n",
              "\n",
              "| Tipe.Residen &lt;chr&gt; | Tipe.Residen.1 &lt;int&gt; | Jenis.Kelamin &lt;chr&gt; | Jenis.Kelamin.1 &lt;int&gt; | Profesi &lt;chr&gt; | Profesi.1 &lt;int&gt; | Customer_ID &lt;chr&gt; | Nama.Pelanggan &lt;chr&gt; | Umur &lt;dbl&gt; | NilaiBelanjaSetahun &lt;dbl&gt; |\n",
              "|---|---|---|---|---|---|---|---|---|---|\n",
              "| Cluster | 1 | Wanita | 2 | Pelajar | 3 | CUST-100 | Rudi Wilamar | 20 | 3.5 |\n",
              "\n"
            ],
            "text/plain": [
              "  Tipe.Residen Tipe.Residen.1 Jenis.Kelamin Jenis.Kelamin.1 Profesi Profesi.1\n",
              "1 Cluster      1              Wanita        2               Pelajar 3        \n",
              "  Customer_ID Nama.Pelanggan Umur NilaiBelanjaSetahun\n",
              "1 CUST-100    Rudi Wilamar   20   3.5                "
            ]
          },
          "metadata": {},
          "output_type": "display_data"
        }
      ],
      "source": [
        "# Silahkan coba disini\n",
        "databaru <- merge(databaru, Identitas.Cluster$Profesi)\n",
        "databaru <- merge(databaru, Identitas.Cluster$Jenis.Kelamin)\n",
        "databaru <- merge(databaru, Identitas.Cluster$Tipe.Residen)\n",
        "databaru"
      ]
    },
    {
      "cell_type": "markdown",
      "metadata": {
        "id": "aiJ38t5v_m5o"
      },
      "source": [
        "Disini kita akan memuat cluster data yang kita gunakan dengan tahapan sebagai berikut:\n",
        "1. mencari jarak kuadrat minimum atau terdekat\n",
        "2. dari kolom numerik data baru tersebut\n",
        "3. ke centroid kolom terkait\n",
        "4. dari seluruh cluster yang ada\n",
        "\n",
        "```r\n",
        "# Pemuatan cluster\n",
        "Identitas.Cluster$Segmen.Pelanggan[which.min(sapply( 1:5, function( x ) sum( ( databaru[Identitas.Cluster$field_yang_digunakan] - Identitas.Cluster$Segmentasi$centers[x,])^2 ))),]\n",
        "```\n",
        "\n",
        "Adapun parameter sebagai berikut:\n",
        "1. **min**: merupakan function untuk mencari nilai minimum\n",
        "2. **1:5**: adalah range nomor cluster dari 1 sampai dengan 5 (atau lebih sesuai dengan ukuran cluster)\n",
        "3. **sapply**: digunakan untuk melakukan iterasi berdasarkan range (dalam kasus ini 1 s/d 5)\n",
        "4. **function(x)**: digunakan untuk proses dengan x diisi 1 s/d 5 per proses\n",
        "5. **(data[kolom] – objekkmeans$centers[x,]) ^2**: adalah jarak kuadrat data. Ingat centers adalah komponen dari objek kmeans.\n",
        "6. **sum**: digunakan untuk menjumlahkan jarak kuadrat"
      ]
    },
    {
      "cell_type": "code",
      "execution_count": null,
      "metadata": {
        "colab": {
          "base_uri": "https://localhost:8080/",
          "height": 129
        },
        "id": "PvEsdOirJQZ5",
        "outputId": "4a841071-3614-4923-8303-89972ff272fc",
        "vscode": {
          "languageId": "r"
        }
      },
      "outputs": [
        {
          "data": {
            "text/html": [
              "<table class=\"dataframe\">\n",
              "<caption>A data.frame: 1 × 10</caption>\n",
              "<thead>\n",
              "\t<tr><th scope=col>Tipe.Residen</th><th scope=col>Tipe.Residen.1</th><th scope=col>Jenis.Kelamin</th><th scope=col>Jenis.Kelamin.1</th><th scope=col>Profesi</th><th scope=col>Profesi.1</th><th scope=col>Customer_ID</th><th scope=col>Nama.Pelanggan</th><th scope=col>Umur</th><th scope=col>NilaiBelanjaSetahun</th></tr>\n",
              "\t<tr><th scope=col>&lt;chr&gt;</th><th scope=col>&lt;int&gt;</th><th scope=col>&lt;chr&gt;</th><th scope=col>&lt;int&gt;</th><th scope=col>&lt;chr&gt;</th><th scope=col>&lt;int&gt;</th><th scope=col>&lt;chr&gt;</th><th scope=col>&lt;chr&gt;</th><th scope=col>&lt;dbl&gt;</th><th scope=col>&lt;dbl&gt;</th></tr>\n",
              "</thead>\n",
              "<tbody>\n",
              "\t<tr><td>Cluster</td><td>1</td><td>Wanita</td><td>2</td><td>Pelajar</td><td>3</td><td>CUST-100</td><td>Rudi Wilamar</td><td>20</td><td>3.5</td></tr>\n",
              "</tbody>\n",
              "</table>\n"
            ],
            "text/latex": [
              "A data.frame: 1 × 10\n",
              "\\begin{tabular}{llllllllll}\n",
              " Tipe.Residen & Tipe.Residen.1 & Jenis.Kelamin & Jenis.Kelamin.1 & Profesi & Profesi.1 & Customer\\_ID & Nama.Pelanggan & Umur & NilaiBelanjaSetahun\\\\\n",
              " <chr> & <int> & <chr> & <int> & <chr> & <int> & <chr> & <chr> & <dbl> & <dbl>\\\\\n",
              "\\hline\n",
              "\t Cluster & 1 & Wanita & 2 & Pelajar & 3 & CUST-100 & Rudi Wilamar & 20 & 3.5\\\\\n",
              "\\end{tabular}\n"
            ],
            "text/markdown": [
              "\n",
              "A data.frame: 1 × 10\n",
              "\n",
              "| Tipe.Residen &lt;chr&gt; | Tipe.Residen.1 &lt;int&gt; | Jenis.Kelamin &lt;chr&gt; | Jenis.Kelamin.1 &lt;int&gt; | Profesi &lt;chr&gt; | Profesi.1 &lt;int&gt; | Customer_ID &lt;chr&gt; | Nama.Pelanggan &lt;chr&gt; | Umur &lt;dbl&gt; | NilaiBelanjaSetahun &lt;dbl&gt; |\n",
              "|---|---|---|---|---|---|---|---|---|---|\n",
              "| Cluster | 1 | Wanita | 2 | Pelajar | 3 | CUST-100 | Rudi Wilamar | 20 | 3.5 |\n",
              "\n"
            ],
            "text/plain": [
              "  Tipe.Residen Tipe.Residen.1 Jenis.Kelamin Jenis.Kelamin.1 Profesi Profesi.1\n",
              "1 Cluster      1              Wanita        2               Pelajar 3        \n",
              "  Customer_ID Nama.Pelanggan Umur NilaiBelanjaSetahun\n",
              "1 CUST-100    Rudi Wilamar   20   3.5                "
            ]
          },
          "metadata": {},
          "output_type": "display_data"
        }
      ],
      "source": [
        "databaru"
      ]
    },
    {
      "cell_type": "markdown",
      "metadata": {
        "id": "1eqOjHL-JSnU"
      },
      "source": [
        "alasannya adalah karena umurnya rata-rata adalah 20, wanita semua, profesinya bercampur antar pelajar dan professional serta pembelanjaan sekitar 6 juta."
      ]
    },
    {
      "cell_type": "code",
      "execution_count": null,
      "metadata": {
        "colab": {
          "base_uri": "https://localhost:8080/",
          "height": 129
        },
        "id": "0_vx7vwD_uau",
        "outputId": "8c70f2e4-81ac-4b2d-9a53-7368eba6a2e2",
        "vscode": {
          "languageId": "r"
        }
      },
      "outputs": [
        {
          "data": {
            "text/html": [
              "<table class=\"dataframe\">\n",
              "<caption>A data.frame: 1 × 2</caption>\n",
              "<thead>\n",
              "\t<tr><th></th><th scope=col>cluster</th><th scope=col>Nama.Segmen</th></tr>\n",
              "\t<tr><th></th><th scope=col>&lt;dbl&gt;</th><th scope=col>&lt;chr&gt;</th></tr>\n",
              "</thead>\n",
              "<tbody>\n",
              "\t<tr><th scope=row>3</th><td>3</td><td>Silver Youth Gals</td></tr>\n",
              "</tbody>\n",
              "</table>\n"
            ],
            "text/latex": [
              "A data.frame: 1 × 2\n",
              "\\begin{tabular}{r|ll}\n",
              "  & cluster & Nama.Segmen\\\\\n",
              "  & <dbl> & <chr>\\\\\n",
              "\\hline\n",
              "\t3 & 3 & Silver Youth Gals\\\\\n",
              "\\end{tabular}\n"
            ],
            "text/markdown": [
              "\n",
              "A data.frame: 1 × 2\n",
              "\n",
              "| <!--/--> | cluster &lt;dbl&gt; | Nama.Segmen &lt;chr&gt; |\n",
              "|---|---|---|\n",
              "| 3 | 3 | Silver Youth Gals |\n",
              "\n"
            ],
            "text/plain": [
              "  cluster Nama.Segmen      \n",
              "3 3       Silver Youth Gals"
            ]
          },
          "metadata": {},
          "output_type": "display_data"
        }
      ],
      "source": [
        "# Silahkan coba disini\n",
        "Identitas.Cluster$Segmen.Pelanggan[which.min(sapply( 1:5, function( x ) sum( ( databaru[Identitas.Cluster$field_yang_digunakan] - Identitas.Cluster$Segmentasi$centers[x,])^2 ))),]"
      ]
    },
    {
      "cell_type": "markdown",
      "metadata": {
        "id": "KVdxnBnuYMUq"
      },
      "source": [
        "Recap:\n",
        "\n",
        "Perlu diingat bahwa K-Means bukan satu-satunya algoritma clustering, masih banyak algoritma lain seperti Hierarchical Clustering, Parallelized Hierarchical Clustering, dan lain-lain.\n",
        "\n",
        "Dan setiap algoritma juga memiliki kekurangan dan kelebihan masing-masing. Namun pengetahuan dasar dengan berangkat dari satu algoritma yang populer dan menuntaskannya pastinya akan menjadi bekal berharga."
      ]
    }
  ],
  "metadata": {
    "colab": {
      "collapsed_sections": [],
      "name": "day2proa-segpro.ipynb",
      "provenance": []
    },
    "kernelspec": {
      "display_name": "R",
      "name": "ir"
    },
    "language_info": {
      "name": "R"
    }
  },
  "nbformat": 4,
  "nbformat_minor": 0
}
