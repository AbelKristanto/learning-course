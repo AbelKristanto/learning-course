{
  "cells": [
    {
      "cell_type": "markdown",
      "metadata": {
        "id": "GPQ6cOxsoiVk"
      },
      "source": [
        "# Pendahuluan\n",
        "\n",
        "Customer Segmentation merupakan cara agar kita mampu menjual produk sesuai kebutuhan pelanggan yang mana terdapat 3 tujuan utama:\n",
        "1. Dapat membuat pesan pemasaran yang lebih mengena ke tiap pelanggan\n",
        "2. Bisa lebih mengenal customer / pelanggan \n",
        "3. Biaya pemasaran bisa menjadi lebih rendah\n",
        "Hal tersebut diharapkan dapat mendorong performa bisnis berpotensi tinggi menjadi lebih baik juga karena adanya proses analisa data dari profile customer yang cukup banyak dan rutin, apalagi didukung adanya algoritma komputer.\n",
        "\n",
        "Namun, di era saat ini customer segmentation bisa dilakukan dengan algoritma komputer yang mana memiliki potensi dalam:\n",
        "1. Agar kita dapat membagi-bagi segmen customer dengan gampang\n",
        "2. Dapat membantu kita menentukan jumlah clustering yang optimal\n",
        "3. Dapat memberikan hasil jauh lebih cepat\n",
        "4. Karena bisa memberikan best practice"
      ]
    },
    {
      "cell_type": "markdown",
      "metadata": {
        "id": "fNRXecKMq1Px"
      },
      "source": [
        "Dalam penyusunan project terdapat **5 tahapan**, diantaranya:\n",
        "\n",
        "1. Definisi tujuan project\n",
        "2. Persiapkan data yang digunakan\n",
        "3. Lakukan Feature Engineering\n",
        "4. Buat pemodelan data\n",
        "5. Uji hasil pemodelan\n",
        "\n",
        "Disini kita akan mencoba menyelesaikan masalah secara bertahap, dengan mendefinisikan tujuan project.\n",
        "\n",
        "**Tujuan Project**:\n",
        "\n",
        "Adapun tujuan dari adanya project kali ini adalah membuat segmentasi pelanggan berdasarkan behavior yang dimiliki dengan menggunakan K-Means"
      ]
    },
    {
      "cell_type": "markdown",
      "metadata": {
        "id": "NYFEXFkACroF"
      },
      "source": [
        "Data yang kita gunakan kali ini dengan berisikan berikut ini:\n",
        "\n",
        "1. **Customer ID**: Kode pelanggan dengan format campuran teks CUST- diikuti angka\n",
        "2. **Nama Pelanggan**: Nama dari pelanggan dengan format teks tentunya\n",
        "3. **Jenis Kelamin**: Jenis kelamin dari pelanggan, hanya terdapat dua isi data kategori yaitu Pria dan Wanita\n",
        "4. **Umur**: Umur dari pelanggan dalam format angka\n",
        "5. **Profesi**: Profesi dari pelanggan, juga bertipe teks kategori yang terdiri dari Wiraswasta, Pelajar, Professional, Ibu Rumah Tangga, dan Mahasiswa.\n",
        "6. **Tipe Residen**: Tipe tempat tinggal dari pelanggan kita, untuk dataset ini hanya ada dua kategori: Cluster dan Sector.\n",
        "7. **NilaiBelanjaSetahun**: Merupakan banyaknya transaksi belanja pelanggan dalam setahun\n",
        "\n",
        "**NOTE**: Data yang memiliki unique yang cukup besar, tidak diperlukan dalam feature engineering."
      ]
    }
  ],
  "metadata": {
    "colab": {
      "collapsed_sections": [],
      "name": "day2proa-segpro.ipynb",
      "provenance": []
    },
    "kernelspec": {
      "display_name": "R",
      "name": "ir"
    },
    "language_info": {
      "name": "R"
    }
  },
  "nbformat": 4,
  "nbformat_minor": 0
}
