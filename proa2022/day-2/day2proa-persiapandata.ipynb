{
  "cells": [
    {
      "cell_type": "markdown",
      "metadata": {
        "id": "m1rdB8O5pYY9"
      },
      "source": [
        "## Persiapkan Data yang digunakan\n",
        "\n",
        "Dalam Langkah untuk membuat algoritma komputer, ada beberapa hal yang perlu kita perhatikan dalam menyiapkan data:\n",
        "1. Mengenal Contoh File Dataset Pelanggan\n",
        "2. Membaca File dengan read.csv\n",
        "3. Vector untuk Menyimpan Nama Field\n",
        "4. Konversi Data dengan data.matrix\n",
        "5. Menggabungkan Hasil Konversi\n",
        "6. Menormalisasikan Nilai Belanja\n",
        "7. Membuat Data Master\n",
        "\n",
        "Adapun data yang digunakan dalam projek kali ini adalah data pelanggan yang memiliki fitur jenis kelamin, umur, profesi, dan tipe residen.\n",
        "\n",
        "\n",
        "\n",
        "```r\n",
        "# Menyimpan data set kedalam variabel pelanggan \n",
        "# sep=\"\\t\" artinya Tab-delimited file\n",
        "pelanggan <- read.csv(\"https://storage.googleapis.com/dqlab-dataset/customer_segments.txt\", sep=\"\\t\")\n",
        "head(pelanggan[c(\"Jenis.Kelamin\", \"Umur\", \"Profesi\", \"Tipe.Residen\")],5)\n",
        "```\n",
        "\n",
        "**NOTE** : Case Sensitiv artinya penulisan code – huruf besar, huruf kecil dan juga penulisan lokasi file perlu diperhatikan dengan teliti.\n"
      ]
    },
    {
      "cell_type": "code",
      "execution_count": null,
      "metadata": {
        "colab": {
          "base_uri": "https://localhost:8080/",
          "height": 255
        },
        "id": "Ca0ADNGXT8C9",
        "outputId": "0f232db6-122c-4510-e34f-fd24c07d5664",
        "vscode": {
          "languageId": "r"
        }
      },
      "outputs": [
        {
          "data": {
            "text/html": [
              "<table class=\"dataframe\">\n",
              "<caption>A data.frame: 5 × 4</caption>\n",
              "<thead>\n",
              "\t<tr><th></th><th scope=col>Jenis.Kelamin</th><th scope=col>Umur</th><th scope=col>Profesi</th><th scope=col>Tipe.Residen</th></tr>\n",
              "\t<tr><th></th><th scope=col>&lt;chr&gt;</th><th scope=col>&lt;int&gt;</th><th scope=col>&lt;chr&gt;</th><th scope=col>&lt;chr&gt;</th></tr>\n",
              "</thead>\n",
              "<tbody>\n",
              "\t<tr><th scope=row>1</th><td>Pria  </td><td>58</td><td>Wiraswasta  </td><td>Sector </td></tr>\n",
              "\t<tr><th scope=row>2</th><td>Wanita</td><td>14</td><td>Pelajar     </td><td>Cluster</td></tr>\n",
              "\t<tr><th scope=row>3</th><td>Pria  </td><td>48</td><td>Professional</td><td>Cluster</td></tr>\n",
              "\t<tr><th scope=row>4</th><td>Pria  </td><td>53</td><td>Professional</td><td>Cluster</td></tr>\n",
              "\t<tr><th scope=row>5</th><td>Wanita</td><td>41</td><td>Wiraswasta  </td><td>Cluster</td></tr>\n",
              "</tbody>\n",
              "</table>\n"
            ],
            "text/latex": [
              "A data.frame: 5 × 4\n",
              "\\begin{tabular}{r|llll}\n",
              "  & Jenis.Kelamin & Umur & Profesi & Tipe.Residen\\\\\n",
              "  & <chr> & <int> & <chr> & <chr>\\\\\n",
              "\\hline\n",
              "\t1 & Pria   & 58 & Wiraswasta   & Sector \\\\\n",
              "\t2 & Wanita & 14 & Pelajar      & Cluster\\\\\n",
              "\t3 & Pria   & 48 & Professional & Cluster\\\\\n",
              "\t4 & Pria   & 53 & Professional & Cluster\\\\\n",
              "\t5 & Wanita & 41 & Wiraswasta   & Cluster\\\\\n",
              "\\end{tabular}\n"
            ],
            "text/markdown": [
              "\n",
              "A data.frame: 5 × 4\n",
              "\n",
              "| <!--/--> | Jenis.Kelamin &lt;chr&gt; | Umur &lt;int&gt; | Profesi &lt;chr&gt; | Tipe.Residen &lt;chr&gt; |\n",
              "|---|---|---|---|---|\n",
              "| 1 | Pria   | 58 | Wiraswasta   | Sector  |\n",
              "| 2 | Wanita | 14 | Pelajar      | Cluster |\n",
              "| 3 | Pria   | 48 | Professional | Cluster |\n",
              "| 4 | Pria   | 53 | Professional | Cluster |\n",
              "| 5 | Wanita | 41 | Wiraswasta   | Cluster |\n",
              "\n"
            ],
            "text/plain": [
              "  Jenis.Kelamin Umur Profesi      Tipe.Residen\n",
              "1 Pria          58   Wiraswasta   Sector      \n",
              "2 Wanita        14   Pelajar      Cluster     \n",
              "3 Pria          48   Professional Cluster     \n",
              "4 Pria          53   Professional Cluster     \n",
              "5 Wanita        41   Wiraswasta   Cluster     "
            ]
          },
          "metadata": {},
          "output_type": "display_data"
        }
      ],
      "source": [
        "# Silahkan coba disini\n",
        "pelanggan <- read.csv(\"https://storage.googleapis.com/dqlab-dataset/customer_segments.txt\", sep=\"\\t\")\n",
        "head(pelanggan[c(\"Jenis.Kelamin\", \"Umur\", \"Profesi\", \"Tipe.Residen\")],5)"
      ]
    },
    {
      "cell_type": "markdown",
      "metadata": {
        "id": "W8-4uo7Ar9Q_"
      },
      "source": [
        "Cobalah cara dibawah ini untuk mengetahui perbedaan seperator\n",
        "\n",
        "```r\n",
        "# Silahkan coba perbedaan seperator \"\\t\" dengan \"\\n\"\n",
        "# Gunakan fungsi cat berguna untuk penggabungan teks dengan sep\n",
        "cat(\"Mangga\", \"Apel\", sep=\"\\t\")\n",
        "cat(\"Mangga\", \"Apel\", sep=\"\\n\")\n",
        "```\n",
        "\n"
      ]
    },
    {
      "cell_type": "code",
      "execution_count": null,
      "metadata": {
        "colab": {
          "base_uri": "https://localhost:8080/"
        },
        "id": "LpIfHqz_qfov",
        "outputId": "3265ea94-8783-4b18-e945-dcdedaf5d365",
        "vscode": {
          "languageId": "r"
        }
      },
      "outputs": [
        {
          "name": "stdout",
          "output_type": "stream",
          "text": [
            "Mangga\tApelMangga\n",
            "Apel\n"
          ]
        }
      ],
      "source": [
        "# Silahkan coba disini\n",
        "cat(\"Mangga\", \"Apel\", sep=\"\\t\")\n",
        "cat(\"Mangga\", \"Apel\", sep=\"\\n\")"
      ]
    },
    {
      "cell_type": "markdown",
      "metadata": {
        "id": "vTFqdw9ftqsB"
      },
      "source": [
        "Membuat vektor/list dari nama-nama kolom\n",
        "\n",
        "```r\n",
        "# Disini membuat variabel dengan vektor/list Jenis.Kelamin, Umur, Profesi (Nama Kolom)\n",
        "field_yang_digunakan <- c(\"Jenis.Kelamin\", \"Umur\", \"Profesi\")\n",
        "field_yang_digunakan\n",
        "```\n",
        "\n"
      ]
    },
    {
      "cell_type": "code",
      "execution_count": null,
      "metadata": {
        "colab": {
          "base_uri": "https://localhost:8080/",
          "height": 34
        },
        "id": "lJrloWMzt3g_",
        "outputId": "8713773c-c347-4c7f-8608-96ca3b6c8f22",
        "vscode": {
          "languageId": "r"
        }
      },
      "outputs": [
        {
          "data": {
            "text/html": [
              "<style>\n",
              ".list-inline {list-style: none; margin:0; padding: 0}\n",
              ".list-inline>li {display: inline-block}\n",
              ".list-inline>li:not(:last-child)::after {content: \"\\00b7\"; padding: 0 .5ex}\n",
              "</style>\n",
              "<ol class=list-inline><li>'Jenis.Kelamin'</li><li>'Umur'</li><li>'Profesi'</li></ol>\n"
            ],
            "text/latex": [
              "\\begin{enumerate*}\n",
              "\\item 'Jenis.Kelamin'\n",
              "\\item 'Umur'\n",
              "\\item 'Profesi'\n",
              "\\end{enumerate*}\n"
            ],
            "text/markdown": [
              "1. 'Jenis.Kelamin'\n",
              "2. 'Umur'\n",
              "3. 'Profesi'\n",
              "\n",
              "\n"
            ],
            "text/plain": [
              "[1] \"Jenis.Kelamin\" \"Umur\"          \"Profesi\"      "
            ]
          },
          "metadata": {},
          "output_type": "display_data"
        }
      ],
      "source": [
        "# Silahkan coba disini\n",
        "field_yang_digunakan <- c(\"Jenis.Kelamin\", \"Umur\", \"Profesi\")\n",
        "field_yang_digunakan"
      ]
    },
    {
      "cell_type": "markdown",
      "metadata": {
        "id": "Qxmw1b6AuElu"
      },
      "source": [
        "Mengakses file dengan variabel yang sudah dibuat sebelumnya\n",
        "\n",
        "```r\n",
        "#Tampilan data pelanggan dengan nama kolom sesuai isi vector field_yang_digunakan\n",
        "head(pelanggan[field_yang_digunakan], 5)\n",
        "```\n",
        "\n"
      ]
    },
    {
      "cell_type": "code",
      "execution_count": null,
      "metadata": {
        "colab": {
          "base_uri": "https://localhost:8080/",
          "height": 255
        },
        "id": "69WQJu1oryHA",
        "outputId": "b9b72f6a-1e9a-46d5-a7f7-3cd854a3492f",
        "vscode": {
          "languageId": "r"
        }
      },
      "outputs": [
        {
          "data": {
            "text/html": [
              "<table class=\"dataframe\">\n",
              "<caption>A data.frame: 5 × 3</caption>\n",
              "<thead>\n",
              "\t<tr><th></th><th scope=col>Jenis.Kelamin</th><th scope=col>Umur</th><th scope=col>Profesi</th></tr>\n",
              "\t<tr><th></th><th scope=col>&lt;chr&gt;</th><th scope=col>&lt;int&gt;</th><th scope=col>&lt;chr&gt;</th></tr>\n",
              "</thead>\n",
              "<tbody>\n",
              "\t<tr><th scope=row>1</th><td>Pria  </td><td>58</td><td>Wiraswasta  </td></tr>\n",
              "\t<tr><th scope=row>2</th><td>Wanita</td><td>14</td><td>Pelajar     </td></tr>\n",
              "\t<tr><th scope=row>3</th><td>Pria  </td><td>48</td><td>Professional</td></tr>\n",
              "\t<tr><th scope=row>4</th><td>Pria  </td><td>53</td><td>Professional</td></tr>\n",
              "\t<tr><th scope=row>5</th><td>Wanita</td><td>41</td><td>Wiraswasta  </td></tr>\n",
              "</tbody>\n",
              "</table>\n"
            ],
            "text/latex": [
              "A data.frame: 5 × 3\n",
              "\\begin{tabular}{r|lll}\n",
              "  & Jenis.Kelamin & Umur & Profesi\\\\\n",
              "  & <chr> & <int> & <chr>\\\\\n",
              "\\hline\n",
              "\t1 & Pria   & 58 & Wiraswasta  \\\\\n",
              "\t2 & Wanita & 14 & Pelajar     \\\\\n",
              "\t3 & Pria   & 48 & Professional\\\\\n",
              "\t4 & Pria   & 53 & Professional\\\\\n",
              "\t5 & Wanita & 41 & Wiraswasta  \\\\\n",
              "\\end{tabular}\n"
            ],
            "text/markdown": [
              "\n",
              "A data.frame: 5 × 3\n",
              "\n",
              "| <!--/--> | Jenis.Kelamin &lt;chr&gt; | Umur &lt;int&gt; | Profesi &lt;chr&gt; |\n",
              "|---|---|---|---|\n",
              "| 1 | Pria   | 58 | Wiraswasta   |\n",
              "| 2 | Wanita | 14 | Pelajar      |\n",
              "| 3 | Pria   | 48 | Professional |\n",
              "| 4 | Pria   | 53 | Professional |\n",
              "| 5 | Wanita | 41 | Wiraswasta   |\n",
              "\n"
            ],
            "text/plain": [
              "  Jenis.Kelamin Umur Profesi     \n",
              "1 Pria          58   Wiraswasta  \n",
              "2 Wanita        14   Pelajar     \n",
              "3 Pria          48   Professional\n",
              "4 Pria          53   Professional\n",
              "5 Wanita        41   Wiraswasta  "
            ]
          },
          "metadata": {},
          "output_type": "display_data"
        }
      ],
      "source": [
        "# Silahkan coba disini\n",
        "head(pelanggan[field_yang_digunakan], 5)"
      ]
    },
    {
      "cell_type": "markdown",
      "metadata": {
        "id": "RGSqMS-Uvgs0"
      },
      "source": [
        "Mengubah matriks menjadi mode numerik. Ini dilakukan agar K-Means dapat mengelola feature yang kita gunakan apabila berupa teks bukan numerik.\n",
        "\n",
        "```r\n",
        "#Tampilan data pelanggan dengan nama kolom sesuai isi vector field_yang_digunakan\n",
        "pelanggan_matrix <- data.matrix(pelanggan[c(\"Jenis.Kelamin\",\"Profesi\",\"Tipe.Residen\")])\n",
        "head(pelanggan_matrix, 5)\n",
        "```\n",
        "\n"
      ]
    },
    {
      "cell_type": "code",
      "execution_count": null,
      "metadata": {
        "colab": {
          "base_uri": "https://localhost:8080/",
          "height": 223
        },
        "id": "CtvLafKXtjGn",
        "outputId": "71c4357f-54dc-466f-8c99-acbc98abc7f2",
        "vscode": {
          "languageId": "r"
        }
      },
      "outputs": [
        {
          "data": {
            "text/html": [
              "<table class=\"dataframe\">\n",
              "<caption>A matrix: 5 × 3 of type int</caption>\n",
              "<thead>\n",
              "\t<tr><th scope=col>Jenis.Kelamin</th><th scope=col>Profesi</th><th scope=col>Tipe.Residen</th></tr>\n",
              "</thead>\n",
              "<tbody>\n",
              "\t<tr><td>1</td><td>5</td><td>2</td></tr>\n",
              "\t<tr><td>2</td><td>3</td><td>1</td></tr>\n",
              "\t<tr><td>1</td><td>4</td><td>1</td></tr>\n",
              "\t<tr><td>1</td><td>4</td><td>1</td></tr>\n",
              "\t<tr><td>2</td><td>5</td><td>1</td></tr>\n",
              "</tbody>\n",
              "</table>\n"
            ],
            "text/latex": [
              "A matrix: 5 × 3 of type int\n",
              "\\begin{tabular}{lll}\n",
              " Jenis.Kelamin & Profesi & Tipe.Residen\\\\\n",
              "\\hline\n",
              "\t 1 & 5 & 2\\\\\n",
              "\t 2 & 3 & 1\\\\\n",
              "\t 1 & 4 & 1\\\\\n",
              "\t 1 & 4 & 1\\\\\n",
              "\t 2 & 5 & 1\\\\\n",
              "\\end{tabular}\n"
            ],
            "text/markdown": [
              "\n",
              "A matrix: 5 × 3 of type int\n",
              "\n",
              "| Jenis.Kelamin | Profesi | Tipe.Residen |\n",
              "|---|---|---|\n",
              "| 1 | 5 | 2 |\n",
              "| 2 | 3 | 1 |\n",
              "| 1 | 4 | 1 |\n",
              "| 1 | 4 | 1 |\n",
              "| 2 | 5 | 1 |\n",
              "\n"
            ],
            "text/plain": [
              "     Jenis.Kelamin Profesi Tipe.Residen\n",
              "[1,] 1             5       2           \n",
              "[2,] 2             3       1           \n",
              "[3,] 1             4       1           \n",
              "[4,] 1             4       1           \n",
              "[5,] 2             5       1           "
            ]
          },
          "metadata": {},
          "output_type": "display_data"
        }
      ],
      "source": [
        "# Silahkan coba disini\n",
        "pelanggan_matrix <- data.matrix(pelanggan[c(\"Jenis.Kelamin\",\"Profesi\",\"Tipe.Residen\")])\n",
        "head(pelanggan_matrix, 5)"
      ]
    },
    {
      "cell_type": "markdown",
      "metadata": {
        "id": "bPx_9yts1QZQ"
      },
      "source": [
        "Membuat dataframe baru dengan menggabungkan dataframe pelanggan dengan pelanggan_matrix. Hal ini berguna juga untuk mengenali data pelanggan baru masuk ke segment mana.\n",
        "\n",
        "```r\n",
        "#Penggabungan data\n",
        "pelanggan <- data.frame(pelanggan, pelanggan_matrix)\n",
        "#Tampilkan kembali data hasil penggabungan\n",
        "head(pelanggan, 5)\n",
        "```\n",
        "\n"
      ]
    },
    {
      "cell_type": "code",
      "execution_count": null,
      "metadata": {
        "colab": {
          "base_uri": "https://localhost:8080/",
          "height": 292
        },
        "id": "bSx3xh6C1b8g",
        "outputId": "a8b0a0c5-ece8-4cda-b716-a7914e9b67cc",
        "vscode": {
          "languageId": "r"
        }
      },
      "outputs": [
        {
          "data": {
            "text/html": [
              "<table class=\"dataframe\">\n",
              "<caption>A data.frame: 5 × 10</caption>\n",
              "<thead>\n",
              "\t<tr><th></th><th scope=col>Customer_ID</th><th scope=col>Nama.Pelanggan</th><th scope=col>Jenis.Kelamin</th><th scope=col>Umur</th><th scope=col>Profesi</th><th scope=col>Tipe.Residen</th><th scope=col>NilaiBelanjaSetahun</th><th scope=col>Jenis.Kelamin.1</th><th scope=col>Profesi.1</th><th scope=col>Tipe.Residen.1</th></tr>\n",
              "\t<tr><th></th><th scope=col>&lt;chr&gt;</th><th scope=col>&lt;chr&gt;</th><th scope=col>&lt;chr&gt;</th><th scope=col>&lt;int&gt;</th><th scope=col>&lt;chr&gt;</th><th scope=col>&lt;chr&gt;</th><th scope=col>&lt;int&gt;</th><th scope=col>&lt;int&gt;</th><th scope=col>&lt;int&gt;</th><th scope=col>&lt;int&gt;</th></tr>\n",
              "</thead>\n",
              "<tbody>\n",
              "\t<tr><th scope=row>1</th><td>CUST-001</td><td>Budi Anggara       </td><td>Pria  </td><td>58</td><td>Wiraswasta  </td><td>Sector </td><td> 9497927</td><td>1</td><td>5</td><td>2</td></tr>\n",
              "\t<tr><th scope=row>2</th><td>CUST-002</td><td>Shirley Ratuwati   </td><td>Wanita</td><td>14</td><td>Pelajar     </td><td>Cluster</td><td> 2722700</td><td>2</td><td>3</td><td>1</td></tr>\n",
              "\t<tr><th scope=row>3</th><td>CUST-003</td><td>Agus Cahyono       </td><td>Pria  </td><td>48</td><td>Professional</td><td>Cluster</td><td> 5286429</td><td>1</td><td>4</td><td>1</td></tr>\n",
              "\t<tr><th scope=row>4</th><td>CUST-004</td><td>Antonius Winarta   </td><td>Pria  </td><td>53</td><td>Professional</td><td>Cluster</td><td> 5204498</td><td>1</td><td>4</td><td>1</td></tr>\n",
              "\t<tr><th scope=row>5</th><td>CUST-005</td><td>Ibu Sri Wahyuni, IR</td><td>Wanita</td><td>41</td><td>Wiraswasta  </td><td>Cluster</td><td>10615206</td><td>2</td><td>5</td><td>1</td></tr>\n",
              "</tbody>\n",
              "</table>\n"
            ],
            "text/latex": [
              "A data.frame: 5 × 10\n",
              "\\begin{tabular}{r|llllllllll}\n",
              "  & Customer\\_ID & Nama.Pelanggan & Jenis.Kelamin & Umur & Profesi & Tipe.Residen & NilaiBelanjaSetahun & Jenis.Kelamin.1 & Profesi.1 & Tipe.Residen.1\\\\\n",
              "  & <chr> & <chr> & <chr> & <int> & <chr> & <chr> & <int> & <int> & <int> & <int>\\\\\n",
              "\\hline\n",
              "\t1 & CUST-001 & Budi Anggara        & Pria   & 58 & Wiraswasta   & Sector  &  9497927 & 1 & 5 & 2\\\\\n",
              "\t2 & CUST-002 & Shirley Ratuwati    & Wanita & 14 & Pelajar      & Cluster &  2722700 & 2 & 3 & 1\\\\\n",
              "\t3 & CUST-003 & Agus Cahyono        & Pria   & 48 & Professional & Cluster &  5286429 & 1 & 4 & 1\\\\\n",
              "\t4 & CUST-004 & Antonius Winarta    & Pria   & 53 & Professional & Cluster &  5204498 & 1 & 4 & 1\\\\\n",
              "\t5 & CUST-005 & Ibu Sri Wahyuni, IR & Wanita & 41 & Wiraswasta   & Cluster & 10615206 & 2 & 5 & 1\\\\\n",
              "\\end{tabular}\n"
            ],
            "text/markdown": [
              "\n",
              "A data.frame: 5 × 10\n",
              "\n",
              "| <!--/--> | Customer_ID &lt;chr&gt; | Nama.Pelanggan &lt;chr&gt; | Jenis.Kelamin &lt;chr&gt; | Umur &lt;int&gt; | Profesi &lt;chr&gt; | Tipe.Residen &lt;chr&gt; | NilaiBelanjaSetahun &lt;int&gt; | Jenis.Kelamin.1 &lt;int&gt; | Profesi.1 &lt;int&gt; | Tipe.Residen.1 &lt;int&gt; |\n",
              "|---|---|---|---|---|---|---|---|---|---|---|\n",
              "| 1 | CUST-001 | Budi Anggara        | Pria   | 58 | Wiraswasta   | Sector  |  9497927 | 1 | 5 | 2 |\n",
              "| 2 | CUST-002 | Shirley Ratuwati    | Wanita | 14 | Pelajar      | Cluster |  2722700 | 2 | 3 | 1 |\n",
              "| 3 | CUST-003 | Agus Cahyono        | Pria   | 48 | Professional | Cluster |  5286429 | 1 | 4 | 1 |\n",
              "| 4 | CUST-004 | Antonius Winarta    | Pria   | 53 | Professional | Cluster |  5204498 | 1 | 4 | 1 |\n",
              "| 5 | CUST-005 | Ibu Sri Wahyuni, IR | Wanita | 41 | Wiraswasta   | Cluster | 10615206 | 2 | 5 | 1 |\n",
              "\n"
            ],
            "text/plain": [
              "  Customer_ID Nama.Pelanggan      Jenis.Kelamin Umur Profesi      Tipe.Residen\n",
              "1 CUST-001    Budi Anggara        Pria          58   Wiraswasta   Sector      \n",
              "2 CUST-002    Shirley Ratuwati    Wanita        14   Pelajar      Cluster     \n",
              "3 CUST-003    Agus Cahyono        Pria          48   Professional Cluster     \n",
              "4 CUST-004    Antonius Winarta    Pria          53   Professional Cluster     \n",
              "5 CUST-005    Ibu Sri Wahyuni, IR Wanita        41   Wiraswasta   Cluster     \n",
              "  NilaiBelanjaSetahun Jenis.Kelamin.1 Profesi.1 Tipe.Residen.1\n",
              "1  9497927            1               5         2             \n",
              "2  2722700            2               3         1             \n",
              "3  5286429            1               4         1             \n",
              "4  5204498            1               4         1             \n",
              "5 10615206            2               5         1             "
            ]
          },
          "metadata": {},
          "output_type": "display_data"
        }
      ],
      "source": [
        "# Silahkan coba disini\n",
        "# Penggabungan data\n",
        "pelanggan <- data.frame(pelanggan, pelanggan_matrix)\n",
        "# Tampilkan kembali data hasil penggabungan\n",
        "head(pelanggan, 5)"
      ]
    },
    {
      "cell_type": "markdown",
      "metadata": {
        "id": "G041B_Yy1mCX"
      },
      "source": [
        "Melakukan normalisasi data agar menghilang ambiguitas dan membuat data lebih sederhana dan mudah dicerna, namun tidak mengurangi akurasi. Apalagi Ketika kolom ini digunakan tanpa normalisasi untuk clustering, perhitungan sum of squared errors akan menjadi sangat besar. Ada beragam bentuk normalisasi, sebagai contoh:\n",
        "1. Simple Feature Scaling (membagi setiap nilai dengan nilai maksimum pada fitur tersebut, sehingga nilai akan berkisar antara 0 dan 1)\n",
        "2. Min-Max (setiap nilai pada sebuah fitur dikurangi dengan nilai minimum fitur tersebut, kemudian dibagi dengan rentang nilai atau nilai maksimum dikurangi nilai minimum dari fitur tersebut)\n",
        "3. Z-score (masing-masing nilai pada fitur dikurangi dengan miu (µ) yang merupakan nilai rata-rata fitur, kemudian dibagi dengan sigma (σ) yang merupakan standar deviasi)\n",
        "4. Scaling Data (melakukan pembagian/perkalian data agar data bisa memiliki nilai yang sama)\n",
        "\n",
        "dan sebagainya! \n",
        "\n",
        "```r\n",
        "#Normalisasi Nilai\n",
        "pelanggan$NilaiBelanjaSetahun <- pelanggan$NilaiBelanjaSetahun/1000000\n",
        "head(pelanggan, 5)\n",
        "```\n",
        "\n"
      ]
    },
    {
      "cell_type": "code",
      "execution_count": null,
      "metadata": {
        "colab": {
          "base_uri": "https://localhost:8080/",
          "height": 292
        },
        "id": "k9tkg4gq4DI0",
        "outputId": "77d5c166-be0d-44fa-81cc-c3039d4192d3",
        "vscode": {
          "languageId": "r"
        }
      },
      "outputs": [
        {
          "data": {
            "text/html": [
              "<table class=\"dataframe\">\n",
              "<caption>A data.frame: 5 × 10</caption>\n",
              "<thead>\n",
              "\t<tr><th></th><th scope=col>Customer_ID</th><th scope=col>Nama.Pelanggan</th><th scope=col>Jenis.Kelamin</th><th scope=col>Umur</th><th scope=col>Profesi</th><th scope=col>Tipe.Residen</th><th scope=col>NilaiBelanjaSetahun</th><th scope=col>Jenis.Kelamin.1</th><th scope=col>Profesi.1</th><th scope=col>Tipe.Residen.1</th></tr>\n",
              "\t<tr><th></th><th scope=col>&lt;chr&gt;</th><th scope=col>&lt;chr&gt;</th><th scope=col>&lt;chr&gt;</th><th scope=col>&lt;int&gt;</th><th scope=col>&lt;chr&gt;</th><th scope=col>&lt;chr&gt;</th><th scope=col>&lt;dbl&gt;</th><th scope=col>&lt;int&gt;</th><th scope=col>&lt;int&gt;</th><th scope=col>&lt;int&gt;</th></tr>\n",
              "</thead>\n",
              "<tbody>\n",
              "\t<tr><th scope=row>1</th><td>CUST-001</td><td>Budi Anggara       </td><td>Pria  </td><td>58</td><td>Wiraswasta  </td><td>Sector </td><td> 9.497927</td><td>1</td><td>5</td><td>2</td></tr>\n",
              "\t<tr><th scope=row>2</th><td>CUST-002</td><td>Shirley Ratuwati   </td><td>Wanita</td><td>14</td><td>Pelajar     </td><td>Cluster</td><td> 2.722700</td><td>2</td><td>3</td><td>1</td></tr>\n",
              "\t<tr><th scope=row>3</th><td>CUST-003</td><td>Agus Cahyono       </td><td>Pria  </td><td>48</td><td>Professional</td><td>Cluster</td><td> 5.286429</td><td>1</td><td>4</td><td>1</td></tr>\n",
              "\t<tr><th scope=row>4</th><td>CUST-004</td><td>Antonius Winarta   </td><td>Pria  </td><td>53</td><td>Professional</td><td>Cluster</td><td> 5.204498</td><td>1</td><td>4</td><td>1</td></tr>\n",
              "\t<tr><th scope=row>5</th><td>CUST-005</td><td>Ibu Sri Wahyuni, IR</td><td>Wanita</td><td>41</td><td>Wiraswasta  </td><td>Cluster</td><td>10.615206</td><td>2</td><td>5</td><td>1</td></tr>\n",
              "</tbody>\n",
              "</table>\n"
            ],
            "text/latex": [
              "A data.frame: 5 × 10\n",
              "\\begin{tabular}{r|llllllllll}\n",
              "  & Customer\\_ID & Nama.Pelanggan & Jenis.Kelamin & Umur & Profesi & Tipe.Residen & NilaiBelanjaSetahun & Jenis.Kelamin.1 & Profesi.1 & Tipe.Residen.1\\\\\n",
              "  & <chr> & <chr> & <chr> & <int> & <chr> & <chr> & <dbl> & <int> & <int> & <int>\\\\\n",
              "\\hline\n",
              "\t1 & CUST-001 & Budi Anggara        & Pria   & 58 & Wiraswasta   & Sector  &  9.497927 & 1 & 5 & 2\\\\\n",
              "\t2 & CUST-002 & Shirley Ratuwati    & Wanita & 14 & Pelajar      & Cluster &  2.722700 & 2 & 3 & 1\\\\\n",
              "\t3 & CUST-003 & Agus Cahyono        & Pria   & 48 & Professional & Cluster &  5.286429 & 1 & 4 & 1\\\\\n",
              "\t4 & CUST-004 & Antonius Winarta    & Pria   & 53 & Professional & Cluster &  5.204498 & 1 & 4 & 1\\\\\n",
              "\t5 & CUST-005 & Ibu Sri Wahyuni, IR & Wanita & 41 & Wiraswasta   & Cluster & 10.615206 & 2 & 5 & 1\\\\\n",
              "\\end{tabular}\n"
            ],
            "text/markdown": [
              "\n",
              "A data.frame: 5 × 10\n",
              "\n",
              "| <!--/--> | Customer_ID &lt;chr&gt; | Nama.Pelanggan &lt;chr&gt; | Jenis.Kelamin &lt;chr&gt; | Umur &lt;int&gt; | Profesi &lt;chr&gt; | Tipe.Residen &lt;chr&gt; | NilaiBelanjaSetahun &lt;dbl&gt; | Jenis.Kelamin.1 &lt;int&gt; | Profesi.1 &lt;int&gt; | Tipe.Residen.1 &lt;int&gt; |\n",
              "|---|---|---|---|---|---|---|---|---|---|---|\n",
              "| 1 | CUST-001 | Budi Anggara        | Pria   | 58 | Wiraswasta   | Sector  |  9.497927 | 1 | 5 | 2 |\n",
              "| 2 | CUST-002 | Shirley Ratuwati    | Wanita | 14 | Pelajar      | Cluster |  2.722700 | 2 | 3 | 1 |\n",
              "| 3 | CUST-003 | Agus Cahyono        | Pria   | 48 | Professional | Cluster |  5.286429 | 1 | 4 | 1 |\n",
              "| 4 | CUST-004 | Antonius Winarta    | Pria   | 53 | Professional | Cluster |  5.204498 | 1 | 4 | 1 |\n",
              "| 5 | CUST-005 | Ibu Sri Wahyuni, IR | Wanita | 41 | Wiraswasta   | Cluster | 10.615206 | 2 | 5 | 1 |\n",
              "\n"
            ],
            "text/plain": [
              "  Customer_ID Nama.Pelanggan      Jenis.Kelamin Umur Profesi      Tipe.Residen\n",
              "1 CUST-001    Budi Anggara        Pria          58   Wiraswasta   Sector      \n",
              "2 CUST-002    Shirley Ratuwati    Wanita        14   Pelajar      Cluster     \n",
              "3 CUST-003    Agus Cahyono        Pria          48   Professional Cluster     \n",
              "4 CUST-004    Antonius Winarta    Pria          53   Professional Cluster     \n",
              "5 CUST-005    Ibu Sri Wahyuni, IR Wanita        41   Wiraswasta   Cluster     \n",
              "  NilaiBelanjaSetahun Jenis.Kelamin.1 Profesi.1 Tipe.Residen.1\n",
              "1  9.497927           1               5         2             \n",
              "2  2.722700           2               3         1             \n",
              "3  5.286429           1               4         1             \n",
              "4  5.204498           1               4         1             \n",
              "5 10.615206           2               5         1             "
            ]
          },
          "metadata": {},
          "output_type": "display_data"
        }
      ],
      "source": [
        "# Silahkan coba disini\n",
        "pelanggan$NilaiBelanjaSetahun <- pelanggan$NilaiBelanjaSetahun/1000000\n",
        "head(pelanggan, 5)"
      ]
    },
    {
      "cell_type": "markdown",
      "metadata": {
        "id": "tG4FNRLSodTf"
      },
      "source": [
        "Menyiapkan data master yang berisikan daftar data kategori dan hasil konversinya sangat penting untuk dijadikan referensi sehingga nanti ketika ada data baru, kita bisa \"petakan\" menjadi data numerik yang siap digunakan untuk algoritma clustering.\n",
        "\n",
        "```r\n",
        "#Mengisi data master\n",
        "Profesi <- unique(pelanggan[c(\"Profesi\", \"Profesi.1\")])\n",
        "Jenis.Kelamin <- unique(pelanggan[c(\"Jenis.Kelamin\", \"Jenis.Kelamin.1\")])\n",
        "Tipe.Residen <- unique(pelanggan[c(\"Tipe.Residen\", \"Tipe.Residen.1\")])\n",
        "\n",
        "# Tampilkan hasil data master\n",
        "Profesi\n",
        "Jenis.Kelamin\n",
        "Tipe.Residen\n",
        "```\n",
        "\n",
        "Hal ini berguna apabila kita akan melakukan review list data label yang kita gunakan atau dikenal **dummy variables** yang mana data numerik mempresentasikan data kategori."
      ]
    },
    {
      "cell_type": "code",
      "execution_count": null,
      "metadata": {
        "colab": {
          "base_uri": "https://localhost:8080/",
          "height": 542
        },
        "id": "nmc4uPhR0VRa",
        "outputId": "63f04510-b15b-4e9c-de68-6a761e44555e",
        "vscode": {
          "languageId": "r"
        }
      },
      "outputs": [
        {
          "data": {
            "text/html": [
              "<table class=\"dataframe\">\n",
              "<caption>A data.frame: 5 × 2</caption>\n",
              "<thead>\n",
              "\t<tr><th></th><th scope=col>Profesi</th><th scope=col>Profesi.1</th></tr>\n",
              "\t<tr><th></th><th scope=col>&lt;chr&gt;</th><th scope=col>&lt;int&gt;</th></tr>\n",
              "</thead>\n",
              "<tbody>\n",
              "\t<tr><th scope=row>1</th><td>Wiraswasta      </td><td>5</td></tr>\n",
              "\t<tr><th scope=row>2</th><td>Pelajar         </td><td>3</td></tr>\n",
              "\t<tr><th scope=row>3</th><td>Professional    </td><td>4</td></tr>\n",
              "\t<tr><th scope=row>17</th><td>Ibu Rumah Tangga</td><td>1</td></tr>\n",
              "\t<tr><th scope=row>31</th><td>Mahasiswa       </td><td>2</td></tr>\n",
              "</tbody>\n",
              "</table>\n"
            ],
            "text/latex": [
              "A data.frame: 5 × 2\n",
              "\\begin{tabular}{r|ll}\n",
              "  & Profesi & Profesi.1\\\\\n",
              "  & <chr> & <int>\\\\\n",
              "\\hline\n",
              "\t1 & Wiraswasta       & 5\\\\\n",
              "\t2 & Pelajar          & 3\\\\\n",
              "\t3 & Professional     & 4\\\\\n",
              "\t17 & Ibu Rumah Tangga & 1\\\\\n",
              "\t31 & Mahasiswa        & 2\\\\\n",
              "\\end{tabular}\n"
            ],
            "text/markdown": [
              "\n",
              "A data.frame: 5 × 2\n",
              "\n",
              "| <!--/--> | Profesi &lt;chr&gt; | Profesi.1 &lt;int&gt; |\n",
              "|---|---|---|\n",
              "| 1 | Wiraswasta       | 5 |\n",
              "| 2 | Pelajar          | 3 |\n",
              "| 3 | Professional     | 4 |\n",
              "| 17 | Ibu Rumah Tangga | 1 |\n",
              "| 31 | Mahasiswa        | 2 |\n",
              "\n"
            ],
            "text/plain": [
              "   Profesi          Profesi.1\n",
              "1  Wiraswasta       5        \n",
              "2  Pelajar          3        \n",
              "3  Professional     4        \n",
              "17 Ibu Rumah Tangga 1        \n",
              "31 Mahasiswa        2        "
            ]
          },
          "metadata": {},
          "output_type": "display_data"
        },
        {
          "data": {
            "text/html": [
              "<table class=\"dataframe\">\n",
              "<caption>A data.frame: 2 × 2</caption>\n",
              "<thead>\n",
              "\t<tr><th></th><th scope=col>Jenis.Kelamin</th><th scope=col>Jenis.Kelamin.1</th></tr>\n",
              "\t<tr><th></th><th scope=col>&lt;chr&gt;</th><th scope=col>&lt;int&gt;</th></tr>\n",
              "</thead>\n",
              "<tbody>\n",
              "\t<tr><th scope=row>1</th><td>Pria  </td><td>1</td></tr>\n",
              "\t<tr><th scope=row>2</th><td>Wanita</td><td>2</td></tr>\n",
              "</tbody>\n",
              "</table>\n"
            ],
            "text/latex": [
              "A data.frame: 2 × 2\n",
              "\\begin{tabular}{r|ll}\n",
              "  & Jenis.Kelamin & Jenis.Kelamin.1\\\\\n",
              "  & <chr> & <int>\\\\\n",
              "\\hline\n",
              "\t1 & Pria   & 1\\\\\n",
              "\t2 & Wanita & 2\\\\\n",
              "\\end{tabular}\n"
            ],
            "text/markdown": [
              "\n",
              "A data.frame: 2 × 2\n",
              "\n",
              "| <!--/--> | Jenis.Kelamin &lt;chr&gt; | Jenis.Kelamin.1 &lt;int&gt; |\n",
              "|---|---|---|\n",
              "| 1 | Pria   | 1 |\n",
              "| 2 | Wanita | 2 |\n",
              "\n"
            ],
            "text/plain": [
              "  Jenis.Kelamin Jenis.Kelamin.1\n",
              "1 Pria          1              \n",
              "2 Wanita        2              "
            ]
          },
          "metadata": {},
          "output_type": "display_data"
        },
        {
          "data": {
            "text/html": [
              "<table class=\"dataframe\">\n",
              "<caption>A data.frame: 2 × 2</caption>\n",
              "<thead>\n",
              "\t<tr><th></th><th scope=col>Tipe.Residen</th><th scope=col>Tipe.Residen.1</th></tr>\n",
              "\t<tr><th></th><th scope=col>&lt;chr&gt;</th><th scope=col>&lt;int&gt;</th></tr>\n",
              "</thead>\n",
              "<tbody>\n",
              "\t<tr><th scope=row>1</th><td>Sector </td><td>2</td></tr>\n",
              "\t<tr><th scope=row>2</th><td>Cluster</td><td>1</td></tr>\n",
              "</tbody>\n",
              "</table>\n"
            ],
            "text/latex": [
              "A data.frame: 2 × 2\n",
              "\\begin{tabular}{r|ll}\n",
              "  & Tipe.Residen & Tipe.Residen.1\\\\\n",
              "  & <chr> & <int>\\\\\n",
              "\\hline\n",
              "\t1 & Sector  & 2\\\\\n",
              "\t2 & Cluster & 1\\\\\n",
              "\\end{tabular}\n"
            ],
            "text/markdown": [
              "\n",
              "A data.frame: 2 × 2\n",
              "\n",
              "| <!--/--> | Tipe.Residen &lt;chr&gt; | Tipe.Residen.1 &lt;int&gt; |\n",
              "|---|---|---|\n",
              "| 1 | Sector  | 2 |\n",
              "| 2 | Cluster | 1 |\n",
              "\n"
            ],
            "text/plain": [
              "  Tipe.Residen Tipe.Residen.1\n",
              "1 Sector       2             \n",
              "2 Cluster      1             "
            ]
          },
          "metadata": {},
          "output_type": "display_data"
        }
      ],
      "source": [
        "# Silahkan coba disini\n",
        "# Mengisi data master\n",
        "Profesi <- unique(pelanggan[c(\"Profesi\", \"Profesi.1\")])\n",
        "Jenis.Kelamin <- unique(pelanggan[c(\"Jenis.Kelamin\", \"Jenis.Kelamin.1\")])\n",
        "Tipe.Residen <- unique(pelanggan[c(\"Tipe.Residen\", \"Tipe.Residen.1\")])\n",
        "\n",
        "# Tampilkan hasil data master\n",
        "Profesi\n",
        "Jenis.Kelamin\n",
        "Tipe.Residen"
      ]
    }
  ],
  "metadata": {
    "colab": {
      "collapsed_sections": [],
      "name": "day2proa-segpro.ipynb",
      "provenance": []
    },
    "kernelspec": {
      "display_name": "R",
      "name": "ir"
    },
    "language_info": {
      "name": "R"
    }
  },
  "nbformat": 4,
  "nbformat_minor": 0
}
