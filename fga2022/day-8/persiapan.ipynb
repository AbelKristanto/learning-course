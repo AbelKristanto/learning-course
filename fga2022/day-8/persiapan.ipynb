{
 "cells": [
  {
   "cell_type": "markdown",
   "metadata": {
    "id": "-sZbtqqDmMfo"
   },
   "source": [
    "## Tahapan Persiapan\n",
    "\n",
    "Pandas (Python for Data Analysis) adalah library Python yang fokus untuk proses analisis data seperti manipulasi data, persiapan data, dan pembersihan data. Adapun yang akan function yang kita gunakan diantaranya:\n",
    "\n",
    "1. **read_csv()** digunakan untuk membaca file csv\n",
    "2. **shape** digunakan untuk menampilkan tuple jumlah baris dan kolom (dimensionality)\n",
    "3. **head()** digunakan untuk menampilkan data teratas\n",
    "4. **tail()** digunakan untuk menampilkan data terbawah\n",
    "5. **nunique()** digunakan untuk menampilkan total data yang unik\n",
    "6. **unique()** digunakan untuk menampilkan data yang unik\n",
    "\n",
    "```python\n",
    "# Memanggil data yang digunakan\n",
    "df_load = pd.read_csv('https://storage.googleapis.com/dqlab-dataset/dqlab_telco.csv')\n",
    "print(\"Ini merupakan dimensional data:\", df_load.shape)\n",
    "print(\"Ini merupakan total data unik dari ID:\", df_load.customerID.nunique())\n",
    "print(\"Ini merupakan data unik dari Contract:\", df_load.Contract.unique())\n",
    "print(\"Ini merupakan data teratas:\")\n",
    "df_load.head()\n",
    "```\n"
   ]
  },
  {
   "cell_type": "code",
   "execution_count": null,
   "metadata": {
    "id": "pjaobVkCrfpS"
   },
   "outputs": [],
   "source": [
    "# Silahkan coba disini\n",
    "\n"
   ]
  }
 ],
 "metadata": {
  "colab": {
   "collapsed_sections": [],
   "name": "day9-telcodatacleansing.ipynb",
   "provenance": []
  },
  "kernelspec": {
   "display_name": "Python 3 (ipykernel)",
   "language": "python",
   "name": "python3"
  },
  "language_info": {
   "codemirror_mode": {
    "name": "ipython",
    "version": 3
   },
   "file_extension": ".py",
   "mimetype": "text/x-python",
   "name": "python",
   "nbconvert_exporter": "python",
   "pygments_lexer": "ipython3",
   "version": "3.8.12"
  },
  "toc": {
   "base_numbering": 1,
   "nav_menu": {},
   "number_sections": true,
   "sideBar": true,
   "skip_h1_title": false,
   "title_cell": "Table of Contents",
   "title_sidebar": "Contents",
   "toc_cell": false,
   "toc_position": {},
   "toc_section_display": true,
   "toc_window_display": true
  }
 },
 "nbformat": 4,
 "nbformat_minor": 1
}
