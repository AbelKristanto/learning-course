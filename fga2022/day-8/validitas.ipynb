{
 "cells": [
  {
   "cell_type": "markdown",
   "metadata": {
    "id": "MSvOCBnbsDTE"
   },
   "source": [
    "## Tahapan Validitas\n",
    "\n",
    "Lakukan filtering data **customerID** dengan kriteria:\n",
    "1. Panjang karakter adalah 11-12.\n",
    "2. Terdiri dari angka Saja, tidak diperbolehkan ada karakter selain angka\n",
    "3. Diawali dengan angka 45 2 digit pertama.\n",
    "\n",
    "Hal diatas dapat dibantu dengan berikut ini:\n",
    "\n",
    "7. **astype()** mengubah tipe data\n",
    "8. **str.match()** digunakan untuk mencocokan dengan karakter tertentu\n",
    "9. **count()** digunakan untuk menghitung masing-masing variable\n",
    "10. **drop()** digunakan untuk menghapus\n",
    "\n",
    "```python\n",
    "# Melakukan filtering data\n",
    "print(\"Hasil jumlah ID Customer sebelum terfiler adalah\", df_load['customerID'].count())\n",
    "# 1 Menyimpan kolom yang valid dengan terlebih dahulu mengubah dalam format string\n",
    "df_load['valid_id'] = df_load['customerID'].astype(str).str.match(r'(45\\d{9,10})')\n",
    "# 2. Menghapus data yang tidak falid\n",
    "df_load = (df_load[df_load['valid_id'] == True]).drop('valid_id', axis = 1)\n",
    "# 3.  Menampilkan data sesudah di filter\n",
    "print('Hasil jumlah ID Customer yang terfilter adalah',df_load['customerID'].count())\n",
    "```"
   ]
  },
  {
   "cell_type": "code",
   "execution_count": null,
   "metadata": {
    "id": "M0EoR8xTrg1F"
   },
   "outputs": [],
   "source": [
    "# Silahkan coba disini\n",
    "\n"
   ]
  },
  {
   "cell_type": "markdown",
   "metadata": {
    "id": "4mJyjwxwuwPW"
   },
   "source": [
    "Lakukan filtering selanjutnya atas duplikasi data yang mana:\n",
    "1. Duplikasi dikarenakan inserting melebihi satu kali dengan nilai yang sama tiap kolomnya\n",
    "2. Duplikasi dikarenakan inserting beda periode pengambilan data\n",
    "\n",
    "Hal diatas dapat dibantu dengan berikut ini:\n",
    "11. **drop_duplicates()** digunakan untuk menghapus data duplicate rows\n",
    "12. **sort_values()** digunakan untuk sort values\n",
    "\n",
    "```python\n",
    "# menghapus duplikat row semua kolom diassess\n",
    "df_load.drop_duplicates()\n",
    "print('Hasil jumlah data yang terfilter adalah',df_load[\"customerID\"].count())\n",
    "\n",
    "# mengurutkan dan hapus berdasarkan ID yang duplikat\n",
    "df_load = df_load.sort_values('UpdatedAt', ascending=False).drop_duplicates('customerID')\n",
    "\n",
    "print('Hasil jumlah ID Customer yang sudah dihilangkan duplikasinya (distinct) adalah',df_load['customerID'].count())\n",
    "```"
   ]
  },
  {
   "cell_type": "code",
   "execution_count": null,
   "metadata": {
    "id": "iFnoeo8QvhOE"
   },
   "outputs": [],
   "source": [
    "# Silahkan coba disini\n",
    "\n"
   ]
  },
  {
   "cell_type": "markdown",
   "metadata": {
    "id": "LFpIv7kIztEt"
   },
   "source": [
    "Jadi pada akhirnya hanya ada berapa data yang valid? dari sebelumnya?"
   ]
  }
 ],
 "metadata": {
  "colab": {
   "collapsed_sections": [],
   "name": "day9-telcodatacleansing.ipynb",
   "provenance": []
  },
  "kernelspec": {
   "display_name": "Python 3 (ipykernel)",
   "language": "python",
   "name": "python3"
  },
  "language_info": {
   "codemirror_mode": {
    "name": "ipython",
    "version": 3
   },
   "file_extension": ".py",
   "mimetype": "text/x-python",
   "name": "python",
   "nbconvert_exporter": "python",
   "pygments_lexer": "ipython3",
   "version": "3.8.12"
  },
  "toc": {
   "base_numbering": 1,
   "nav_menu": {},
   "number_sections": true,
   "sideBar": true,
   "skip_h1_title": false,
   "title_cell": "Table of Contents",
   "title_sidebar": "Contents",
   "toc_cell": false,
   "toc_position": {},
   "toc_section_display": true,
   "toc_window_display": false
  }
 },
 "nbformat": 4,
 "nbformat_minor": 1
}
