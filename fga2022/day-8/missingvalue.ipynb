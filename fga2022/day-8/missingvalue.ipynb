{
 "cells": [
  {
   "cell_type": "markdown",
   "metadata": {
    "id": "cngE2IMZzq5Z"
   },
   "source": [
    "## Tahapan Missing Values\n",
    "\n",
    "Dalam tahapan identifikasi data yang missing, dapat dibantu dengan berikut ini:\n",
    "13. **isnull()** digunakan untuk mendeteksi missing values\n",
    "14. **dropna()** digunakan untuk menghapus missing values\n",
    "\n",
    "Cara termudah menyelesaikan missing values adalah dengan menghapusnya.\n",
    "\n",
    "```python\n",
    "# Menghitung data yang null\n",
    "print('Total missing values data dari kolom Churn',df_load['Churn'].isnull().sum())\n",
    "\n",
    "# Menampilkan grafik data yang null\n",
    "import seaborn as sns\n",
    "sns.heatmap(df_load.isnull(), cbar=False)\n",
    "plt.show()\n",
    "\n",
    "# Melakukan drop data yang null berdasarkan kelas\n",
    "df_load.dropna(subset=['Churn'],inplace=True)\n",
    "print('Total Rows dan kolom Data setelah dihapus data Missing Values adalah',df_load.shape)\n",
    "\n",
    "# Menampilkan setelah drop\n",
    "import seaborn as sns\n",
    "sns.heatmap(df_load.isnull(), cbar=False)\n",
    "plt.show()\n",
    "```\n",
    "\n"
   ]
  },
  {
   "cell_type": "code",
   "execution_count": null,
   "metadata": {
    "id": "Aqzp26-j0rFK"
   },
   "outputs": [],
   "source": [
    "# Silahkan coba disini\n",
    "\n"
   ]
  },
  {
   "cell_type": "markdown",
   "metadata": {
    "id": "DukLfWQg2GM7"
   },
   "source": [
    "Cara lainnya mengatasi missing values adalah melakukan pengisian nilai, disini masih ada komponen yang belum teratasi yakni **Tenure**. Berdasarkan kesepakatan dengan tim bisnis, disimpulkan bahwa:\n",
    "1. Tenure yang memiliki missing values untuk lama berlangganan di isi dengan 11.\n",
    "2. Variable yang bersifat numeric selain Tenure di isi dengan median dari masing-masing variable tersebut.\n",
    "\n",
    "Hal tersebut dapat dibantu dengan:\n",
    "15. **fillna()** digunakan untuk mengisi dengan nilai tertentu\n",
    "\n",
    "\n",
    "```python\n",
    "# Menampilkan informasi data yang missing\n",
    "print('Status Missing Values :',df_load.isnull().values.any())\n",
    "print('\\nJumlah Missing Values masing-masing kolom, adalah:')\n",
    "print(df_load.isnull().sum().sort_values(ascending=False))\n",
    "\n",
    "# 1. Pengisian dengan nilai 11 pada kolom tenure\n",
    "df_load['tenure'].fillna(11, inplace=True)\n",
    "# 2. Pengisian selain Tenure dengan median\n",
    "for col_name in list(['MonthlyCharges','TotalCharges']):\n",
    "\tmedian = df_load[col_name].median()\n",
    "\tdf_load[col_name].fillna(median, inplace=True)\n",
    "\n",
    "# Menampilkan hasil pengolahan data missing\n",
    "print('\\nJumlah Missing Values setelah di imputer datanya, adalah:')\n",
    "print(df_load.isnull().sum().sort_values(ascending=False))\n",
    "\n",
    "# Menampilkan setelah drop\n",
    "import seaborn as sns\n",
    "sns.heatmap(df_load.isnull(), cbar=False)\n",
    "plt.show()\n",
    "```\n",
    "\n"
   ]
  },
  {
   "cell_type": "code",
   "execution_count": null,
   "metadata": {
    "id": "4w_Yv9dc3FiU"
   },
   "outputs": [],
   "source": [
    "# Silahkan coba disini\n",
    "\n"
   ]
  },
  {
   "cell_type": "markdown",
   "metadata": {
    "id": "LOOvi4iP4EjT"
   },
   "source": [
    "Pada akhirnya yang missing values dapat diatasi semua yah!"
   ]
  }
 ],
 "metadata": {
  "colab": {
   "collapsed_sections": [],
   "name": "day9-telcodatacleansing.ipynb",
   "provenance": []
  },
  "kernelspec": {
   "display_name": "Python 3 (ipykernel)",
   "language": "python",
   "name": "python3"
  },
  "language_info": {
   "codemirror_mode": {
    "name": "ipython",
    "version": 3
   },
   "file_extension": ".py",
   "mimetype": "text/x-python",
   "name": "python",
   "nbconvert_exporter": "python",
   "pygments_lexer": "ipython3",
   "version": "3.8.12"
  },
  "toc": {
   "base_numbering": 1,
   "nav_menu": {},
   "number_sections": true,
   "sideBar": true,
   "skip_h1_title": false,
   "title_cell": "Table of Contents",
   "title_sidebar": "Contents",
   "toc_cell": false,
   "toc_position": {},
   "toc_section_display": true,
   "toc_window_display": false
  }
 },
 "nbformat": 4,
 "nbformat_minor": 1
}
