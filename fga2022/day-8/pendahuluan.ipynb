{
 "cells": [
  {
   "cell_type": "markdown",
   "metadata": {
    "id": "rzvIZRPGi_jO"
   },
   "source": [
    "# Pendahuluan\n",
    "\n",
    "Dalam dunia industri tidak heran jika kita sering menjumpai data yang sangat banyak dan terus meningkat seiring berjalannya waktu yang mendorong terjadinya penyimpanan yang cukup besar, namun memiliki satu kekurangan yakni adanya noise, tidak lengkap, dan tidak konsisten karena diperoleh dari berbagai sumber yang berbeda.\n",
    "\n",
    "Pada dasarnya, Data Cleansing adalah proses pengeditan dan peninjauan basis data atau catatan dengan cara menghapusnya dari redundansi dan informasi yang tidak lengkap, tidak akurat atau menyesatkan. Output dari adanya data cleansing adalah:\n",
    "1. Mempermudah memahami data sehingga mempermudah dalam pemilihan teknik dan metode data mining atau machine learning\n",
    "2. Meningkatkan kualitas data sehingga hasil data mining menjadi lebih baik\n",
    "3. Meningkatkan efisiensi dan kemudahan dalam pembentukan model data mining atau machine learning\n",
    "\n",
    "Disini kita akan mencoba menyiapkan data cleansing yang nantinya akan dipergunakan dalam churn analysis. Churn analysis merupakan model prediksi yang tepat untuk menentukan pelanggan akan berhenti berlangganan (churn) atau tidak. Disini kita tidak akan membahas lebih jauh tentang bagaimana membuat pemodelan tersebut, namun lebih jauh dalam mempersiapkan data cleansing sendiri yang terbagi **4 tahapan** atas:\n",
    "\n",
    "1. Cek validitas data \n",
    "2. Cek missing values dan mengatasinya\n",
    "3. Cek outlier values dan mengatasisnya\n",
    "4. Cek standardisasi values dari variable"
   ]
  },
  {
   "cell_type": "markdown",
   "metadata": {
    "id": "g4bdqN6nlfq_"
   },
   "source": [
    "Definisikan **tujuan project**:\n",
    "\n",
    "Menyiapkan data atas validitas, missing values, outlier, dan standardisasinya"
   ]
  },
  {
   "cell_type": "markdown",
   "metadata": {
    "id": "9U3VDAq9m7Oc"
   },
   "source": [
    "Data yang digunakan berisikan informasi berikut ini:\n",
    "\n",
    "**UNIQUE VALUES**\n",
    "1. UpdatedAt: Periode data diambil (date)\n",
    "2. customerID: Indentifikasi konsumen (code)\n",
    "\n",
    "**VARIABLES**\n",
    "3. gender: Jenis kelamin (Male/Female)\n",
    "4. SeniorCitizen: Apakah masyarakat senior? (1, 0)\n",
    "5. Partner: Apakah pelanggan memiliki mitra? (Yes, No)\n",
    "6. Dependents: Apakah memiliki tanggungan? (Yes, No)\n",
    "7. tenure: Berapa bulan masa kerja karyawan (numeric in month)\n",
    "8. PhoneService: Apakah memiliki telepon? (Yes, No)\n",
    "9. MultipleLines: Apakah memiliki beraneka ragam saluran? (Yes, No, No phone service)\n",
    "10. InternetService: Jenis layanan internet yang digunakan? (DSL, Fiber optic, No)\n",
    "11. OnlineSecurity: Apakah memiliki keamanan online? (Yes, No, No internet service)\n",
    "12. OnlineBackup: Apakah memiliki fasilitas backup online? (Yes, No, No internet service)\n",
    "13. DeviceProtection: Apakah memiliki keamanan perangkat? (Yes, No, No internet service)\n",
    "14. TechSupport: Apakah memiliki dukungan teknis? (Yes, No, No internet service)\n",
    "15. StreamingTV: Apakah memiliki TV Streaming? (Yes, No, No internet service)\n",
    "16. StreamingMovies: Apakah memiliki Movie Streaming? (Yes, No, No internet service)\n",
    "17. Contract: Jangka waktu kontrak pelanggan? (Month-to-month, One year, Two year)\n",
    "18. PaperlessBilling: Apakah memiliki penagihan secara paperless? (Yes, No)\n",
    "19. PaymentMethod: Jenis pembayaran yang digunakan? (Electronic check, Mailed check, Bank transfer (automatic), Credit card (automatic))\n",
    "20. MonthlyCharges: Biaya yang dibebankan ke pelanggan bulanan (numeric)\n",
    "21. TotalCharges: Total yang dibebankan ke pelanggan (numeric)\n",
    "\n",
    "**CLASS**\n",
    "22. Churn: Apakah berhenti berlangganan? (Yes or No)\n",
    "\n",
    "**NOTE**: Data yang memiliki unique yang cukup besar, tidak diperlukan dalam feature engineering."
   ]
  },
  {
   "cell_type": "markdown",
   "metadata": {
    "id": "Q8OMDB_3l681"
   },
   "source": [
    "## Pahami Library\n",
    "\n",
    "Disini kita akan mencoba melakukan eksplorasi dari library yang akan digunakan dalam project kali ini, diantaranya **Pandas**, **Matplotlib** dan **Seaborn**.\n",
    "\n",
    "```python\n",
    "# Memanggil library yang digunakan\n",
    "import pandas as pd\n",
    "# ini artinya menampilkan hanya maximum 50 kolom dan 5 baris\n",
    "pd.options.display.max_columns = 50\n",
    "pd.options.display.max_rows = 5\n",
    "\n",
    "import matplotlib.pyplot as plt\n",
    "import seaborn as sns\n",
    "```"
   ]
  },
  {
   "cell_type": "code",
   "execution_count": null,
   "metadata": {
    "id": "QJuG06lUp2Wi"
   },
   "outputs": [],
   "source": [
    "# Silahkan coba disini\n",
    "\n"
   ]
  }
 ],
 "metadata": {
  "colab": {
   "collapsed_sections": [],
   "name": "day9-telcodatacleansing.ipynb",
   "provenance": []
  },
  "kernelspec": {
   "display_name": "Python 3 (ipykernel)",
   "language": "python",
   "name": "python3"
  },
  "language_info": {
   "codemirror_mode": {
    "name": "ipython",
    "version": 3
   },
   "file_extension": ".py",
   "mimetype": "text/x-python",
   "name": "python",
   "nbconvert_exporter": "python",
   "pygments_lexer": "ipython3",
   "version": "3.8.12"
  },
  "toc": {
   "base_numbering": 1,
   "nav_menu": {},
   "number_sections": true,
   "sideBar": true,
   "skip_h1_title": false,
   "title_cell": "Table of Contents",
   "title_sidebar": "Contents",
   "toc_cell": false,
   "toc_position": {},
   "toc_section_display": true,
   "toc_window_display": true
  }
 },
 "nbformat": 4,
 "nbformat_minor": 1
}
