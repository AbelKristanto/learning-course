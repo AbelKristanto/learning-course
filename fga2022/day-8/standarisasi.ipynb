{
 "cells": [
  {
   "cell_type": "markdown",
   "metadata": {
    "id": "fQzmoJ0T7qZe"
   },
   "source": [
    "## Standarisasi Nilai\n",
    "\n",
    "Mendeteksi apakah ada nilai-nilai dari variable kategorik yang tidak standard yang mana disebabkan oleh perbedaan istilah menjadi salah satu faktor yang sering terjadi, untuk itu dibutuhkan standardisasi dari data yang sudah ter-input.\n",
    "\n",
    "Untuk mendukung hal tersebut, kamu dapat menggunakan:\n",
    "21. **value_counts()** digunakan untuk menghitung unik dari kolom\n",
    "22. **replace()** digunakan untuk mengganti nilai\n",
    "\n",
    "```python\n",
    "# Looping untuk liat data\n",
    "for col_name in list(['gender','SeniorCitizen','Partner','Dependents','PhoneService',\n",
    "'MultipleLines','InternetService','OnlineSecurity','OnlineBackup','DeviceProtection','TechSupport',\n",
    "'StreamingTV','StreamingMovies','Contract','PaperlessBilling','PaymentMethod','Churn']):\n",
    "    print('\\nUnique Values Count \\033[1m' + 'Before Standardized \\033[0m Variable',col_name)\n",
    "    print(df_load[col_name].value_counts())\n",
    "```\n",
    "\n"
   ]
  },
  {
   "cell_type": "code",
   "execution_count": null,
   "metadata": {
    "id": "MIm71llz8JAY"
   },
   "outputs": [],
   "source": [
    "# Silahkan coba disini\n",
    "\n"
   ]
  },
  {
   "cell_type": "markdown",
   "metadata": {
    "id": "BOyjeCVR_BiZ"
   },
   "source": [
    "Proses perubahan standardisasi data:\n",
    "```python\n",
    "# Mengubah konten nilai\n",
    "df_load = df_load.replace(['Wanita','Laki-Laki','Churn','Iya'],['Female','Male','Yes','Yes'])\n",
    "for col_name in list(['gender','Dependents','Churn']):\n",
    "\tprint('\\nUnique Values Count \\033[1m' + 'After Standardized \\033[0mVariable',col_name)\n",
    "\tprint(df_load[col_name].value_counts())\n",
    "```"
   ]
  },
  {
   "cell_type": "code",
   "execution_count": null,
   "metadata": {
    "id": "ylt6xRSN_AtV"
   },
   "outputs": [],
   "source": [
    "# Silahkan coba disini\n",
    "\n"
   ]
  },
  {
   "cell_type": "markdown",
   "metadata": {
    "id": "DUmOByTG_HP7"
   },
   "source": [
    "Apakah semua data sudah standar?"
   ]
  }
 ],
 "metadata": {
  "colab": {
   "collapsed_sections": [],
   "name": "day9-telcodatacleansing.ipynb",
   "provenance": []
  },
  "kernelspec": {
   "display_name": "Python 3 (ipykernel)",
   "language": "python",
   "name": "python3"
  },
  "language_info": {
   "codemirror_mode": {
    "name": "ipython",
    "version": 3
   },
   "file_extension": ".py",
   "mimetype": "text/x-python",
   "name": "python",
   "nbconvert_exporter": "python",
   "pygments_lexer": "ipython3",
   "version": "3.8.12"
  },
  "toc": {
   "base_numbering": 1,
   "nav_menu": {},
   "number_sections": true,
   "sideBar": true,
   "skip_h1_title": false,
   "title_cell": "Table of Contents",
   "title_sidebar": "Contents",
   "toc_cell": false,
   "toc_position": {},
   "toc_section_display": true,
   "toc_window_display": false
  }
 },
 "nbformat": 4,
 "nbformat_minor": 1
}
