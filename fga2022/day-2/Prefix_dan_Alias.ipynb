{
  "cells": [
    {
      "cell_type": "markdown",
      "id": "9da91586",
      "metadata": {
        "id": "9da91586"
      },
      "source": [
        "<h1>Prefix dan Alias</h1>\n",
        "\n",
        "Mari kita belajar memahami prefix dan alias yang sebagai berikut ini:\n",
        "1. Prefix, dimana kita akan menambahkan nama tabel di depan nama kolom.\n",
        "2. Alias, dimana kita memberikan alias atau nama lain untuk tabel maupun kolom.\n",
        "\n",
        "Sebagai contoh:\n",
        "\n",
        "```sql\n",
        "SELECT tab.column_name1 AS col1, tab.column_name2 FROM table_name AS tab\n",
        "```\n",
        "\n",
        "Ingat, bahwa:\n",
        "1. Prefix yang tulisan \"tab\"\n",
        "2. Alias yang diawali AS"
      ]
    },
    {
      "cell_type": "markdown",
      "id": "e5abdc0c",
      "metadata": {
        "id": "e5abdc0c"
      },
      "source": [
        "Peraturan dalam penulisan prefix pada nama kolom:\n",
        "\n",
        "```sql\n",
        "SELECT table_name.column_name FROM table_name\n",
        "```"
      ]
    },
    {
      "cell_type": "code",
      "execution_count": null,
      "id": "fe63df18",
      "metadata": {
        "ExecuteTime": {
          "end_time": "2022-03-20T12:21:49.308133Z",
          "start_time": "2022-03-20T12:21:48.967742Z"
        },
        "id": "fe63df18",
        "outputId": "579d2b92-bd23-457b-d688-da532168ceb6"
      },
      "outputs": [
        {
          "data": {
            "text/html": [
              "<div>\n",
              "<style scoped>\n",
              "    .dataframe tbody tr th:only-of-type {\n",
              "        vertical-align: middle;\n",
              "    }\n",
              "\n",
              "    .dataframe tbody tr th {\n",
              "        vertical-align: top;\n",
              "    }\n",
              "\n",
              "    .dataframe thead th {\n",
              "        text-align: right;\n",
              "    }\n",
              "</style>\n",
              "<table border=\"1\" class=\"dataframe\">\n",
              "  <thead>\n",
              "    <tr style=\"text-align: right;\">\n",
              "      <th></th>\n",
              "      <th>ship_postal_code</th>\n",
              "    </tr>\n",
              "  </thead>\n",
              "  <tbody>\n",
              "    <tr>\n",
              "      <th>0</th>\n",
              "      <td>51100</td>\n",
              "    </tr>\n",
              "    <tr>\n",
              "      <th>1</th>\n",
              "      <td>44087</td>\n",
              "    </tr>\n",
              "    <tr>\n",
              "      <th>2</th>\n",
              "      <td>05454-876</td>\n",
              "    </tr>\n",
              "    <tr>\n",
              "      <th>3</th>\n",
              "      <td>69004</td>\n",
              "    </tr>\n",
              "    <tr>\n",
              "      <th>4</th>\n",
              "      <td>B-6000</td>\n",
              "    </tr>\n",
              "  </tbody>\n",
              "</table>\n",
              "</div>"
            ],
            "text/plain": [
              "  ship_postal_code\n",
              "0            51100\n",
              "1            44087\n",
              "2        05454-876\n",
              "3            69004\n",
              "4           B-6000"
            ]
          },
          "execution_count": 17,
          "metadata": {},
          "output_type": "execute_result"
        }
      ],
      "source": [
        "# prefix\n",
        "sql('SELECT orders.ship_postal_code FROM orders LIMIT 5;')"
      ]
    },
    {
      "cell_type": "markdown",
      "id": "0dc99b09",
      "metadata": {
        "id": "0dc99b09"
      },
      "source": [
        "Peraturan dalam penulisan alias:\n",
        "\n",
        "```sql\n",
        "SELECT column_name AS column_1 FROM table_name\n",
        "```"
      ]
    },
    {
      "cell_type": "code",
      "execution_count": null,
      "id": "dc546469",
      "metadata": {
        "ExecuteTime": {
          "end_time": "2022-03-20T12:23:43.180621Z",
          "start_time": "2022-03-20T12:23:42.826527Z"
        },
        "id": "dc546469",
        "outputId": "a88b3960-65a6-49ae-a5d5-243127853ce4"
      },
      "outputs": [
        {
          "data": {
            "text/html": [
              "<div>\n",
              "<style scoped>\n",
              "    .dataframe tbody tr th:only-of-type {\n",
              "        vertical-align: middle;\n",
              "    }\n",
              "\n",
              "    .dataframe tbody tr th {\n",
              "        vertical-align: top;\n",
              "    }\n",
              "\n",
              "    .dataframe thead th {\n",
              "        text-align: right;\n",
              "    }\n",
              "</style>\n",
              "<table border=\"1\" class=\"dataframe\">\n",
              "  <thead>\n",
              "    <tr style=\"text-align: right;\">\n",
              "      <th></th>\n",
              "      <th>postal</th>\n",
              "    </tr>\n",
              "  </thead>\n",
              "  <tbody>\n",
              "    <tr>\n",
              "      <th>0</th>\n",
              "      <td>51100</td>\n",
              "    </tr>\n",
              "    <tr>\n",
              "      <th>1</th>\n",
              "      <td>44087</td>\n",
              "    </tr>\n",
              "    <tr>\n",
              "      <th>2</th>\n",
              "      <td>05454-876</td>\n",
              "    </tr>\n",
              "    <tr>\n",
              "      <th>3</th>\n",
              "      <td>69004</td>\n",
              "    </tr>\n",
              "    <tr>\n",
              "      <th>4</th>\n",
              "      <td>B-6000</td>\n",
              "    </tr>\n",
              "  </tbody>\n",
              "</table>\n",
              "</div>"
            ],
            "text/plain": [
              "      postal\n",
              "0      51100\n",
              "1      44087\n",
              "2  05454-876\n",
              "3      69004\n",
              "4     B-6000"
            ]
          },
          "execution_count": 18,
          "metadata": {},
          "output_type": "execute_result"
        }
      ],
      "source": [
        "# alias\n",
        "sql('SELECT ship_postal_code AS postal FROM orders LIMIT 5;')"
      ]
    },
    {
      "cell_type": "markdown",
      "id": "537cc145",
      "metadata": {
        "id": "537cc145"
      },
      "source": [
        "Selalu ada cara mengatasi AS dengan menghilangkan tulisan AS, sebagai berikut ini:\n",
        "\n",
        "```sql\n",
        "SELECT column_name column_1 FROM table_name\n",
        "```"
      ]
    },
    {
      "cell_type": "code",
      "execution_count": null,
      "id": "b452656b",
      "metadata": {
        "ExecuteTime": {
          "end_time": "2022-03-20T12:25:39.257341Z",
          "start_time": "2022-03-20T12:25:38.928997Z"
        },
        "id": "b452656b",
        "outputId": "6f8c599b-10fc-4cdc-8fad-7854b2a4d927"
      },
      "outputs": [
        {
          "data": {
            "text/html": [
              "<div>\n",
              "<style scoped>\n",
              "    .dataframe tbody tr th:only-of-type {\n",
              "        vertical-align: middle;\n",
              "    }\n",
              "\n",
              "    .dataframe tbody tr th {\n",
              "        vertical-align: top;\n",
              "    }\n",
              "\n",
              "    .dataframe thead th {\n",
              "        text-align: right;\n",
              "    }\n",
              "</style>\n",
              "<table border=\"1\" class=\"dataframe\">\n",
              "  <thead>\n",
              "    <tr style=\"text-align: right;\">\n",
              "      <th></th>\n",
              "      <th>postal</th>\n",
              "    </tr>\n",
              "  </thead>\n",
              "  <tbody>\n",
              "    <tr>\n",
              "      <th>0</th>\n",
              "      <td>51100</td>\n",
              "    </tr>\n",
              "    <tr>\n",
              "      <th>1</th>\n",
              "      <td>44087</td>\n",
              "    </tr>\n",
              "    <tr>\n",
              "      <th>2</th>\n",
              "      <td>05454-876</td>\n",
              "    </tr>\n",
              "    <tr>\n",
              "      <th>3</th>\n",
              "      <td>69004</td>\n",
              "    </tr>\n",
              "    <tr>\n",
              "      <th>4</th>\n",
              "      <td>B-6000</td>\n",
              "    </tr>\n",
              "  </tbody>\n",
              "</table>\n",
              "</div>"
            ],
            "text/plain": [
              "      postal\n",
              "0      51100\n",
              "1      44087\n",
              "2  05454-876\n",
              "3      69004\n",
              "4     B-6000"
            ]
          },
          "execution_count": 19,
          "metadata": {},
          "output_type": "execute_result"
        }
      ],
      "source": [
        "# alias\n",
        "sql('SELECT ship_postal_code postal FROM orders LIMIT 5;')"
      ]
    },
    {
      "cell_type": "markdown",
      "id": "cbba0b2e",
      "metadata": {
        "id": "cbba0b2e"
      },
      "source": [
        "Apakah hasil ini?\n",
        "\n",
        "```sql\n",
        "SELECT * AS column_1 FROM table_name\n",
        "```"
      ]
    },
    {
      "cell_type": "code",
      "execution_count": null,
      "id": "da586585",
      "metadata": {
        "id": "da586585"
      },
      "outputs": [],
      "source": [
        "# Tulis disini ya! \n",
        "\n",
        "\n",
        "\n",
        "\n",
        "\n",
        "\n"
      ]
    },
    {
      "cell_type": "markdown",
      "id": "b0f71e96",
      "metadata": {
        "id": "b0f71e96"
      },
      "source": [
        "Peraturan dalam penggabungan prefix dan alias\n",
        "\n",
        "```sql\n",
        "SELECT table_name.column_name AS col1 FROM table_name\n",
        "```"
      ]
    },
    {
      "cell_type": "code",
      "execution_count": null,
      "id": "93231fcd",
      "metadata": {
        "ExecuteTime": {
          "end_time": "2022-03-20T12:28:36.463727Z",
          "start_time": "2022-03-20T12:28:36.040098Z"
        },
        "id": "93231fcd",
        "outputId": "54667c0f-08dc-483d-9f43-b8920e63bc5e"
      },
      "outputs": [
        {
          "data": {
            "text/html": [
              "<div>\n",
              "<style scoped>\n",
              "    .dataframe tbody tr th:only-of-type {\n",
              "        vertical-align: middle;\n",
              "    }\n",
              "\n",
              "    .dataframe tbody tr th {\n",
              "        vertical-align: top;\n",
              "    }\n",
              "\n",
              "    .dataframe thead th {\n",
              "        text-align: right;\n",
              "    }\n",
              "</style>\n",
              "<table border=\"1\" class=\"dataframe\">\n",
              "  <thead>\n",
              "    <tr style=\"text-align: right;\">\n",
              "      <th></th>\n",
              "      <th>postal</th>\n",
              "    </tr>\n",
              "  </thead>\n",
              "  <tbody>\n",
              "    <tr>\n",
              "      <th>0</th>\n",
              "      <td>51100</td>\n",
              "    </tr>\n",
              "    <tr>\n",
              "      <th>1</th>\n",
              "      <td>44087</td>\n",
              "    </tr>\n",
              "    <tr>\n",
              "      <th>2</th>\n",
              "      <td>05454-876</td>\n",
              "    </tr>\n",
              "    <tr>\n",
              "      <th>3</th>\n",
              "      <td>69004</td>\n",
              "    </tr>\n",
              "    <tr>\n",
              "      <th>4</th>\n",
              "      <td>B-6000</td>\n",
              "    </tr>\n",
              "  </tbody>\n",
              "</table>\n",
              "</div>"
            ],
            "text/plain": [
              "      postal\n",
              "0      51100\n",
              "1      44087\n",
              "2  05454-876\n",
              "3      69004\n",
              "4     B-6000"
            ]
          },
          "execution_count": 20,
          "metadata": {},
          "output_type": "execute_result"
        }
      ],
      "source": [
        "# prefix dan alias\n",
        "sql('SELECT orders.ship_postal_code AS postal FROM orders LIMIT 5;')"
      ]
    },
    {
      "cell_type": "markdown",
      "id": "33e2e574",
      "metadata": {
        "id": "33e2e574"
      },
      "source": [
        "Peraturan perubahan alias tabel\n",
        "\n",
        "```sql\n",
        "SELECT column_name FROM table_name AS tab1 \n",
        "```"
      ]
    },
    {
      "cell_type": "code",
      "execution_count": null,
      "id": "46a21068",
      "metadata": {
        "ExecuteTime": {
          "end_time": "2022-03-20T12:30:28.586924Z",
          "start_time": "2022-03-20T12:30:28.176988Z"
        },
        "id": "46a21068",
        "outputId": "c93e0dad-931b-42ca-a3b2-ddd5a3902ae8"
      },
      "outputs": [
        {
          "data": {
            "text/html": [
              "<div>\n",
              "<style scoped>\n",
              "    .dataframe tbody tr th:only-of-type {\n",
              "        vertical-align: middle;\n",
              "    }\n",
              "\n",
              "    .dataframe tbody tr th {\n",
              "        vertical-align: top;\n",
              "    }\n",
              "\n",
              "    .dataframe thead th {\n",
              "        text-align: right;\n",
              "    }\n",
              "</style>\n",
              "<table border=\"1\" class=\"dataframe\">\n",
              "  <thead>\n",
              "    <tr style=\"text-align: right;\">\n",
              "      <th></th>\n",
              "      <th>ship_postal_code</th>\n",
              "    </tr>\n",
              "  </thead>\n",
              "  <tbody>\n",
              "    <tr>\n",
              "      <th>0</th>\n",
              "      <td>51100</td>\n",
              "    </tr>\n",
              "    <tr>\n",
              "      <th>1</th>\n",
              "      <td>44087</td>\n",
              "    </tr>\n",
              "    <tr>\n",
              "      <th>2</th>\n",
              "      <td>05454-876</td>\n",
              "    </tr>\n",
              "    <tr>\n",
              "      <th>3</th>\n",
              "      <td>69004</td>\n",
              "    </tr>\n",
              "    <tr>\n",
              "      <th>4</th>\n",
              "      <td>B-6000</td>\n",
              "    </tr>\n",
              "  </tbody>\n",
              "</table>\n",
              "</div>"
            ],
            "text/plain": [
              "  ship_postal_code\n",
              "0            51100\n",
              "1            44087\n",
              "2        05454-876\n",
              "3            69004\n",
              "4           B-6000"
            ]
          },
          "execution_count": 22,
          "metadata": {},
          "output_type": "execute_result"
        }
      ],
      "source": [
        "# table1\n",
        "sql('SELECT t1.ship_postal_code FROM orders AS t1 LIMIT 5;')"
      ]
    },
    {
      "cell_type": "markdown",
      "id": "7b5c0d63",
      "metadata": {
        "id": "7b5c0d63"
      },
      "source": [
        "Peraturan perubahan alias tabel dan column\n",
        "\n",
        "```sql\n",
        "SELECT tab1.column_name AS col1 FROM table_name AS tab1 \n",
        "```"
      ]
    },
    {
      "cell_type": "code",
      "execution_count": null,
      "id": "27d96f6a",
      "metadata": {
        "ExecuteTime": {
          "end_time": "2022-03-20T12:31:38.951721Z",
          "start_time": "2022-03-20T12:31:38.458126Z"
        },
        "id": "27d96f6a",
        "outputId": "cc17b108-2be6-4410-d984-d9e8d272fbaa"
      },
      "outputs": [
        {
          "data": {
            "text/html": [
              "<div>\n",
              "<style scoped>\n",
              "    .dataframe tbody tr th:only-of-type {\n",
              "        vertical-align: middle;\n",
              "    }\n",
              "\n",
              "    .dataframe tbody tr th {\n",
              "        vertical-align: top;\n",
              "    }\n",
              "\n",
              "    .dataframe thead th {\n",
              "        text-align: right;\n",
              "    }\n",
              "</style>\n",
              "<table border=\"1\" class=\"dataframe\">\n",
              "  <thead>\n",
              "    <tr style=\"text-align: right;\">\n",
              "      <th></th>\n",
              "      <th>postal</th>\n",
              "    </tr>\n",
              "  </thead>\n",
              "  <tbody>\n",
              "    <tr>\n",
              "      <th>0</th>\n",
              "      <td>51100</td>\n",
              "    </tr>\n",
              "    <tr>\n",
              "      <th>1</th>\n",
              "      <td>44087</td>\n",
              "    </tr>\n",
              "    <tr>\n",
              "      <th>2</th>\n",
              "      <td>05454-876</td>\n",
              "    </tr>\n",
              "    <tr>\n",
              "      <th>3</th>\n",
              "      <td>69004</td>\n",
              "    </tr>\n",
              "    <tr>\n",
              "      <th>4</th>\n",
              "      <td>B-6000</td>\n",
              "    </tr>\n",
              "  </tbody>\n",
              "</table>\n",
              "</div>"
            ],
            "text/plain": [
              "      postal\n",
              "0      51100\n",
              "1      44087\n",
              "2  05454-876\n",
              "3      69004\n",
              "4     B-6000"
            ]
          },
          "execution_count": 23,
          "metadata": {},
          "output_type": "execute_result"
        }
      ],
      "source": [
        "sql('SELECT t1.ship_postal_code AS postal FROM orders AS t1 LIMIT 5;')"
      ]
    },
    {
      "cell_type": "markdown",
      "id": "b21259e4",
      "metadata": {
        "id": "b21259e4"
      },
      "source": [
        "**Kesimpulan**\n",
        "\n",
        "1. Penulisan lengkap untuk nama kolom adalah prefix berupa nama tabel disertai tanda titik sebelum nama kolom itu sendiri.\n",
        "2. Alias adalah nama lain yang diberikan untuk kolom maupun tabel.\n",
        "3. Alias dapat digunakan dengan keyword AS atau tanpa keyword AS setelah nama kolom dan tabel.\n",
        "4. Prefix nama tabel bisa menggunakan alias."
      ]
    }
  ],
  "metadata": {
    "kernelspec": {
      "display_name": "Python 3 (ipykernel)",
      "language": "python",
      "name": "python3"
    },
    "language_info": {
      "codemirror_mode": {
        "name": "ipython",
        "version": 3
      },
      "file_extension": ".py",
      "mimetype": "text/x-python",
      "name": "python",
      "nbconvert_exporter": "python",
      "pygments_lexer": "ipython3",
      "version": "3.8.12"
    },
    "toc": {
      "base_numbering": 1,
      "nav_menu": {},
      "number_sections": true,
      "sideBar": true,
      "skip_h1_title": false,
      "title_cell": "Table of Contents",
      "title_sidebar": "Contents",
      "toc_cell": false,
      "toc_position": {},
      "toc_section_display": true,
      "toc_window_display": false
    },
    "colab": {
      "name": "Prefix-dan-Alias.ipynb",
      "provenance": [],
      "collapsed_sections": []
    }
  },
  "nbformat": 4,
  "nbformat_minor": 5
}