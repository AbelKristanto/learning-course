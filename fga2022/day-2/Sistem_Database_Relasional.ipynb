{
  "cells": [
    {
      "cell_type": "markdown",
      "id": "9d0ccb0f",
      "metadata": {
        "id": "9d0ccb0f"
      },
      "source": [
        "<h1>Sistem Database Relasional</h1>\n",
        "<p>Di bagian ini kita akan membahas tentang RDBMS itu sendiri</p>\n",
        "\n",
        "RDBMS berarti **R**elational **D**atabase **M**anagement **S**ystem untuk Membuat, Memperbarui, dan Mengelola suatu basis data relasional (Relational Database). SQL berguna untuk mengakses data tersebut"
      ]
    },
    {
      "cell_type": "markdown",
      "id": "43fb5b78",
      "metadata": {
        "id": "43fb5b78"
      },
      "source": [
        "Basis data relasional sendiri merupakan suatu jenis database dimana data – data umumnya disimpan dalam bentuk yang terstruktur berupa tabel (baris dan kolom) dan setiap tabel/ data yang terdapat dalam database memiliki relasi (relational) satu sama lain. Hal ini menunjukan bahwa data dapat dikelola, scalable, flexible dalam melakukan analisa.\n",
        "\n",
        "Contoh berikut ini:\n",
        "\n",
        "![image.png](https://drive.google.com/uc?export=view&id=13P-7Pv5EenVZci8w3RXrUMkd77FKD1r2)\n",
        "\n",
        "Ini artinya bahwa:\n",
        "1. Basis data rasional cukup mudah dikelola. Setiap tabel/data dapat diupdate atau dimodifikasi tanpa mengganggu tabel/data yang lain.\n",
        "2. Flexible : jika perlu memperbarui data, hanya perlu melakukannya sekali saja - jadi tidak perlu lagi mengubah banyak file satu per satu. Selain itu, basis data rasional juga cukup mudah untuk di-extend. Misalnya saat data sudah semakin banyak, dapat dengan mudah memperbesar kapasitas dari database yang dimiliki."
      ]
    },
    {
      "cell_type": "markdown",
      "id": "a5986ccd",
      "metadata": {
        "id": "a5986ccd"
      },
      "source": [
        "Produk RDBMS diantaranya:\n",
        "1. MySQL: Open-source SQL database yang cukup populer. Umumnya digunakan untuk pengembangan aplikasi web.\n",
        "2. PostgreSQL: Open-source RDBMS product, dan juga umumnya digunakan untuk pengembangan aplikasi web. Akan tetapi secara kinerja, postgreSQL lebih lambat dibandingkan MySQL.\n",
        "3. Oracle DB: Produk RDBMS yang dimiliki oleh Oracle Corporation dan produk ini bersifat proprietary atau tidak open source. Oracle DB umumnya digunakan di industri perbankan.\n",
        "4. Microsoft SQL Server: SQL Server adalah produk RDBMS yang dimiliki oleh Microsoft dan sama seperti Oracle DB, SQL Server bersifat proprietary atau tidak open source, SQL Server umumnya digunakan di perusahaan skala besar yang juga menggunakan produk keluaran Microsoft lainnya.\n",
        "5. SQLite: Open source RDBMS, umumnya digunakan sebagai database di handphone, MP3 player, and perangkat lainnya.\n",
        "6. Dan masih banyak lagi\n",
        "\n",
        "Namun, setiap produk memiliki ciri khas sendiri-sendiri, sebagai contoh:\n",
        "\n",
        "![image.png](https://drive.google.com/uc?export=view&id=1xkaeKIhWLU4xWJU9T9Grx6kcZEkJn0Yh)"
      ]
    },
    {
      "cell_type": "markdown",
      "id": "fab88e47",
      "metadata": {
        "id": "fab88e47"
      },
      "source": [
        "Struktur penyimpanan RDBMS memiliki hirarki sebagai berikut:\n",
        "1. Database\n",
        "2. Tabel\n",
        "3. Kolom atau field\n",
        "\n",
        "![image.png](https://drive.google.com/uc?export=view&id=13M7eaQ7UXHnkQb5bCgDH0E50OMdc-HqJ)\n",
        "\n",
        "> 1 DATABASE == BEBERAPA TABEL, dan 1 TABEL == BEBERAPA KOLOM dan BARIS. Di setiap database, tabel dan kolom memiliki nama sendiri sebagai identitas mereka."
      ]
    },
    {
      "cell_type": "markdown",
      "id": "f001c08b",
      "metadata": {
        "id": "f001c08b"
      },
      "source": [
        "Contoh penerapan Tabel dan Kolom:\n",
        "\n",
        "![image.png](https://drive.google.com/uc?export=view&id=1TcW1ZdXwfwnJPFMjNNi7GRTjlTRqFCFR)"
      ]
    },
    {
      "cell_type": "markdown",
      "id": "aac28d94",
      "metadata": {
        "id": "aac28d94"
      },
      "source": [
        "**Kesimpulan**\n",
        "\n",
        "1. Sistem relasional database atau relational database management system (RDBMS) adalah sistem database paling populer di dunia saat ini dan menggunakan bahasa SQL untuk pengolahannya.\n",
        "2. Beberapa produk RDBMS yang terkenal antara lain adalah Microsoft SQL Server, Oracle, MySQL, PostgreSQL, IBM DB2, dan masih banyak lainnya.\n",
        "3. Struktur penyimpanan data di RDBMS menggunakan hirarki: Database -> Tabel (Table) -> Kolom (Column)\n",
        "4. Data akan diisi ke dalam table dalam bentuk Baris (Row) data"
      ]
    }
  ],
  "metadata": {
    "kernelspec": {
      "display_name": "Python 3 (ipykernel)",
      "language": "python",
      "name": "python3"
    },
    "language_info": {
      "codemirror_mode": {
        "name": "ipython",
        "version": 3
      },
      "file_extension": ".py",
      "mimetype": "text/x-python",
      "name": "python",
      "nbconvert_exporter": "python",
      "pygments_lexer": "ipython3",
      "version": "3.8.12"
    },
    "toc": {
      "base_numbering": 1,
      "nav_menu": {},
      "number_sections": true,
      "sideBar": true,
      "skip_h1_title": false,
      "title_cell": "Table of Contents",
      "title_sidebar": "Contents",
      "toc_cell": false,
      "toc_position": {},
      "toc_section_display": true,
      "toc_window_display": false
    },
    "colab": {
      "name": "Sistem-Database-Relasional.ipynb",
      "provenance": [],
      "collapsed_sections": []
    }
  },
  "nbformat": 4,
  "nbformat_minor": 5
}