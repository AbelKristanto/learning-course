{
  "cells": [
    {
      "cell_type": "markdown",
      "id": "e8872487",
      "metadata": {
        "id": "e8872487"
      },
      "source": [
        "## Fungsi Text di SQL\n",
        "\n",
        "Disini kita akan mempelajari fungsi dalam text yang mana dapat dituliskan sebagai berikut:\n",
        "\n",
        "![image.png](https://drive.google.com/uc?export=view&id=1h1mBYzcxV6gsJYaV9XNcaQTpzN6k-Y6M)"
      ]
    },
    {
      "cell_type": "markdown",
      "id": "87e510bf",
      "metadata": {
        "id": "87e510bf"
      },
      "source": [
        "Selanjutnya, kita akan mempelajari bagaimana menggunakan CONCAT (Penggabungan dua kolom jadi satu), seperti berikut ini:\n",
        "\n",
        "```sql\n",
        "SELECT CONCAT(column_name1, column_name2)\n",
        "FROM table_name;\n",
        "```"
      ]
    },
    {
      "cell_type": "code",
      "execution_count": null,
      "id": "7d290413",
      "metadata": {
        "ExecuteTime": {
          "end_time": "2022-03-20T13:51:46.355604Z",
          "start_time": "2022-03-20T13:51:46.043677Z"
        },
        "id": "7d290413",
        "outputId": "501fa6bd-976c-4df6-ba62-276d4f6db753"
      },
      "outputs": [
        {
          "data": {
            "text/html": [
              "<div>\n",
              "<style scoped>\n",
              "    .dataframe tbody tr th:only-of-type {\n",
              "        vertical-align: middle;\n",
              "    }\n",
              "\n",
              "    .dataframe tbody tr th {\n",
              "        vertical-align: top;\n",
              "    }\n",
              "\n",
              "    .dataframe thead th {\n",
              "        text-align: right;\n",
              "    }\n",
              "</style>\n",
              "<table border=\"1\" class=\"dataframe\">\n",
              "  <thead>\n",
              "    <tr style=\"text-align: right;\">\n",
              "      <th></th>\n",
              "      <th>contact_name</th>\n",
              "      <th>full_address</th>\n",
              "    </tr>\n",
              "  </thead>\n",
              "  <tbody>\n",
              "    <tr>\n",
              "      <th>0</th>\n",
              "      <td>Maria Anders</td>\n",
              "      <td>Obere Str. 57Berlin</td>\n",
              "    </tr>\n",
              "    <tr>\n",
              "      <th>1</th>\n",
              "      <td>Ana Trujillo</td>\n",
              "      <td>Avda. de la Constitución 2222México D.F.</td>\n",
              "    </tr>\n",
              "    <tr>\n",
              "      <th>2</th>\n",
              "      <td>Antonio Moreno</td>\n",
              "      <td>Mataderos  2312México D.F.</td>\n",
              "    </tr>\n",
              "    <tr>\n",
              "      <th>3</th>\n",
              "      <td>Thomas Hardy</td>\n",
              "      <td>120 Hanover Sq.London</td>\n",
              "    </tr>\n",
              "    <tr>\n",
              "      <th>4</th>\n",
              "      <td>Christina Berglund</td>\n",
              "      <td>Berguvsvägen  8Luleå</td>\n",
              "    </tr>\n",
              "  </tbody>\n",
              "</table>\n",
              "</div>"
            ],
            "text/plain": [
              "         contact_name                              full_address\n",
              "0        Maria Anders                       Obere Str. 57Berlin\n",
              "1        Ana Trujillo  Avda. de la Constitución 2222México D.F.\n",
              "2      Antonio Moreno                Mataderos  2312México D.F.\n",
              "3        Thomas Hardy                     120 Hanover Sq.London\n",
              "4  Christina Berglund                      Berguvsvägen  8Luleå"
            ]
          },
          "execution_count": 88,
          "metadata": {},
          "output_type": "execute_result"
        }
      ],
      "source": [
        "sql(\n",
        "\"\"\"\n",
        "SELECT contact_name, CONCAT(address, city) full_address\n",
        "FROM customers LIMIT 5\n",
        "\"\"\"\n",
        ")"
      ]
    },
    {
      "cell_type": "markdown",
      "id": "4a57e8e8",
      "metadata": {
        "id": "4a57e8e8"
      },
      "source": [
        "Selanjutnya, kita akan mempelajari bagaimana menggunakan SUBSTRING_INDEX (pemisahan tertentu), seperti berikut ini:\n",
        "\n",
        "```sql\n",
        "SELECT SUBSTRING_INDEX(column, delimiter, index to return)\n",
        "FROM table_name;\n",
        "```\n",
        "\n",
        "Ketentuan\n",
        "1. column --> merupakan nama kolom yang akan dipecah text-nya, \n",
        "2. delimiter --> karakter atau gabungan beberapa karakter untuk pemecah text pada kolom bersangkutan, \n",
        "3. index_to_return --> indeks dari pecahan text yang akan diambil.\n",
        "\n",
        "Contoh:\n",
        "```sql\n",
        "SELECT SUBSTRING_INDEX(\"www.genpep.com\", \".\", 1);\n",
        "```\n"
      ]
    },
    {
      "cell_type": "markdown",
      "id": "d97f5b9e",
      "metadata": {
        "id": "d97f5b9e"
      },
      "source": [
        "Selanjutnya, kita akan mempelajari bagaimana menggunakan SUBSTR (pengambilan tertentu), seperti berikut ini:\n",
        "\n",
        "```sql\n",
        "SELECT SUBSTR(columnName, Start Index, Number of string to be extract)\n",
        "FROM table_name;\n",
        "```\n",
        "\n",
        "Ketentuan\n",
        "1. columnName --> nama kolom yang akan dicari substring-nya \n",
        "2. Start Index --> indeks dari text yang dimiliki (dimulai dari 1) \n",
        "3. Number of string to be extract --> jumlah karakter atau beberapa karakter yang akan diambil.\n"
      ]
    },
    {
      "cell_type": "code",
      "execution_count": null,
      "id": "cefcf4d0",
      "metadata": {
        "ExecuteTime": {
          "end_time": "2022-03-20T14:17:59.883499Z",
          "start_time": "2022-03-20T14:17:59.526995Z"
        },
        "id": "cefcf4d0",
        "outputId": "76531b0c-ca09-4946-ff58-06622df0cfe2"
      },
      "outputs": [
        {
          "data": {
            "text/html": [
              "<div>\n",
              "<style scoped>\n",
              "    .dataframe tbody tr th:only-of-type {\n",
              "        vertical-align: middle;\n",
              "    }\n",
              "\n",
              "    .dataframe tbody tr th {\n",
              "        vertical-align: top;\n",
              "    }\n",
              "\n",
              "    .dataframe thead th {\n",
              "        text-align: right;\n",
              "    }\n",
              "</style>\n",
              "<table border=\"1\" class=\"dataframe\">\n",
              "  <thead>\n",
              "    <tr style=\"text-align: right;\">\n",
              "      <th></th>\n",
              "      <th>contact_name</th>\n",
              "      <th>call_name</th>\n",
              "    </tr>\n",
              "  </thead>\n",
              "  <tbody>\n",
              "    <tr>\n",
              "      <th>0</th>\n",
              "      <td>Maria Anders</td>\n",
              "      <td>Mar</td>\n",
              "    </tr>\n",
              "    <tr>\n",
              "      <th>1</th>\n",
              "      <td>Ana Trujillo</td>\n",
              "      <td>Ana</td>\n",
              "    </tr>\n",
              "    <tr>\n",
              "      <th>2</th>\n",
              "      <td>Antonio Moreno</td>\n",
              "      <td>Ant</td>\n",
              "    </tr>\n",
              "    <tr>\n",
              "      <th>3</th>\n",
              "      <td>Thomas Hardy</td>\n",
              "      <td>Tho</td>\n",
              "    </tr>\n",
              "    <tr>\n",
              "      <th>4</th>\n",
              "      <td>Christina Berglund</td>\n",
              "      <td>Chr</td>\n",
              "    </tr>\n",
              "  </tbody>\n",
              "</table>\n",
              "</div>"
            ],
            "text/plain": [
              "         contact_name call_name\n",
              "0        Maria Anders       Mar\n",
              "1        Ana Trujillo       Ana\n",
              "2      Antonio Moreno       Ant\n",
              "3        Thomas Hardy       Tho\n",
              "4  Christina Berglund       Chr"
            ]
          },
          "execution_count": 128,
          "metadata": {},
          "output_type": "execute_result"
        }
      ],
      "source": [
        "sql(\n",
        "\"\"\"\n",
        "SELECT contact_name, SUBSTR(contact_name, 1, 3) call_name\n",
        "FROM customers LIMIT 5\n",
        "\"\"\"\n",
        ")"
      ]
    },
    {
      "cell_type": "markdown",
      "id": "426f99b7",
      "metadata": {
        "id": "426f99b7"
      },
      "source": [
        "Selanjutnya, kita akan mempelajari bagaimana menggunakan LENGTH (menghitung), seperti berikut ini:\n",
        "\n",
        "```sql\n",
        "SELECT LENGTH(columnName)\n",
        "FROM table_name;\n",
        "```\n"
      ]
    },
    {
      "cell_type": "code",
      "execution_count": null,
      "id": "ca8be177",
      "metadata": {
        "ExecuteTime": {
          "end_time": "2022-03-20T14:19:15.825546Z",
          "start_time": "2022-03-20T14:19:15.089771Z"
        },
        "id": "ca8be177",
        "outputId": "3a9f2571-9943-47aa-efc4-47d523be1a38"
      },
      "outputs": [
        {
          "data": {
            "text/html": [
              "<div>\n",
              "<style scoped>\n",
              "    .dataframe tbody tr th:only-of-type {\n",
              "        vertical-align: middle;\n",
              "    }\n",
              "\n",
              "    .dataframe tbody tr th {\n",
              "        vertical-align: top;\n",
              "    }\n",
              "\n",
              "    .dataframe thead th {\n",
              "        text-align: right;\n",
              "    }\n",
              "</style>\n",
              "<table border=\"1\" class=\"dataframe\">\n",
              "  <thead>\n",
              "    <tr style=\"text-align: right;\">\n",
              "      <th></th>\n",
              "      <th>contact_name</th>\n",
              "      <th>call_name</th>\n",
              "      <th>length</th>\n",
              "    </tr>\n",
              "  </thead>\n",
              "  <tbody>\n",
              "    <tr>\n",
              "      <th>0</th>\n",
              "      <td>Maria Anders</td>\n",
              "      <td>Mar</td>\n",
              "      <td>12</td>\n",
              "    </tr>\n",
              "    <tr>\n",
              "      <th>1</th>\n",
              "      <td>Ana Trujillo</td>\n",
              "      <td>Ana</td>\n",
              "      <td>12</td>\n",
              "    </tr>\n",
              "    <tr>\n",
              "      <th>2</th>\n",
              "      <td>Antonio Moreno</td>\n",
              "      <td>Ant</td>\n",
              "      <td>14</td>\n",
              "    </tr>\n",
              "    <tr>\n",
              "      <th>3</th>\n",
              "      <td>Thomas Hardy</td>\n",
              "      <td>Tho</td>\n",
              "      <td>12</td>\n",
              "    </tr>\n",
              "    <tr>\n",
              "      <th>4</th>\n",
              "      <td>Christina Berglund</td>\n",
              "      <td>Chr</td>\n",
              "      <td>18</td>\n",
              "    </tr>\n",
              "  </tbody>\n",
              "</table>\n",
              "</div>"
            ],
            "text/plain": [
              "         contact_name call_name  length\n",
              "0        Maria Anders       Mar      12\n",
              "1        Ana Trujillo       Ana      12\n",
              "2      Antonio Moreno       Ant      14\n",
              "3        Thomas Hardy       Tho      12\n",
              "4  Christina Berglund       Chr      18"
            ]
          },
          "execution_count": 130,
          "metadata": {},
          "output_type": "execute_result"
        }
      ],
      "source": [
        "sql(\n",
        "\"\"\"\n",
        "SELECT contact_name, SUBSTR(contact_name, 1, 3) call_name, LENGTH(contact_name)\n",
        "FROM customers LIMIT 5\n",
        "\"\"\"\n",
        ")"
      ]
    },
    {
      "cell_type": "markdown",
      "id": "4d4d7b16",
      "metadata": {
        "id": "4d4d7b16"
      },
      "source": [
        "Selanjutnya, kita akan mempelajari bagaimana menggunakan REPLACE (mengganti), seperti berikut ini:\n",
        "\n",
        "```sql\n",
        "SELECT REPLACE(ColumnName, Character/String to be change, New String/Character)\n",
        "FROM table_name;\n",
        "```\n",
        "\n",
        "Catatan:\n",
        "1. ColumnName --> nama kolom yang akan diganti isi tiap record/barisnya berdasarkan string/karakter tertentu \n",
        "2. Character/String to be change --> string/karakter yang dimiliki untuk diganti \n",
        "3. New String/Character --> string/karakter baru pengganti string/karakter sebelumnya"
      ]
    },
    {
      "cell_type": "code",
      "execution_count": null,
      "id": "d4500def",
      "metadata": {
        "ExecuteTime": {
          "end_time": "2022-03-20T14:21:44.574316Z",
          "start_time": "2022-03-20T14:21:44.236859Z"
        },
        "id": "d4500def",
        "outputId": "3c317bfa-0659-4bcd-c893-7e33a887645d"
      },
      "outputs": [
        {
          "data": {
            "text/html": [
              "<div>\n",
              "<style scoped>\n",
              "    .dataframe tbody tr th:only-of-type {\n",
              "        vertical-align: middle;\n",
              "    }\n",
              "\n",
              "    .dataframe tbody tr th {\n",
              "        vertical-align: top;\n",
              "    }\n",
              "\n",
              "    .dataframe thead th {\n",
              "        text-align: right;\n",
              "    }\n",
              "</style>\n",
              "<table border=\"1\" class=\"dataframe\">\n",
              "  <thead>\n",
              "    <tr style=\"text-align: right;\">\n",
              "      <th></th>\n",
              "      <th>contact_name</th>\n",
              "      <th>replace</th>\n",
              "    </tr>\n",
              "  </thead>\n",
              "  <tbody>\n",
              "    <tr>\n",
              "      <th>0</th>\n",
              "      <td>Maria Anders</td>\n",
              "      <td>Maria Tru</td>\n",
              "    </tr>\n",
              "    <tr>\n",
              "      <th>1</th>\n",
              "      <td>Ana Trujillo</td>\n",
              "      <td>Ana Trujillo</td>\n",
              "    </tr>\n",
              "    <tr>\n",
              "      <th>2</th>\n",
              "      <td>Antonio Moreno</td>\n",
              "      <td>Antonio Moreno</td>\n",
              "    </tr>\n",
              "    <tr>\n",
              "      <th>3</th>\n",
              "      <td>Thomas Hardy</td>\n",
              "      <td>Thomas Hardy</td>\n",
              "    </tr>\n",
              "    <tr>\n",
              "      <th>4</th>\n",
              "      <td>Christina Berglund</td>\n",
              "      <td>Christina Berglund</td>\n",
              "    </tr>\n",
              "  </tbody>\n",
              "</table>\n",
              "</div>"
            ],
            "text/plain": [
              "         contact_name             replace\n",
              "0        Maria Anders           Maria Tru\n",
              "1        Ana Trujillo        Ana Trujillo\n",
              "2      Antonio Moreno      Antonio Moreno\n",
              "3        Thomas Hardy        Thomas Hardy\n",
              "4  Christina Berglund  Christina Berglund"
            ]
          },
          "execution_count": 133,
          "metadata": {},
          "output_type": "execute_result"
        }
      ],
      "source": [
        "sql(\n",
        "\"\"\"\n",
        "SELECT contact_name, REPLACE(contact_name, 'Anders', 'Tru')\n",
        "FROM customers LIMIT 5\n",
        "\"\"\"\n",
        ")"
      ]
    },
    {
      "cell_type": "markdown",
      "id": "b240205c",
      "metadata": {
        "ExecuteTime": {
          "end_time": "2022-03-20T14:30:33.518324Z",
          "start_time": "2022-03-20T14:30:30.067068Z"
        },
        "id": "b240205c"
      },
      "source": [
        "Selanjutnya, kita akan mempelajari bagaimana menggunakan UPPER/LOWER (), seperti berikut ini:\n",
        "\n",
        "```sql\n",
        "SELECT UPPER(ColumnName), LOWER(ColumnName)\n",
        "FROM table_name;\n",
        "```"
      ]
    },
    {
      "cell_type": "code",
      "execution_count": null,
      "id": "fca2f280",
      "metadata": {
        "ExecuteTime": {
          "end_time": "2022-03-20T14:37:29.233489Z",
          "start_time": "2022-03-20T14:37:28.373018Z"
        },
        "id": "fca2f280",
        "outputId": "faaeddcb-ca9b-4015-ed16-01fa2cf4e6ab"
      },
      "outputs": [
        {
          "data": {
            "text/html": [
              "<div>\n",
              "<style scoped>\n",
              "    .dataframe tbody tr th:only-of-type {\n",
              "        vertical-align: middle;\n",
              "    }\n",
              "\n",
              "    .dataframe tbody tr th {\n",
              "        vertical-align: top;\n",
              "    }\n",
              "\n",
              "    .dataframe thead th {\n",
              "        text-align: right;\n",
              "    }\n",
              "</style>\n",
              "<table border=\"1\" class=\"dataframe\">\n",
              "  <thead>\n",
              "    <tr style=\"text-align: right;\">\n",
              "      <th></th>\n",
              "      <th>contact_name</th>\n",
              "      <th>upper</th>\n",
              "      <th>lower</th>\n",
              "    </tr>\n",
              "  </thead>\n",
              "  <tbody>\n",
              "    <tr>\n",
              "      <th>0</th>\n",
              "      <td>Maria Anders</td>\n",
              "      <td>MARIA ANDERS</td>\n",
              "      <td>maria anders</td>\n",
              "    </tr>\n",
              "    <tr>\n",
              "      <th>1</th>\n",
              "      <td>Ana Trujillo</td>\n",
              "      <td>ANA TRUJILLO</td>\n",
              "      <td>ana trujillo</td>\n",
              "    </tr>\n",
              "    <tr>\n",
              "      <th>2</th>\n",
              "      <td>Antonio Moreno</td>\n",
              "      <td>ANTONIO MORENO</td>\n",
              "      <td>antonio moreno</td>\n",
              "    </tr>\n",
              "    <tr>\n",
              "      <th>3</th>\n",
              "      <td>Thomas Hardy</td>\n",
              "      <td>THOMAS HARDY</td>\n",
              "      <td>thomas hardy</td>\n",
              "    </tr>\n",
              "    <tr>\n",
              "      <th>4</th>\n",
              "      <td>Christina Berglund</td>\n",
              "      <td>CHRISTINA BERGLUND</td>\n",
              "      <td>christina berglund</td>\n",
              "    </tr>\n",
              "  </tbody>\n",
              "</table>\n",
              "</div>"
            ],
            "text/plain": [
              "         contact_name               upper               lower\n",
              "0        Maria Anders        MARIA ANDERS        maria anders\n",
              "1        Ana Trujillo        ANA TRUJILLO        ana trujillo\n",
              "2      Antonio Moreno      ANTONIO MORENO      antonio moreno\n",
              "3        Thomas Hardy        THOMAS HARDY        thomas hardy\n",
              "4  Christina Berglund  CHRISTINA BERGLUND  christina berglund"
            ]
          },
          "execution_count": 144,
          "metadata": {},
          "output_type": "execute_result"
        }
      ],
      "source": [
        "sql(\n",
        "\"\"\"\n",
        "SELECT contact_name, UPPER(contact_name), LOWER(contact_name)\n",
        "FROM customers LIMIT 5\n",
        "\"\"\"\n",
        ")"
      ]
    }
  ],
  "metadata": {
    "colab": {
      "collapsed_sections": [],
      "name": " Fungsi-Text-di-SQL.ipynb",
      "provenance": []
    },
    "kernelspec": {
      "display_name": "Python 3 (ipykernel)",
      "language": "python",
      "name": "python3"
    },
    "language_info": {
      "codemirror_mode": {
        "name": "ipython",
        "version": 3
      },
      "file_extension": ".py",
      "mimetype": "text/x-python",
      "name": "python",
      "nbconvert_exporter": "python",
      "pygments_lexer": "ipython3",
      "version": "3.8.12"
    },
    "toc": {
      "base_numbering": 1,
      "nav_menu": {},
      "number_sections": true,
      "sideBar": true,
      "skip_h1_title": false,
      "title_cell": "Table of Contents",
      "title_sidebar": "Contents",
      "toc_cell": false,
      "toc_position": {},
      "toc_section_display": true,
      "toc_window_display": false
    }
  },
  "nbformat": 4,
  "nbformat_minor": 5
}
