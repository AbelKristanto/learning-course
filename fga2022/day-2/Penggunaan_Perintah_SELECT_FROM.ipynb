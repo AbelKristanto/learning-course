{
  "cells": [
    {
      "cell_type": "markdown",
      "id": "23d107db",
      "metadata": {
        "id": "23d107db"
      },
      "source": [
        "<h1>Penggunaan Perintah SELECT FROM</h1>\n",
        "\n",
        "Untuk mengakses data di database, dapat menggunakan SELECT statement yang mana dapat berguna untuk menampilkan data yang ingin ditampilkan.\n",
        "\n",
        "Ingat, tanda (*) --> menampilkan seluruh item kolom\n",
        "\n",
        "```sql\n",
        "SELECT name_column FROM name_table;\n",
        "\n",
        "```\n",
        "\n",
        "Catatan:\n",
        "1. SELECT artinya ingin mengambil data\n",
        "2. name_column artinya ingin memilih kolom tertentu, apabila ingin semua kolom dapat dengan (*)\n",
        "3. FROM artinya lokasi data berada dengan menunjukkan name_tablenya\n",
        "4. tanda (;) artinya akhir perintah SQL"
      ]
    },
    {
      "cell_type": "code",
      "execution_count": null,
      "id": "c8df0145",
      "metadata": {
        "ExecuteTime": {
          "end_time": "2022-03-20T11:57:07.502392Z",
          "start_time": "2022-03-20T11:57:07.498390Z"
        },
        "id": "c8df0145"
      },
      "outputs": [],
      "source": [
        "# !pip install psycopg2"
      ]
    },
    {
      "cell_type": "code",
      "execution_count": null,
      "id": "ad27cc72",
      "metadata": {
        "ExecuteTime": {
          "end_time": "2022-03-20T14:51:53.544146Z",
          "start_time": "2022-03-20T14:51:40.645141Z"
        },
        "id": "ad27cc72"
      },
      "outputs": [],
      "source": [
        "import psycopg2 as pg\n",
        "import pandas.io.sql as psql\n",
        "import pandas as pd"
      ]
    },
    {
      "cell_type": "code",
      "execution_count": null,
      "id": "66e9031d",
      "metadata": {
        "ExecuteTime": {
          "end_time": "2022-03-20T14:51:55.683293Z",
          "start_time": "2022-03-20T14:51:53.548140Z"
        },
        "id": "66e9031d"
      },
      "outputs": [],
      "source": [
        "# Bangun konektivitas\n",
        "host = \"ec2-54-164-22-242.compute-1.amazonaws.com\"\n",
        "dbname = \"d92sarup3qlji0\"\n",
        "user = \"fttxsdmckdfikz\"\n",
        "password = \"c5561e667cd292f382a0e437807e05c89fba1b894dddff1e77e07befe8a866ac\"\n",
        "connection = pg.connect(f\"host={host} dbname={dbname} user={user} password={password}\")\n",
        "\n",
        "# Function SQL\n",
        "def sql(doc):\n",
        "    return psql.read_sql_query(doc, connection)"
      ]
    },
    {
      "cell_type": "code",
      "execution_count": null,
      "id": "80746a2e",
      "metadata": {
        "ExecuteTime": {
          "end_time": "2022-03-20T13:09:54.809368Z",
          "start_time": "2022-03-20T13:09:53.499363Z"
        },
        "id": "80746a2e",
        "outputId": "404da956-2d4d-47b3-c2e9-f0f3499dec4d"
      },
      "outputs": [
        {
          "data": {
            "text/html": [
              "<div>\n",
              "<style scoped>\n",
              "    .dataframe tbody tr th:only-of-type {\n",
              "        vertical-align: middle;\n",
              "    }\n",
              "\n",
              "    .dataframe tbody tr th {\n",
              "        vertical-align: top;\n",
              "    }\n",
              "\n",
              "    .dataframe thead th {\n",
              "        text-align: right;\n",
              "    }\n",
              "</style>\n",
              "<table border=\"1\" class=\"dataframe\">\n",
              "  <thead>\n",
              "    <tr style=\"text-align: right;\">\n",
              "      <th></th>\n",
              "      <th>order_id</th>\n",
              "      <th>customer_id</th>\n",
              "      <th>employee_id</th>\n",
              "      <th>order_date</th>\n",
              "      <th>required_date</th>\n",
              "      <th>shipped_date</th>\n",
              "      <th>ship_via</th>\n",
              "      <th>freight</th>\n",
              "      <th>ship_name</th>\n",
              "      <th>ship_address</th>\n",
              "      <th>ship_city</th>\n",
              "      <th>ship_region</th>\n",
              "      <th>ship_postal_code</th>\n",
              "      <th>ship_country</th>\n",
              "      <th>born_year</th>\n",
              "    </tr>\n",
              "  </thead>\n",
              "  <tbody>\n",
              "    <tr>\n",
              "      <th>0</th>\n",
              "      <td>10248</td>\n",
              "      <td>VINET</td>\n",
              "      <td>5</td>\n",
              "      <td>1996-07-04</td>\n",
              "      <td>1996-08-01</td>\n",
              "      <td>1996-07-16</td>\n",
              "      <td>3</td>\n",
              "      <td>32.38</td>\n",
              "      <td>Vins et alcools Chevalier</td>\n",
              "      <td>59 rue de l'Abbaye</td>\n",
              "      <td>Reims</td>\n",
              "      <td>None</td>\n",
              "      <td>51100</td>\n",
              "      <td>France</td>\n",
              "      <td>None</td>\n",
              "    </tr>\n",
              "    <tr>\n",
              "      <th>1</th>\n",
              "      <td>10249</td>\n",
              "      <td>TOMSP</td>\n",
              "      <td>6</td>\n",
              "      <td>1996-07-05</td>\n",
              "      <td>1996-08-16</td>\n",
              "      <td>1996-07-10</td>\n",
              "      <td>1</td>\n",
              "      <td>11.61</td>\n",
              "      <td>Toms Spezialitäten</td>\n",
              "      <td>Luisenstr. 48</td>\n",
              "      <td>Münster</td>\n",
              "      <td>None</td>\n",
              "      <td>44087</td>\n",
              "      <td>Germany</td>\n",
              "      <td>None</td>\n",
              "    </tr>\n",
              "    <tr>\n",
              "      <th>2</th>\n",
              "      <td>10250</td>\n",
              "      <td>HANAR</td>\n",
              "      <td>4</td>\n",
              "      <td>1996-07-08</td>\n",
              "      <td>1996-08-05</td>\n",
              "      <td>1996-07-12</td>\n",
              "      <td>2</td>\n",
              "      <td>65.83</td>\n",
              "      <td>Hanari Carnes</td>\n",
              "      <td>Rua do Paço, 67</td>\n",
              "      <td>Rio de Janeiro</td>\n",
              "      <td>RJ</td>\n",
              "      <td>05454-876</td>\n",
              "      <td>Brazil</td>\n",
              "      <td>None</td>\n",
              "    </tr>\n",
              "    <tr>\n",
              "      <th>3</th>\n",
              "      <td>10251</td>\n",
              "      <td>VICTE</td>\n",
              "      <td>3</td>\n",
              "      <td>1996-07-08</td>\n",
              "      <td>1996-08-05</td>\n",
              "      <td>1996-07-15</td>\n",
              "      <td>1</td>\n",
              "      <td>41.34</td>\n",
              "      <td>Victuailles en stock</td>\n",
              "      <td>2, rue du Commerce</td>\n",
              "      <td>Lyon</td>\n",
              "      <td>None</td>\n",
              "      <td>69004</td>\n",
              "      <td>France</td>\n",
              "      <td>None</td>\n",
              "    </tr>\n",
              "    <tr>\n",
              "      <th>4</th>\n",
              "      <td>10252</td>\n",
              "      <td>SUPRD</td>\n",
              "      <td>4</td>\n",
              "      <td>1996-07-09</td>\n",
              "      <td>1996-08-06</td>\n",
              "      <td>1996-07-11</td>\n",
              "      <td>2</td>\n",
              "      <td>51.30</td>\n",
              "      <td>Suprêmes délices</td>\n",
              "      <td>Boulevard Tirou, 255</td>\n",
              "      <td>Charleroi</td>\n",
              "      <td>None</td>\n",
              "      <td>B-6000</td>\n",
              "      <td>Belgium</td>\n",
              "      <td>None</td>\n",
              "    </tr>\n",
              "  </tbody>\n",
              "</table>\n",
              "</div>"
            ],
            "text/plain": [
              "   order_id customer_id  employee_id  order_date required_date shipped_date  \\\n",
              "0     10248       VINET            5  1996-07-04    1996-08-01   1996-07-16   \n",
              "1     10249       TOMSP            6  1996-07-05    1996-08-16   1996-07-10   \n",
              "2     10250       HANAR            4  1996-07-08    1996-08-05   1996-07-12   \n",
              "3     10251       VICTE            3  1996-07-08    1996-08-05   1996-07-15   \n",
              "4     10252       SUPRD            4  1996-07-09    1996-08-06   1996-07-11   \n",
              "\n",
              "   ship_via  freight                  ship_name          ship_address  \\\n",
              "0         3    32.38  Vins et alcools Chevalier    59 rue de l'Abbaye   \n",
              "1         1    11.61         Toms Spezialitäten         Luisenstr. 48   \n",
              "2         2    65.83              Hanari Carnes       Rua do Paço, 67   \n",
              "3         1    41.34       Victuailles en stock    2, rue du Commerce   \n",
              "4         2    51.30           Suprêmes délices  Boulevard Tirou, 255   \n",
              "\n",
              "        ship_city ship_region ship_postal_code ship_country born_year  \n",
              "0           Reims        None            51100       France      None  \n",
              "1         Münster        None            44087      Germany      None  \n",
              "2  Rio de Janeiro          RJ        05454-876       Brazil      None  \n",
              "3            Lyon        None            69004       France      None  \n",
              "4       Charleroi        None           B-6000      Belgium      None  "
            ]
          },
          "execution_count": 38,
          "metadata": {},
          "output_type": "execute_result"
        }
      ],
      "source": [
        "# Mengenal SELECT \n",
        "# list_table_name: \n",
        "# orders, order_details, products, customers \n",
        "\n",
        "# All dataset\n",
        "sql(\n",
        "\"\"\"\n",
        "SELECT * FROM orders;\n",
        "\"\"\").head(5)"
      ]
    },
    {
      "cell_type": "code",
      "execution_count": null,
      "id": "1b06e39a",
      "metadata": {
        "ExecuteTime": {
          "end_time": "2022-03-20T12:02:15.854426Z",
          "start_time": "2022-03-20T12:02:15.184305Z"
        },
        "id": "1b06e39a",
        "outputId": "adf4516e-ace1-4faf-959a-8edcc1eb4774"
      },
      "outputs": [
        {
          "data": {
            "text/html": [
              "<div>\n",
              "<style scoped>\n",
              "    .dataframe tbody tr th:only-of-type {\n",
              "        vertical-align: middle;\n",
              "    }\n",
              "\n",
              "    .dataframe tbody tr th {\n",
              "        vertical-align: top;\n",
              "    }\n",
              "\n",
              "    .dataframe thead th {\n",
              "        text-align: right;\n",
              "    }\n",
              "</style>\n",
              "<table border=\"1\" class=\"dataframe\">\n",
              "  <thead>\n",
              "    <tr style=\"text-align: right;\">\n",
              "      <th></th>\n",
              "      <th>ship_country</th>\n",
              "    </tr>\n",
              "  </thead>\n",
              "  <tbody>\n",
              "    <tr>\n",
              "      <th>0</th>\n",
              "      <td>France</td>\n",
              "    </tr>\n",
              "    <tr>\n",
              "      <th>1</th>\n",
              "      <td>Germany</td>\n",
              "    </tr>\n",
              "    <tr>\n",
              "      <th>2</th>\n",
              "      <td>Brazil</td>\n",
              "    </tr>\n",
              "    <tr>\n",
              "      <th>3</th>\n",
              "      <td>France</td>\n",
              "    </tr>\n",
              "    <tr>\n",
              "      <th>4</th>\n",
              "      <td>Belgium</td>\n",
              "    </tr>\n",
              "  </tbody>\n",
              "</table>\n",
              "</div>"
            ],
            "text/plain": [
              "  ship_country\n",
              "0       France\n",
              "1      Germany\n",
              "2       Brazil\n",
              "3       France\n",
              "4      Belgium"
            ]
          },
          "execution_count": 8,
          "metadata": {},
          "output_type": "execute_result"
        }
      ],
      "source": [
        "# Kolom tertentu\n",
        "sql('SELECT ship_country FROM orders;').head(5)"
      ]
    },
    {
      "cell_type": "markdown",
      "id": "77642614",
      "metadata": {
        "id": "77642614"
      },
      "source": [
        "bagaimana mengambil kolom ship_region dan ship_postal_code?"
      ]
    },
    {
      "cell_type": "code",
      "execution_count": null,
      "id": "5c95477f",
      "metadata": {
        "id": "5c95477f"
      },
      "outputs": [],
      "source": [
        "# Tulis disini ya! \n",
        "\n",
        "\n",
        "\n",
        "\n",
        "\n",
        "\n"
      ]
    },
    {
      "cell_type": "markdown",
      "id": "15c4d74c",
      "metadata": {
        "id": "15c4d74c"
      },
      "source": [
        "Catatan:\n",
        "\n",
        "Jika kita mau menarik lebih dari satu kolom, bukan semua kolom ya!\n",
        "\n",
        "```sql\n",
        "SELECT column_name1, column_name2 FROM table_name\n",
        "```\n",
        "\n",
        "Ini artinya dengan memberi tanda (,) dalam penulisannya. Cukup sederhana bukan?\n",
        "\n",
        "Jika kita hanya mengambil 5 data dari data kita sebelumnya tersebut?"
      ]
    },
    {
      "cell_type": "code",
      "execution_count": null,
      "id": "b4e8b8b1",
      "metadata": {
        "ExecuteTime": {
          "end_time": "2022-03-20T12:10:22.859259Z",
          "start_time": "2022-03-20T12:10:22.206783Z"
        },
        "id": "b4e8b8b1",
        "outputId": "f1446b69-7c73-4a39-801f-dfac9175d48b"
      },
      "outputs": [
        {
          "data": {
            "text/html": [
              "<div>\n",
              "<style scoped>\n",
              "    .dataframe tbody tr th:only-of-type {\n",
              "        vertical-align: middle;\n",
              "    }\n",
              "\n",
              "    .dataframe tbody tr th {\n",
              "        vertical-align: top;\n",
              "    }\n",
              "\n",
              "    .dataframe thead th {\n",
              "        text-align: right;\n",
              "    }\n",
              "</style>\n",
              "<table border=\"1\" class=\"dataframe\">\n",
              "  <thead>\n",
              "    <tr style=\"text-align: right;\">\n",
              "      <th></th>\n",
              "      <th>ship_country</th>\n",
              "      <th>ship_postal_code</th>\n",
              "    </tr>\n",
              "  </thead>\n",
              "  <tbody>\n",
              "    <tr>\n",
              "      <th>0</th>\n",
              "      <td>France</td>\n",
              "      <td>51100</td>\n",
              "    </tr>\n",
              "    <tr>\n",
              "      <th>1</th>\n",
              "      <td>Germany</td>\n",
              "      <td>44087</td>\n",
              "    </tr>\n",
              "    <tr>\n",
              "      <th>2</th>\n",
              "      <td>Brazil</td>\n",
              "      <td>05454-876</td>\n",
              "    </tr>\n",
              "    <tr>\n",
              "      <th>3</th>\n",
              "      <td>France</td>\n",
              "      <td>69004</td>\n",
              "    </tr>\n",
              "    <tr>\n",
              "      <th>4</th>\n",
              "      <td>Belgium</td>\n",
              "      <td>B-6000</td>\n",
              "    </tr>\n",
              "  </tbody>\n",
              "</table>\n",
              "</div>"
            ],
            "text/plain": [
              "  ship_country ship_postal_code\n",
              "0       France            51100\n",
              "1      Germany            44087\n",
              "2       Brazil        05454-876\n",
              "3       France            69004\n",
              "4      Belgium           B-6000"
            ]
          },
          "execution_count": 9,
          "metadata": {},
          "output_type": "execute_result"
        }
      ],
      "source": [
        "# Kolom tertentu\n",
        "sql('SELECT ship_country, ship_postal_code FROM orders;').head(5)"
      ]
    },
    {
      "cell_type": "code",
      "execution_count": null,
      "id": "9176f33a",
      "metadata": {
        "id": "9176f33a"
      },
      "outputs": [],
      "source": [
        "# Tulis disini ya! \n",
        "\n",
        "\n",
        "\n",
        "\n",
        "\n",
        "\n"
      ]
    },
    {
      "cell_type": "markdown",
      "id": "288b5881",
      "metadata": {
        "id": "288b5881"
      },
      "source": [
        "Catatan:\n",
        "\n",
        "Jika kita mau menarik hanya sebagian row dapat dilakukan seperti berikut ini\n",
        "\n",
        "```sql\n",
        "SELECT column_name1, column_name2 FROM table_name LIMIT n\n",
        "```\n",
        "\n",
        "n merupakan jumlah batasan yang akan ditampilkan dalam database\n",
        "\n",
        "Jika kita ingin mengambil data yang unique dari database bagaimana?"
      ]
    },
    {
      "cell_type": "code",
      "execution_count": null,
      "id": "fdfe6363",
      "metadata": {
        "ExecuteTime": {
          "end_time": "2022-03-20T12:10:56.173539Z",
          "start_time": "2022-03-20T12:10:55.309943Z"
        },
        "scrolled": true,
        "id": "fdfe6363",
        "outputId": "5af6d89f-b6c6-44bd-f6da-acb1c4e2d296"
      },
      "outputs": [
        {
          "data": {
            "text/html": [
              "<div>\n",
              "<style scoped>\n",
              "    .dataframe tbody tr th:only-of-type {\n",
              "        vertical-align: middle;\n",
              "    }\n",
              "\n",
              "    .dataframe tbody tr th {\n",
              "        vertical-align: top;\n",
              "    }\n",
              "\n",
              "    .dataframe thead th {\n",
              "        text-align: right;\n",
              "    }\n",
              "</style>\n",
              "<table border=\"1\" class=\"dataframe\">\n",
              "  <thead>\n",
              "    <tr style=\"text-align: right;\">\n",
              "      <th></th>\n",
              "      <th>ship_country</th>\n",
              "      <th>ship_postal_code</th>\n",
              "    </tr>\n",
              "  </thead>\n",
              "  <tbody>\n",
              "    <tr>\n",
              "      <th>0</th>\n",
              "      <td>France</td>\n",
              "      <td>51100</td>\n",
              "    </tr>\n",
              "    <tr>\n",
              "      <th>1</th>\n",
              "      <td>Germany</td>\n",
              "      <td>44087</td>\n",
              "    </tr>\n",
              "    <tr>\n",
              "      <th>2</th>\n",
              "      <td>Brazil</td>\n",
              "      <td>05454-876</td>\n",
              "    </tr>\n",
              "    <tr>\n",
              "      <th>3</th>\n",
              "      <td>France</td>\n",
              "      <td>69004</td>\n",
              "    </tr>\n",
              "    <tr>\n",
              "      <th>4</th>\n",
              "      <td>Belgium</td>\n",
              "      <td>B-6000</td>\n",
              "    </tr>\n",
              "  </tbody>\n",
              "</table>\n",
              "</div>"
            ],
            "text/plain": [
              "  ship_country ship_postal_code\n",
              "0       France            51100\n",
              "1      Germany            44087\n",
              "2       Brazil        05454-876\n",
              "3       France            69004\n",
              "4      Belgium           B-6000"
            ]
          },
          "execution_count": 11,
          "metadata": {},
          "output_type": "execute_result"
        }
      ],
      "source": [
        "# dibatasi\n",
        "sql('SELECT ship_country, ship_postal_code FROM orders LIMIT 5;')"
      ]
    },
    {
      "cell_type": "code",
      "execution_count": null,
      "id": "b3558371",
      "metadata": {
        "id": "b3558371"
      },
      "outputs": [],
      "source": [
        "# Tulis disini ya! \n",
        "\n",
        "\n",
        "\n",
        "\n",
        "\n",
        "\n"
      ]
    },
    {
      "cell_type": "markdown",
      "id": "4cc32b89",
      "metadata": {
        "id": "4cc32b89"
      },
      "source": [
        "Catatan:\n",
        "\n",
        "Jika kita mau menarik dengan yang unik tanpa duplikasi, sebagai berikutnya\n",
        "\n",
        "```sql\n",
        "SELECT DISTINCT column_name1, column_name2 FROM table_name LIMIT n\n",
        "```\n",
        "\n",
        "DISTINCT akan berguna untuk mengambil data tanpa duplikasi."
      ]
    },
    {
      "cell_type": "code",
      "execution_count": null,
      "id": "8163785a",
      "metadata": {
        "ExecuteTime": {
          "end_time": "2022-03-20T12:15:21.162749Z",
          "start_time": "2022-03-20T12:15:20.508777Z"
        },
        "id": "8163785a",
        "outputId": "686437a0-33dc-4700-b255-cd7aeac578a8"
      },
      "outputs": [
        {
          "data": {
            "text/plain": [
              "(830, 2)"
            ]
          },
          "execution_count": 15,
          "metadata": {},
          "output_type": "execute_result"
        }
      ],
      "source": [
        "# dua kolom\n",
        "sql('SELECT ship_country, ship_postal_code FROM orders;').shape"
      ]
    },
    {
      "cell_type": "code",
      "execution_count": null,
      "id": "4af2dec1",
      "metadata": {
        "ExecuteTime": {
          "end_time": "2022-03-20T12:15:35.789521Z",
          "start_time": "2022-03-20T12:15:35.480862Z"
        },
        "id": "4af2dec1",
        "outputId": "a5b0ee03-c5c0-45b3-e840-42808bbcf2ca"
      },
      "outputs": [
        {
          "data": {
            "text/plain": [
              "(85, 2)"
            ]
          },
          "execution_count": 16,
          "metadata": {},
          "output_type": "execute_result"
        }
      ],
      "source": [
        "# dua kolom\n",
        "sql('SELECT DISTINCT ship_country, ship_postal_code FROM orders;').shape"
      ]
    },
    {
      "cell_type": "markdown",
      "id": "42672458",
      "metadata": {
        "id": "42672458"
      },
      "source": [
        "**KESIMPULAN**\n",
        "1. Perintah SELECT dapat digunakan untuk menentukan apa saja kolom yang akan diambil dengan menuliskan nama-nama kolom yang diinginkan menggunakan pemisah tanda koma.\n",
        "2. Perintah SELECT juga dapat digunakan untuk membatasi jumlah data yang dikeluarkan. Namun untuk berbagai produk bisa berbeda penulisannya. MySQL menggunakan LIMIT untuk tujuan tersebut.\n",
        "3. Perintah SELECT DISTINCT dapat digunakan untuk menghilangkan duplikasi baris dalam tabel dan hanya menampilkan baris data yang unik tanpa duplikasi."
      ]
    }
  ],
  "metadata": {
    "kernelspec": {
      "display_name": "Python 3 (ipykernel)",
      "language": "python",
      "name": "python3"
    },
    "language_info": {
      "codemirror_mode": {
        "name": "ipython",
        "version": 3
      },
      "file_extension": ".py",
      "mimetype": "text/x-python",
      "name": "python",
      "nbconvert_exporter": "python",
      "pygments_lexer": "ipython3",
      "version": "3.8.12"
    },
    "toc": {
      "base_numbering": 1,
      "nav_menu": {},
      "number_sections": true,
      "sideBar": true,
      "skip_h1_title": false,
      "title_cell": "Table of Contents",
      "title_sidebar": "Contents",
      "toc_cell": false,
      "toc_position": {},
      "toc_section_display": true,
      "toc_window_display": false
    },
    "colab": {
      "name": "Penggunaan-Perintah-SELECT-FROM.ipynb",
      "provenance": [],
      "collapsed_sections": []
    }
  },
  "nbformat": 4,
  "nbformat_minor": 5
}