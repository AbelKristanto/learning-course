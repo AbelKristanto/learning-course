{
 "cells": [
  {
   "cell_type": "markdown",
   "metadata": {
    "id": "To_o3Sj9IRkx"
   },
   "source": [
    "## Mini Project\n",
    "\n",
    "Disini kita akan membuat proses data-quality dengan dataset yang berbeda.\n",
    "\n",
    "```python\n",
    "import pandas as pd\n",
    "import numpy as np\n",
    "import io\n",
    "import pandas_profiling\n",
    "\n",
    "# Baca dataset uncleaned_raw.csv\n",
    "uncleaned_raw = pd.read_csv('https://storage.googleapis.com/dqlab-dataset/uncleaned_raw.csv')\n",
    "\n",
    "#inspeksi dataframe uncleaned_raw\n",
    "print('Lima data teratas:') \n",
    "print(uncleaned_raw.head())\n",
    "\n",
    "#Check kolom yang mengandung missing value\n",
    "print('\\nKolom dengan missing value:') \n",
    "print(uncleaned_raw.isnull().any())\n",
    "\n",
    "#Persentase missing value\n",
    "length_qty = len(uncleaned_raw['Quantity'])\n",
    "count_qty = uncleaned_raw['Quantity'].count()\n",
    "\n",
    "#mengurangi length dengan count\n",
    "number_of_missing_values_qty = length_qty - count_qty\n",
    "\n",
    "#mengubah ke bentuk float\n",
    "float_of_missing_values_qty = float(number_of_missing_values_qty / length_qty) \n",
    "\n",
    "#mengubah ke dalam bentuk persen\n",
    "pct_of_missing_values_qty = '{0:.1f}%'.format(float_of_missing_values_qty*100) \n",
    "\n",
    "#print hasil percent dari missing value\n",
    "print('Persentase missing value kolom Quantity:', pct_of_missing_values_qty)\n",
    "\n",
    "#Mengisi missing value tersebut dengan mean dari kolom tersebut\n",
    "uncleaned_raw['Quantity'] = uncleaned_raw['Quantity'].fillna(uncleaned_raw['Quantity'].mean())\n",
    "```\n",
    "\n"
   ]
  },
  {
   "cell_type": "code",
   "execution_count": null,
   "metadata": {
    "id": "ocw72XoGH4DY"
   },
   "outputs": [],
   "source": [
    "# Silahkan dicoba disini\n",
    "\n"
   ]
  },
  {
   "cell_type": "markdown",
   "metadata": {
    "id": "22qZqDY5JRAA"
   },
   "source": [
    "Proses Pengecekan Outlier\n",
    "\n",
    "```python\n",
    "import pandas as pd\n",
    "import numpy as np\n",
    "import io\n",
    "import pandas_profiling\n",
    "import matplotlib.pyplot as plt\n",
    "\n",
    "uncleaned_raw = pd.read_csv('https://storage.googleapis.com/dqlab-dataset/uncleaned_raw.csv')\n",
    "uncleaned_raw['Quantity'] = uncleaned_raw['Quantity'].fillna(uncleaned_raw['Quantity'].mean())\n",
    "\n",
    "#Mengetahui kolom yang memiliki outliers!\n",
    "uncleaned_raw.boxplot()\n",
    "plt.show()\n",
    "```\n",
    "\n"
   ]
  },
  {
   "cell_type": "code",
   "execution_count": null,
   "metadata": {
    "id": "x_Sr01XcJgQM"
   },
   "outputs": [],
   "source": [
    "# Silahkan dicoba disini\n",
    "\n"
   ]
  },
  {
   "cell_type": "markdown",
   "metadata": {
    "id": "BlmZA96AJkW6"
   },
   "source": [
    "Atasi Outlier\n",
    "\n",
    "\n",
    "\n",
    "```python\n",
    "#Check IQR\n",
    "Q1 = uncleaned_raw['UnitPrice'].quantile(0.25)\n",
    "Q3 = uncleaned_raw['UnitPrice'].quantile(0.75)\n",
    "IQR = Q3 - Q1\n",
    "\n",
    "#removing outliers\n",
    "uncleaned_raw = uncleaned_raw[~((uncleaned_raw[['UnitPrice']] < (Q1 - 1.5 * IQR)) | (uncleaned_raw[['UnitPrice']] > (Q3 + 1.5 * IQR)))]\n",
    "\n",
    "#check for duplication\n",
    "print(uncleaned_raw.duplicated(subset=None))\n",
    "\n",
    "#remove duplication\n",
    "uncleaned_raw = uncleaned_raw.drop_duplicates()\n",
    "```\n",
    "\n"
   ]
  },
  {
   "cell_type": "code",
   "execution_count": null,
   "metadata": {
    "id": "8oo43-i2Jlo0"
   },
   "outputs": [],
   "source": [
    "# Silahkan dicoba disini\n",
    "\n"
   ]
  },
  {
   "cell_type": "markdown",
   "metadata": {
    "id": "4OZudMxiKHqJ"
   },
   "source": [
    "Selamat kamu sudah selesai menyiapkan data quality!"
   ]
  }
 ],
 "metadata": {
  "colab": {
   "collapsed_sections": [],
   "name": "day6-dataqualitypython.ipynb",
   "provenance": []
  },
  "kernelspec": {
   "display_name": "Python 3 (ipykernel)",
   "language": "python",
   "name": "python3"
  },
  "language_info": {
   "codemirror_mode": {
    "name": "ipython",
    "version": 3
   },
   "file_extension": ".py",
   "mimetype": "text/x-python",
   "name": "python",
   "nbconvert_exporter": "python",
   "pygments_lexer": "ipython3",
   "version": "3.8.12"
  },
  "toc": {
   "base_numbering": 1,
   "nav_menu": {},
   "number_sections": true,
   "sideBar": true,
   "skip_h1_title": false,
   "title_cell": "Table of Contents",
   "title_sidebar": "Contents",
   "toc_cell": false,
   "toc_position": {},
   "toc_section_display": true,
   "toc_window_display": true
  }
 },
 "nbformat": 4,
 "nbformat_minor": 1
}
