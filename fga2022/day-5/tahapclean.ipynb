{
 "cells": [
  {
   "cell_type": "markdown",
   "metadata": {
    "id": "rqFcF-SxBSVC"
   },
   "source": [
    "## Tahapan Cleansing\n",
    "\n",
    "Ini merupakan tahapan dasar yang dilakukan dalam data science, adapun yang dilakukan handling diantaranya:\n",
    "\n",
    "**Missing Data**: Merupakan data yang terkandung dalam dataset bisa dikarenakan proses penggabungan atau memang tidak ada. Diatasi dengan \n",
    "1. Imputasi merupakan suatu metode treatment terhadap missing value dengan mengisinya menggunakan teknik tertentu. Bisa menggunakan mean, modus ataupun menggunakan predictive modelling. Function: **.fillna()**\n",
    "2. Drop row yang mengandung missing value. Function: **.dropna()**\n",
    "3. Dibiarkan begitu saja."
   ]
  },
  {
   "cell_type": "markdown",
   "metadata": {
    "id": "LUQ8ZnekCG4W"
   },
   "source": [
    "Dalam dataset retail_raw, kita akan melakukan tahapan berikut ini:\n",
    "1. Ceklah jika terdapat missing value pada variabel dataframe, dan kemudian cetak ke console\n",
    "2. Imputasi missing value pada kolom quantity dengan menggunaan nilai rataan (mean)\n",
    "3. Drop-lah missing value pada kolom quantity\n",
    "\n",
    "```python\n",
    "# Check kolom yang memiliki missing data\n",
    "print('Check kolom yang memiliki missing data:')\n",
    "print(retail_raw.isnull().any())\n",
    "\n",
    "# Filling the missing value (imputasi)\n",
    "print('\\nFilling the missing value (imputasi):')\n",
    "print(retail_raw['quantity'].fillna(retail_raw.quantity.mean()))\n",
    "\n",
    "# Drop missing value\n",
    "print('\\nDrop missing value:')\n",
    "print(retail_raw['quantity'].dropna())\n",
    "\n",
    "# Filling the missing value (price_item)\n",
    "print(retail_raw['item_price'].fillna(retail_raw['item_price'].mean()))\n",
    "```\n",
    "\n"
   ]
  },
  {
   "cell_type": "code",
   "execution_count": null,
   "metadata": {
    "id": "jDa1SQQU_PAm"
   },
   "outputs": [],
   "source": [
    "# Silahkan dicoba disini\n",
    "\n"
   ]
  },
  {
   "cell_type": "markdown",
   "metadata": {
    "id": "8X7J25FkCZIw"
   },
   "source": [
    "**Outlier**: data observasi yang muncul dengan nilai-nilai ekstrim. Yang dimaksud dengan nilai-nilai ekstrim dalam observasi adalah nilai yang jauh atau beda sama sekali dengan sebagian besar nilai lain dalam kelompoknya. Diatasi dengan:\n",
    "1. Menghapus data outlier\n",
    "2. Pengubahan data outlier\n",
    "3. Capping\n",
    "4. Prediction\n",
    "\n",
    "Pada umumnya, outliers dapat ditentukan dengan metric IQR (interquartile range).\n",
    "\n",
    "Rumus dasar dari IQR: Q3 - Q1, dan data suatu observasi dapat dikatakan outliers jika memenuhi kedua syarat dibawah ini:\n",
    "\n",
    "**< Q1 - 1.5 * IQR**\n",
    "\n",
    "**> Q3 + 1.5 * IQR**\n",
    "\n",
    "```python\n",
    "# Q1, Q3, dan IQR\n",
    "Q1 = retail_raw['quantity'].quantile(0.25)\n",
    "Q3 = retail_raw['quantity'].quantile(0.75)\n",
    "IQR = Q3 - Q1\n",
    "\n",
    "# Check ukuran (baris dan kolom) sebelum data yang outliers dibuang\n",
    "print('Shape awal: ', retail_raw.shape)\n",
    "\n",
    "# Removing outliers\n",
    "retail_raw = retail_raw[~((retail_raw['quantity'] < (Q1 - 1.5 * IQR)) | (retail_raw['quantity'] > (Q3 + 1.5 * IQR)))]\n",
    "\n",
    "# Check ukuran (baris dan kolom) setelah data yang outliers dibuang\n",
    "print('Shape akhir: ', retail_raw.shape)\n",
    "```\n",
    "\n"
   ]
  },
  {
   "cell_type": "code",
   "execution_count": null,
   "metadata": {
    "id": "h8CW4gGgDqka"
   },
   "outputs": [],
   "source": [
    "# Silahkan dicoba disini\n",
    "\n"
   ]
  },
  {
   "cell_type": "markdown",
   "metadata": {
    "id": "PC4Ik-_ZFXdn"
   },
   "source": [
    "**Duplikasi Data**: data dengan kondisi pada row-row tertentu memiliki kesamaan data di seluruh kolomnya. Tentunya ada data yang duplikat dalam dataset yang dimiliki. Kondisi duplikasi harus diatasi dengan jalan mengeliminir baris yang mengalami duplikasi, sehingga proses ini dikenal dengan deduplikasi.\n",
    "\n",
    "```python\n",
    "# Check duplikasi data name_dataframe.duplicated(subset=None)\n",
    "print(retail_raw.duplicated(subset=None).sum())\n",
    "# Check ukuran (baris dan kolom) sebelum data duplikasi dibuang\n",
    "print('Shape awal: ', retail_raw.shape)\n",
    "\n",
    "# Buang data yang terduplikasi\n",
    "retail_raw.drop_duplicates(inplace=True)\n",
    "\n",
    "# Check ukuran (baris dan kolom) setelah data duplikasi dibuang\n",
    "print('Shape akhir: ', retail_raw.shape)\n",
    "```\n",
    "\n"
   ]
  },
  {
   "cell_type": "code",
   "execution_count": null,
   "metadata": {
    "id": "XNueYvBoGcck"
   },
   "outputs": [],
   "source": [
    "# Silahkan dicoba disini\n",
    "\n"
   ]
  }
 ],
 "metadata": {
  "colab": {
   "collapsed_sections": [],
   "name": "day6-dataqualitypython.ipynb",
   "provenance": []
  },
  "kernelspec": {
   "display_name": "Python 3 (ipykernel)",
   "language": "python",
   "name": "python3"
  },
  "language_info": {
   "codemirror_mode": {
    "name": "ipython",
    "version": 3
   },
   "file_extension": ".py",
   "mimetype": "text/x-python",
   "name": "python",
   "nbconvert_exporter": "python",
   "pygments_lexer": "ipython3",
   "version": "3.8.12"
  },
  "toc": {
   "base_numbering": 1,
   "nav_menu": {},
   "number_sections": true,
   "sideBar": true,
   "skip_h1_title": false,
   "title_cell": "Table of Contents",
   "title_sidebar": "Contents",
   "toc_cell": false,
   "toc_position": {},
   "toc_section_display": true,
   "toc_window_display": true
  }
 },
 "nbformat": 4,
 "nbformat_minor": 1
}
