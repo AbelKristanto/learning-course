{
 "cells": [
  {
   "cell_type": "markdown",
   "id": "b0b46aa1",
   "metadata": {},
   "source": [
    "# Modul dan Package\n",
    "\n",
    "Modul merupakan objek python yang telah tersedia dari pengembangnya atau dapat kamu kembangkan sendiri. Dalam bahasa yang cukup sederhana, modul adalah kumpulan kode Python yang distruktur ke dalam beberapa fungsi, kelas, dan variabel. Python sendiri telahmemiliki banyak library dan module yang bisa diakses oleh pengguna secara free. Terdapat beberapa modul data science yang dapat digunakan:\n",
    "\n",
    "1. untuk pengolah data numerik seperti array 1D, 2D, 3D atau hingga nD dengan contohnya adalah numpy\n",
    "2. untuk komputasi saintifik yang berbasis metode numerik dan statistik dengan contohnya adalah scipy dan statsmodel\n",
    "3. untuk pengolah dan analisis data seperti Microsoft Excel atau Google Spreadsheets dengan contohnya adalah pandas, pypolar, dan modin\n",
    "4. untuk visualisasi data dengan contohnya yaitu matplotlib, seaborn, plotnine, altair, mayavi, bokeh, plotly, dll.  \n",
    "5. untuk pembelajaran mesin dengan contohnya yaitu scikit-learn, xgboost, lightgbm, catboost, pycaret, dll\n",
    "6. untuk deep learning dengan contohnya adalah keras, tensorflow, pytorch, cafe, dll\n",
    "\n",
    "Dan masih banyak lagi.\n",
    "\n",
    "Silahkan coba berikut ini untuk mengetahui bagaimana memanggil module\n",
    "\n",
    "```python\n",
    "import math\n",
    "print(\"nilai pi adalah:\", math.pi) #math.pi adalah sintak pi\n",
    "```"
   ]
  },
  {
   "cell_type": "code",
   "execution_count": null,
   "id": "64f74d37",
   "metadata": {},
   "outputs": [],
   "source": [
    "# Silahkan dicoba disini\n",
    "\n"
   ]
  },
  {
   "cell_type": "markdown",
   "id": "a3cbd874",
   "metadata": {},
   "source": [
    "Gunakan aliasing untuk mempermudah penggunaan pemanggilan modul\n",
    "\n",
    "```python\n",
    "import math as m #mengubah modul math menjadi m alias\n",
    "print(\"Nilai pi adalah:\", m.pi) #m.pi merupakan sintak untuk memanggil fungsi\n",
    "```"
   ]
  },
  {
   "cell_type": "code",
   "execution_count": null,
   "id": "3dd322d6",
   "metadata": {},
   "outputs": [],
   "source": [
    "# Silahkan dicoba disini\n",
    "\n"
   ]
  },
  {
   "cell_type": "markdown",
   "id": "61e44bcc",
   "metadata": {},
   "source": [
    "Gunakan from ... import ... untuk memanggil sebagian dimana format **from module_name import function_name**, perhatikan berikut ini:\n",
    "\n",
    "```python\n",
    "from math import pi #mengambil fungsi yang diperlukan\n",
    "print(\"Nilai pi adalah\", pi) #menampilkan fungsi yang terpanggil\n",
    "```"
   ]
  },
  {
   "cell_type": "code",
   "execution_count": null,
   "id": "828b24c6",
   "metadata": {},
   "outputs": [],
   "source": [
    "# Silahkan dicoba disini\n",
    "\n"
   ]
  },
  {
   "cell_type": "markdown",
   "id": "ef093ecc",
   "metadata": {},
   "source": [
    "Gunakan from ... import * untuk memanggil seluruh modul dimana format **from module_name import ***, perhatikan berikut ini:\n",
    "\n",
    "```python\n",
    "from math import * \n",
    "print(\"Nilai e adalah:\", e)\n",
    "```"
   ]
  },
  {
   "cell_type": "code",
   "execution_count": null,
   "id": "1893e05c",
   "metadata": {},
   "outputs": [],
   "source": [
    "# Silahkan dicoba disini\n",
    "\n"
   ]
  }
 ],
 "metadata": {
  "kernelspec": {
   "display_name": "Python 3 (ipykernel)",
   "language": "python",
   "name": "python3"
  },
  "language_info": {
   "codemirror_mode": {
    "name": "ipython",
    "version": 3
   },
   "file_extension": ".py",
   "mimetype": "text/x-python",
   "name": "python",
   "nbconvert_exporter": "python",
   "pygments_lexer": "ipython3",
   "version": "3.8.12"
  },
  "toc": {
   "base_numbering": 1,
   "nav_menu": {},
   "number_sections": true,
   "sideBar": true,
   "skip_h1_title": false,
   "title_cell": "Table of Contents",
   "title_sidebar": "Contents",
   "toc_cell": false,
   "toc_position": {},
   "toc_section_display": true,
   "toc_window_display": true
  }
 },
 "nbformat": 4,
 "nbformat_minor": 5
}
