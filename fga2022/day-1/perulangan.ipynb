{
 "cells": [
  {
   "cell_type": "markdown",
   "id": "bdeb323b",
   "metadata": {},
   "source": [
    "# Perulangan\n",
    "\n",
    "Perulangan atau looping merupakan salah satu elemen atau fungsi yang bisa dikatakan sangat menunjang untuk kebutuhan programming dan data science.\n",
    "\n",
    "Ambil contoh, seandainya kita harus memproses 500x eksekusi code. Tentu akan menghabiskan waktu bila kita harus menulis ulang kode tersebut sebanyak 500x juga. Hal tersebut tidak bersifat scalable, efisiensi akan mempengaruhi performa dari program yang kita buat. Seperti pada umumnya pada python juga memiliki fungsi for dan while untuk melakukan looping."
   ]
  },
  {
   "cell_type": "markdown",
   "id": "727aa3c4",
   "metadata": {},
   "source": [
    "**WHILE**\n",
    "\n",
    "Perulangan dengan kriteria tertentu selama terpenuhi, perhatikan berikut ini:\n",
    "\n",
    "```python\n",
    "j = 0 #nilai awal j=0\n",
    "\n",
    "while j<6: #ketika j kurang dari 6 lakukan perulangan, jika tidak stop perulangan\n",
    "\tprint(\"Ini adalah perulangan ke-\",j) #lakukan perintah ini ketika perulangan\n",
    "\tj=j+1 #setiap kali diakhir perulangan update nilai dengan ditambah 1.\n",
    "```"
   ]
  },
  {
   "cell_type": "code",
   "execution_count": null,
   "id": "a2ded4a8",
   "metadata": {},
   "outputs": [],
   "source": [
    "# Silahkan dicoba disini\n",
    "\n"
   ]
  },
  {
   "cell_type": "markdown",
   "id": "ed482f2a",
   "metadata": {},
   "source": [
    "**FOR**\n",
    "\n",
    "Perulangan dengan range tertentu selama terpenuhi tanpa harus melakukan inisialisasi, perhatikan berikut ini:\n",
    "\n",
    "```python\n",
    "for i in range (1,6): #perulangan for dari inisialisasi angka 1 hingga lebih kecil dari 6\n",
    "\tprint(\"Ini adalah perulangan ke -\", i) #perintah jika looping akan tetap berjalan\n",
    "```"
   ]
  },
  {
   "cell_type": "code",
   "execution_count": null,
   "id": "ad3e344c",
   "metadata": {},
   "outputs": [],
   "source": [
    "# Silahkan dicoba disini\n",
    "\n"
   ]
  },
  {
   "cell_type": "markdown",
   "id": "f5aa1da9",
   "metadata": {},
   "source": [
    "Coba berikut ini:\n",
    "\n",
    "```python\n",
    "for i in range (1,11): #inisialisasi data dari 1 sampai dengan kurang dari 11\n",
    "    if(i%2==0): #pengecekan persamaan yang dibuat\n",
    "        print(\"Angka genap\",i) #jika TRUE, menampilkan data ini\n",
    "    else:\n",
    "         print(\"Angka ganjil\",i) #jika FALSE, menampilkan data ini\n",
    "```"
   ]
  },
  {
   "cell_type": "code",
   "execution_count": null,
   "id": "3775a3c7",
   "metadata": {},
   "outputs": [],
   "source": [
    "# Silahkan dicoba disini\n",
    "\n"
   ]
  }
 ],
 "metadata": {
  "kernelspec": {
   "display_name": "Python 3 (ipykernel)",
   "language": "python",
   "name": "python3"
  },
  "language_info": {
   "codemirror_mode": {
    "name": "ipython",
    "version": 3
   },
   "file_extension": ".py",
   "mimetype": "text/x-python",
   "name": "python",
   "nbconvert_exporter": "python",
   "pygments_lexer": "ipython3",
   "version": "3.8.12"
  },
  "toc": {
   "base_numbering": 1,
   "nav_menu": {},
   "number_sections": true,
   "sideBar": true,
   "skip_h1_title": false,
   "title_cell": "Table of Contents",
   "title_sidebar": "Contents",
   "toc_cell": false,
   "toc_position": {},
   "toc_section_display": true,
   "toc_window_display": true
  }
 },
 "nbformat": 4,
 "nbformat_minor": 5
}
