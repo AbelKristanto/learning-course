{
 "cells": [
  {
   "cell_type": "markdown",
   "id": "60a5e503",
   "metadata": {},
   "source": [
    "# Grafik\n",
    "\n",
    "Grafik merupakan salah satu perangkat visualisasi. Visualisasi sendiri sudah menjadi salah satu challenge atau poin penting dalam data science. Selain bisa mempermudah seseorang untuk memahami data, visualisasi bisa meningkatkan analisa atau memunculkan knowledge yang tidak sempat terekspos ketika tidak menggunakan visualisasi.\n",
    "\n",
    "Perhatikan berikut ini:\n",
    "\n",
    "```python\n",
    "import pandas as pd #open library pandas\n",
    "import numpy as np #open library numpy\n",
    "import matplotlib.pyplot as plt #open library matplotlib\n",
    "\n",
    "table = pd.read_csv(\"https://storage.googleapis.com/dqlab-dataset/penduduk_gender_head.csv\") #pembacaan data\n",
    "table.head() #pengumpulan data\n",
    "x_label = table['NAMA KELURAHAN'] #data yang dirender\n",
    "plt.bar(x=np.arange(len(x_label)),height=table['LAKI-LAKI WNI']) #bar yang ditampilkan\n",
    "plt.show() #menampilkan data bar\n",
    "```"
   ]
  },
  {
   "cell_type": "code",
   "execution_count": null,
   "id": "6828c726",
   "metadata": {},
   "outputs": [],
   "source": [
    "# Silahkan dicoba disini\n",
    "\n"
   ]
  },
  {
   "cell_type": "markdown",
   "id": "812b0bc6",
   "metadata": {},
   "source": [
    "Labeling dalam grafik, perhatikan berikut ini.\n",
    "\n",
    "```python\n",
    "import pandas as pd #merename pandas menjadi pd\n",
    "import numpy as np #merename numpy mejadi np\n",
    "import matplotlib.pyplot as plt #merename matplotlib menjadi plt\n",
    "\n",
    "#data yang diproses\n",
    "table = pd.read_csv(\"https://storage.googleapis.com/dqlab-dataset/penduduk_gender_head.csv\")\n",
    "#hasil tabel yang terbentuk dipilih kepala tabel\n",
    "table.head()\n",
    "\n",
    "#memilih kumpulan data yang dibentuk grafik yang terpilih\n",
    "x_label = table['NAMA KELURAHAN']\n",
    "#jumlah data yang di highlight\n",
    "plt.bar(x=np.arange(len(x_label)),height=table['LAKI-LAKI WNI'])\n",
    "#data parameter terlihat dengan sudut 30\n",
    "plt.xticks(np.arange(len(x_label)), table['NAMA KELURAHAN'], rotation=30)\n",
    "#menampilkan data\n",
    "plt.show()\n",
    "```"
   ]
  },
  {
   "cell_type": "code",
   "execution_count": 6,
   "id": "1788bc8b",
   "metadata": {
    "ExecuteTime": {
     "end_time": "2022-06-05T03:01:21.040721Z",
     "start_time": "2022-06-05T03:01:21.035717Z"
    }
   },
   "outputs": [],
   "source": [
    "# Silahkan dicoba disini\n",
    "\n"
   ]
  },
  {
   "cell_type": "markdown",
   "id": "4522528c",
   "metadata": {},
   "source": [
    "Menambahkan labeling dalam grafik. Perhatikan berikut ini.\n",
    "\n",
    "```python\n",
    "import pandas as pd\n",
    "import numpy as np\n",
    "import matplotlib.pyplot as plt\n",
    "\n",
    "\n",
    "table = pd.read_csv(\"https://storage.googleapis.com/dqlab-dataset/penduduk_gender_head.csv\")\n",
    "table.head()\n",
    "\n",
    "x_label = table['NAMA KELURAHAN']\n",
    "plt.bar(x=np.arange(len(x_label)),height=table['LAKI-LAKI WNI'])\n",
    "plt.xticks(np.arange(len(x_label)), table['NAMA KELURAHAN'], rotation=90)\n",
    "plt.xlabel('Kelurahan di Jakarta Pusat')\n",
    "plt.ylabel('Jumlah Penduduk Laki - Laki')\n",
    "plt.title('Persebaran Jumlah Penduduk Laki- Laki di Jakarta Pusat')\n",
    "\n",
    "plt.show()\n",
    "```"
   ]
  },
  {
   "cell_type": "code",
   "execution_count": null,
   "id": "d585da6e",
   "metadata": {},
   "outputs": [],
   "source": [
    "# Silahkan dicoba disini\n",
    "\n"
   ]
  },
  {
   "cell_type": "markdown",
   "id": "ab709dd0",
   "metadata": {},
   "source": [
    "Setelah mempelajari basic Python ini, diharapkan yang sudah mengerjakan bisa mengerti fundamental dari programming python. Sedikit rangkuman, memang course ini selain mengajarkan basic rule dari python kita juga sedikit memberikan logic course didalamnya. Kita tahu bahwa Data Science, AI, ataupun Machine Learning sangat identik dengan programming. Basic Programming adalah pemahaman logic yang kuat."
   ]
  }
 ],
 "metadata": {
  "kernelspec": {
   "display_name": "Python 3 (ipykernel)",
   "language": "python",
   "name": "python3"
  },
  "language_info": {
   "codemirror_mode": {
    "name": "ipython",
    "version": 3
   },
   "file_extension": ".py",
   "mimetype": "text/x-python",
   "name": "python",
   "nbconvert_exporter": "python",
   "pygments_lexer": "ipython3",
   "version": "3.8.12"
  },
  "toc": {
   "base_numbering": 1,
   "nav_menu": {},
   "number_sections": true,
   "sideBar": true,
   "skip_h1_title": false,
   "title_cell": "Table of Contents",
   "title_sidebar": "Contents",
   "toc_cell": false,
   "toc_position": {
    "height": "calc(100% - 180px)",
    "left": "10px",
    "top": "150px",
    "width": "246.391px"
   },
   "toc_section_display": true,
   "toc_window_display": true
  }
 },
 "nbformat": 4,
 "nbformat_minor": 5
}
