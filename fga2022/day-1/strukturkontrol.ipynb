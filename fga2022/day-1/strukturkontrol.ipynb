{
 "cells": [
  {
   "cell_type": "markdown",
   "id": "e29af069",
   "metadata": {},
   "source": [
    "# Struktur Kontrol dan Percabangan di Python\n",
    "\n",
    "Di dalam bahasa pemrograman, pengambilan keputusan juga digunakan melalui penerapan konsep IF - ELSE. Konsep ini juga berlaku pada python yang memiliki kesederhanaan dalam penulisannya. Hal tersebut dapat dianalogikan kedalam:\n",
    "1. Menggunakan IF yang dapat dianalogikan dengan \"Jika sesuatu memenuhi suatu kondisi maka lakukanlah A, namun jika tidak maka tidak terjadi apa-apa\".\n",
    "2. Menggunakan IF dan ELSE yang dapat direpresentasikan dengan \"Jika sesuatu memenuhi suatu kondisi maka lakukanlah A, namun jika tidak terpenuhi maka lakukanlah B\".\n",
    "3. Menggunakan IF, ELIF dan ELSE. ELIF merupakan singkatan dari ELSE IF di python. Penerapan konstruksi IF, ELIF dan ELSE ini dapat dianalogikan dengan \"Jika sesuatu memenuhi suatu kondisi maka lakukanlah A, jika tidak, lakukanlah pengecekan pada kondisi berikutnya yaitu jika memenuhi lakukanlah B, jika tidak maka lakukanlah C\"."
   ]
  },
  {
   "cell_type": "markdown",
   "id": "1adc547d",
   "metadata": {},
   "source": [
    "**IF Statement**\n",
    "\n",
    "Penggunaan IF sebenarnya adalah sebuah statement untuk menentukan keputusan mana yang akan diambil berdasarkan suatu kondisi yang ditentukan oleh pembuat program.\n",
    "\n",
    "Perhatikan berikut ini:\n",
    "\n",
    "```python\n",
    "i = 7 #inisialisasi variabel i yang memiliki nilai 7\n",
    "\n",
    "if(i==10): #pengecekan nilai i apakah sama dengan 10\n",
    "\tprint(\"ini adalah angka 10\") #jika TRUE maka akan mencetak kalimat ini\n",
    "```"
   ]
  },
  {
   "cell_type": "code",
   "execution_count": null,
   "id": "f6083da1",
   "metadata": {},
   "outputs": [],
   "source": [
    "# Silahkan dicoba disini\n",
    "\n"
   ]
  },
  {
   "cell_type": "markdown",
   "id": "cdc61131",
   "metadata": {},
   "source": [
    "**IF ELSE STATEMENT**\n",
    "\n",
    "Penggunaan IF ELSE sebenarnya adalah sebuah statement untuk menentukan dua kondisi apabila terpenuhi dan tidak terpenuhi.\n",
    "\n",
    "Perhatikan berikut ini:\n",
    "\n",
    "```python\n",
    "i = 5 #inisialisasi variable i yang memiliki nilai 5\n",
    "\n",
    "if(i==10): #pengecekan nilai i, apakah sama dengan 10?\n",
    "\tprint(\"ini adalah angka 10\") #jika TRUE akan mencetak kalimat ini\n",
    "else:\n",
    "\tprint(\"bukan angka 10\") #jika FALSE akan mencetak kalimat ini\n",
    "```"
   ]
  },
  {
   "cell_type": "code",
   "execution_count": null,
   "id": "939611c3",
   "metadata": {},
   "outputs": [],
   "source": [
    "# Silahkan dicoba disini\n",
    "\n"
   ]
  },
  {
   "cell_type": "markdown",
   "id": "390bec2f",
   "metadata": {},
   "source": [
    "**IF ELIF ELSE STATEMENT**\n",
    "\n",
    "Penggunaan IF ELIF ELSE sebenarnya adalah sebuah statement untuk menentukan beragam kondisi apabila terpenuhi dan tidak terpenuhi.\n",
    "\n",
    "Perhatikan berikut ini:\n",
    "\n",
    "```python\n",
    "i=3 #inilisiasi i sama dengan 3\n",
    "\n",
    "if(i==5): #pengecekan data\n",
    "\tprint(\"ini adalah angka 5\") #jika TRUE akan menampilkan kalimat ini\n",
    "elif(i>5): #pengecekan ulang\n",
    "\tprint(\"lebih besar dari 5\") #jika TRUE akan menampilkan kalimat ini\n",
    "else:\n",
    "\tprint(\"lebih kecil dari 5\") #jika FALSE akan menampilkan kalimat ini\n",
    "```"
   ]
  },
  {
   "cell_type": "code",
   "execution_count": null,
   "id": "0cd86fd4",
   "metadata": {},
   "outputs": [],
   "source": [
    "# Silahkan dicoba disini\n",
    "\n"
   ]
  },
  {
   "cell_type": "markdown",
   "id": "24b33269",
   "metadata": {},
   "source": [
    "**NESTED IF STATEMENT**\n",
    "\n",
    "Penggunaan NESTED IF sebenarnya adalah sebuah statement untuk menentukan beragam kondisi yang bersarang. Misal if ( i<7 && i <3) dapat dituliskan sebagai dibawah ini.\n",
    "\n",
    "Perhatikan berikut ini:\n",
    "\n",
    "```python\n",
    "i=int(input())\n",
    "if(i<7): #pengecekan data tahapan 1\n",
    "\tprint(\"nilai i kurang dari 7\") #jika TRUE menampilkan tulisan ini\n",
    "\tif (i<3): #pengecekan data tahapan 2\n",
    "\t\t\tprint(\"nilai i kurang dari 7 dan kurang dari 3\") #jika True menampilkan tulisan ini\n",
    "\telse:\n",
    "\t\t\tprint(\"nilai i kurang dari 7 tapi lebih dari 3\") #jika False menampilkan tulisan ini\n",
    "```"
   ]
  },
  {
   "cell_type": "code",
   "execution_count": 3,
   "id": "abbb4721",
   "metadata": {
    "ExecuteTime": {
     "end_time": "2022-06-05T02:13:26.158911Z",
     "start_time": "2022-06-05T02:13:26.154910Z"
    }
   },
   "outputs": [],
   "source": [
    "# Silahkan dicoba disini\n",
    "\n"
   ]
  }
 ],
 "metadata": {
  "kernelspec": {
   "display_name": "Python 3 (ipykernel)",
   "language": "python",
   "name": "python3"
  },
  "language_info": {
   "codemirror_mode": {
    "name": "ipython",
    "version": 3
   },
   "file_extension": ".py",
   "mimetype": "text/x-python",
   "name": "python",
   "nbconvert_exporter": "python",
   "pygments_lexer": "ipython3",
   "version": "3.8.12"
  },
  "toc": {
   "base_numbering": 1,
   "nav_menu": {},
   "number_sections": true,
   "sideBar": true,
   "skip_h1_title": false,
   "title_cell": "Table of Contents",
   "title_sidebar": "Contents",
   "toc_cell": false,
   "toc_position": {
    "height": "calc(100% - 180px)",
    "left": "10px",
    "top": "150px",
    "width": "264.594px"
   },
   "toc_section_display": true,
   "toc_window_display": true
  }
 },
 "nbformat": 4,
 "nbformat_minor": 5
}
