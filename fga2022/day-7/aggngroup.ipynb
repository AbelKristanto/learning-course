{
 "cells": [
  {
   "cell_type": "markdown",
   "metadata": {
    "id": "2_gmMSOYuV5t"
   },
   "source": [
    "## Aggregation & GroupBy\n",
    "\n",
    "Teknik agregasi diperlukan ketika mau melihat dataset dengan view yang berbeda, bisa set data tersebut akan dikelompokkan seperti apa, yang kemudian juga bisa menerapkan beberapa fungsi atau metode statistik ke hasil group dataset itu untuk mengetahui behavior dari data tersebut secara summary/overview.\n",
    "\n",
    "![image.png](data:image/png;base64,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)"
   ]
  },
  {
   "cell_type": "markdown",
   "metadata": {
    "id": "bzmzJXUTudVc"
   },
   "source": [
    "Konsep pemahaman sebagai berikut:\n",
    "1. Split: melakukan indexing/multi-indexing dengan apa yang di specify as groupby menjadi kelompok\n",
    "2. Apply: menerapkan fungsi pada masing-masing kelompok tersebut\n",
    "3. Combine: mengumpulkan semua hasil fungsi dari tiap kelompok kembali menjadi dataframe"
   ]
  },
  {
   "cell_type": "markdown",
   "metadata": {
    "id": "fxlql4qkuqbF"
   },
   "source": [
    "Melakukan inspeksi data dengan berikut ini:\n",
    "\n",
    "```python\n",
    "import pandas as pd\n",
    "# Load data global_air_quality.csv\n",
    "global_air_quality = pd.read_csv('https://storage.googleapis.com/dqlab-dataset/LO4/global_air_quality_4000rows.csv')\n",
    "print('Lima data teratas:\\n', global_air_quality.head())\n",
    "# Melakukan pengecekan terhadap data\n",
    "print('Info global_air_quality:\\n', global_air_quality.info())\n",
    "# Melakukan count tanpa groupby\n",
    "print('Count tanpa groupby:\\n', global_air_quality.count())\n",
    "# Melakukan count dengan groupby \n",
    "gaq_groupby_count = global_air_quality.groupby('source_name').count()\n",
    "print('Count dengan groupby (5 data teratas):\\n', gaq_groupby_count.head())\n",
    "```\n",
    "\n"
   ]
  },
  {
   "cell_type": "code",
   "execution_count": null,
   "metadata": {
    "id": "DcYvCTu7tXtR"
   },
   "outputs": [],
   "source": [
    "# Silahkan dicoba disini\n",
    "\n"
   ]
  },
  {
   "cell_type": "markdown",
   "metadata": {
    "id": "Ja9L2utcu6RU"
   },
   "source": [
    "Proses grouping dengan aggregasi tertentu dimana\n",
    "\n",
    "```python\n",
    "import pandas as pd\n",
    "# Load data global_air_quality.csv\n",
    "gaq = pd.read_csv('https://storage.googleapis.com/dqlab-dataset/LO4/global_air_quality_4000rows.csv')\n",
    "# Create variabel pollutant \n",
    "pollutant = gaq[['country', 'city', 'pollutant', 'value']].pivot_table(index=['country', 'city'],columns='pollutant').fillna(0)\n",
    "print('Data pollutant (5 teratas):\\n', pollutant.head())\n",
    "# [1] Group berdasarkan country dan terapkan aggregasi mean\n",
    "pollutant_mean = pollutant.groupby('country').mean()\n",
    "print('Rata-rata pollutant (5 teratas):\\n', pollutant_mean.head())\n",
    "# [2] Group berdasarkan country dan terapkan aggregasi std\n",
    "pollutant_std = pollutant.groupby('country').std().fillna(0)\n",
    "print('Standar deviasi pollutant (5 teratas):\\n', pollutant_std.head())\n",
    "```\n",
    "\n"
   ]
  },
  {
   "cell_type": "code",
   "execution_count": null,
   "metadata": {
    "id": "uwz4qiwUvAan"
   },
   "outputs": [],
   "source": [
    "# Silahkan dicoba disini\n",
    "\n"
   ]
  },
  {
   "cell_type": "markdown",
   "metadata": {
    "id": "x8KIYUPHvKQK"
   },
   "source": [
    "Proses grouping dengan aggregasi statistik\n",
    "\n",
    "```python\n",
    "import pandas as pd\n",
    "# Load data https://storage.googleapis.com/dqlab-dataset/LO4/global_air_quality_4000rows.csv\n",
    "gaq = pd.read_csv('https://storage.googleapis.com/dqlab-dataset/LO4/global_air_quality_4000rows.csv')\n",
    "# Create variabel pollutant \n",
    "pollutant = gaq[['country','city','pollutant','value']].pivot_table(index=['country','city'],columns='pollutant').fillna(0)\n",
    "print('Data pollutant (5 teratas):\\n', pollutant.head())\n",
    "# [3] Group berdasarkan country dan terapkan aggregasi sum\n",
    "pollutant_sum = pollutant.groupby('country').sum()\n",
    "print('Total pollutant (5 teratas):\\n', pollutant_sum.head())\n",
    "# [4] Group berdasarkan country dan terapkan aggregasi nunique\n",
    "pollutant_nunique = pollutant.groupby('country').nunique()\n",
    "print('Jumlah unique value pollutant (5 teratas):\\n', pollutant_nunique.head())\n",
    "```\n",
    "\n"
   ]
  },
  {
   "cell_type": "code",
   "execution_count": null,
   "metadata": {
    "id": "pnj_xQ1avPXd"
   },
   "outputs": [],
   "source": [
    "# Silahkan dicoba disini\n",
    "\n"
   ]
  },
  {
   "cell_type": "markdown",
   "metadata": {
    "id": "JdHnLWnfvQly"
   },
   "source": [
    "Proses grouping dengan aggregasi statistik 2\n",
    "\n",
    "```python\n",
    "import pandas as pd\n",
    "# Load data https://storage.googleapis.com/dqlab-dataset/LO4/global_air_quality_4000rows.csv\n",
    "gaq = pd.read_csv('https://storage.googleapis.com/dqlab-dataset/LO4/global_air_quality_4000rows.csv')\n",
    "# Create variabel pollutant \n",
    "pollutant = gaq[['country','city','pollutant','value']].pivot_table(index=['country','city'],columns='pollutant').fillna(0)\n",
    "print('Data pollutant (5 teratas):\\n', pollutant.head())\n",
    "# Group berdasarkan country dan terapkan aggregasi first\n",
    "pollutant_first = pollutant.groupby('country').first()\n",
    "print('Item pertama pollutant (5 teratas):\\n', pollutant_first.head())\n",
    "# Group berdasarkan country dan terapkan aggregasi last\n",
    "pollutant_last = pollutant.groupby('country').last()\n",
    "print('Item terakhir pollutant (5 teratas):\\n', pollutant_last.head())\n",
    "```\n",
    "\n"
   ]
  },
  {
   "cell_type": "code",
   "execution_count": null,
   "metadata": {
    "id": "75_AUT5GvdPd"
   },
   "outputs": [],
   "source": [
    "# Silahkan dicoba disini\n",
    "\n"
   ]
  },
  {
   "cell_type": "markdown",
   "metadata": {
    "id": "iw8F6KHhvikU"
   },
   "source": [
    "Grouping dengan multiple aggregat 1\n",
    "\n",
    "```python\n",
    "import pandas as pd\n",
    "# Load data https://storage.googleapis.com/dqlab-dataset/LO4/global_air_quality_4000rows.csv\n",
    "gaq = pd.read_csv('https://storage.googleapis.com/dqlab-dataset/LO4/global_air_quality_4000rows.csv')\n",
    "# Create variabel pollutant \n",
    "pollutant = gaq[['country','city','pollutant','value']].pivot_table(index=['country','city'],columns='pollutant').fillna(0)\n",
    "print('Data pollutant (5 teratas):\\n', pollutant.head())\n",
    "# Group berdasarkan country dan terapkan aggregasi: min, median, mean, max\n",
    "multiagg = pollutant.groupby('country').agg(['min','median','mean', 'max'])\n",
    "print('Multiple aggregations (5 teratas):\\n', multiagg.head())\n",
    "```\n",
    "\n"
   ]
  },
  {
   "cell_type": "code",
   "execution_count": null,
   "metadata": {
    "id": "mlZ0mJkDvskO"
   },
   "outputs": [],
   "source": [
    "# Silahkan dicoba disini\n",
    "\n"
   ]
  },
  {
   "cell_type": "markdown",
   "metadata": {
    "id": "50hIsxj1vvf_"
   },
   "source": [
    "Grouping dengan multiple aggregat 2\n",
    "\n",
    "```python\n",
    "import pandas as pd\n",
    "# Load data https://storage.googleapis.com/dqlab-dataset/LO4/global_air_quality_4000rows.csv\n",
    "gaq = pd.read_csv('https://storage.googleapis.com/dqlab-dataset/LO4/global_air_quality_4000rows.csv')\n",
    "# Create variabel pollutant \n",
    "pollutant = gaq[['country','city','pollutant','value']].pivot_table(index=['country','city'],columns='pollutant').fillna(0)\n",
    "# Create sebuah function: iqr\n",
    "def iqr(series):\n",
    "\tQ1 = series.quantile(0.25)\n",
    "\tQ3 = series.quantile(0.75)\n",
    "\treturn Q3 - Q1\n",
    "# Group berdasarkan country dan terapkan aggregasi dari function: iqr\n",
    "custom_agg = pollutant.groupby('country').agg(iqr)\n",
    "print('Custom aggregation (5 teratas):\\n', custom_agg.head())\n",
    "```\n",
    "\n"
   ]
  },
  {
   "cell_type": "code",
   "execution_count": null,
   "metadata": {
    "id": "G7czDYKlv0AB"
   },
   "outputs": [],
   "source": [
    "# Silahkan dicoba disini\n",
    "\n"
   ]
  },
  {
   "cell_type": "markdown",
   "metadata": {
    "id": "jk3Y81Ihv1Wp"
   },
   "source": [
    "Grouping dengan multiple aggregat dengan dict\n",
    "\n",
    "```python\n",
    "import pandas as pd\n",
    "# Load data https://storage.googleapis.com/dqlab-dataset/LO4/global_air_quality_4000rows.csv\n",
    "gaq = pd.read_csv('https://storage.googleapis.com/dqlab-dataset/LO4/global_air_quality_4000rows.csv')\n",
    "# Create variabel pollutant \n",
    "pollutant = gaq[['country','city','pollutant','value']].pivot_table(index=['country','city'],columns='pollutant').fillna(0)\n",
    "print('Data pollutant (5 teratas):\\n', pollutant.head())\n",
    "# Function IQR\n",
    "def iqr(series):\n",
    "\treturn series.quantile(0.75) - series.quantile(0.25)\n",
    "# Create custom aggregation using dict\n",
    "custom_agg_dict = pollutant['value'][['pm10', 'pm25', 'so2']].groupby('country').agg({\n",
    "   'pm10':'median',\n",
    "   'pm25':iqr,\n",
    "   'so2':iqr\n",
    "})\n",
    "print('\\nCetak 5 data teratas custom_agg_dict:\\n', custom_agg_dict.head())\n",
    "```\n",
    "\n"
   ]
  },
  {
   "cell_type": "code",
   "execution_count": null,
   "metadata": {
    "id": "1D7wyBqcwBoY"
   },
   "outputs": [],
   "source": [
    "# Silahkan dicoba disini\n",
    "\n"
   ]
  },
  {
   "cell_type": "markdown",
   "metadata": {
    "id": "zo5xEkzpwDxg"
   },
   "source": [
    "Manakah polutant tertinggi?\n",
    "\n",
    "\n",
    "```python\n",
    "import pandas as pd\n",
    "gaq = pd.read_csv('https://storage.googleapis.com/dqlab-dataset/LO4/global_air_quality_4000rows.csv')\n",
    "gaq['timestamp'] = pd.to_datetime(gaq['timestamp'])\n",
    "gaq = gaq.set_index('timestamp')\n",
    "pollutant = gaq.groupby('pollutant')['value'].mean().sort_values(ascending=False)\n",
    "print(pollutant)\n",
    "```\n",
    "\n"
   ]
  },
  {
   "cell_type": "code",
   "execution_count": null,
   "metadata": {
    "id": "bLlvYE9Pwjhf"
   },
   "outputs": [],
   "source": [
    "# Silahkan dicoba disini\n",
    "\n"
   ]
  }
 ],
 "metadata": {
  "colab": {
   "collapsed_sections": [],
   "name": "day8-datamanipulation.ipynb",
   "provenance": []
  },
  "kernelspec": {
   "display_name": "Python 3 (ipykernel)",
   "language": "python",
   "name": "python3"
  },
  "language_info": {
   "codemirror_mode": {
    "name": "ipython",
    "version": 3
   },
   "file_extension": ".py",
   "mimetype": "text/x-python",
   "name": "python",
   "nbconvert_exporter": "python",
   "pygments_lexer": "ipython3",
   "version": "3.8.12"
  },
  "toc": {
   "base_numbering": 1,
   "nav_menu": {},
   "number_sections": true,
   "sideBar": true,
   "skip_h1_title": false,
   "title_cell": "Table of Contents",
   "title_sidebar": "Contents",
   "toc_cell": false,
   "toc_position": {},
   "toc_section_display": true,
   "toc_window_display": true
  }
 },
 "nbformat": 4,
 "nbformat_minor": 1
}
