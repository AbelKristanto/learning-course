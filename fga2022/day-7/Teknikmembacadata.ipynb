{
 "cells": [
  {
   "cell_type": "markdown",
   "metadata": {
    "id": "-OukKoesldZz"
   },
   "source": [
    "## Teknik Membaca Dataset\n",
    "\n",
    "Pandas menyediakan berbagai method untuk membaca file tersebut hanya dengan dipanggil method itu, code yang lebih simple dan loading yang lebih, tentu saja output nya dapat berupa Series atau Dataframe.\n",
    "\n",
    "Terdapat sangat banyak file yang dapat dibaca/dapat disimpan oleh Pandas, tapi ada beberapa file yang paling umum dan sering digunakan oleh praktisi data seperti berikut ini:\n",
    "\n",
    "1. **CSV (Comma Separated Values)**, antar data dalam satu baris dipisahkan oleh comma, \",\".\n",
    "2. **TSV (Tab Separated Values)**, antar data dalam satu baris dipisahkan oleh \"Tab\".\n",
    "\n",
    "CSV dan TSV pada hakikatnya adalah tipe data text dengan perbedaan terletak pada pemisah antar data dalam satu baris. Pada file CSV, antar data dalam satu baris dipisahkan oleh comma, \",\". Namun, pada file TSV antar data dalam satu baris dipisahkan oleh \"Tab\".\n",
    "\n",
    "Function yang digunakan:\n",
    "\n",
    "**.read_csv()** digunakan untuk membaca file yang value-nya dipisahkan oleh comma (default), terkadang pemisah value-nya bisa di set ‘\\t’ untuk file tsv (tab separated values).\n",
    "\n",
    "```python\n",
    "import pandas as pd\n",
    "# File CSV\n",
    "df_csv = pd.read_csv(\"https://storage.googleapis.com/dqlab-dataset/sample_csv.csv\")\n",
    "print(df_csv.head(3)) # Menampilkan 3 data teratas\n",
    "# File TSV\n",
    "df_tsv = pd.read_csv(\"https://storage.googleapis.com/dqlab-dataset/sample_tsv.tsv\", sep='\\t')\n",
    "print(df_tsv.head(3)) # Menampilkan 3 data teratas\n",
    "```\n",
    "\n"
   ]
  },
  {
   "cell_type": "code",
   "execution_count": null,
   "metadata": {
    "colab": {
     "base_uri": "https://localhost:8080/"
    },
    "id": "cudfmQrplwwQ",
    "outputId": "b4124fb9-4720-4120-81dd-08bd4245e7ce"
   },
   "outputs": [
    {
     "name": "stdout",
     "output_type": "stream",
     "text": [
      "   order_id  order_date  customer_id             city     province product_id  \\\n",
      "0   1612339  2019-01-01        18055  Jakarta Selatan  DKI Jakarta      P0648   \n",
      "1   1612339  2019-01-01        18055  Jakarta Selatan  DKI Jakarta      P3826   \n",
      "2   1612339  2019-01-01        18055  Jakarta Selatan  DKI Jakarta      P1508   \n",
      "\n",
      "     brand  quantity  item_price  \n",
      "0  BRAND_C         4     1934000  \n",
      "1  BRAND_V         8      604000  \n",
      "2  BRAND_G        12      747000  \n",
      "   order_id  order_date  customer_id             city     province product_id  \\\n",
      "0   1612339  2019-01-01        18055  Jakarta Selatan  DKI Jakarta      P0648   \n",
      "1   1612339  2019-01-01        18055  Jakarta Selatan  DKI Jakarta      P3826   \n",
      "2   1612339  2019-01-01        18055  Jakarta Selatan  DKI Jakarta      P1508   \n",
      "\n",
      "     brand  quantity  item_price  \n",
      "0  BRAND_C         4     1934000  \n",
      "1  BRAND_V         8      604000  \n",
      "2  BRAND_G        12      747000  \n"
     ]
    }
   ],
   "source": [
    "# Silahkan dicoba disini\n",
    "\n"
   ]
  },
  {
   "cell_type": "markdown",
   "metadata": {
    "id": "p7hnGBsLmHtN"
   },
   "source": [
    "3. **Excel** dengan ekstensi *.xls atau *.xlsx cukup banyak digunakan dalam menyimpan data. Pandas juga memiliki fitur untuk membaca file excel. \n",
    "\n",
    "Function yang digunakan:\n",
    "**.read_excel()** digunakan untuk membaca file excel menjadi dataframe pandas.\n",
    "\n",
    "```python\n",
    "import pandas as pd\n",
    "# File xlsx dengan data di sheet \"test\"\n",
    "df_excel = pd.read_excel(\"https://storage.googleapis.com/dqlab-dataset/sample_excel.xlsx\", sheet_name=\"test\")\n",
    "print(df_excel.head(4)) # Menampilkan 4 data teratas\n",
    "```\n",
    "\n"
   ]
  },
  {
   "cell_type": "code",
   "execution_count": null,
   "metadata": {
    "id": "o2KL2SnSoWRN"
   },
   "outputs": [],
   "source": [
    "# Silahkan dicoba disini\n",
    "\n"
   ]
  },
  {
   "cell_type": "markdown",
   "metadata": {
    "id": "WCh3mM8soW_u"
   },
   "source": [
    "4. **JSON (Java Script Object Notation)** digunakan untuk membaca URL API yang formatnya JSON dan mengubahnya menjadi dataframe pandas.\n",
    "\n",
    "```python\n",
    "import pandas as pd\n",
    "# File JSON\n",
    "url = \"https://storage.googleapis.com/dqlab-dataset/covid2019-api-herokuapp-v2.json\"\n",
    "df_json = pd.read_json(url)\n",
    "print(df_json.head(10)) # Menampilkan 10 data teratas\n",
    "```\n",
    "\n"
   ]
  },
  {
   "cell_type": "code",
   "execution_count": null,
   "metadata": {
    "id": "PwQoutoBolDF"
   },
   "outputs": [],
   "source": [
    "# Silahkan dicoba disini\n",
    "\n"
   ]
  },
  {
   "cell_type": "markdown",
   "metadata": {
    "id": "LSlJJabwrgZs"
   },
   "source": [
    "5. **SQL Query** digunakan untuk membaca query dari database dan translate menjadi. Function yang digunakan: .read_sql() atau .read_sql_query().\n",
    "\n",
    "```python\n",
    "# persiapkan library yang digunakan\n",
    "import psycopg2 as pg\n",
    "import pandas.io.sql as psql\n",
    "import pandas as pd\n",
    "# Bangun konektivitas\n",
    "host = \"ec2-54-164-22-242.compute-1.amazonaws.com\"\n",
    "dbname = \"d92sarup3qlji0\"\n",
    "user = \"fttxsdmckdfikz\"\n",
    "password = \"c5561e667cd292f382a0e437807e05c89fba1b894dddff1e77e07befe8a866ac\"\n",
    "connection = pg.connect(f\"host={host} dbname={dbname} user={user} password={password}\")\n",
    "my_query = \"\"\"\n",
    "SELECT *\n",
    "FROM orders;\"\"\"\n",
    "# Bentuk pertama\n",
    "df_loan = pd.read_sql_query(my_query, connection)\n",
    "df_loan.head()\n",
    "# Bentuk kedua\n",
    "df_loan = pd.read_sql(my_query, connection)\n",
    "df_loan.head()\n",
    "```\n",
    "\n"
   ]
  },
  {
   "cell_type": "code",
   "execution_count": null,
   "metadata": {
    "id": "FqTu30-7M4YT"
   },
   "outputs": [],
   "source": [
    "# Silahkan dicoba disini\n",
    "\n"
   ]
  },
  {
   "cell_type": "markdown",
   "metadata": {
    "id": "mMIGvXIzmHyN"
   },
   "source": [
    "6. **Google BigQuery** digunakan apabila terdapat data yang besar, salah satu fungsi yang digunakan adalah **.read_gbq()** untuk membaca Google BigQuery table menjadi dataframe pandas.\n",
    "\n",
    "\n",
    "```python\n",
    "import pandas as pd\n",
    "query = \"\"\"\n",
    "SELECT *\n",
    "FROM `bigquery-public-data.covid19_jhu_csse_eu.summary`\n",
    "LIMIT 1000;\"\"\"\n",
    "df_covid19_eu_summary = pd.read_gbq(query, project_id=\"XXXXXXXX\")\n",
    "df_covid19_eu_summary\n",
    "\n",
    "##### CONTOH LAINNYA #####\n",
    "def test_pandas_gbq_query_bqstorage():\n",
    "    # [START bigquery_migration_pandas_gbq_query_bqstorage]\n",
    "    import pandas\n",
    "\n",
    "    sql = \"SELECT * FROM `bigquery-public-data.irs_990.irs_990_2012`\"\n",
    "\n",
    "    # Use the BigQuery Storage API to download results more quickly.\n",
    "    df = pandas.read_gbq(sql, dialect='standard', use_bqstorage_api=True)\n",
    "```\n",
    "\n"
   ]
  },
  {
   "cell_type": "markdown",
   "metadata": {
    "id": "Q_-pMdA_RdeP"
   },
   "source": [
    "Proses penyimpanan dataset yang sudah jadi dengan:\n",
    "1. **.to_csv()** digunakan untuk export dataframe kembali ke csv atau tsv\n",
    "\n",
    "```python\n",
    "# Mengubah ke penyimpanan\n",
    "df_csv.to_csv(\"datatocsv.csv\", index=False)\n",
    "df_tsv.to_csv(\"datatotsv.csv\", index=False, sep='\\t')\n",
    "```\n",
    "\n"
   ]
  },
  {
   "cell_type": "code",
   "execution_count": null,
   "metadata": {
    "id": "f-WcicmhSIiw"
   },
   "outputs": [],
   "source": [
    "# Silahkan dicoba disini\n",
    "\n"
   ]
  },
  {
   "cell_type": "markdown",
   "metadata": {
    "id": "3dduv9hbSJxF"
   },
   "source": [
    "2. **.to_clipboard()** export dataframe menjadi bahan copy jadi nanti bisa tinggal klik paste di excel atau google sheets.\n",
    "\n",
    "```python\n",
    "df_csv.to_clipboard(excel = False)\n",
    "df_csv.to_clipboard(excel = True)\n",
    "```\n",
    "\n"
   ]
  },
  {
   "cell_type": "markdown",
   "metadata": {
    "id": "IpA2YgJ_UyVM"
   },
   "source": [
    "3. **.to_excel()** export dataframe menjadi file excel\n",
    "\n",
    "```python\n",
    "df_excel.to_excel(\"datatoexcel.xlsx\", index=False)\n",
    "```\n",
    "\n"
   ]
  },
  {
   "cell_type": "code",
   "execution_count": null,
   "metadata": {
    "id": "3h7FVSsOU99N"
   },
   "outputs": [],
   "source": [
    "# Silahkan dicoba disini\n",
    "\n"
   ]
  },
  {
   "cell_type": "markdown",
   "metadata": {
    "id": "bwahsxXrVAgt"
   },
   "source": [
    "4. **.to_gbq()** export dataframe menjadi table di Google BigQuery\n",
    "\n",
    "```python\n",
    "df.to_gbq(\"temp.test\", project_id=\"XXXXXX\", if_exists=\"fail\")\n",
    "## temp: nama dataset,\n",
    "## test: nama table\n",
    "## if_exists: ketika tabel dengan dataset.table_name yang sama sudah ada, apa action yang ingin dilakukan\n",
    "## (\"fail\": tidak melakukan apa-apa,\n",
    "##  \"replace': membuang tabel yang sudah ada dan mengganti yang baru,\n",
    "##  \"append\": menambah baris di tabel tersebut dengan data yang baru)\n",
    "```\n",
    "\n"
   ]
  },
  {
   "cell_type": "markdown",
   "metadata": {
    "id": "uGZvnMVGVZn_"
   },
   "source": [
    "Proses membaca data dapat dilakukan dengan:\n",
    "1. **.head()** ditujukan untuk membatasi tampilan jumlah baris teratas dari dataset.\n",
    "2. **.tail()** ditujukan untuk membatasi jumlah baris terbawah dari dataset\n",
    "\n",
    "Dimana keduanya default n=5 untuk menampilkan data.\n",
    "\n",
    "```python\n",
    "import pandas as pd\n",
    "# Baca file sample_csv.csv\n",
    "df = pd.read_csv(\"https://storage.googleapis.com/dqlab-dataset/sample_csv.csv\")\n",
    "# Tampilkan 3 data teratas\n",
    "print(\"Tiga data teratas:\\n\", df.head(3))\n",
    "# Tampilkan 3 data terbawah\n",
    "print(\"Tiga data terbawah:\\n\", df.tail(3))\n",
    "```\n",
    "\n"
   ]
  },
  {
   "cell_type": "code",
   "execution_count": null,
   "metadata": {
    "id": "8GoZVFE2VSkX"
   },
   "outputs": [],
   "source": [
    "# Silahkan dicoba disini\n",
    "\n"
   ]
  },
  {
   "cell_type": "markdown",
   "metadata": {
    "id": "P2Sw3RutV7jr"
   },
   "source": [
    "Lakukan analisis dengan menggunakan BigQuery karena ada beberapa data BigQuery public datasets yang informasinya akurat dan sudah banyak data point-nya sehingga sudah bisa digunakan.\n",
    "\n",
    "Tapi masalahnya, ada beberapa data adhoc yang bergantung tim lain yang belum terlalu melek data dan datanya masih disimpan dalam bentuk CSV.\n",
    "\n",
    "Bagaimana langkah efektif yang dapat diambil untuk melakukan analisis gabungan data dari BigQuery dan CSV?\n",
    "\n",
    "1. Upload data CSV ke BigQuery, lakukan analisis di dalam BigQuery/export to pandas menggunakan pd.read_gbq\n",
    "2. Export data BigQuery menggunakan pd.read_gbq as dataframe, kemudian baca file csv menggunakan pd.read_csv dan akhirnya melakukan analisis gabungan di python"
   ]
  }
 ],
 "metadata": {
  "colab": {
   "collapsed_sections": [],
   "name": "day8-datamanipulation.ipynb",
   "provenance": [],
   "toc_visible": true
  },
  "kernelspec": {
   "display_name": "Python 3 (ipykernel)",
   "language": "python",
   "name": "python3"
  },
  "language_info": {
   "codemirror_mode": {
    "name": "ipython",
    "version": 3
   },
   "file_extension": ".py",
   "mimetype": "text/x-python",
   "name": "python",
   "nbconvert_exporter": "python",
   "pygments_lexer": "ipython3",
   "version": "3.8.12"
  },
  "toc": {
   "base_numbering": 1,
   "nav_menu": {},
   "number_sections": true,
   "sideBar": true,
   "skip_h1_title": false,
   "title_cell": "Table of Contents",
   "title_sidebar": "Contents",
   "toc_cell": false,
   "toc_position": {},
   "toc_section_display": true,
   "toc_window_display": true
  }
 },
 "nbformat": 4,
 "nbformat_minor": 1
}
