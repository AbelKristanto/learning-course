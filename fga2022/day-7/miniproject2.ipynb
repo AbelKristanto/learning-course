{
 "cells": [
  {
   "cell_type": "markdown",
   "metadata": {
    "id": "0YHJ48jOzSD_"
   },
   "source": [
    "## Mini Project 2\n",
    "\n",
    "Disini kita akan mencoba secara bertahap\n",
    "\n",
    "```python\n",
    "import pandas as pd\n",
    "import matplotlib.pyplot as plt\n",
    "\n",
    "# [1]. Load masing-masing data dengan pandas\n",
    "retail_data1 = pd.read_csv('https://storage.googleapis.com/dqlab-dataset/10%25_original_randomstate%3D42/retail_data_from_1_until_3_reduce.csv')\n",
    "retail_data2 = pd.read_csv('https://storage.googleapis.com/dqlab-dataset/10%25_original_randomstate%3D42/retail_data_from_4_until_6_reduce.csv')\n",
    "retail_data3 = pd.read_csv('https://storage.googleapis.com/dqlab-dataset/10%25_original_randomstate%3D42/retail_data_from_7_until_9_reduce.csv')\n",
    "retail_data4 = pd.read_csv('https://storage.googleapis.com/dqlab-dataset/10%25_original_randomstate%3D42/retail_data_from_10_until_12_reduce.csv')\n",
    "\n",
    "# [2]. Pengecekan Data\n",
    "print('PENGECEKAN DATA\\n\\n')\n",
    "#      Cek data sekilas (tampilkan 5 baris teratas)\n",
    "print(retail_data1.head())\n",
    "#      Cek list kolom untuk semua dataframe\n",
    "print('Kolom retail_data1: %s' %retail_data1.columns)\n",
    "print('Kolom retail_data2: %s' %retail_data2.columns)\n",
    "print('Kolom retail_data3: %s' %retail_data3.columns)\n",
    "print('Kolom retail_data4: %s' %retail_data4.columns)\n",
    "#      Concat multiple dataframe menjadi 1 dataframe\n",
    "retail_table = pd.concat([retail_data1, retail_data2, retail_data3, retail_data4])\n",
    "print('\\nJumlah baris:', retail_table.shape[0])\n",
    "#      Pengecekan dataframe info\n",
    "print('\\nInfo:')\n",
    "print(retail_table.info())\n",
    "#      Pengecekan statistik deskriptif\n",
    "print('\\nStatistik deskriptif:\\n', retail_table.describe())\n",
    "```\n",
    "\n"
   ]
  },
  {
   "cell_type": "code",
   "execution_count": null,
   "metadata": {
    "id": "HNYrjKpJzJvj"
   },
   "outputs": [],
   "source": [
    "# Silahkan dicoba disini\n",
    "\n"
   ]
  },
  {
   "cell_type": "markdown",
   "metadata": {
    "id": "TMUh9_eizt4Q"
   },
   "source": [
    "**Transformasi Data** dimana Jika ada data yang tidak seharusnya maka dapat dibuang, Jika ada kolom yang seharusnya bertipe datetime64 ubahlah.\n",
    "\n",
    "```python\n",
    "import pandas as pd\n",
    "import matplotlib.pyplot as plt\n",
    "\n",
    "retail_data1 = pd.read_csv('https://storage.googleapis.com/dqlab-dataset/10%25_original_randomstate%3D42/retail_data_from_1_until_3_reduce.csv')\n",
    "retail_data2 = pd.read_csv('https://storage.googleapis.com/dqlab-dataset/10%25_original_randomstate%3D42/retail_data_from_4_until_6_reduce.csv')\n",
    "retail_data3 = pd.read_csv('https://storage.googleapis.com/dqlab-dataset/10%25_original_randomstate%3D42/retail_data_from_7_until_9_reduce.csv')\n",
    "retail_data4 = pd.read_csv('https://storage.googleapis.com/dqlab-dataset/10%25_original_randomstate%3D42/retail_data_from_10_until_12_reduce.csv')\n",
    "\n",
    "retail_table = pd.concat([retail_data1, retail_data2, retail_data3, retail_data4])\n",
    "\n",
    "# [3]. Transformasi Data\n",
    "print('TRANSFORMASI DATA\\n\\n')\n",
    "#      Memastikan data yang memiliki item_price < 0 atau total_price < 0\n",
    "cek = retail_table.loc[(retail_table['item_price'] < 0) | (retail_table['total_price'] < 0)]\n",
    "print('\\nitem_price < 0 atau total_price < 0:\\n', cek)\n",
    "#      Jika tidak masuk akal datanya dapat dibuang\n",
    "if cek.shape[0] != 0:\n",
    "\tretail_table = retail_table.loc[(retail_table['item_price'] > 0) & (retail_table['total_price'] > 0)]\n",
    "#      Cek apakah masih ada order_id yang bernilai undefined dan delete row tersebut\n",
    "cek = retail_table.loc[retail_table['order_id'] == 'undefined']\n",
    "print('\\norder_id yang bernilai undefined:\\n', cek)\n",
    "#      Jika ada maka buang baris tersebut\n",
    "if cek.shape[0] != 0:\n",
    "\tretail_table = retail_table.loc[retail_table['order_id'] != 'undefined']\n",
    "\n",
    "#      Transform order_id menjadi int64\n",
    "retail_table['order_id'] = retail_table['order_id'].astype('int64')\n",
    "#      Transform order_date menjadi datetime Pandas\n",
    "retail_table['order_date'] = pd.to_datetime(retail_table['order_date'])\n",
    "#      Cek dataframe info kembali untuk memastikan\n",
    "print('\\nInfo:')\n",
    "print(retail_table.info())\n",
    "#      Cek statistik deskriptif kembali, untuk memastikan\n",
    "print('\\nStatistik deskriptif:\\n', retail_table.describe())\n",
    "```\n",
    "\n"
   ]
  },
  {
   "cell_type": "code",
   "execution_count": null,
   "metadata": {
    "id": "MO6E6vzzz09N"
   },
   "outputs": [],
   "source": [
    "# Silahkan dicoba disini\n",
    "\n"
   ]
  },
  {
   "cell_type": "markdown",
   "metadata": {
    "id": "FSzXI9u90ESI"
   },
   "source": [
    "Penggelompokan dataset\n",
    "\n",
    "```python\n",
    "import pandas as pd\n",
    "import matplotlib.pyplot as plt\n",
    "\n",
    "retail_data1 = pd.read_csv('https://storage.googleapis.com/dqlab-dataset/10%25_original_randomstate%3D42/retail_data_from_1_until_3_reduce.csv')\n",
    "retail_data2 = pd.read_csv('https://storage.googleapis.com/dqlab-dataset/10%25_original_randomstate%3D42/retail_data_from_4_until_6_reduce.csv')\n",
    "retail_data3 = pd.read_csv('https://storage.googleapis.com/dqlab-dataset/10%25_original_randomstate%3D42/retail_data_from_7_until_9_reduce.csv')\n",
    "retail_data4 = pd.read_csv('https://storage.googleapis.com/dqlab-dataset/10%25_original_randomstate%3D42/retail_data_from_10_until_12_reduce.csv')\n",
    "\n",
    "retail_table = pd.concat([retail_data1, retail_data2, retail_data3, retail_data4])\n",
    "\n",
    "cek = retail_table.loc[(retail_table['item_price'] < 0) | (retail_table['total_price'] < 0)]\n",
    "if cek.shape[0] != 0:\n",
    "\tretail_table = retail_table.loc[(retail_table['item_price'] > 0) & (retail_table['total_price'] > 0)]\n",
    "\n",
    "cek = retail_table.loc[retail_table['order_id'] == 'undefined']\n",
    "if cek.shape[0] != 0:\n",
    "\tretail_table = retail_table.loc[retail_table['order_id'] != 'undefined']\n",
    "\n",
    "retail_table['order_id'] = retail_table['order_id'].astype('int64')\n",
    "retail_table['order_date'] = pd.to_datetime(retail_table['order_date'])\n",
    "\n",
    "# [4]. Filter hanya 5 province terbesar di pulau Jawa\n",
    "print('\\nFILTER 5 PROVINCE TERBESAR DI PULAU JAWA\\n')\n",
    "java = ['DKI Jakarta','Jawa Barat','Jawa Tengah','Jawa Timur','Yogyakarta']\n",
    "retail_table = retail_table.loc[retail_table['province'].isin(java)]\n",
    "#      Untuk memastikan kolom provinsi isinya sudah sama dengan java\n",
    "print(retail_table['province'].unique())\n",
    "\n",
    "# [5]. Kelompokkan sesuai dengan order_date dan province kemudian aggregasikan\n",
    "groupby_city_province = retail_table.groupby(['order_date', 'province']).agg({\n",
    "   'order_id': 'nunique',\n",
    "   'customer_id': 'nunique',\n",
    "   'product_id': 'nunique',\n",
    "   'brand': 'nunique',\n",
    "   'total_price': sum\n",
    "})\n",
    "#      Ubah nama kolomnya menjadi 'order','customer','product','brand','GMV'\n",
    "groupby_city_province.columns = ['order','customer','product','brand','GMV']\n",
    "print('\\ngroupby_city_province (10 data teratas):\\n', groupby_city_province.head(10))\n",
    "\n",
    "# [6]. Unstack untuk mendapatkan order_date di bagian baris dan province di bagian column\n",
    "unstack_city_province = groupby_city_province.unstack('province').fillna(0)\n",
    "print('\\nunstack_city_province (5 data teratas):\\n', unstack_city_province.head())\n",
    "```\n",
    "\n"
   ]
  },
  {
   "cell_type": "code",
   "execution_count": null,
   "metadata": {
    "id": "_uoTrDAO0JhX"
   },
   "outputs": [],
   "source": [
    "# Silahkan dicoba disini\n",
    "\n"
   ]
  },
  {
   "cell_type": "markdown",
   "metadata": {
    "id": "eyQcXOQK0T4r"
   },
   "source": [
    "Slicing dan resampling\n",
    "\n",
    "```python\n",
    "import pandas as pd\n",
    "import matplotlib.pyplot as plt\n",
    "\n",
    "retail_data1 = pd.read_csv('https://storage.googleapis.com/dqlab-dataset/10%25_original_randomstate%3D42/retail_data_from_1_until_3_reduce.csv')\n",
    "retail_data2 = pd.read_csv('https://storage.googleapis.com/dqlab-dataset/10%25_original_randomstate%3D42/retail_data_from_4_until_6_reduce.csv')\n",
    "retail_data3 = pd.read_csv('https://storage.googleapis.com/dqlab-dataset/10%25_original_randomstate%3D42/retail_data_from_7_until_9_reduce.csv')\n",
    "retail_data4 = pd.read_csv('https://storage.googleapis.com/dqlab-dataset/10%25_original_randomstate%3D42/retail_data_from_10_until_12_reduce.csv')\n",
    "\n",
    "retail_table = pd.concat([retail_data1, retail_data2, retail_data3, retail_data4])\n",
    "\n",
    "cek = retail_table.loc[(retail_table['item_price'] < 0) | (retail_table['total_price'] < 0)]\n",
    "if cek.shape[0] != 0:\n",
    "\tretail_table = retail_table.loc[(retail_table['item_price'] > 0) & (retail_table['total_price'] > 0)]\n",
    "\n",
    "cek = retail_table.loc[retail_table['order_id'] == 'undefined']\n",
    "if cek.shape[0] != 0:\n",
    "\tretail_table = retail_table.loc[retail_table['order_id'] != 'undefined']\n",
    "\n",
    "retail_table['order_id'] = retail_table['order_id'].astype('int64')\n",
    "retail_table['order_date'] = pd.to_datetime(retail_table['order_date'])\n",
    "\n",
    "java = ['DKI Jakarta','Jawa Barat','Jawa Tengah','Jawa Timur','Yogyakarta']\n",
    "retail_table = retail_table.loc[retail_table['province'].isin(java)]\n",
    "\n",
    "groupby_city_province = retail_table.groupby(['order_date','province']).agg({\n",
    "   'order_id': 'nunique',\n",
    "   'customer_id': 'nunique',\n",
    "   'product_id': 'nunique',\n",
    "   'brand': 'nunique',\n",
    "   'total_price': sum\n",
    "})\n",
    "groupby_city_province.columns = ['order','customer','product','brand','GMV']\n",
    "\n",
    "unstack_city_province = groupby_city_province.unstack('province').fillna(0)\n",
    "\n",
    "# [7]. Slicing data untuk masing-masing measurement, misal: order\n",
    "idx = pd.IndexSlice\n",
    "by_order = unstack_city_province.loc[:,idx['order']]\n",
    "print('\\nby order (5 data teratas):\\n', by_order.head())\n",
    "\n",
    "# [8]. Lakukan resampling pada data tersebut untuk dilakukan perhitungan rata-rata bulanan \n",
    "by_order_monthly_mean = by_order.resample('M').mean()\n",
    "print('\\nby_order_monthly_mean (5 data teratas):\\n', by_order_monthly_mean.head())\n",
    "```\n",
    "\n"
   ]
  },
  {
   "cell_type": "code",
   "execution_count": null,
   "metadata": {
    "id": "T8n5L17D0X9D"
   },
   "outputs": [],
   "source": [
    "# Silahkan dicoba disini\n",
    "\n"
   ]
  },
  {
   "cell_type": "markdown",
   "metadata": {
    "id": "mD3tDVB-0ghG"
   },
   "source": [
    "Plotting hasil\n",
    "\n",
    "```python\n",
    "import pandas as pd\n",
    "import matplotlib.pyplot as plt\n",
    "\n",
    "retail_data1 = pd.read_csv('https://storage.googleapis.com/dqlab-dataset/10%25_original_randomstate%3D42/retail_data_from_1_until_3_reduce.csv')\n",
    "retail_data2 = pd.read_csv('https://storage.googleapis.com/dqlab-dataset/10%25_original_randomstate%3D42/retail_data_from_4_until_6_reduce.csv')\n",
    "retail_data3 = pd.read_csv('https://storage.googleapis.com/dqlab-dataset/10%25_original_randomstate%3D42/retail_data_from_7_until_9_reduce.csv')\n",
    "retail_data4 = pd.read_csv('https://storage.googleapis.com/dqlab-dataset/10%25_original_randomstate%3D42/retail_data_from_10_until_12_reduce.csv')\n",
    "\n",
    "retail_table = pd.concat([retail_data1, retail_data2, retail_data3, retail_data4])\n",
    "\n",
    "cek = retail_table.loc[(retail_table['item_price'] < 0) | (retail_table['total_price'] < 0)]\n",
    "if cek.shape[0] != 0:\n",
    "\tretail_table = retail_table.loc[(retail_table['item_price'] > 0) & (retail_table['total_price'] > 0)]\n",
    "\n",
    "cek = retail_table.loc[retail_table['order_id'] == 'undefined']\n",
    "if cek.shape[0] != 0:\n",
    "\tretail_table = retail_table.loc[retail_table['order_id'] != 'undefined']\n",
    "\n",
    "retail_table['order_id'] = retail_table['order_id'].astype('int64')\n",
    "retail_table['order_date'] = pd.to_datetime(retail_table['order_date'])\n",
    "\n",
    "java = ['DKI Jakarta','Jawa Barat','Jawa Tengah','Jawa Timur','Yogyakarta']\n",
    "retail_table = retail_table.loc[retail_table['province'].isin(java)]\n",
    "\n",
    "groupby_city_province = retail_table.groupby(['order_date','province']).agg({\n",
    "   'order_id': 'nunique',\n",
    "   'customer_id': 'nunique',\n",
    "   'product_id': 'nunique',\n",
    "   'brand': 'nunique',\n",
    "   'total_price': sum\n",
    "})\n",
    "groupby_city_province.columns = ['order','customer','product','brand','GMV']\n",
    "\n",
    "unstack_city_province = groupby_city_province.unstack('province').fillna(0)\n",
    "\n",
    "idx = pd.IndexSlice\n",
    "by_order = unstack_city_province.loc[:,idx['order']]\n",
    "by_order_monthly_mean = by_order.resample('M').mean()\n",
    "\n",
    "# [9]. Plot untuk hasil pada langkah #[8]\n",
    "by_order_monthly_mean.plot(\n",
    "   figsize = (8,5),\n",
    "   title = 'Average Daily order Size in Month View for all Province'\n",
    ")\n",
    "plt.ylabel('avg order size')\n",
    "plt.xlabel('month')\n",
    "plt.show()\n",
    "```\n",
    "\n"
   ]
  },
  {
   "cell_type": "code",
   "execution_count": null,
   "metadata": {
    "id": "TCKul5lt0kGI"
   },
   "outputs": [],
   "source": [
    "# Silahkan dicoba disini\n",
    "\n"
   ]
  },
  {
   "cell_type": "markdown",
   "metadata": {
    "id": "55mrtWvP0pcP"
   },
   "source": [
    "Finalisasi\n",
    "\n",
    "```python\n",
    "import pandas as pd\n",
    "import matplotlib.pyplot as plt\n",
    "\n",
    "retail_data1 = pd.read_csv('https://storage.googleapis.com/dqlab-dataset/10%25_original_randomstate%3D42/retail_data_from_1_until_3_reduce.csv')\n",
    "retail_data2 = pd.read_csv('https://storage.googleapis.com/dqlab-dataset/10%25_original_randomstate%3D42/retail_data_from_4_until_6_reduce.csv')\n",
    "retail_data3 = pd.read_csv('https://storage.googleapis.com/dqlab-dataset/10%25_original_randomstate%3D42/retail_data_from_7_until_9_reduce.csv')\n",
    "retail_data4 = pd.read_csv('https://storage.googleapis.com/dqlab-dataset/10%25_original_randomstate%3D42/retail_data_from_10_until_12_reduce.csv')\n",
    "\n",
    "retail_table = pd.concat([retail_data1, retail_data2, retail_data3, retail_data4])\n",
    "\n",
    "cek = retail_table.loc[(retail_table['item_price'] < 0) | (retail_table['total_price'] < 0)]\n",
    "if cek.shape[0] != 0:\n",
    "\tretail_table = retail_table.loc[(retail_table['item_price'] > 0) & (retail_table['total_price'] > 0)]\n",
    "\n",
    "cek = retail_table.loc[retail_table['order_id'] == 'undefined']\n",
    "if cek.shape[0] != 0:\n",
    "\tretail_table = retail_table.loc[retail_table['order_id'] != 'undefined']\n",
    "\n",
    "retail_table['order_id'] = retail_table['order_id'].astype('int64')\n",
    "retail_table['order_date'] = pd.to_datetime(retail_table['order_date'])\n",
    "\n",
    "java = ['DKI Jakarta','Jawa Barat','Jawa Tengah','Jawa Timur','Yogyakarta']\n",
    "retail_table = retail_table.loc[retail_table['province'].isin(java)]\n",
    "\n",
    "groupby_city_province = retail_table.groupby(['order_date','province']).agg({\n",
    "   'order_id': 'nunique',\n",
    "   'customer_id': 'nunique',\n",
    "   'product_id': 'nunique',\n",
    "   'brand': 'nunique',\n",
    "   'total_price': sum\n",
    "})\n",
    "groupby_city_province.columns = ['order','customer','product','brand','GMV']\n",
    "\n",
    "unstack_city_province = groupby_city_province.unstack('province').fillna(0)\n",
    "\n",
    "# Create figure canvas dan axes for 5 line plots\n",
    "fig, axes = plt.subplots(5, 1, figsize=(8, 25))\n",
    "\n",
    "# Slicing index\n",
    "idx = pd.IndexSlice\n",
    "for i, measurement in enumerate(groupby_city_province.columns):\n",
    "    # Slicing data untuk masing-masing measurement\n",
    "    by_measurement = unstack_city_province.loc[:,idx[measurement]]\n",
    "    # Lakukan resampling pada data tersebut untuk dilakukan perhitungan rata-rata bulanan \n",
    "    by_measurement_monthly_mean = by_measurement.resample('M').mean()\n",
    "    # Plot by_measurement_monthly_mean\n",
    "    by_measurement_monthly_mean.plot(\n",
    "        title = 'Average Daily ' + measurement + ' Size in Month View for all Province',\n",
    "        ax = axes[i]\n",
    "    )\n",
    "    axes[i].set_ylabel('avg ' + measurement + ' size')\n",
    "    axes[i].set_xlabel('month')\n",
    "\n",
    "# Adjust the layout and show the plot\n",
    "plt.tight_layout()\n",
    "plt.show()\n",
    "```\n",
    "\n"
   ]
  },
  {
   "cell_type": "code",
   "execution_count": null,
   "metadata": {
    "id": "92ePlZsX0vsm"
   },
   "outputs": [],
   "source": [
    "# Silahkan dicoba disini\n",
    "\n"
   ]
  },
  {
   "cell_type": "markdown",
   "metadata": {
    "id": "9JFbQOjF0-sP"
   },
   "source": [
    "Catatanku!\n",
    "\n",
    "1. Jikalau terdapat berbagai multiple source untuk extract 1 informasi, maka pastikan struktur datanya adalah sama, list column dan data types.\n",
    "2. Mengerti business understanding-nya sehingga jika diperlukan melakukan join maka bisa melakukan join dengan efektif dan tepat\n",
    "3. Mengerti tujuan analisisnya sehingga bisa melakukan aggregation dan transform data (pivot, melt, etc) data dengan tepat dan efektif\n",
    "4. Sebisa mungkin selalu set index pada kolom datetime sehingga slicing menjadi lebih mudah dan melakukan hal lain seperti downsampling ataupun upsampling\n",
    "5. Selalu gunakan automation jika memungkinkan karena itu akan mempermudah hidupmu dan menghemat waktu"
   ]
  }
 ],
 "metadata": {
  "colab": {
   "collapsed_sections": [],
   "name": "day8-datamanipulation.ipynb",
   "provenance": []
  },
  "kernelspec": {
   "display_name": "Python 3 (ipykernel)",
   "language": "python",
   "name": "python3"
  },
  "language_info": {
   "codemirror_mode": {
    "name": "ipython",
    "version": 3
   },
   "file_extension": ".py",
   "mimetype": "text/x-python",
   "name": "python",
   "nbconvert_exporter": "python",
   "pygments_lexer": "ipython3",
   "version": "3.8.12"
  },
  "toc": {
   "base_numbering": 1,
   "nav_menu": {},
   "number_sections": true,
   "sideBar": true,
   "skip_h1_title": false,
   "title_cell": "Table of Contents",
   "title_sidebar": "Contents",
   "toc_cell": false,
   "toc_position": {},
   "toc_section_display": true,
   "toc_window_display": true
  }
 },
 "nbformat": 4,
 "nbformat_minor": 1
}
