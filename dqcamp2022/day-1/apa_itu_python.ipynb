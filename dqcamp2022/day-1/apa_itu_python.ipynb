{
  "cells": [
    {
      "cell_type": "markdown",
      "id": "6f596d4a",
      "metadata": {
        "id": "6f596d4a"
      },
      "source": [
        "<h1>Apa itu python?</h1>\n",
        "<p>Di bagian ini kita akan membahas tentang bahasa python itu sendiri. Yuk mari belajar bersama!</p>"
      ]
    },
    {
      "cell_type": "markdown",
      "id": "d9c925f2",
      "metadata": {
        "id": "d9c925f2"
      },
      "source": [
        "![image.png](https://drive.google.com/uc?export=view&id=1K_cAz-FqBbmDF_M4q9XzQfL6odAhfVxT)"
      ]
    },
    {
      "cell_type": "markdown",
      "id": "d327c8ab",
      "metadata": {
        "id": "d327c8ab"
      },
      "source": [
        "![image.png](https://drive.google.com/uc?export=view&id=1KY7c10ONAqAvRKbHXCVTc8vS54CpDV_A)"
      ]
    },
    {
      "cell_type": "markdown",
      "id": "400a68d0",
      "metadata": {
        "id": "400a68d0"
      },
      "source": [
        "![image.png](https://drive.google.com/uc?export=view&id=15i9Q3S5qlAlGYN2DJ4i2EKJtkFeMZ7sh)"
      ]
    },
    {
      "cell_type": "markdown",
      "id": "d50e64a9",
      "metadata": {
        "id": "d50e64a9"
      },
      "source": [
        "![image.png](https://drive.google.com/uc?export=view&id=1WW1NTjy_DQ9-Ax7ajQlX41WNWbhuchkp)"
      ]
    },
    {
      "cell_type": "code",
      "execution_count": null,
      "id": "3ecebf3d",
      "metadata": {
        "ExecuteTime": {
          "end_time": "2022-03-03T13:21:47.094645Z",
          "start_time": "2022-03-03T13:21:47.089643Z"
        },
        "id": "3ecebf3d",
        "outputId": "20ea915e-3df8-4d78-bfbb-73b40a4f5e3b"
      },
      "outputs": [
        {
          "name": "stdout",
          "output_type": "stream",
          "text": [
            "Hello World!\n"
          ]
        }
      ],
      "source": [
        "# (single comment) Fungsi Pertama print()\n",
        "'''\n",
        "(multiple comment)\n",
        "Peran fungsi ini untuk menampilkan pesan\n",
        "'''\n",
        "print(\"Hello World!\")"
      ]
    },
    {
      "cell_type": "markdown",
      "id": "e13a75a1",
      "metadata": {
        "id": "e13a75a1"
      },
      "source": [
        "<p>Selanjutnya kita akan mencoba untuk menuliskan berikut di jupyter notebook masing-masing</p>\n",
        "\n",
        "```Python\n",
        "print(\"Hallo, semua!\")\n",
        "print(\"Perkenalkan namaku, ....., saya asal dari ....\")\n",
        "```\n",
        "Coba tuliskan diatas ya!"
      ]
    },
    {
      "cell_type": "code",
      "execution_count": null,
      "id": "65255c38",
      "metadata": {
        "id": "65255c38"
      },
      "outputs": [],
      "source": [
        "# Tulis disini ya!\n",
        "\n"
      ]
    },
    {
      "cell_type": "code",
      "execution_count": null,
      "id": "a2f26b55",
      "metadata": {
        "ExecuteTime": {
          "end_time": "2022-03-03T13:21:53.378365Z",
          "start_time": "2022-03-03T13:21:51.396391Z"
        },
        "id": "a2f26b55",
        "outputId": "e4ebb91a-6d2a-4cfa-951b-2f4b320abefd"
      },
      "outputs": [
        {
          "name": "stdout",
          "output_type": "stream",
          "text": [
            "Budi\n",
            "Hello, my name Budi\n"
          ]
        }
      ],
      "source": [
        "# Next Step!\n",
        "print(\"Hello, my name {}\".format(input()))"
      ]
    },
    {
      "cell_type": "markdown",
      "id": "28e81488",
      "metadata": {
        "id": "28e81488"
      },
      "source": [
        "Selalu ingat bahwa:\n",
        "<ol>\n",
        "    <li>Python dijalankan baris per baris</li>\n",
        "    <li>Jika ingin menyimpan informasi (literals), dapat dilakukan dengan variabel dengan tanda =</li>\n",
        "    <li>Operators dapat berguna untuk manipulasi value yang dimiliki</li>\n",
        "</ol>\n",
        "Silahkan tuliskan berikut ini:\n",
        "\n",
        "```Python\n",
        "print(\"Selamat datang!\") \n",
        "print(\"Selamat berbelanja\") \n",
        "print(\"Tokomarts\") \n",
        "```\n",
        "Silahkan tuliskan berikut ini:\n",
        "\n",
        "```Python\n",
        "X = 24\n",
        "y = 10\n",
        "tulisan = \"hallo! \"\n",
        "print(x/y)\n",
        "print(tulisan * 5)\n",
        "```"
      ]
    },
    {
      "cell_type": "code",
      "execution_count": null,
      "id": "59630828",
      "metadata": {
        "id": "59630828"
      },
      "outputs": [],
      "source": [
        "# Tulis disini ya!\n",
        "\n"
      ]
    }
  ],
  "metadata": {
    "kernelspec": {
      "display_name": "Python 3 (ipykernel)",
      "language": "python",
      "name": "python3"
    },
    "language_info": {
      "codemirror_mode": {
        "name": "ipython",
        "version": 3
      },
      "file_extension": ".py",
      "mimetype": "text/x-python",
      "name": "python",
      "nbconvert_exporter": "python",
      "pygments_lexer": "ipython3",
      "version": "3.8.12"
    },
    "toc": {
      "base_numbering": 1,
      "nav_menu": {
        "height": "273.991px",
        "width": "277.997px"
      },
      "number_sections": true,
      "sideBar": true,
      "skip_h1_title": false,
      "title_cell": "Table of Contents",
      "title_sidebar": "Contents",
      "toc_cell": false,
      "toc_position": {},
      "toc_section_display": true,
      "toc_window_display": false
    },
    "colab": {
      "name": "apa-itu-python.ipynb",
      "provenance": [],
      "collapsed_sections": []
    }
  },
  "nbformat": 4,
  "nbformat_minor": 5
}