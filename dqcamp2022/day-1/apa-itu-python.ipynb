<h1>Apa itu python?</h1>

<p>Di bagian ini kita akan membahas tentang bahasa python itu sendiri. Yuk mari belajar bersama!</p>
