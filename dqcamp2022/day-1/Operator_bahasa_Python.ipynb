{
  "cells": [
    {
      "cell_type": "markdown",
      "id": "23d107db",
      "metadata": {
        "id": "23d107db"
      },
      "source": [
        "<h1>Operator</h1>\n",
        "<p>Di bagian ini kita akan membahas tentang operator yang ada di bahasa python, diantaranya</p>\n",
        "<ol>\n",
        "    <li>Operator Aritmatika</li>\n",
        "    <li>Assignment Operator</li>\n",
        "    <li>Operator Perbandingan</li>\n",
        "    <li>Operator Logika</li>\n",
        "    <li>Operator Identitas</li>\n",
        "    <li>Operator Anggota</li>\n",
        "</ol>\n",
        "<p>Mari belajar bersama, yuk!</p>"
      ]
    },
    {
      "cell_type": "markdown",
      "id": "5205d62d",
      "metadata": {
        "id": "5205d62d"
      },
      "source": [
        "## Aritmatika\n",
        "\n",
        "Operasi yang digunakan pada tipe data numerik. Penjelasan seperti berikut ini:\n",
        "\n",
        "![image.png](https://drive.google.com/uc?export=view&id=1vEHqmBjHdAKhBnUT7CgLxgc1Fb2xUIwg)\n",
        "\n",
        "**Catatan:**\n",
        "1. % itu modulo/sisa bagi (Jika pembagian 3 dengan 2, maka % itu menampilkan 1)\n",
        "2. // itu pembagian pembulatan ke bawah"
      ]
    },
    {
      "cell_type": "code",
      "source": [
        "# Tulis disini ya!\n",
        "\n"
      ],
      "metadata": {
        "id": "Us5-2JKBN07R"
      },
      "id": "Us5-2JKBN07R",
      "execution_count": null,
      "outputs": []
    },
    {
      "cell_type": "markdown",
      "id": "935b2201",
      "metadata": {
        "id": "935b2201"
      },
      "source": [
        "### Assignment\n",
        "\n",
        "Operasi yang digunakan untuk mendeklarsi nilai ke suatu variabel. Penjelasan seperti berikut ini:\n",
        "\n",
        "![image.png](https://drive.google.com/uc?export=view&id=1IXPaCQAQdU1EQEHsYZgxa0VdsuASm5Xl)"
      ]
    },
    {
      "cell_type": "markdown",
      "id": "ecc9d2bb",
      "metadata": {
        "id": "ecc9d2bb"
      },
      "source": [
        "Berapakah jawaban berikut ini?\n",
        "```python\n",
        "\n",
        "bil1 = 9\n",
        "bil2 = bil1//4\n",
        "print(bil2)\n",
        "\n",
        "bil3 = bil1%4\n",
        "bil3 **= 3\n",
        "print(bil3)\n",
        "\n",
        "```"
      ]
    },
    {
      "cell_type": "code",
      "execution_count": null,
      "id": "eb50f520",
      "metadata": {
        "id": "eb50f520"
      },
      "outputs": [],
      "source": [
        "# Tulis disini ya!\n",
        "\n"
      ]
    },
    {
      "cell_type": "markdown",
      "id": "a4f20cda",
      "metadata": {
        "id": "a4f20cda"
      },
      "source": [
        "## Perbandingan\n",
        "Operasi yang digunakan untuk membandingkan dua buah nilai, perhatikan berikut ini:\n",
        "\n",
        "![image.png](https://drive.google.com/uc?export=view&id=1zQnb1Ec7v7F863Y6XQoasuaCZTIOritu)\n",
        "\n",
        "**Catatan**:\n",
        "Output yang dihasilkan adalah boolean ya!"
      ]
    },
    {
      "cell_type": "code",
      "source": [
        "# Tulis disini ya!\n",
        "\n"
      ],
      "metadata": {
        "id": "FO9QXz58Nzo_"
      },
      "id": "FO9QXz58Nzo_",
      "execution_count": null,
      "outputs": []
    },
    {
      "cell_type": "markdown",
      "id": "1cb0d5af",
      "metadata": {
        "id": "1cb0d5af"
      },
      "source": [
        "## Logika\n",
        "\n",
        "Operasi yang digunakan untuk menggabungkan beberapa nilai kebenaran atas statement logika tertentu. Perhatikan berikut ini:\n",
        "\n",
        "![image.png](https://drive.google.com/uc?export=view&id=1zQnb1Ec7v7F863Y6XQoasuaCZTIOritu)\n",
        "\n",
        "**Catatan**:\n",
        "Output yang dihasilkan berupa boolean ya!"
      ]
    },
    {
      "cell_type": "markdown",
      "id": "381d81aa",
      "metadata": {
        "id": "381d81aa"
      },
      "source": [
        "Berapakah jawaban berikut ini?\n",
        "```python\n",
        "\n",
        "bil1 = 10\n",
        "bil2 = .....\n",
        "print(bil2 > bil1 and bil2<12) # Hasilkan TRUE\n",
        "\n",
        "bil3 = bil1//3\n",
        "formula = bil3 != 3 and bil3 > 2\n",
        "print(formula)\n",
        "\n",
        "```"
      ]
    },
    {
      "cell_type": "code",
      "execution_count": null,
      "id": "916df0b3",
      "metadata": {
        "id": "916df0b3"
      },
      "outputs": [],
      "source": [
        "# Tulis disini ya!\n",
        "\n"
      ]
    },
    {
      "cell_type": "markdown",
      "id": "9a827999",
      "metadata": {
        "id": "9a827999"
      },
      "source": [
        "## Identitas\n",
        "\n",
        "Operasi yang digunakan untuk membandingkan identitas dari dua buah variabel. Perhatikan berikut ini:\n",
        "\n",
        "![image.png](https://drive.google.com/uc?export=view&id=10uV3FCYARfo0p9ZY7iShpmJTHov7e05m)\n",
        "\n",
        "Contoh aplikasinya:\n",
        "```python\n",
        "x = 5\n",
        "print(type(x) is int)\n",
        "```"
      ]
    },
    {
      "cell_type": "markdown",
      "id": "f864a62c",
      "metadata": {
        "ExecuteTime": {
          "end_time": "2022-03-06T06:06:54.143753Z",
          "start_time": "2022-03-06T06:06:54.134750Z"
        },
        "id": "f864a62c"
      },
      "source": [
        "## Anggota\n",
        "\n",
        "Operasi yang digunakan memeriksa anggota didalam sequence/set tertentu. Perhatikan berikut ini:\n",
        "\n",
        "![image.png](https://drive.google.com/uc?export=view&id=1T4odGORVpqvE0M8oqrzRbu8LRVx5Yk1x)"
      ]
    },
    {
      "cell_type": "markdown",
      "id": "0b1585f7",
      "metadata": {
        "id": "0b1585f7"
      },
      "source": [
        "**Materi Tambahan**\n",
        "\n",
        "Sama halnya kita mengerjakan perhitungan matematika, operator tersebut diatur dalam prioritas tersendiri yang mana sebagai berikut ini:\n",
        "\n",
        "![image2.png](https://drive.google.com/uc?export=view&id=1P400vRywt6kFZMHQHmmy-C4sgtGtVaqn)"
      ]
    },
    {
      "cell_type": "markdown",
      "id": "e3b7e425",
      "metadata": {
        "id": "e3b7e425"
      },
      "source": [
        "Perhatikan berikut ini:\n",
        "```python\n",
        "nilai = 10 ** 2 + (5*3) / 2 % 4\n",
        "```\n",
        "Manakah urutan dahulu diselesaikan?"
      ]
    },
    {
      "cell_type": "code",
      "execution_count": null,
      "id": "4a19b897",
      "metadata": {
        "id": "4a19b897"
      },
      "outputs": [],
      "source": [
        "# Tulis disini ya!\n",
        "\n"
      ]
    },
    {
      "cell_type": "markdown",
      "id": "a70763c0",
      "metadata": {
        "id": "a70763c0"
      },
      "source": [
        "Berapakah hasil berikut ini?\n",
        "```python\n",
        "nilai = (5 % 3 ** 2) + (3+3*3) * (4-3)\n",
        "```"
      ]
    },
    {
      "cell_type": "code",
      "execution_count": null,
      "id": "29f10703",
      "metadata": {
        "id": "29f10703"
      },
      "outputs": [],
      "source": [
        "# Tulis disini ya!\n",
        "\n"
      ]
    },
    {
      "cell_type": "markdown",
      "id": "2686bc61",
      "metadata": {
        "id": "2686bc61"
      },
      "source": [
        "Tugas Praktek Perhitungan Pajak\n",
        "\n",
        "```python\n",
        "sepatu = { \"nama\" : \"Sepatu Niko\", \"harga\": 150000, \"diskon\": 30000 }\n",
        "baju = { \"nama\" : \"Baju Unikloh\", \"harga\": 80000, \"diskon\": 8000 }\n",
        "celana = { \"nama\" : \"Celana Lepis\", \"harga\": 200000, \"diskon\": 60000 }\n",
        "harga_sepatu = sepatu[\"harga\"] - sepatu[\"diskon\"]\n",
        "harga_baju = baju[\"harga\"] - baju[\"diskon\"]\n",
        "harga_celana = celana[\"harga\"] - celana[\"diskon\"]\n",
        "total_harga = (harga_sepatu + harga_baju + harga_celana) * 1.1\n",
        "print(total_harga)\n",
        "```"
      ]
    },
    {
      "cell_type": "code",
      "source": [
        "# Tulis disini ya!\n",
        "\n"
      ],
      "metadata": {
        "id": "Ap38aEa8BZnm"
      },
      "id": "Ap38aEa8BZnm",
      "execution_count": null,
      "outputs": []
    }
  ],
  "metadata": {
    "kernelspec": {
      "display_name": "Python 3 (ipykernel)",
      "language": "python",
      "name": "python3"
    },
    "language_info": {
      "codemirror_mode": {
        "name": "ipython",
        "version": 3
      },
      "file_extension": ".py",
      "mimetype": "text/x-python",
      "name": "python",
      "nbconvert_exporter": "python",
      "pygments_lexer": "ipython3",
      "version": "3.8.12"
    },
    "toc": {
      "base_numbering": 1,
      "nav_menu": {
        "height": "273.991px",
        "width": "277.997px"
      },
      "number_sections": true,
      "sideBar": true,
      "skip_h1_title": false,
      "title_cell": "Table of Contents",
      "title_sidebar": "Contents",
      "toc_cell": false,
      "toc_position": {},
      "toc_section_display": true,
      "toc_window_display": false
    },
    "colab": {
      "name": "Operator-bahasa-Python.ipynb",
      "provenance": [],
      "collapsed_sections": []
    }
  },
  "nbformat": 4,
  "nbformat_minor": 5
}