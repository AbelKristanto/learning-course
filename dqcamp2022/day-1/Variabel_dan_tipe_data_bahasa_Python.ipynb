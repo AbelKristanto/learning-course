{
  "cells": [
    {
      "cell_type": "markdown",
      "id": "9d0ccb0f",
      "metadata": {
        "id": "9d0ccb0f"
      },
      "source": [
        "<h1>Variabel dan tipe data</h1>\n",
        "<p>Di bagian ini kita akan membahas tentang variabel dan tipe data yang ada di bahasa python. Yuk mari belajar bersama!</p>"
      ]
    },
    {
      "cell_type": "markdown",
      "id": "d1526fd1",
      "metadata": {
        "id": "d1526fd1"
      },
      "source": [
        "Sebelumnya kita memperhatikan definisi variabel dari literals yang berbeda, seperti berikut ini:\n",
        "\n",
        "```python\n",
        "y = 10\n",
        "tulisan = \"hallo! \"\n",
        "```\n",
        "\n",
        "Dalam pendefinisian variabel perhatikan bahwa:\n",
        "1. Diawali dengan huruf atau underscore atau tidak dapat dimulai dengan angka\n",
        "2. Terdiri **huruf/angka/underscore**\n",
        "3. Case-sensitive"
      ]
    },
    {
      "cell_type": "markdown",
      "id": "98f2174c",
      "metadata": {
        "id": "98f2174c"
      },
      "source": [
        ">Selalu ingat bahwa: Variabel python itu **diawali huruf/underscore**"
      ]
    },
    {
      "cell_type": "code",
      "execution_count": null,
      "id": "e0b3e4e5",
      "metadata": {
        "ExecuteTime": {
          "end_time": "2022-03-03T14:16:20.871813Z",
          "start_time": "2022-03-03T14:16:20.866809Z"
        },
        "id": "e0b3e4e5"
      },
      "outputs": [],
      "source": [
        "# mana yang benar\n",
        "var = 10 #A\n",
        "1var = 10 #B\n",
        "_2 = 10 #C"
      ]
    },
    {
      "cell_type": "markdown",
      "id": "2dc9ccb4",
      "metadata": {
        "id": "2dc9ccb4"
      },
      "source": [
        ">Selalu ingat bahwa: Variabel python itu **TIDAK BOLEH SPACE/LAINNYA**"
      ]
    },
    {
      "cell_type": "code",
      "execution_count": null,
      "id": "09cdb584",
      "metadata": {
        "id": "09cdb584"
      },
      "outputs": [],
      "source": [
        "# mana yang benar?\n",
        "var 1 = 10 #A\n",
        "var_1 = 10 #B"
      ]
    },
    {
      "cell_type": "markdown",
      "id": "c2173c95",
      "metadata": {
        "id": "c2173c95"
      },
      "source": [
        ">Selalu ingat bahwa: Python itu **case-sensitive**, artinya setiap perbedaan character atau space sekalipun diperhatikan oleh python. So, perlu disesuaikan penulisannya"
      ]
    },
    {
      "cell_type": "code",
      "execution_count": null,
      "id": "822660aa",
      "metadata": {
        "ExecuteTime": {
          "end_time": "2022-03-03T14:02:22.291687Z",
          "start_time": "2022-03-03T14:02:22.284685Z"
        },
        "id": "822660aa",
        "outputId": "89ac176f-e178-4522-d87f-91ee2db845ff"
      },
      "outputs": [
        {
          "name": "stdout",
          "output_type": "stream",
          "text": [
            "Chat 1 tidak sama dengan 2: False\n",
            "Chat 2 sama dengan 3: True\n"
          ]
        }
      ],
      "source": [
        "# Contoh\n",
        "chat1 = \"Budi itu  pria\"\n",
        "chat2 = \"Budi itu pria\"\n",
        "chat3 = \"Budi itu pria\"\n",
        "\n",
        "print(\"Chat 1 tidak sama dengan 2:\", chat1 == chat2)\n",
        "print(\"Chat 2 sama dengan 3:\", chat2 == chat3)"
      ]
    },
    {
      "cell_type": "markdown",
      "id": "e52c3e94",
      "metadata": {
        "id": "e52c3e94"
      },
      "source": [
        "Salah satu mempermudah definisi jika ada banyak variabel!\n",
        "\n",
        "```python\n",
        "income1, income2, income3 = 100, 120, 150\n",
        "```"
      ]
    },
    {
      "cell_type": "markdown",
      "id": "01240691",
      "metadata": {
        "id": "01240691"
      },
      "source": [
        "Tipe data dalam python bisa didefinisikan sebagai berikut ini:\n",
        "\n",
        "![image.png](https://drive.google.com/uc?export=view&id=1Zw_U8Soqv94_V0ki8e3dmoKbU2nNhH8N)"
      ]
    },
    {
      "cell_type": "markdown",
      "id": "8f3691e2",
      "metadata": {
        "id": "8f3691e2"
      },
      "source": [
        "Contoh penerapan:\n",
        "\n",
        "![image.png](https://drive.google.com/uc?export=view&id=1YiesB40O7Z3dZOYo4w8pzQ-v5qKlh3y1)\n"
      ]
    },
    {
      "cell_type": "markdown",
      "id": "77c0b9ec",
      "metadata": {
        "id": "77c0b9ec"
      },
      "source": [
        "Temukan tipe data berikut ini!\n",
        "\n",
        "```python\n",
        "data1 = 10\n",
        "data2 = 0.05\n",
        "data3 = \"Hallo!\"\n",
        "```\n",
        "\n",
        "Kamu bisa menggunakan Fungsi type(...). Seperti contoh dibawah ini!"
      ]
    },
    {
      "cell_type": "code",
      "execution_count": null,
      "id": "f7e9f80e",
      "metadata": {
        "ExecuteTime": {
          "end_time": "2022-03-03T14:26:02.364982Z",
          "start_time": "2022-03-03T14:26:02.358978Z"
        },
        "id": "f7e9f80e",
        "outputId": "068963b6-37e5-4e40-d50d-a541cc7e7893"
      },
      "outputs": [
        {
          "name": "stdout",
          "output_type": "stream",
          "text": [
            "<class 'float'>\n"
          ]
        }
      ],
      "source": [
        "print(type(10.06))"
      ]
    },
    {
      "cell_type": "code",
      "execution_count": null,
      "id": "de0aec63",
      "metadata": {
        "ExecuteTime": {
          "end_time": "2022-03-03T14:26:51.488264Z",
          "start_time": "2022-03-03T14:26:51.482261Z"
        },
        "id": "de0aec63",
        "outputId": "1838dfbf-af9b-4e15-b978-1237cdf3fc8f"
      },
      "outputs": [
        {
          "name": "stdout",
          "output_type": "stream",
          "text": [
            "<class 'bool'>\n"
          ]
        }
      ],
      "source": [
        "print(type(True))"
      ]
    },
    {
      "cell_type": "markdown",
      "id": "814a5325",
      "metadata": {
        "id": "814a5325"
      },
      "source": [
        "![image.png](https://drive.google.com/uc?export=view&id=182bpAwdxYGjO4K_vHgwdYZK5QbEL33Zl)\n"
      ]
    },
    {
      "cell_type": "markdown",
      "id": "707d2903",
      "metadata": {
        "id": "707d2903"
      },
      "source": [
        "**Sequence Type 1**\n",
        "\n",
        ">List merupakan dapat digunakan untuk menampung beberapa variabel yang mana bersifat **Mutable** dan **Boleh duplikat**, berbeda dengan saudaranya Tuple\n",
        "\n",
        "\n",
        "```python\n",
        "## INI LIST ya ##\n",
        "\n",
        "# SEMUA JENIS TYPE bisa disimpan\n",
        "list1 = [10, \"type\", 20]\n",
        "print(type(list1))\n",
        "\n",
        "# mengambil nilai di dalam list [ordered dimulai dari 0]\n",
        "print(list1[0])\n",
        "\n",
        "# mengganti/MUTABLE\n",
        "list1[1] = \"hallo\"\n",
        "print(list1)\n",
        "```\n",
        "Coba tuliskan diatas!"
      ]
    },
    {
      "cell_type": "code",
      "execution_count": null,
      "id": "02faca48",
      "metadata": {
        "id": "02faca48"
      },
      "outputs": [],
      "source": [
        "# Tulis disini ya!\n",
        "\n"
      ]
    },
    {
      "cell_type": "markdown",
      "id": "9adf9afe",
      "metadata": {
        "id": "9adf9afe"
      },
      "source": [
        "**Sequence Type 2**\n",
        "\n",
        ">Tuple merupakan dapat digunakan untuk menampung beberapa variabel yang mana bersifat **Immutable** dan **Boleh duplikat**, berbeda dengan saudaranya List\n",
        "\n",
        "\n",
        "```python\n",
        "## INI Tuple ya ##\n",
        "\n",
        "# SEMUA JENIS TYPE bisa disimpan\n",
        "tup1 = (10, \"type\", 20)\n",
        "print(type(tup1))\n",
        "\n",
        "# mengambil nilai di dalam list [ordered dimulai dari 0]\n",
        "print(tup1[0])\n",
        "\n",
        "# tidak dapat mengganti\n",
        "tup1[1] = \"hallo\"\n",
        "print(tup1)\n",
        "```\n",
        "Coba tuliskan diatas!"
      ]
    },
    {
      "cell_type": "code",
      "execution_count": null,
      "id": "965a675f",
      "metadata": {
        "id": "965a675f"
      },
      "outputs": [],
      "source": [
        "# Tulis disini ya!\n",
        "\n"
      ]
    },
    {
      "cell_type": "markdown",
      "id": "a5272052",
      "metadata": {
        "id": "a5272052"
      },
      "source": [
        "**Sequence Type 3**\n",
        "\n",
        ">Set merupakan dapat digunakan untuk menampung beberapa variabel yang mana bersifat **mutable** dan **Tidak duplikat**, berbeda dengan saudaranya frozen set. + Tidak berurutan\n",
        "\n",
        "\n",
        "```python\n",
        "## INI Set ya ##\n",
        "\n",
        "# SEMUA JENIS TYPE bisa disimpan\n",
        "set1 = {10, \"type\", 20}\n",
        "print(type(set1))\n",
        "\n",
        "set1.add(10)\n",
        "\n",
        "```\n",
        "Tampilkan nilai set1?"
      ]
    },
    {
      "cell_type": "code",
      "execution_count": null,
      "id": "82fd299b",
      "metadata": {
        "ExecuteTime": {
          "end_time": "2022-03-03T15:02:58.882949Z",
          "start_time": "2022-03-03T15:02:58.878948Z"
        },
        "id": "82fd299b"
      },
      "outputs": [],
      "source": [
        "# Tulis disini ya!\n",
        "\n"
      ]
    },
    {
      "cell_type": "markdown",
      "id": "0bbd042b",
      "metadata": {
        "id": "0bbd042b"
      },
      "source": [
        "**Sequence Type 4**\n",
        "\n",
        ">Froze Set merupakan dapat digunakan untuk menampung beberapa variabel yang mana bersifat **immutable** dan **Tidak duplikat**, berbeda dengan saudaranya set. + Tidak berurutan\n",
        "\n",
        "\n",
        "```python\n",
        "## INI Set ya ##\n",
        "\n",
        "# SEMUA JENIS TYPE bisa disimpan\n",
        "set1 = [{10, \"type\", 20}]\n",
        "print(type(set1))\n",
        "\n",
        "set1.add(10)\n",
        "\n",
        "```\n",
        "Tampilkan nilai set1?"
      ]
    },
    {
      "cell_type": "code",
      "execution_count": null,
      "id": "4eda348b",
      "metadata": {
        "ExecuteTime": {
          "end_time": "2022-03-03T15:05:09.457936Z",
          "start_time": "2022-03-03T15:05:09.452933Z"
        },
        "id": "4eda348b"
      },
      "outputs": [],
      "source": [
        "# Tulis disini ya!\n",
        "\n"
      ]
    },
    {
      "cell_type": "markdown",
      "id": "5b968bb7",
      "metadata": {
        "id": "5b968bb7"
      },
      "source": [
        "**Mapping Sequence 1**\n",
        "\n",
        ">Berguna untuk memetakan nilai dengan nilai lainnya, jika kamu sudah tahu Json (seperti itulah mapping) dengan Dictionary\n",
        "\n",
        "\n",
        "```python\n",
        "ibukota = {\"Jawa Tengah\":\"Semarang\", \"Jawa Timur\":\"Surabaya\", \"Jawa Barat\":\"Bandung\"}\n",
        "\n",
        "# menampilkan ibukota jawa tengah:\n",
        "print(\"Ibukota jawa tengah adalah\",ibukota[\"Jawa Tengah\"])\n",
        "```\n",
        "Apa nama ibukota Jawa Timur?"
      ]
    },
    {
      "cell_type": "code",
      "execution_count": null,
      "id": "702cbcfa",
      "metadata": {
        "ExecuteTime": {
          "end_time": "2022-03-03T15:09:59.991083Z",
          "start_time": "2022-03-03T15:09:59.984082Z"
        },
        "id": "702cbcfa",
        "outputId": "ed6692ee-8bb4-4f6a-c04d-a8e7666fba72"
      },
      "outputs": [
        {
          "name": "stdout",
          "output_type": "stream",
          "text": [
            "Ibukota jawa tengah adalah Semarang\n"
          ]
        }
      ],
      "source": [
        "# Tulis disini ya!\n",
        "\n"
      ]
    },
    {
      "cell_type": "markdown",
      "id": "f12f4bda",
      "metadata": {
        "id": "f12f4bda"
      },
      "source": [
        "Saatnya kita melakukan penyelesaian masalah ini!\n",
        "\n",
        "![image.png](https://drive.google.com/uc?export=view&id=1LbPvC-pcdzlIOeV1E6eYDgI-90wseLgm)\n",
        "\n",
        "```python\n",
        "\n",
        "# 1. Definisikan variabel\n",
        "sepatu = ....\n",
        "baju = ....\n",
        "celana = ...\n",
        "\n",
        "# 2. Hitunglah nilai dengan operators (harga jual-harga diskon)\n",
        "harga_sepatu = ...\n",
        "harga_baju = ....\n",
        "harga_celana = .....\n",
        "total_harga = harga_sepatu + harga_baju + harga_celana\n",
        "\n",
        "# 3. Gunakan kalkulasi dengan memperhatikan variabel lainnya\n",
        "total_pajak = total_harga * 0.1\n",
        "print(total_harga + total_pajak)\n",
        "\n",
        "```"
      ]
    },
    {
      "cell_type": "code",
      "execution_count": null,
      "id": "5ab8340c",
      "metadata": {
        "id": "5ab8340c"
      },
      "outputs": [],
      "source": [
        "# Tulis disini ya!\n",
        "\n"
      ]
    }
  ],
  "metadata": {
    "kernelspec": {
      "display_name": "Python 3 (ipykernel)",
      "language": "python",
      "name": "python3"
    },
    "language_info": {
      "codemirror_mode": {
        "name": "ipython",
        "version": 3
      },
      "file_extension": ".py",
      "mimetype": "text/x-python",
      "name": "python",
      "nbconvert_exporter": "python",
      "pygments_lexer": "ipython3",
      "version": "3.8.12"
    },
    "toc": {
      "base_numbering": 1,
      "nav_menu": {
        "height": "273.991px",
        "width": "277.997px"
      },
      "number_sections": true,
      "sideBar": true,
      "skip_h1_title": false,
      "title_cell": "Table of Contents",
      "title_sidebar": "Contents",
      "toc_cell": false,
      "toc_position": {},
      "toc_section_display": true,
      "toc_window_display": false
    },
    "colab": {
      "name": "Variabel-dan-tipe-data-bahasa-Python.ipynb",
      "provenance": [],
      "collapsed_sections": []
    }
  },
  "nbformat": 4,
  "nbformat_minor": 5
}