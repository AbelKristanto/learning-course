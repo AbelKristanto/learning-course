{
  "cells": [
    {
      "cell_type": "markdown",
      "id": "affd6f29",
      "metadata": {
        "id": "affd6f29"
      },
      "source": [
        "<h1>Kondisional & Perulangan</h1>\n",
        "<p>Di bagian ini kita akan membahas tentang kondisional & perulangan yang ada di bahasa python. Yuk mari belajar bersama!</p>"
      ]
    },
    {
      "cell_type": "markdown",
      "id": "16e5a08d",
      "metadata": {
        "id": "16e5a08d"
      },
      "source": [
        "## Kondisional\n",
        "\n",
        "Merupakan bentuk statement keputusan untuk berinteraksi didalam variabel. Dimana disusun atas berikut ini:\n",
        "\n",
        "```python\n",
        "if <conditions>:\n",
        "    do_actions_1\n",
        "    ...\n",
        "    do_actions_n\n",
        "```\n",
        "**Catatan**:\n",
        "1. Identasi: Penulisan ini adalah whitespace diawal yang berguna hasil keluaran apabila kondisional benar kebenarannya\n",
        "2. Elif: Ini diperlukan apabila ketentuan sebelumnya tidak benar, gunakan kondisi ini\n",
        "3. Else: Ini diperlukan apabila tidak menemukan kondisi yang benar dari kondisi-kondisi yang ada\n",
        "\n",
        "**Short Hand If**:\n",
        "Kamu dapat menuliskan if dengan singkat seperti berikut ini:\n",
        "```python\n",
        "if a>b: print(\"a is greater than b\")\n",
        "```\n",
        "**Short Hand If .. else**:\n",
        "Kamu dapat menuliskan if .. else dengan singkat seperti berikut ini:\n",
        "```python\n",
        "a = 200\n",
        "b = 33\n",
        "print(\"A\") if a>b else print(\"B\")\n",
        "\n",
        "print(\"A\") if a > b else print(\"=\") if a == b else print(\"B\")\n",
        "```\n",
        "**Pass Statement**:\n",
        "Jika if statement no content bisa menambahkan pass agar menghindari error\n",
        "```python\n",
        "a = 200\n",
        "b = 33\n",
        "if b>a:\n",
        "    pass\n",
        "```\n",
        "**Nested If**:\n",
        "Jika if statement memiliki if statement lainnya\n",
        "```python\n",
        "x = 41\n",
        "\n",
        "if x > 10:\n",
        "    print(\"Above ten,\")\n",
        "    if x > 20:\n",
        "        print(\"and also above 20!\")\n",
        "    else:\n",
        "        print(\"but not above 20.\")\n",
        "```"
      ]
    },
    {
      "cell_type": "code",
      "execution_count": null,
      "id": "c35d1052",
      "metadata": {
        "ExecuteTime": {
          "end_time": "2022-03-06T07:26:16.328826Z",
          "start_time": "2022-03-06T07:26:16.320821Z"
        },
        "id": "c35d1052",
        "outputId": "b137be7d-0675-44da-ff6a-adfffba04862"
      },
      "outputs": [
        {
          "name": "stdout",
          "output_type": "stream",
          "text": [
            "a is greater than b\n"
          ]
        }
      ],
      "source": [
        "a = 200\n",
        "b = 33\n",
        "if b > a:\n",
        "    print(\"b is greater than a\")\n",
        "elif a == b:\n",
        "    print(\"a and b are equal\")\n",
        "else:\n",
        "    print(\"a is greater than b\")"
      ]
    },
    {
      "cell_type": "code",
      "execution_count": null,
      "id": "6f57b064",
      "metadata": {
        "ExecuteTime": {
          "end_time": "2022-03-06T07:32:30.831073Z",
          "start_time": "2022-03-06T07:32:30.823075Z"
        },
        "id": "6f57b064",
        "outputId": "ab4f2947-1dff-4fbf-99b6-5305f191d204"
      },
      "outputs": [
        {
          "name": "stdout",
          "output_type": "stream",
          "text": [
            "Selamat siang!\n"
          ]
        }
      ],
      "source": [
        "jam = 13\n",
        "if jam >= 5 and jam < 12: # selama jam di antara 5 s.d. 12\n",
        "    print(\"Selamat pagi!\")\n",
        "elif jam >= 12 and jam < 17: # selama jam di antara 12 s.d. 17\n",
        "    print(\"Selamat siang!\")\n",
        "elif jam >= 17 and jam < 19 : # selama jam di antara 17 s.d. 19\n",
        "    print(\"Selamat sore!\")\n",
        "else: # selain kondisi di atas\n",
        "    print(\"Selamat malam!\")"
      ]
    },
    {
      "cell_type": "markdown",
      "id": "2f4d119f",
      "metadata": {
        "id": "2f4d119f"
      },
      "source": [
        "**Latihan**\n",
        "\n",
        "![image1.png](https://drive.google.com/uc?export=view&id=1yL-H5cKfq77bfUgFru5pCY5gSujXBnF7)\n",
        "\n",
        "Disini kita akan mencoba untuk menghitung dari data diatas dengan melakukan perhitungan dan informasi waktu!\n",
        "```python\n",
        "jam = 17\n",
        "tagihan_ke = 'Mr. Yoyo'\n",
        "warehousing = { 'harga_harian': 1000000, 'total_hari':15 } \n",
        "cleansing = { 'harga_harian': 1500000, 'total_hari':10 } \n",
        "integration = { 'harga_harian':2000000, 'total_hari':15 } \n",
        "transform = { 'harga_harian':2500000, 'total_hari':10 }\n",
        "sub_warehousing = warehousing['harga_harian']*warehousing['total_hari'] \n",
        "sub_cleansing = cleansing['harga_harian']*cleansing['total_hari'] \n",
        "sub_integration = integration['harga_harian']*integration['total_hari'] \n",
        "sub_transform = transform['harga_harian']*transform['total_hari']\n",
        "total_harga = sub_warehousing+sub_cleansing+sub_integration+sub_transform\n",
        "print(\"Tagihan kepada:\")\n",
        "print(tagihan_ke)\n",
        "if jam > 19:\n",
        "    print(\"Selamat malam, anda harus membayar tagihan sebesar:\")\n",
        "elif jam > 17:\n",
        "    print(\"Selamat sore, anda harus membayar tagihan sebesar:\") \n",
        "elif jam > 12:\n",
        "    print(\"Selamat siang, anda harus membayar tagihan sebesar:\")\n",
        "else:\n",
        "    print(\"Selamat pagi, anda harus membayar tagihan sebesar:\") \n",
        "print(total_harga)\n",
        "```"
      ]
    },
    {
      "cell_type": "markdown",
      "id": "fc557ee4",
      "metadata": {
        "id": "fc557ee4"
      },
      "source": [
        "## Perulangan\n",
        "\n",
        "Ini digunakan untuk melakukan serangkaian aksi selama suatu kondisi bernilai benar dengan dua jenis yakni:\n",
        "1. while ... loop. Kita dapat melakukan eksekusi selama set statement berkondisi true.\n",
        "2. for ... loop. Digunakan untuk semua iterasi dalam bentuk tuple/dictionary/set/string\n",
        "\n",
        "**Catatan**\n",
        "1. Break Statement: Ini digunakan untuk menghentikan loop bahkan kondisi True sekalipun\n",
        "```python\n",
        "i = 1\n",
        "while i < 6:\n",
        "    print(i)\n",
        "    if i == 3:\n",
        "        break\n",
        "    i += 1\n",
        "```\n",
        "2. Continue Statement: Ini digunakan untuk menghentikan iterasi saat ini dan melanjutkan berikutnya\n",
        "```python\n",
        "i = 0\n",
        "while i < 6:\n",
        "    i += 1\n",
        "    if i == 3:\n",
        "        continue\n",
        "    print(i)\n",
        "```\n",
        "3. Else Statement: Ini digunakan apabila blok kode sudah tidak lagi true\n",
        "```python\n",
        "i = 1\n",
        "while i < 6:\n",
        "    print(i)\n",
        "    i += 1\n",
        "else:\n",
        "    print(\"i is no longer less than 6\")\n",
        "```\n",
        "4. Range(): Ini digunakan untuk looping dengan range tertentu -- RANGE(Start, Akhir, Lompatan)\n",
        "```python\n",
        "for x in range(6):\n",
        "    print(x)\n",
        "```\n",
        "5. Pass: Ini digunakan apabila for loops itu empty dan menghindari error\n",
        "```python\n",
        "for x in [0, 1, 2]:\n",
        "    pass\n",
        "```\n",
        "6. Nested Loops: Apabila ada loop didalam loop. Artinya inner loop akan dieksekusi sekali untuk setiap outer loop\n",
        "\n",
        "```python\n",
        "adj = [\"red\", \"big\", \"tasty\"]\n",
        "fruits = [\"apple\", \"banana\", \"cherry\"]\n",
        "\n",
        "for x in adj:\n",
        "    for y in fruits:\n",
        "        print(x, y)\n",
        "```"
      ]
    },
    {
      "cell_type": "code",
      "execution_count": null,
      "id": "616ccd2d",
      "metadata": {
        "ExecuteTime": {
          "end_time": "2022-03-06T07:43:23.470087Z",
          "start_time": "2022-03-06T07:43:23.458081Z"
        },
        "id": "616ccd2d",
        "outputId": "2cd43fb6-8e13-425c-92b9-8df69c7f9b31"
      },
      "outputs": [
        {
          "name": "stdout",
          "output_type": "stream",
          "text": [
            "750000\n",
            "750000\n"
          ]
        }
      ],
      "source": [
        "## While .. loop 1\n",
        "\n",
        "# Tagihan\n",
        "tagihan = [50000, 75000, 125000, 300000, 200000]\n",
        "\n",
        "# Tanpa menggunakan while loop\n",
        "total_tagihan = tagihan[0] + tagihan[1] + tagihan[2] + tagihan[3] + tagihan[4]\n",
        "print(total_tagihan)\n",
        "\n",
        "# Dengan menggunakan while loop\n",
        "i = 0 # sebuah variabel untuk mengakses setiap elemen tagihan satu per satu\n",
        "jumlah_tagihan = len(tagihan) # panjang (jumlah elemen dalam) list tagihan\n",
        "total_tagihan = 0 # mula-mula, set total_tagihan ke 0\n",
        "\n",
        "while i < jumlah_tagihan: # selama nilai i kurang dari jumlah_tagihan\n",
        "    total_tagihan += tagihan[i] # tambahkan tagihan[i] ke total_tagihan\n",
        "    i += 1 # tambahkan nilai i dengan 1 untuk memproses tagihan selanjutnya.\n",
        "\n",
        "print(total_tagihan)"
      ]
    },
    {
      "cell_type": "code",
      "execution_count": null,
      "id": "14a5384b",
      "metadata": {
        "ExecuteTime": {
          "end_time": "2022-03-06T07:46:16.096942Z",
          "start_time": "2022-03-06T07:46:16.084936Z"
        },
        "id": "14a5384b",
        "outputId": "a207ae7b-53eb-42c6-f167-d8595cf4c349"
      },
      "outputs": [
        {
          "name": "stdout",
          "output_type": "stream",
          "text": [
            "terdapat angka minus dalam tagihan, perhitungan dihentikan!\n",
            "125000\n"
          ]
        }
      ],
      "source": [
        "## While .. loop 2\n",
        "\n",
        "tagihan = [50000, 75000, -150000, 125000, 300000, -50000, 200000]\n",
        "i = 0\n",
        "jumlah_tagihan = len(tagihan)\n",
        "total_tagihan = 0\n",
        "while i < jumlah_tagihan:\n",
        "    # jika terdapat tagihan ke-i yang bernilai minus (di bawah nol),\n",
        "    # pengulangan akan dihentikan\n",
        "    if tagihan[i] < 0:\n",
        "#         total_tagihan = -1\n",
        "        print(\"terdapat angka minus dalam tagihan, perhitungan dihentikan!\")\n",
        "        break\n",
        "    total_tagihan += tagihan[i]\n",
        "    i += 1\n",
        "print(total_tagihan)"
      ]
    },
    {
      "cell_type": "code",
      "execution_count": null,
      "id": "9022b0d9",
      "metadata": {
        "ExecuteTime": {
          "end_time": "2022-03-06T07:46:50.187771Z",
          "start_time": "2022-03-06T07:46:50.175764Z"
        },
        "id": "9022b0d9",
        "outputId": "6f28f684-5d20-4b66-b646-ebbdbf08396e"
      },
      "outputs": [
        {
          "name": "stdout",
          "output_type": "stream",
          "text": [
            "750000\n"
          ]
        }
      ],
      "source": [
        "## While .. loop 3\n",
        "\n",
        "tagihan = [50000, 75000, -150000, 125000, 300000, -50000, 200000]\n",
        "i = 0\n",
        "jumlah_tagihan = len(tagihan)\n",
        "total_tagihan = 0\n",
        "while i < jumlah_tagihan:\n",
        "    # jika terdapat tagihan ke-i yang bernilai minus (di bawah nol),\n",
        "    # abaikan tagihan ke-i dan lanjutkan ke tagihan berikutnya\n",
        "    if tagihan[i] < 0:\n",
        "        i += 1\n",
        "        continue\n",
        "    total_tagihan += tagihan[i]\n",
        "    i += 1\n",
        "print(total_tagihan)"
      ]
    },
    {
      "cell_type": "code",
      "execution_count": null,
      "id": "a2c556e9",
      "metadata": {
        "id": "a2c556e9"
      },
      "outputs": [],
      "source": [
        "## For .. loop 1\n",
        "\n",
        "list_tagihan = [50000, 75000, -150000, 125000, 300000, -50000, 200000]\n",
        "total_tagihan = 0 #mulai dari poin utama\n",
        "for tagihan in list_tagihan: # untuk setiap tagihan dalam list_tagihan\n",
        "    total_tagihan += tagihan # tambahkan tagihan ke total_tagihan\n",
        "print(total_tagihan) #total tagihan berupa nilai"
      ]
    },
    {
      "cell_type": "code",
      "execution_count": null,
      "id": "afece8f1",
      "metadata": {
        "id": "afece8f1"
      },
      "outputs": [],
      "source": [
        "list_tagihan = [50000, 75000, -150000, 125000, 300000, -50000, 200000]\n",
        "\n",
        "# For loops with break\n",
        "print(\"For loops with break\")\n",
        "total_tagihan_break = 0\n",
        "for tagihan in list_tagihan:\n",
        "    if tagihan < 0:\n",
        "        print(\"Terdapat angka minus dalam tagihan, perhitungan dihentikan!\")\n",
        "        break\n",
        "    total_tagihan_break += tagihan\n",
        "print(\"Total tagihan %d.\" % total_tagihan_break)\n",
        "print()\n",
        "\n",
        "# For loops with continue\n",
        "print(\"For loops with continue\")\n",
        "total_tagihan_continue = 0\n",
        "for tagihan in list_tagihan:\n",
        "    if tagihan < 0:\n",
        "        print(\"Terdapat angka minus dalam tagihan, tagihan %d dilewati!\" % tagihan)\n",
        "        continue\n",
        "    total_tagihan_continue += tagihan\n",
        "print(\"Total tagihan %d.\" % total_tagihan_continue)"
      ]
    },
    {
      "cell_type": "code",
      "execution_count": null,
      "id": "878038ed",
      "metadata": {
        "id": "878038ed"
      },
      "outputs": [],
      "source": [
        "list_cash_flow = [2500000, 5000000, -1000000, -2500000, 5000000, 10000000,\n",
        "                  -5000000, 7500000, 10000000, -1500000, 25000000, -2500000] \n",
        "#data yang tersedia dalam program\n",
        "total_pengeluaran, total_pemasukan = 0, 0 #perhitungan list dari awal\n",
        "\n",
        "for dana in list_cash_flow: #pengulangan pembacaan data\n",
        "    if dana > 0: #jika nilai lebih dari 0 maka menghitung dana\n",
        "        total_pemasukan += dana\n",
        "    else: #jika nilai kurang dari 0 maka menghitung dana\n",
        "        total_pengeluaran += dana\n",
        "\n",
        "total_pengeluaran *= -1 #agar tidak negatif perhitungan pengeluaran\n",
        "print(total_pengeluaran) #hasil\n",
        "print(total_pemasukan) #hasil"
      ]
    },
    {
      "cell_type": "code",
      "execution_count": null,
      "id": "9427694a",
      "metadata": {
        "id": "9427694a"
      },
      "outputs": [],
      "source": [
        "## Ekspedisi Pamanku ##\n",
        "\n",
        "# Data\n",
        "uang_jalan = 1500000\n",
        "jumlah_hari = 31\n",
        "list_plat_nomor = [8993, 2198, 2501, 2735, 3772, 4837, 9152]\n",
        "\n",
        "# Pengecekan kendaraan dengan nomor pelat ganjil atau genap \n",
        "# Deklarasikan kendaraan_genap dan kendaraan_ganjil = 0\n",
        "kendaraan_genap = 0\n",
        "kendaraan_ganjil = 0\n",
        "for plat_nomor in list_plat_nomor: #perulangan plat nomor di list\n",
        "    if plat_nomor % 2 == 0: #jika genap\n",
        "        kendaraan_genap += 1\n",
        "    else:\n",
        "        kendaraan_ganjil += 1\n",
        "\n",
        "# Total pengeluaran untuk kendaraan dengan nomor pelat ganjil dan genap dalam 1 bulan\n",
        "i = 1\n",
        "total_pengeluaran = 0\n",
        "while i <= jumlah_hari:\n",
        "    if i % 2 == 0:\n",
        "        total_pengeluaran += (kendaraan_genap * uang_jalan)\n",
        "    else:\n",
        "        total_pengeluaran += (kendaraan_ganjil * uang_jalan)\n",
        "    i += 1\n",
        "\n",
        "# Cetak total pengeluaran\n",
        "print(total_pengeluaran)"
      ]
    },
    {
      "cell_type": "code",
      "execution_count": null,
      "id": "15503fd6",
      "metadata": {
        "ExecuteTime": {
          "end_time": "2022-03-20T08:47:05.889419Z",
          "start_time": "2022-03-20T08:47:05.885417Z"
        },
        "id": "15503fd6"
      },
      "outputs": [],
      "source": [
        "# Tulis disini ya! \n",
        "\n"
      ]
    }
  ],
  "metadata": {
    "kernelspec": {
      "display_name": "Python 3 (ipykernel)",
      "language": "python",
      "name": "python3"
    },
    "language_info": {
      "codemirror_mode": {
        "name": "ipython",
        "version": 3
      },
      "file_extension": ".py",
      "mimetype": "text/x-python",
      "name": "python",
      "nbconvert_exporter": "python",
      "pygments_lexer": "ipython3",
      "version": "3.8.12"
    },
    "toc": {
      "base_numbering": 1,
      "nav_menu": {
        "height": "273.991px",
        "width": "277.997px"
      },
      "number_sections": true,
      "sideBar": true,
      "skip_h1_title": false,
      "title_cell": "Table of Contents",
      "title_sidebar": "Contents",
      "toc_cell": false,
      "toc_position": {},
      "toc_section_display": true,
      "toc_window_display": false
    },
    "colab": {
      "name": "Kondisional-dan-Perulangan-bahasa-Python.ipynb",
      "provenance": [],
      "collapsed_sections": []
    }
  },
  "nbformat": 4,
  "nbformat_minor": 5
}