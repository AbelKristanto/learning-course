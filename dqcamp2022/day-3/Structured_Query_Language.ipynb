{
  "cells": [
    {
      "cell_type": "markdown",
      "id": "6f596d4a",
      "metadata": {
        "id": "6f596d4a"
      },
      "source": [
        "<h1>Structured Query Language</h1>\n",
        "<p>Di bagian ini kita akan membahas tentang bahasa SQL!</p>"
      ]
    },
    {
      "cell_type": "markdown",
      "id": "e87ef50a",
      "metadata": {
        "id": "e87ef50a"
      },
      "source": [
        "Apa itu SQL?\n",
        "\n",
        "SQL merupakan bahasa pemograman untuk pengolahan database. Bahasa komputer standar yang digunakan untuk berinteraksi dengan suatu sistem database - atau lebih tepatnya sistem manajemen database relasional. Jadi, user dapat menambahkan, mengubah, mengupdate, mencari dan menghapus data dari suatu sistem database dengan menggunakan SQL.\n",
        "\n",
        "Ada dua jenis kategori dari interaksi SQL:\n",
        "1. Data Definition Language (DDL): Befokus membuat (CREATE), mengubah (ALTER), menghapus(DROP) struktur penyimpanan data\n",
        "2. Data Manipulation Language (DML): Berfokus menyisipkan (INSERT), mengambil data (SELECT), mengubah isi data (UPDATE), menghapus data (DELETE).\n",
        "\n",
        "Contoh penerapan sebagai berikut ini:\n",
        "\n",
        "```sql\n",
        "SELECT name_column FROM name_table\n",
        "```\n",
        "\n",
        "Lalu, alasan kita mempelajari SQL?\n",
        "1. Biasanya perusahaan besar menyimpan data mereka dalam database, karena relatif besar datanya\n",
        "2. Sumber dalam pengambilan keputusan perusahaan\n",
        "3. Meningkatkan kinerja perusahaan dengan informasi yang tepat\n",
        "\n",
        "Biasanya SQL mengakses data dari Database Management System (DBMS) yang berisikan semua informasi ataupun analisa yang dibutuhkan manajemen. DBMS berisikan data trafik, penjualan, data produk, identitas konsumen dan sebagainya.\n",
        "\n",
        "> SQL hanya digunakan di sistem database berbasis Relational Database Management System.\n",
        "\n",
        "**KESIMPULAN**\n",
        "\n",
        "SQL singkatan dari Structured Query Language, adalah sebuah bahasa komputer sederhana yang menjadi standar untuk memungkinkan seseorang berkomunikasi dengan suatu sistem database manajemen relasional (RDBMS)."
      ]
    }
  ],
  "metadata": {
    "kernelspec": {
      "display_name": "Python 3 (ipykernel)",
      "language": "python",
      "name": "python3"
    },
    "language_info": {
      "codemirror_mode": {
        "name": "ipython",
        "version": 3
      },
      "file_extension": ".py",
      "mimetype": "text/x-python",
      "name": "python",
      "nbconvert_exporter": "python",
      "pygments_lexer": "ipython3",
      "version": "3.8.12"
    },
    "toc": {
      "base_numbering": 1,
      "nav_menu": {},
      "number_sections": true,
      "sideBar": true,
      "skip_h1_title": false,
      "title_cell": "Table of Contents",
      "title_sidebar": "Contents",
      "toc_cell": false,
      "toc_position": {},
      "toc_section_display": true,
      "toc_window_display": false
    },
    "colab": {
      "name": "Structured-Query-Language.ipynb",
      "provenance": [],
      "collapsed_sections": []
    }
  },
  "nbformat": 4,
  "nbformat_minor": 5
}