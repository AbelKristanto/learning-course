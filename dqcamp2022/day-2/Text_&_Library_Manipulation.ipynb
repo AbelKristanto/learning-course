{
  "cells": [
    {
      "cell_type": "markdown",
      "id": "9e97ab2e",
      "metadata": {
        "id": "9e97ab2e"
      },
      "source": [
        "<h1>Text & Library Manipulation</h1>\n",
        "<p>Di bagian ini kita akan membahas tentang manipulasi dengan bantuan library yang mana dapat bermanfaat dalam penggunaan sehari-hari!</p>\n",
        "\n",
        "1. Membuka file di local gunakan fungsi open\n",
        "\n",
        "```python\n",
        "# Membaca \"r\"\n",
        "file = open(\"hello.txt\", \"r\")\n",
        "# Menutup\n",
        "file.close()\n",
        "\n",
        "# w: write (menulis dokumen), a: append (menambah isi)\n",
        "# w+: write+ (membaca dan menuliskan)\n",
        "# a+: append+ (membaca dan menambah)\n",
        "```\n",
        "\n",
        "2. Membaca baris demi baris dengan fungsi readline()\n",
        "\n",
        "```python\n",
        "# Membaca \"r\"\n",
        "file = open(\"hello.txt\", \"r\")\n",
        "# Baris 1\n",
        "first_line = file.readline()\n",
        "second_line = file.readline()\n",
        "# dstnya\n",
        "```\n",
        "\n",
        "3. Membuka file dari url\n",
        "\n",
        "```python\n",
        "import requests\n",
        "url = \"https://datasets.google.com/data/dataset\"\n",
        "response = requests.get(url)\n",
        "```"
      ]
    },
    {
      "cell_type": "code",
      "execution_count": null,
      "id": "198df66f",
      "metadata": {
        "ExecuteTime": {
          "end_time": "2022-03-17T15:22:25.229936Z",
          "start_time": "2022-03-17T15:22:22.984239Z"
        },
        "id": "198df66f",
        "outputId": "a4cbf7ab-1e3f-423c-b9a0-044a9527bc51"
      },
      "outputs": [
        {
          "name": "stdout",
          "output_type": "stream",
          "text": [
            "<Response [200]>\n",
            "\n",
            ">> Cetak isi file hello.txt menggunakan method response.iter_lines():\n",
            "b'Kita sedang belajar Python'\n",
            "b'Tepatnya belajar memanipulasi berkas teks'\n",
            "b'Memanipulasi berkas dengan Python sangatlah mudah!'\n"
          ]
        }
      ],
      "source": [
        "import requests\n",
        "url = \"https://storage.googleapis.com/dqlab-dataset/hello.txt\"\n",
        "response = requests.get(url)\n",
        "# Cetak kode status dari response\n",
        "print(response)\n",
        "# Cetak isi file hello.txt menggunakan method response.iter_lines()\n",
        "print(\"\\n>> Cetak isi file hello.txt menggunakan method response.iter_lines():\")\n",
        "for baris in response.iter_lines():\n",
        "    print(baris)"
      ]
    },
    {
      "cell_type": "code",
      "execution_count": null,
      "id": "b1f31fba",
      "metadata": {
        "ExecuteTime": {
          "end_time": "2022-03-17T15:24:04.942349Z",
          "start_time": "2022-03-17T15:24:04.646886Z"
        },
        "id": "b1f31fba",
        "outputId": "720c4756-1703-42df-f464-771b790eecd9"
      },
      "outputs": [
        {
          "name": "stdout",
          "output_type": "stream",
          "text": [
            "<Response [200]>\n",
            "\n",
            ">> Cetak isi file hello.txt menggunakan atribut response.text:\n",
            "Kita sedang belajar Python\r\n",
            "Tepatnya belajar memanipulasi berkas teks\r\n",
            "Memanipulasi berkas dengan Python sangatlah mudah!\n"
          ]
        }
      ],
      "source": [
        "import requests\n",
        "url = \"https://storage.googleapis.com/dqlab-dataset/hello.txt\"\n",
        "response = requests.get(url)\n",
        "# Cetak kode status dari response\n",
        "print(response)\n",
        "# Cetak isi file hello.txt menggunakan atribut response.text\n",
        "print(\"\\n>> Cetak isi file hello.txt menggunakan atribut response.text:\")\n",
        "print(response.text)"
      ]
    },
    {
      "cell_type": "code",
      "execution_count": null,
      "id": "15aa29c8",
      "metadata": {
        "ExecuteTime": {
          "end_time": "2022-03-17T15:28:17.141101Z",
          "start_time": "2022-03-17T15:28:17.131095Z"
        },
        "id": "15aa29c8",
        "outputId": "0170c037-ecd6-4cdc-a377-ce9af7bb4c87"
      },
      "outputs": [
        {
          "name": "stdout",
          "output_type": "stream",
          "text": [
            "Sekarang kita belajar menulis dengan menggunakan PythonMenulis konten file dengan mode w(write).\n"
          ]
        }
      ],
      "source": [
        "# Menulis ke file hello_write.txt\n",
        "file = open(\"hello.txt\", \"w\")\n",
        "file.write(\"Sekarang kita belajar menulis dengan menggunakan Python\")\n",
        "file.write(\"Menulis konten file dengan mode w(write).\")\n",
        "file = open(\"hello.txt\", \"r\")\n",
        "for line in file:\n",
        "    print(line)\n",
        "file.close() "
      ]
    },
    {
      "cell_type": "code",
      "execution_count": null,
      "id": "f87223d3",
      "metadata": {
        "ExecuteTime": {
          "end_time": "2022-03-17T15:27:01.918781Z",
          "start_time": "2022-03-17T15:27:01.910776Z"
        },
        "id": "f87223d3"
      },
      "outputs": [],
      "source": [
        "# Menulis ke file dengan mode append\n",
        "file = open(\"hello.txt\", \"a\")\n",
        "# Menambahkan beberapa baris\n",
        "file.writelines([\n",
        "\"Sekarang kita belajar menulis dengan menggunakan Python\", \n",
        "\"Menulis konten file dengan mode a (append).\"\n",
        "])\n",
        "file.close()"
      ]
    },
    {
      "cell_type": "markdown",
      "id": "eee3813e",
      "metadata": {
        "id": "eee3813e"
      },
      "source": [
        "Apa jawaban berikut ini?\n",
        "\n",
        "```python\n",
        "file = open(\"hello.txt\",\"w\")\n",
        "file.writelines([\"Halo\\n\", \"Belajar Python\\n\", \"Menyenangkan!\\n\"])\n",
        "file.close()\n",
        "file = open(\"hello.txt\",\"r\")\n",
        "for line in file:\n",
        "    print(line)\n",
        "    break\n",
        "```"
      ]
    },
    {
      "cell_type": "code",
      "execution_count": null,
      "id": "30f39abf",
      "metadata": {
        "ExecuteTime": {
          "end_time": "2022-03-17T15:29:22.231690Z",
          "start_time": "2022-03-17T15:29:22.227689Z"
        },
        "id": "30f39abf"
      },
      "outputs": [],
      "source": [
        "# Tulis disini ya! \n",
        "\n"
      ]
    },
    {
      "cell_type": "markdown",
      "id": "1bb3949d",
      "metadata": {
        "id": "1bb3949d"
      },
      "source": [
        "Bagaimana untuk ini?\n",
        "\n",
        "```python\n",
        "file = open(\"hello.txt\",\"w\")\n",
        "file.writelines([\"Halo\", \"Belajar Python\", \"Menyenangkan!\"])\n",
        "file.close()\n",
        "file = open(\"hello.txt\",\"w\")\n",
        "file.writelines(\"Menulis ke dalam file\")\n",
        "file.writelines(\"menggunakan Python\")\n",
        "file = open(\"hello.txt\",\"r\")\n",
        "for line in file:\n",
        "    print(line)\n",
        "```"
      ]
    },
    {
      "cell_type": "code",
      "execution_count": null,
      "id": "1512161a",
      "metadata": {
        "ExecuteTime": {
          "end_time": "2022-03-17T15:31:40.424451Z",
          "start_time": "2022-03-17T15:31:40.420449Z"
        },
        "id": "1512161a"
      },
      "outputs": [],
      "source": [
        "# Tulis disini ya! \n",
        "\n"
      ]
    },
    {
      "cell_type": "markdown",
      "id": "2e72cf18",
      "metadata": {
        "id": "2e72cf18"
      },
      "source": [
        "CATATAN:\n",
        "\n",
        "Apabila untuk menggunakan perumusan matematikan dapat memanggil library berikut:\n",
        "\n",
        "```python\n",
        "import math\n",
        "X = 10.22\n",
        "y = -13.99\n",
        "list_angka = [1,2,3,3,3,4]\n",
        "\n",
        "# 1. Pembulatan keatas\n",
        "print(math.ceil(X))\n",
        "\n",
        "# 2. Pembulatan kebawah\n",
        "print(math.floor(X))\n",
        "\n",
        "# 3. Menghasilkan angka absolute\n",
        "print(math.fabs(y))\n",
        "\n",
        "# 4. Membangun bilangan faktorial\n",
        "# Faktorial 4 = 4x3x2x1\n",
        "print(math.factorial(4))\n",
        "\n",
        "# 5. Melakukan penjumlahan dengan tipe data collection (tuple, list, ...)\n",
        "print(math.fsum(list_angka))\n",
        "\n",
        "# 6. Melakukan perhitungan logaritmik\n",
        "print(math.log(81, 3))\n",
        "\n",
        "# 7. Melakukan perhitungan akar pangkat 2\n",
        "print(math.sqrt(64))\n",
        "\n",
        "# 8. Mengembalikan nilai angka pertama, dan tanda angka kedua\n",
        "print(math.copysign(X, y))\n",
        "```"
      ]
    },
    {
      "cell_type": "code",
      "execution_count": null,
      "id": "7c00c5e0",
      "metadata": {
        "id": "7c00c5e0"
      },
      "outputs": [],
      "source": [
        "# Tulis disini ya! \n",
        "\n"
      ]
    },
    {
      "cell_type": "markdown",
      "id": "c6237cf3",
      "metadata": {
        "id": "c6237cf3"
      },
      "source": [
        "Berapakah hasil berikut ini?\n",
        "\n",
        "```python\n",
        "import math\n",
        "x = 5\n",
        "x_factorial = math.factorial(5)\n",
        "x_factorial = math.copysign(x_factorial, -10)\n",
        "print(x_factorial)\n",
        "```"
      ]
    },
    {
      "cell_type": "code",
      "execution_count": null,
      "id": "899a1806",
      "metadata": {
        "id": "899a1806"
      },
      "outputs": [],
      "source": [
        "# Tulis disini ya! \n",
        "\n"
      ]
    },
    {
      "cell_type": "markdown",
      "id": "d13c96ef",
      "metadata": {
        "id": "d13c96ef"
      },
      "source": [
        "Bagaimana dengan ini?\n",
        "\n",
        "```python\n",
        "import math\n",
        "x = [2.22,-3.33,4.44,-5.55]\n",
        "total = 0\n",
        "for i in x:\n",
        "    total += math.ceil(i)\n",
        "print(total)\n",
        "```"
      ]
    },
    {
      "cell_type": "code",
      "execution_count": null,
      "id": "fd477c86",
      "metadata": {
        "id": "fd477c86"
      },
      "outputs": [],
      "source": [
        "# Tulis disini ya! \n",
        "\n"
      ]
    },
    {
      "cell_type": "code",
      "execution_count": null,
      "id": "f5c5e2d2",
      "metadata": {
        "ExecuteTime": {
          "end_time": "2022-03-17T15:59:45.547803Z",
          "start_time": "2022-03-17T15:59:43.887990Z"
        },
        "id": "f5c5e2d2",
        "outputId": "1e49028e-af21-4cae-8c43-fb14182b3687"
      },
      "outputs": [
        {
          "name": "stdout",
          "output_type": "stream",
          "text": [
            "[{'tanah': '70', 'bangunan': '50', 'jarak_ke_pusat': '15', 'harga': '500'}, {'tanah': '70', 'bangunan': '60', 'jarak_ke_pusat': '30', 'harga': '400'}, {'tanah': '70', 'bangunan': '60', 'jarak_ke_pusat': '55', 'harga': '300'}, {'tanah': '100', 'bangunan': '50', 'jarak_ke_pusat': '30', 'harga': '700'}, {'tanah': '100', 'bangunan': '70', 'jarak_ke_pusat': '25', 'harga': '1000'}, {'tanah': '100', 'bangunan': '70', 'jarak_ke_pusat': '50', 'harga': '650'}, {'tanah': '120', 'bangunan': '100', 'jarak_ke_pusat': '20', 'harga': '2000'}, {'tanah': '120', 'bangunan': '80', 'jarak_ke_pusat': '50', 'harga': '1200'}, {'tanah': '150', 'bangunan': '100', 'jarak_ke_pusat': '50', 'harga': '1800'}, {'tanah': '150', 'bangunan': '90', 'jarak_ke_pusat': '15', 'harga': '3000'}]\n",
            "Prediksi harga rumah:  1200\n"
          ]
        }
      ],
      "source": [
        "import requests\n",
        "from contextlib import closing\n",
        "import csv\n",
        "# STEP 1: \n",
        "# Baca file \"harga_rumah.txt\"\n",
        "url = \"https://storage.googleapis.com/dqlab-dataset/harga_rumah.txt\"\n",
        "data_harga_rumah = []\n",
        "with closing(requests.get(url, stream=True)) as r:\n",
        "    f = (line.decode('utf-8') for line in r.iter_lines())\n",
        "    data_harga_rumah = [row for row in csv.reader(f)]\n",
        "# Buat list of dict dengan nama harga rumah\n",
        "key_harga_rumah = data_harga_rumah[0]\n",
        "harga_rumah = []\n",
        "for baris_harga_rumah in data_harga_rumah[1:]:\n",
        "\tdict_harga_rumah = dict()\n",
        "\tfor i in range(len(baris_harga_rumah)):\n",
        "\t\tdict_harga_rumah[key_harga_rumah[i]] = baris_harga_rumah[i]\n",
        "\tharga_rumah.append(dict_harga_rumah)\n",
        "print(harga_rumah)\n",
        "\n",
        "# STEP 2:\n",
        "# Buat fungsi  get_all_specified_attribute yang menerima parameter list_of_dictionary \n",
        "# (tipe data list yang berisikan sekumpulan tipe data dictionary) dan specified_key \n",
        "# (tipe data string). Fungsi akan mengembalikan sebuah list yang berisikan seluruh \n",
        "# atribut dengan kunci (key) specified_key. \n",
        "def get_all_specified_attributes(list_of_dictionary, specified_key):\n",
        "\tlist_attributes = []\n",
        "\tfor data in list_of_dictionary:\n",
        "\t\tattribute = data[specified_key]\n",
        "\t\tlist_attributes.append(attribute)\n",
        "\treturn list_attributes\n",
        "\n",
        "# STEP 3: \n",
        "# Buat fungsi fungsi min_value yang menerima parameter list_attributes (berupa \n",
        "# tipe data list) dan mengembalikan nilai terkecil dalam list_attributes \n",
        "def min_value(list_attributes):\n",
        "\tmin_attribute = 9999\n",
        "\tfor attr in list_attributes:\n",
        "\t\tif int(attr) < min_attribute:\n",
        "\t\t\tmin_attribute = int(attr)\n",
        "\treturn min_attribute\n",
        "# Buat fungsi dan max_value yang menerima parameter list_attribute dan \n",
        "# mengembalikan nilai terbesar dalam list_attributes.\t\n",
        "def max_value(list_attributes):\n",
        "\tmax_attribute = -9999\n",
        "\tfor attr in list_attributes:\n",
        "\t\tif int(attr) > max_attribute:\n",
        "\t\t\tmax_attribute = int(attr)\n",
        "\treturn max_attribute\n",
        "\n",
        "# STEP 4: \n",
        "# Buat fungsi transform_attribute yang menerima parameter attr (sebuah \n",
        "# bilangan), max_attr (sebuah bilangan) dan min_attr (sebuah bilangan) \n",
        "# yang mengembalikan nilai transformasi dari sebuah attribute.\n",
        "def transform_attribute(attr, max_attr, min_attr):\n",
        "\tnilai_transformasi = (attr - min_attr) / (max_attr - min_attr)\n",
        "\treturn nilai_transformasi\n",
        "\n",
        "# STEP 5:\n",
        "# Buat fungsi data_transformation yang menerima parameter list_of_dictionary \n",
        "# (sebuah list yang berisikan tipe data dictionary) dan list_attribute_names \n",
        "# (sebuah list yang berisikan tipe data string) mengembalikan hasil \n",
        "# transformasi data dari list_of_dictionary berdasarkan list_attribute_names \n",
        "# dan attr_info telah dispesifikasikan.\n",
        "def data_transformation(list_of_dictionary, list_attribute_names):\n",
        "\tattr_info = {}\n",
        "\tfor attr_name in list_attribute_names:\n",
        "\t\tspecified_attributes = get_all_specified_attributes(list_of_dictionary, attr_name)\n",
        "\t\tmax_attr = max_value(specified_attributes)\n",
        "\t\tmin_attr = min_value(specified_attributes)\n",
        "\t\tattr_info[attr_name] = {'max': max_attr, 'min': min_attr}\n",
        "\t\tdata_idx = 0\n",
        "\t\twhile(data_idx < len(list_of_dictionary)):\n",
        "\t\t\tlist_of_dictionary[data_idx][attr_name] = transform_attribute(int(list_of_dictionary[data_idx][attr_name]), max_attr, min_attr)\n",
        "\t\t\tdata_idx += 1\n",
        "\treturn list_of_dictionary, attr_info\n",
        "\n",
        "# STEP 6:\n",
        "# Berdasarkan data baru dan attr_info ini, buat fungsi transform_data yang\n",
        "# menerima parameter data dan attr_info dan mengembalikan nilai atribut \n",
        "# dari data baru yang telah ditransformasikan.\n",
        "def transform_data(data, attr_info):\n",
        "\tfor key_name in data.keys():\n",
        "\t\tdata[key_name] = (data[key_name] - attr_info[key_name]['min']) / (\n",
        "\t\t                  attr_info[key_name]['max'] - attr_info[key_name]['min'])\n",
        "\treturn data\n",
        "\n",
        "# STEP 7:\n",
        "# Buat fungsi yang digunakan untuk sistem prediksi harga berdasarkan \n",
        "# nilai kemiripan atribut, yaitu argument input data dan list_of_data!\n",
        "def abs_value(value):\n",
        "\tif value < 0:\n",
        "\t\treturn -value\n",
        "\telse:\n",
        "\t\treturn value\n",
        "def price_based_on_similarity(data, list_of_data):\n",
        "\tprediksi_harga = 0\n",
        "\tperbedaan_terkecil = 999\n",
        "\tfor data_point in list_of_data:\n",
        "\t\tperbedaan= abs_value(data['tanah'] - data_point['tanah'])\n",
        "\t\tperbedaan+= abs_value(data['bangunan'] - data_point['bangunan'])\n",
        "\t\tperbedaan+= abs_value(data['jarak_ke_pusat'] - data_point['jarak_ke_pusat'])\n",
        "\t\tif perbedaan < perbedaan_terkecil:\n",
        "            prediksi_harga = data_point['harga']\n",
        "            perbedaan_terkecil = perbedaan\n",
        "\treturn prediksi_harga\n",
        "# STEP 8:\n",
        "# Hitung harga rumah yang telah ditransformasikan ke dalam variabel \n",
        "# harga_rumah berikut dengan atributnya attr_info\n",
        "harga_rumah, attr_info = data_transformation(harga_rumah,\n",
        "                                             ['tanah','bangunan','jarak_ke_pusat'])\n",
        "# Gunakan variabel data untuk memprediksi harga rumah\n",
        "data = {'tanah': 110, 'bangunan': 80, 'jarak_ke_pusat': 35}\n",
        "# Transformasikan data tersebut dengan dengan menggunakan attr_info yang telah \n",
        "# diperoleh yang kembali disimpan ke variabel data.\n",
        "data = transform_data(data, attr_info)\n",
        "# Hitunglah prediksi harga dari variabel data tersebut.\n",
        "harga = price_based_on_similarity(data, harga_rumah)\n",
        "print(\"Prediksi harga rumah: \", harga)"
      ]
    }
  ],
  "metadata": {
    "kernelspec": {
      "display_name": "Python 3 (ipykernel)",
      "language": "python",
      "name": "python3"
    },
    "language_info": {
      "codemirror_mode": {
        "name": "ipython",
        "version": 3
      },
      "file_extension": ".py",
      "mimetype": "text/x-python",
      "name": "python",
      "nbconvert_exporter": "python",
      "pygments_lexer": "ipython3",
      "version": "3.8.12"
    },
    "toc": {
      "base_numbering": 1,
      "nav_menu": {
        "height": "273.991px",
        "width": "277.997px"
      },
      "number_sections": true,
      "sideBar": true,
      "skip_h1_title": false,
      "title_cell": "Table of Contents",
      "title_sidebar": "Contents",
      "toc_cell": false,
      "toc_position": {},
      "toc_section_display": true,
      "toc_window_display": false
    },
    "colab": {
      "name": "Text-&-Library-Manipulation.ipynb",
      "provenance": [],
      "collapsed_sections": [],
      "toc_visible": true
    }
  },
  "nbformat": 4,
  "nbformat_minor": 5
}