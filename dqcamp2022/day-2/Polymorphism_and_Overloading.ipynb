{
  "cells": [
    {
      "cell_type": "markdown",
      "id": "e9d14c90",
      "metadata": {
        "id": "e9d14c90"
      },
      "source": [
        "# Polymorphism & Overloading\n",
        "\n",
        "Polymorphism merupakan cara mendefinisikan kembali fungsi yang telah diwarisi oleh parent class. Mari kita melihat contoh berikut dengan adanya perubahan fungsi lembur dengan penambahan 10% dari pendapatan:\n",
        "\n",
        "```python\n",
        "# Definisikan class Karyawan (sebagai base class)\n",
        "class Karyawan: \n",
        "    nama_perusahaan = 'ABC' \n",
        "    insentif_lembur = 250000\n",
        "    def __init__(self, nama, usia, pendapatan): \n",
        "        self.nama = nama\n",
        "        self.usia = usia \n",
        "        self.pendapatan = pendapatan \n",
        "        self.pendapatan_tambahan = 0\n",
        "    def lembur(self):\n",
        "        self.pendapatan_tambahan += self.insentif_lembur \n",
        "    def tambahan_proyek(self, insentif_proyek):\n",
        "        self.pendapatan_tambahan += insentif_proyek \n",
        "    def total_pendapatan(self):\n",
        "        return self.pendapatan + self.pendapatan_tambahan\n",
        "# Buat class turunan (sebagai inherit class) dari class karyawan, \n",
        "# yaitu class AnalisData\n",
        "class AnalisData(Karyawan):\n",
        "    def __init__(self, nama, usia, pendapatan):\n",
        "    # melakukan pemanggilan konstruktur class Karyawan \n",
        "        super().__init__(nama, usia, pendapatan)\n",
        "    # menerapkan polymorphism dengan mendefinisikan kembali fungsi \n",
        "    # lembur() pada class AnalisData \n",
        "    def lembur(self):\n",
        "        # pendapatan tambahan pada class AnalisData sebesar\n",
        "        # 10 % dari pendapatannya.\n",
        "        self.pendapatan_tambahan += int(self.pendapatan * 0.1)\n",
        "        \n",
        "# Buat objek karyawan yang bekerja sebagai AnalisData\n",
        "budi = AnalisData('Budi', 25, 8500000)\n",
        "budi.lembur()\n",
        "print(budi.total_pendapatan())\n",
        "```"
      ]
    },
    {
      "cell_type": "code",
      "execution_count": null,
      "id": "5d6a5d08",
      "metadata": {
        "id": "5d6a5d08"
      },
      "outputs": [],
      "source": [
        "# Tulis disini ya! \n",
        "\n"
      ]
    },
    {
      "cell_type": "markdown",
      "id": "3b6c8075",
      "metadata": {
        "id": "3b6c8075"
      },
      "source": [
        "> super() dapat berguna untuk mengakses atribut/fungsi yang dimiliki oleh parent class. Ini berarti tidak hanya mengakses constructor\n",
        "\n",
        "Perhatikan berikut ini, disini mengubah menjadi 5% uang lembur.\n",
        "\n",
        "```python\n",
        "# Definisikan class Karyawan (sebagai base class)\n",
        "class Karyawan: \n",
        "    nama_perusahaan = 'ABC' \n",
        "    insentif_lembur = 250000\n",
        "    def __init__(self, nama, usia, pendapatan): \n",
        "        self.nama = nama\n",
        "        self.usia = usia \n",
        "        self.pendapatan = pendapatan \n",
        "        self.pendapatan_tambahan = 0\n",
        "    def lembur(self):\n",
        "        self.pendapatan_tambahan += self.insentif_lembur \n",
        "    def tambahan_proyek(self, insentif_proyek):\n",
        "        self.pendapatan_tambahan += insentif_proyek \n",
        "    def total_pendapatan(self):\n",
        "        return self.pendapatan + self.pendapatan_tambahan\n",
        "# Buat class turunan (sebagai inherit class) dari class karyawan, \n",
        "# yaitu class AnalisData\n",
        "class AnalisData(Karyawan):\n",
        "    def __init__(self, nama, usia, pendapatan): \n",
        "        super().__init__ (nama, usia, pendapatan)\n",
        "    # mendefinisikan kembali fungsi lembur() pada class AnalisData \n",
        "    def lembur(self):\n",
        "        # memanggil fungsi lembur pada class Karyawan \n",
        "        super().lembur()\n",
        "        # pendapatan tambahan pada class AnalisData sebesar\n",
        "        # 5 % dari pendapatannya.\n",
        "        self.pendapatan_tambahan += int(self.pendapatan * 0.05)\n",
        "# Buat objek karyawan yang bekerja sebagai AnalisData\n",
        "budi = AnalisData('Budi', 25, 8500000)\n",
        "budi.lembur()\n",
        "print(budi.total_pendapatan())\n",
        "```"
      ]
    },
    {
      "cell_type": "code",
      "execution_count": null,
      "id": "3fce2962",
      "metadata": {
        "id": "3fce2962"
      },
      "outputs": [],
      "source": [
        "# Tulis disini ya! \n",
        "\n"
      ]
    },
    {
      "cell_type": "markdown",
      "id": "62b816b3",
      "metadata": {
        "id": "62b816b3"
      },
      "source": [
        "Tugas Praktek\n",
        "\n",
        "```python\n",
        "# Definisikan class Karyawan sebagai parent class\n",
        "class Karyawan:\n",
        "    def __init__(self, nama, usia, pendapatan, insentif_lembur): \n",
        "        self.nama = nama\n",
        "        self.usia = usia \n",
        "        self.pendapatan = pendapatan \n",
        "        self.pendapatan_tambahan = 0\n",
        "        self.insentif_lembur = insentif_lembur \n",
        "    def lembur(self):\n",
        "        self.pendapatan_tambahan += self.insentif_lembur \n",
        "    def tambahan_proyek(self,jumlah_tambahan):\n",
        "        self.pendapatan_tambahan += jumlah_tambahan \n",
        "    def total_pendapatan(self):\n",
        "        return self.pendapatan + self.pendapatan_tambahan\n",
        "# Definisikan class TenagaLepas sebagai child class dari\n",
        "# class Karyawan\n",
        "class TenagaLepas(Karyawan):\n",
        "    def __init__(self, nama, usia, pendapatan):\n",
        "        super().__init__(nama, usia, pendapatan, 0)\n",
        "    def tambahan_proyek(self, nilai_proyek):\n",
        "        self.pendapatan_tambahan += nilai_proyek * 0.01\n",
        "# Definisikan class AnalisData sebagai child class dari\n",
        "# class Karyawan\n",
        "class AnalisData(Karyawan): \n",
        "\tpass\n",
        "# Definisikan class IlmuwanData sebagai child class dari\n",
        "# class Karyawan\n",
        "class IlmuwanData(Karyawan):\n",
        "    def tambahan_proyek(self, nilai_proyek): \n",
        "        self.pendapatan_tambahan += 0.1 * nilai_proyek\n",
        "# Definisikan class PembersihData sebagai child class dari\n",
        "# class TenagaLepas\n",
        "class PembersihData(TenagaLepas): \n",
        "\tpass\n",
        "# Definisikan class DokumenterTeknis sebagai child class dari\n",
        "# class TenagaLepas\n",
        "class DokumenterTeknis(TenagaLepas):\n",
        "    def tambahan_proyek(self, jumlah_tambahan): \n",
        "        return \n",
        "```"
      ]
    },
    {
      "cell_type": "code",
      "execution_count": null,
      "id": "ab4d081e",
      "metadata": {
        "id": "ab4d081e"
      },
      "outputs": [],
      "source": [
        "# Tulis disini ya! \n",
        "\n"
      ]
    },
    {
      "cell_type": "markdown",
      "id": "92573d11",
      "metadata": {
        "id": "92573d11"
      },
      "source": [
        "Overloading mengijinkan sebuah class memiliki sekumpulan fungsi sama dengan attribute berbeda, namun python tidak mengizinkan pendeklarasi fungsi dengan nama sama, kita dapat menggunakan default parameters."
      ]
    },
    {
      "cell_type": "markdown",
      "id": "28acc769",
      "metadata": {
        "id": "28acc769"
      },
      "source": [
        "Tugas Praktek\n",
        "\n",
        "```python\n",
        "class Karyawan: \n",
        "    nama_perusahaan = 'ABC' \n",
        "    insentif_lembur = 250000\n",
        "    # usia akan di-set nilainya menjadi 21 saat tidak\n",
        "    # dispesifikasikan dan pendapatan akan di-set nilainya\n",
        "    # menjadi 5000000 saat tidak dispesifikasikan\n",
        "    def __init__(self, nama, usia=21, pendapatan=5000000): \n",
        "        self.nama = nama\n",
        "        self.usia = usia\n",
        "        self.pendapatan = pendapatan \n",
        "        self.pendapatan_tambahan = 0\n",
        "    def lembur(self):\n",
        "        self.pendapatan_tambahan += self.insentif_lembur \n",
        "    def tambahan_proyek(self, insentif_proyek):\n",
        "        self.pendapatan_tambahan += insentif_proyek \n",
        "    def total_pendapatan(self):\n",
        "        return self.pendapatan + self.pendapatan_tambahan\n",
        "# Karyawan baru pertama yang bernama Budi\n",
        "karyawan_baru1 = Karyawan('Budi')\n",
        "print(karyawan_baru1.nama)\n",
        "print(karyawan_baru1.usia)\n",
        "print(karyawan_baru1.total_pendapatan())\n",
        "# Karyawan baru ke-2 yang bernama Didi, umur 25\n",
        "karyawan_baru2 = Karyawan('Didi', 25)\n",
        "print(karyawan_baru2.nama)\n",
        "print(karyawan_baru2.usia)\n",
        "print(karyawan_baru2.total_pendapatan())\n",
        "# Karyawan baru ke-3 yang bernama Hadi, pendapatan 8000000\n",
        "karyawan_baru3 = Karyawan('Hadi', pendapatan=8000000)\n",
        "print(karyawan_baru3.nama)\n",
        "print(karyawan_baru3.usia)\n",
        "print(karyawan_baru3.total_pendapatan())\n",
        "```"
      ]
    },
    {
      "cell_type": "code",
      "execution_count": null,
      "id": "6e9f3bf0",
      "metadata": {
        "ExecuteTime": {
          "end_time": "2022-03-20T09:35:48.665357Z",
          "start_time": "2022-03-20T09:35:48.661352Z"
        },
        "id": "6e9f3bf0"
      },
      "outputs": [],
      "source": [
        "# Tulis disini ya! \n",
        "\n"
      ]
    },
    {
      "cell_type": "markdown",
      "id": "9d8cc4d8",
      "metadata": {
        "id": "9d8cc4d8"
      },
      "source": [
        "Praktek Mini Quiz!\n",
        "\n",
        "```python\n",
        "# Definisikan class Karyawan sebagai parent class\n",
        "class Karyawan:\n",
        "    def __init__(self, nama, usia, pendapatan, insentif_lembur):\n",
        "        self.nama = nama\n",
        "        self.usia = usia \n",
        "        self.pendapatan = pendapatan \n",
        "        self.pendapatan_tambahan = 0\n",
        "        self.insentif_lembur = insentif_lembur \n",
        "    def lembur(self):\n",
        "        self.pendapatan_tambahan += self.insentif_lembur \n",
        "    def tambahan_proyek(self,jumlah_tambahan):\n",
        "        self.pendapatan_tambahan += jumlah_tambahan \n",
        "    def total_pendapatan(self):\n",
        "        return self.pendapatan + self.pendapatan_tambahan \n",
        "\n",
        "# Definisikan class TenagaLepas sebagai child class dari class Karyawan \n",
        "class TenagaLepas(Karyawan):\n",
        "    def __init__(self, nama, usia, pendapatan): \n",
        "        super().__init__(nama, usia, pendapatan, 0)\n",
        "    def tambahan_proyek(self, nilai_proyek): \n",
        "        self.pendapatan_tambahan += nilai_proyek * 0.01\n",
        "\n",
        "# Definisikan class AnalisData sebagai child class dari class Karyawan \n",
        "class AnalisData(Karyawan):\n",
        "    def __init__(self, nama, usia = 21, pendapatan = 6500000, \n",
        "                 insentif_lembur = 100000):\n",
        "        super().__init__(nama, usia, pendapatan, insentif_lembur) \n",
        "\n",
        "# Definisikan class IlmuwanData sebagai child class dari class Karyawan\n",
        "class IlmuwanData(Karyawan):\n",
        "    def __init__(self, nama, usia = 25, pendapatan = 12000000, \n",
        "                 insentif_lembur = 150000):\n",
        "        super().__init__(nama, usia, pendapatan,insentif_lembur) \n",
        "    def tambahan_proyek(self, nilai_proyek):\n",
        "        self.pendapatan_tambahan += 0.1 * nilai_proyek \n",
        "\n",
        "# Definisikan class PembersihData sebagai child class dari class TenagaLepas\n",
        "class PembersihData(TenagaLepas):\n",
        "    def __init__(self, nama, usia, pendapatan = 4000000): \n",
        "        super().__init__(nama, usia, pendapatan)\n",
        "\n",
        "# Definisikan class DokumenterTeknis sebagai child class dari class TenagaLepas\n",
        "class DokumenterTeknis(TenagaLepas):\n",
        "    def __init__(self, nama, usia, pendapatan = 2500000): \n",
        "        super().__init__(nama, usia, pendapatan)\n",
        "\n",
        "# Definisikan class Perusahaan \n",
        "class Perusahaan:\n",
        "    def __init__(self, nama, alamat, nomor_telepon): \n",
        "        self.nama = nama\n",
        "        self.alamat = alamat \n",
        "        self.nomor_telepon = nomor_telepon \n",
        "        self.list_karyawan = []\n",
        "    def aktifkan_karyawan(self, karyawan): \n",
        "        self.list_karyawan.append(karyawan)\n",
        "    def nonaktifkan_karyawan(self, nama_karyawan): \n",
        "        karyawan_nonaktif = None\n",
        "        for karyawan in self.list_karyawan:\n",
        "            if karyawan.nama == nama_karyawan: \n",
        "                karyawan_nonaktif = karyawan \n",
        "                break\n",
        "        if karyawan_nonaktif is not None: \n",
        "            self.list_karyawan.remove(karyawan_nonaktif)\n",
        "    def total_pengeluaran(self): \n",
        "        pengeluaran = 0\n",
        "        for karyawan in self.list_karyawan:\n",
        "            pengeluaran += karyawan.total_pendapatan() \n",
        "        return pengeluaran\n",
        "    def cari_karyawan(self, nama_karyawan): \n",
        "        for karyawan in self.list_karyawan:\n",
        "            if karyawan.nama == nama_karyawan: \n",
        "                return karyawan\n",
        "        return None\n",
        "\n",
        "# Create object karyawan sesuai dengan tugasnya masing-masing\n",
        "# seperti yang dinyatakan dalam tabel.\n",
        "ani = PembersihData('Ani', 25)\n",
        "budi = DokumenterTeknis('Budi', 18)\n",
        "cici = IlmuwanData('Cici')\n",
        "didi = IlmuwanData('Didi', 32, 20000000)\n",
        "efi = AnalisData('Efi')\n",
        "febi = AnalisData('Febi', 28, 12000000)\n",
        "\n",
        "# Create object perusahaan\n",
        "perusahaan = Perusahaan('ABC','Jl. Jendral Sudirman, Blok 11', '(021) 95812XX')\n",
        "\n",
        "# Aktifkan setiap karyawan yang telah didefinisikan\n",
        "perusahaan.aktifkan_karyawan(ani)\n",
        "perusahaan.aktifkan_karyawan(budi)\n",
        "perusahaan.aktifkan_karyawan(cici)\n",
        "perusahaan.aktifkan_karyawan(didi)\n",
        "perusahaan.aktifkan_karyawan(efi)\n",
        "perusahaan.aktifkan_karyawan(febi)\n",
        "\n",
        "# Cetak keseluruhan total pengeluaran perusahaan\n",
        "print(perusahaan.total_pengeluaran())\n",
        "```"
      ]
    },
    {
      "cell_type": "code",
      "execution_count": null,
      "id": "787f2c84",
      "metadata": {
        "id": "787f2c84"
      },
      "outputs": [],
      "source": [
        "# Tulis disini ya! \n",
        "\n"
      ]
    }
  ],
  "metadata": {
    "kernelspec": {
      "display_name": "Python 3 (ipykernel)",
      "language": "python",
      "name": "python3"
    },
    "language_info": {
      "codemirror_mode": {
        "name": "ipython",
        "version": 3
      },
      "file_extension": ".py",
      "mimetype": "text/x-python",
      "name": "python",
      "nbconvert_exporter": "python",
      "pygments_lexer": "ipython3",
      "version": "3.8.12"
    },
    "toc": {
      "base_numbering": 1,
      "nav_menu": {
        "height": "273.991px",
        "width": "277.997px"
      },
      "number_sections": true,
      "sideBar": true,
      "skip_h1_title": false,
      "title_cell": "Table of Contents",
      "title_sidebar": "Contents",
      "toc_cell": false,
      "toc_position": {},
      "toc_section_display": true,
      "toc_window_display": false
    },
    "colab": {
      "name": "Polymorphism-and-Overloading.ipynb",
      "provenance": [],
      "collapsed_sections": [
        "5205d62d",
        "935b2201",
        "a4f20cda",
        "1cb0d5af",
        "9a827999",
        "f864a62c",
        "16e5a08d",
        "fc557ee4",
        "9bf93b2f",
        "1d7f347c",
        "629735e5",
        "f2e9181a",
        "8f4cdcdb",
        "9015bedc",
        "d2a9f5a6",
        "a23eb1c4",
        "e9d14c90"
      ],
      "toc_visible": true
    }
  },
  "nbformat": 4,
  "nbformat_minor": 5
}