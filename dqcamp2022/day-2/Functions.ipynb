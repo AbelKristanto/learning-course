{
  "cells": [
    {
      "cell_type": "markdown",
      "id": "bb06067b",
      "metadata": {
        "id": "bb06067b"
      },
      "source": [
        "<h1>Functions</h1>\n",
        "<p>Di bagian ini kita akan membahas tentang fungsi yang mana dapat dijalankan pada saat dipanggil. Susunan fungsi sebagai berikut ini:</p>\n",
        "\n",
        "```python\n",
        "def nama_fungsi(argument):\n",
        "    ....\n",
        "    ....\n",
        "    statement_n\n",
        "    return value_X\n",
        "```\n",
        "\n",
        "Catatan:\n",
        "1. nama_fungsi: nama yang didefinisikan\n",
        "2. argument: variabel masukan fungsi\n",
        "3. statemen_n: algoritma yang dijalankan\n",
        "4. value_X: output dari fungsi tersebut"
      ]
    },
    {
      "cell_type": "code",
      "execution_count": null,
      "id": "0c88c647",
      "metadata": {
        "id": "0c88c647"
      },
      "outputs": [],
      "source": [
        "# Tulis disini ya! \n",
        "\n"
      ]
    },
    {
      "cell_type": "code",
      "execution_count": null,
      "id": "029e69d4",
      "metadata": {
        "ExecuteTime": {
          "end_time": "2022-03-17T15:01:18.966630Z",
          "start_time": "2022-03-17T15:01:14.514378Z"
        },
        "id": "029e69d4",
        "outputId": "4ceaa764-a5c6-4467-ccec-19c18b7b6899"
      },
      "outputs": [
        {
          "name": "stdout",
          "output_type": "stream",
          "text": [
            "Budi\n",
            "Hallo, namaku Budi\n",
            "Semarang\n",
            "Saya asal dari Semarang\n",
            "Kamu bisa memanggilku Andi\n",
            "Kamu bisa memanggilku Mawar\n"
          ]
        }
      ],
      "source": [
        "# FUNGSI TANPA ARGUMENT\n",
        "def fungsi_pertamaku():\n",
        "    print(\"Hallo, namaku\", input())\n",
        "    print(\"Saya asal dari\", input())\n",
        "\n",
        "# Memanggil fungsi\n",
        "fungsi_pertamaku()\n",
        "\n",
        "# FUNGSI DENGAN ARGUMEN\n",
        "def panggilanku(nama):\n",
        "    print(\"Kamu bisa memanggilku \" + nama)\n",
        "\n",
        "# Memanggil fungsi\n",
        "panggilanku(\"Andi\")\n",
        "\n",
        "# FUNGSI DENGAN DEFAULT\n",
        "def panggilanku_2(nama=\"Mawar\"):\n",
        "    print(\"Kamu bisa memanggilku juga \" + nama)\n",
        "\n",
        "# Memanggil fungsi\n",
        "panggilanku_2()"
      ]
    },
    {
      "cell_type": "code",
      "execution_count": null,
      "id": "6f8be637",
      "metadata": {
        "id": "6f8be637"
      },
      "outputs": [],
      "source": [
        "# Dua buah data yang tersimpan dalam tipe list\n",
        "data1 = [70, 70, 70, 100, 100, 100, 120, 120, 150, 150]\n",
        "data2 = [50, 60, 60, 50, 70, 70, 100, 80, 100, 90]\n",
        "# Definisikan fungsi hitng_rata_rata\n",
        "def hitung_rata_rata(data):\n",
        "    jumlah = 0\n",
        "    for item in data:\n",
        "        jumlah += item\n",
        "    rata_rata = jumlah/len(data)\n",
        "    return rata_rata\n",
        "# Hitung nilai rata-rata dari kedua data yang dimiliki\n",
        "print('Rata-rata data1:')\n",
        "print(hitung_rata_rata(data1))\n",
        "print('Rata-rata data2:')\n",
        "print(hitung_rata_rata(data2))"
      ]
    },
    {
      "cell_type": "code",
      "execution_count": null,
      "id": "4d074694",
      "metadata": {
        "id": "4d074694"
      },
      "outputs": [],
      "source": [
        "# Dua buah data yang tersimpan dalam tipe list\n",
        "data1 = [70, 70, 70, 100, 100, 100, 120, 120, 150, 150]\n",
        "data2 = [50, 60, 60, 50, 70, 70, 100, 80, 100, 90]\n",
        "# Fungsi rata-rata data\n",
        "def hitung_rata_rata(data):\n",
        "    jumlah = 0\n",
        "    for item in data:\n",
        "        jumlah += item\n",
        "    rata_rata = jumlah/len(data)\n",
        "    return rata_rata\n",
        "# Definisikan fungsi hitung_standar_deviasi\n",
        "def hitung_standar_deviasi(data):\n",
        "    rata_rata_data = hitung_rata_rata(data)\n",
        "    varians = 0\n",
        "    for item in data:\n",
        "        varians += (item - rata_rata_data) ** 2\n",
        "        varians /= len(data)\n",
        "    standar_deviasi = varians ** (1/2)\n",
        "    return standar_deviasi\n",
        "# Hitung nilai standar deviasi dari kedua data yang dimiliki\n",
        "print('Standar deviasi data1:')\n",
        "print(hitung_standar_deviasi(data1))\n",
        "print('Standar deviasi data2:')\n",
        "print(hitung_standar_deviasi(data2))"
      ]
    },
    {
      "cell_type": "code",
      "execution_count": null,
      "id": "b84a8848",
      "metadata": {
        "id": "b84a8848"
      },
      "outputs": [],
      "source": [
        "# Data properti\n",
        "tabel_properti = {\n",
        "'luas_tanah': [70, 70, 70, 100, 100, 100, 120, 120, 150, 150],\n",
        "'luas_bangunan': [50, 60, 60, 50, 70, 70, 100, 80, 100, 90],\n",
        "'jarak': [15, 30, 55, 30, 25, 50, 20, 50, 50, 15],\n",
        "'harga': [500, 400, 300, 700, 1000, 650, 2000, 1200, 1800, 3000]\n",
        "}\n",
        "# Fungsi rata-rata data\n",
        "def hitung_rata_rata(data):\n",
        "    jumlah = 0\n",
        "    for item in data:\n",
        "        jumlah += item\n",
        "    rata_rata = jumlah/len(data)\n",
        "    return rata_rata\n",
        "# Fungsi hitung_standar_deviasi\n",
        "def hitung_standar_deviasi(data):\n",
        "    rata_rata_data = hitung_rata_rata(data)\n",
        "    varians = 0\n",
        "    for item in data:\n",
        "        varians += (item - rata_rata_data) ** 2\n",
        "        varians /= len(data)\n",
        "    standar_deviasi = varians ** (1/2)\n",
        "    return standar_deviasi\n",
        "# Definisikan fungsi untuk menghitung rata-rata dan standar deviasi\n",
        "# setiap kolom pada tabel_properti yang diberikan oleh key dict.\n",
        "def deskripsi_properti(tabel):\n",
        "    for key in tabel.keys():\n",
        "        print('Rata-rata ' + key + ':')\n",
        "        print(hitung_rata_rata(tabel[key])) \n",
        "        print('Standar deviasi ' + key + ':')\n",
        "        print(hitung_standar_deviasi(tabel[key]))\n",
        "        print('')\n",
        "# Panggil fungsi deskripsi_properti untuk menghitung rata-rata \n",
        "# dan standar deviasi setiap kolom pada tabel_properti\n",
        "deskripsi_properti(tabel_properti)"
      ]
    }
  ],
  "metadata": {
    "kernelspec": {
      "display_name": "Python 3 (ipykernel)",
      "language": "python",
      "name": "python3"
    },
    "language_info": {
      "codemirror_mode": {
        "name": "ipython",
        "version": 3
      },
      "file_extension": ".py",
      "mimetype": "text/x-python",
      "name": "python",
      "nbconvert_exporter": "python",
      "pygments_lexer": "ipython3",
      "version": "3.8.12"
    },
    "toc": {
      "base_numbering": 1,
      "nav_menu": {
        "height": "273.991px",
        "width": "277.997px"
      },
      "number_sections": true,
      "sideBar": true,
      "skip_h1_title": false,
      "title_cell": "Table of Contents",
      "title_sidebar": "Contents",
      "toc_cell": false,
      "toc_position": {},
      "toc_section_display": true,
      "toc_window_display": false
    },
    "colab": {
      "name": "Functions.ipynb",
      "provenance": [],
      "collapsed_sections": [],
      "toc_visible": true
    }
  },
  "nbformat": 4,
  "nbformat_minor": 5
}