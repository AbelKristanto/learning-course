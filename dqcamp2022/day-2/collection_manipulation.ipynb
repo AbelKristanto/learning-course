{
  "cells": [
    {
      "cell_type": "markdown",
      "id": "e568d799",
      "metadata": {
        "id": "e568d799"
      },
      "source": [
        "<h1>Collection Manipulation</h1>\n",
        "<p>Di bagian ini kita akan membahas tentang manipulasi yang ada dilakukan di tipe data collection (dimulai dari list, tuple, set dan dictionary). Dengan mempelajari ini akan membantu kita dalam mengolah tipe data tersebut Yuk mari belajar bersama!</p>\n",
        "<ol>\n",
        "    <li>Pengenalan</li>\n",
        "    <li>List Manipulation</li>\n",
        "    <li>Tuple Manipulation</li>\n",
        "    <li>Set Manipulation</li>\n",
        "    <li>Dictionary Manipulation</li>\n",
        "</ol>"
      ]
    },
    {
      "cell_type": "markdown",
      "id": "9bf93b2f",
      "metadata": {
        "id": "9bf93b2f"
      },
      "source": [
        "## Pengenalan Collection\n",
        "\n",
        "Dalam mengakses list dan tuple dimulai dari angka 0, sehingga tidak heran apabila kita mengakses seperti berikut ini:\n",
        "\n",
        "```python\n",
        "penulis = ['Budi','Ando', 'Alexa', 'Dono']\n",
        "tahun = ('2021', '2022', '2023', '2024')\n",
        "\n",
        "# Jika akses yang pertama\n",
        "print(penulis[0])\n",
        "print(tahun[0])\n",
        "\n",
        "# Jika akses yang terakhir\n",
        "print(penulis[-1])\n",
        "print(tahun[-1])\n",
        "\n",
        "# Jika akses dengan range/slicing\n",
        "print(penulis[:2]) # penulis[:-2] Sebelum 2 [tidak termasuk]\n",
        "print(tahun[2:]) # tahun[-2:] Setelah 2 [termasuk]\n",
        "print(penulis[1:3]) # Tengah\n",
        "\n",
        "# Penggabungan data (dengan +)\n",
        "tahun2 = ('2025', '2026', '2027', '2028')\n",
        "penulis2 = ['Anton', 'Yana', 'Ani', 'Bunga']\n",
        "print(tahun + tahun2)\n",
        "print(penulis + penulis2)\n",
        "```\n",
        "\n",
        "Berapakah ini?\n",
        "\n",
        "```python\n",
        "harga = [1000, 2500, 5000, 15000, 30000]\n",
        "print(harga[:-2])\n",
        "```"
      ]
    },
    {
      "cell_type": "code",
      "execution_count": null,
      "id": "b9a63c66",
      "metadata": {
        "ExecuteTime": {
          "end_time": "2022-03-14T23:19:01.493136Z",
          "start_time": "2022-03-14T23:19:01.489132Z"
        },
        "id": "b9a63c66"
      },
      "outputs": [],
      "source": [
        "# Tulis disini ya! \n",
        "# [jika mengeluarkan tahun 2022 dan 2023]\n",
        "\n"
      ]
    },
    {
      "cell_type": "markdown",
      "id": "1d7f347c",
      "metadata": {
        "id": "1d7f347c"
      },
      "source": [
        "## List Manipulation\n",
        "\n",
        "Dalam memanipulasi tipe data list, ada beberapa fitur yang dapat bermanfaat kita gunakan diantaranya:\n",
        "\n",
        "1. .append(...) -- Menambahkan data sebagai elemen terakhir di list\n",
        "2. .clear(...) -- Menghapus seluruh elemen dalam sebuah list\n",
        "3. .copy() -- Mencopy informasi elemen\n",
        "4. .count(...) -- Menghitung element tertentu di dalam list\n",
        "5. .extend(...) -- Menggabungkan dua buah list (+)\n",
        "6. .index(...) -- Menginformasikan indeks elemen yang dicari\n",
        "7. .insert(..2.., ..'bubur'..) -- Menambahkan data di titik tertentu\n",
        "8. .pop(..'bubur'..) -- Menghapus titik tertentu (dengan indeks)\n",
        "9. .remove(..3..) -- Menghapus elemen (dengan elemen)\n",
        "10. .reverse() -- Membalik urutan elemen list (tidak bisa beda tipe)\n",
        "11. .sort(reverse=True) -- Mengurutkan default ascending\n",
        "\n",
        "```python\n",
        "\n",
        "# contoh penerapan\n",
        "menu_sarapan = ['bubur', 'omelet', 'salad', 'pancake']\n",
        "menu_siang = ['tongseng', 'geprek', 'rendang', 'tahu tek']\n",
        "\n",
        "# menambahkan 'roti bakar' di menu sarapan\n",
        "menu_sarapan.append('roti bakar')\n",
        "\n",
        "# menambahkan di titik tertentu\n",
        "menu_sarapan.insert(2, 'sus')\n",
        "\n",
        "# mencopy informasi menu_siang\n",
        "menu_malam = menu_siang.copy()\n",
        "\n",
        "# menghapus seluruh elemen menu_siang\n",
        "menu_siang.clear()\n",
        "\n",
        "# menghapus tertentu\n",
        "menu_sarapan.pop(0)\n",
        "menu_sarapan.remove('omelet')\n",
        "\n",
        "# menghitung elemen tertentu\n",
        "menu_sarapan.append('roti bakar')\n",
        "print(menu_sarapan)\n",
        "print(menu_sarapan.count('roti bakar'))\n",
        "\n",
        "# menggabungkan elemen\n",
        "menu_restaurant = menu_sarapan.extend(menu_malam)\n",
        "print(menu_sarapan)\n",
        "\n",
        "# mengubah urutan\n",
        "print(menu_sarapan.reverse())\n",
        "\n",
        "# belajar urutan descending\n",
        "data = [1,2,3,4,2,6,7,8]\n",
        "data.sort(reverse = True)\n",
        "data.reverse()\n",
        "\n",
        "# mengetahui index\n",
        "data.pop(data.index(3))\n",
        "print(data)\n",
        "```\n",
        "\n",
        "Jika kita print(menu_restaurant) apa yang terjadi?"
      ]
    },
    {
      "cell_type": "code",
      "execution_count": null,
      "id": "276cec8c",
      "metadata": {
        "id": "276cec8c"
      },
      "outputs": [],
      "source": [
        "# Tulis disini ya! \n",
        "\n"
      ]
    },
    {
      "cell_type": "markdown",
      "id": "629735e5",
      "metadata": {
        "id": "629735e5"
      },
      "source": [
        "## Tuple Manipulation\n",
        "\n",
        "Dalam memanipulasi tipe data tuple, ada beberapa fitur yang dapat bermanfaat kita gunakan diantaranya:\n",
        "\n",
        "1. .count(....) -- Menghitung elemen tertentu dalam tuple\n",
        "2. .index(...) -- Mencari lokasi dalam tuple\n",
        "\n",
        "```python\n",
        "\n",
        "# contoh penerapan\n",
        "menu_sarapan = ('bubur', 'omelet', 'salad', 'pancake', 'roti', 'roti', 'roti')\n",
        "\n",
        "# mencari data\n",
        "print(menu_sarapan.count('roti'))\n",
        "\n",
        "# mencari lokasi data\n",
        "menu_restaurant = menu_sarapan.index('omelet')\n",
        "menu_restaurant\n",
        "```\n",
        "\n",
        "Jika kita print(menu_restaurant) apa yang terjadi?"
      ]
    },
    {
      "cell_type": "code",
      "execution_count": null,
      "id": "461e003d",
      "metadata": {
        "id": "461e003d"
      },
      "outputs": [],
      "source": [
        "# Tulis disini ya! \n",
        "\n"
      ]
    },
    {
      "cell_type": "markdown",
      "id": "f2e9181a",
      "metadata": {
        "id": "f2e9181a"
      },
      "source": [
        "## Set Manipulation\n",
        "\n",
        "Dalam memanipulasi tipe data set, ada beberapa fitur yang dapat bermanfaat kita gunakan diantaranya:\n",
        "\n",
        "1. .add(..) -- Menambahkan data\n",
        "2. .clear() -- Menghapus seluruh elemen\n",
        "3. .copy() -- Mengcopy seluruh elemen\n",
        "4. .update(..) -- Menambahkan set lainnya\n",
        "5. .pop() -- Menghapus secara acak\n",
        "6. .remove(..) -- Menghapus dengan ketentuan\n",
        "7. .union(..) -- Penggabungan dua set\n",
        "8. .isdisjoint(..) -- Boolean tidak ada elemen yg sama\n",
        "9. .issubset(..) -- Boolean seluruh set 1 adalah dari set 2\n",
        "10. .issuperset(..) -- Boolean set 1 superset set 2 (set 2 bagian dari set 1)\n",
        "11. .intersection(..) -- Menghasilkan value yang berpotongan antar dua set\n",
        "12. .difference(..) -- Menghasilkan value yang berbeda dibandingkan dari set lainnya\n",
        "13. .symmetric_difference(..) -- Menghasilkan value dari yang berbeda dari dua set\n",
        "\n",
        "**NOTED: Set adalah unordered dan tidak boleh duplikasi**\n",
        "```python\n",
        "\n",
        "# contoh penerapan\n",
        "menu_sarapan = {'bubur', 'omelet', 'salad', 'pancake', 'roti'}\n",
        "\n",
        "# menambah data\n",
        "menu_sarapan.add('susu')\n",
        "print(\"Hasil 1:\", menu_sarapan)\n",
        "menu_siang = {'geprek', 'fuyunghai'}\n",
        "menu_sarapan.update(menu_siang)\n",
        "print(\"Hasil 2:\", menu_sarapan)\n",
        "menu_restaurant = menu_sarapan.union(menu_siang)\n",
        "print(\"Hasil 3:\", menu_restaurant)\n",
        "\n",
        "# menghapus data\n",
        "menu_sarapan.pop()\n",
        "print(\"Hasil 4:\", menu_sarapan)\n",
        "menu_sarapan.remove('bubur')\n",
        "print(\"Hasil 5:\", menu_sarapan)\n",
        "menu_baru = menu_sarapan.copy()\n",
        "print(\"Hasil 6:\", menu_baru)\n",
        "menu_sarapan.clear()\n",
        "print(\"Hasil 7:\", menu_sarapan)\n",
        "\n",
        "# Boolean\n",
        "menu1 = {\"bubur\", \"mie ayam\", \"geprek\"}\n",
        "menu2 = {\"roti\", \"omelet\", \"salad\"}\n",
        "menu3 = {\"bubur\", \"mie ayam\"}\n",
        "menu4 = {\"geprek\", \"roti\", \"bubur\"}\n",
        "\n",
        "# ISDISJOINT?\n",
        "print(menu1.isdisjoint(menu2)) #A\n",
        "print(menu2.isdisjoint(menu4)) #B\n",
        "\n",
        "# ISSUBSET?\n",
        "print(menu3.issubset(menu1)) #A\n",
        "print(menu2.issubset(menu1)) #B\n",
        "\n",
        "# ISSUPERSET?\n",
        "print(menu1.issuperset(menu3)) #A\n",
        "print(menu1.issuperset(menu2)) #B\n",
        "\n",
        "# INTERSECTION?\n",
        "print(menu2.intersection(menu4))\n",
        "\n",
        "# DIFFERENCE?\n",
        "print(menu2.difference(menu4))\n",
        "\n",
        "# SYMMETRIC DIFFERENCE?\n",
        "print(menu2.symmetric_difference(menu4))\n",
        "\n",
        "```"
      ]
    },
    {
      "cell_type": "code",
      "execution_count": null,
      "id": "0f3bd5c3",
      "metadata": {
        "id": "0f3bd5c3"
      },
      "outputs": [],
      "source": [
        "# Tulis disini ya! \n",
        "\n"
      ]
    },
    {
      "cell_type": "markdown",
      "id": "5c3215d2",
      "metadata": {
        "id": "5c3215d2"
      },
      "source": [
        "```python\n",
        "# Apakah jawaban berikut ini?\n",
        "set_buah1 = {'Jeruk','Apel','Anggur'}\n",
        "set_buah2 = set_buah1\n",
        "set_buah1.clear()\n",
        "set_buah2.add('Durian')\n",
        "print(set_buah1)\n",
        "\n",
        "```"
      ]
    },
    {
      "cell_type": "code",
      "execution_count": null,
      "id": "778f5a74",
      "metadata": {
        "id": "778f5a74"
      },
      "outputs": [],
      "source": [
        "# Tulis disini ya! \n",
        "\n"
      ]
    },
    {
      "cell_type": "markdown",
      "id": "8f4cdcdb",
      "metadata": {
        "id": "8f4cdcdb"
      },
      "source": [
        "## Dictionary Manipulation\n",
        "\n",
        "Dalam memanipulasi tipe data dictionary, ada beberapa fitur yang dapat bermanfaat kita gunakan diantaranya:\n",
        "\n",
        "1. .clear() -- Menghapus seluruh elemen di dalam dictionary\n",
        "2. .copy() -- Mengcopy seluruh elemen\n",
        "3. .keys() -- Menampilkan kunci akses dalam bentuk list\n",
        "4. .values() -- Menampilkan nilai dalam bentuk list\n",
        "5. .update(..) -- Menambahkan dalam dictionary\n",
        "\n",
        "```python\n",
        "resto = {\"makanan\":[\"geprek\",\"roti\",\"salad\"], \"minuman\":[\"air mineral\", \"coke\", \"juice\"]}\n",
        "\n",
        "# Manipulasi Dictionary\n",
        "menu_resto = resto.copy()\n",
        "resto.clear()\n",
        "print(\"Hasil 1:\", resto)\n",
        "print(\"Hasil 2:\", menu_resto)\n",
        "print(\"Hasil 3:\", menu_resto.keys())\n",
        "print(\"Hasil 4:\", menu_resto.values())\n",
        "menu_resto.update({\"pesanan\":[1,2,10]})\n",
        "print(\"Hasil 5:\", menu_resto)\n",
        "```"
      ]
    },
    {
      "cell_type": "code",
      "execution_count": null,
      "id": "43043be0",
      "metadata": {
        "id": "43043be0"
      },
      "outputs": [],
      "source": [
        "# Tulis disini ya! \n",
        "\n"
      ]
    },
    {
      "cell_type": "markdown",
      "id": "15aef58e",
      "metadata": {
        "id": "15aef58e"
      },
      "source": [
        "**CATATAN:**\n",
        "1. Menghitung jumlah data yang tersimpan dengan len()\n",
        "2. Gunakan konversi dengan list(...) atau set(...)"
      ]
    },
    {
      "cell_type": "markdown",
      "id": "0a23021b",
      "metadata": {
        "ExecuteTime": {
          "end_time": "2022-03-17T14:20:02.721154Z",
          "start_time": "2022-03-17T14:20:02.711147Z"
        },
        "id": "0a23021b"
      },
      "source": [
        "```python\n",
        "set_buah = {'Jeruk','Apel','Anggur'}\n",
        "list_buah = list(set_buah)\n",
        "print(list_buah)\n",
        "print(len(list_buah))\n",
        "```"
      ]
    },
    {
      "cell_type": "code",
      "execution_count": null,
      "id": "9c73185d",
      "metadata": {
        "id": "9c73185d"
      },
      "outputs": [],
      "source": [
        "# Tulis disini ya! \n",
        "\n"
      ]
    }
  ],
  "metadata": {
    "kernelspec": {
      "display_name": "Python 3 (ipykernel)",
      "language": "python",
      "name": "python3"
    },
    "language_info": {
      "codemirror_mode": {
        "name": "ipython",
        "version": 3
      },
      "file_extension": ".py",
      "mimetype": "text/x-python",
      "name": "python",
      "nbconvert_exporter": "python",
      "pygments_lexer": "ipython3",
      "version": "3.8.12"
    },
    "toc": {
      "base_numbering": 1,
      "nav_menu": {
        "height": "273.991px",
        "width": "277.997px"
      },
      "number_sections": true,
      "sideBar": true,
      "skip_h1_title": false,
      "title_cell": "Table of Contents",
      "title_sidebar": "Contents",
      "toc_cell": false,
      "toc_position": {},
      "toc_section_display": true,
      "toc_window_display": false
    },
    "colab": {
      "name": "collection-manipulation.ipynb",
      "provenance": [],
      "collapsed_sections": [],
      "toc_visible": true
    }
  },
  "nbformat": 4,
  "nbformat_minor": 5
}