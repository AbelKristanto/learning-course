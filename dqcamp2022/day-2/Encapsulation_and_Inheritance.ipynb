{
  "cells": [
    {
      "cell_type": "markdown",
      "id": "a23eb1c4",
      "metadata": {
        "id": "a23eb1c4"
      },
      "source": [
        "# Encapsulation & Inheritance\n",
        "\n",
        "Encapsulation merupakan teknik menyembunyikan detil dari sebuah atribut dalam sebuah class. Contoh diatas belum penerapan encapsulation, artinya masih bisa diakses diluar class. Jika kita ingin membuat akses terbatas perlu adanya access modifier (level akses):\n",
        "\n",
        "1. Public Access: didefinisikan secara langsung nama atribut/fungsi, sehingga dapat diakses diluar scope sebuah class\n",
        "2. Private Access: didefinisikan dengan (_ _) double underscore sebelum menuliskan nama attribut/fungsi, sehingga dapat diakses dalam scope sebuah class\n",
        "\n",
        "```python\n",
        "# Definisikan class Karyawan\n",
        "class Karyawan: \n",
        "    nama_perusahaan = 'Company Ltd' \n",
        "    __insentif_lembur = 250000\n",
        "    def __init__(self, nama, usia, pendapatan): \n",
        "        self.__nama = nama\n",
        "        self.__usia = usia \n",
        "        self.__pendapatan = pendapatan \n",
        "        self.__pendapatan_tambahan = 0\n",
        "    def lembur(self):\n",
        "        self.__pendapatan_tambahan += self.__insentif_lembur \n",
        "    def tambahan_proyek(self, insentif_proyek):\n",
        "        self.__pendapatan_tambahan +=insentif_proyek \n",
        "    def total_pendapatan(self):\n",
        "        return self.__pendapatan + self.__pendapatan_tambahan\n",
        "# Buat objek karyawan bernama Budi\n",
        "budi = Karyawan('Budi', 25, 8500000)\n",
        "\n",
        "## PEMAHAMAN 1\n",
        "# Akses ke attribute public\n",
        "# print(budi.__class__.nama_perusahaan)\n",
        "print(budi.nama_perusahaan)\n",
        "\n",
        "## PEMAHAM 2\n",
        "# Akses ke attribute private\n",
        "# Ini akan error\n",
        "# print(budi.__nama)\n",
        "print(budi._Karyawan__nama)\n",
        "```"
      ]
    },
    {
      "cell_type": "code",
      "execution_count": null,
      "id": "15503fd6",
      "metadata": {
        "ExecuteTime": {
          "end_time": "2022-03-20T08:47:05.889419Z",
          "start_time": "2022-03-20T08:47:05.885417Z"
        },
        "id": "15503fd6"
      },
      "outputs": [],
      "source": [
        "# Tulis disini ya! \n",
        "\n"
      ]
    },
    {
      "cell_type": "markdown",
      "id": "67d05374",
      "metadata": {
        "id": "67d05374"
      },
      "source": [
        "Temukan, apakah ini bisa jalan? Jika tidak salah dimana?\n",
        "\n",
        "```python\n",
        "class Karyawan:\n",
        "    nama_perusahaan = 'ABC'\n",
        "    __insentif_lembur = 250000\n",
        "    def __init__(self, nama, usia, pendapatan):\n",
        "        self.__nama = nama\n",
        "        self.__usia = usia\n",
        "        self.__pendapatan = pendapatan\n",
        "        self.__pendapatan_tambahan = 0\n",
        "    def lembur(self):\n",
        "        self.__pendapatan_tambahan += self.__insentif_lembur\n",
        "    def tambahan_proyek(self, insentif_proyek):\n",
        "        self.__pendapatan_tambahan += insentif_proyek\n",
        "    def total_pendapatan(self):\n",
        "        return self.__pendapatan + self.__pendapatan_tambahan\n",
        "\n",
        "aksara = Karyawan('Aksara', 25, 8500000)\n",
        "aksara.tambahan_proyek(aksara.__insentif_lembur)\n",
        "aksara.lembur()\n",
        "aksara.lembur() \n",
        "print(aksara.total_pendapatan())\n",
        "```"
      ]
    },
    {
      "cell_type": "code",
      "execution_count": null,
      "id": "1206fa2e",
      "metadata": {
        "ExecuteTime": {
          "end_time": "2022-03-20T08:49:01.325673Z",
          "start_time": "2022-03-20T08:49:01.321670Z"
        },
        "id": "1206fa2e"
      },
      "outputs": [],
      "source": [
        "# Tulis disini ya! \n",
        "\n"
      ]
    },
    {
      "cell_type": "markdown",
      "id": "331f1f18",
      "metadata": {
        "id": "331f1f18"
      },
      "source": [
        "Temukan, apakah ini bisa jalan? Jika tidak salah dimana?\n",
        "\n",
        "```python\n",
        "class Karyawan:\n",
        "    nama_perusahaan = 'ABC'\n",
        "    insentif_lembur = 250000\n",
        "    def __init__(self, nama, usia, pendapatan):\n",
        "        self.__nama = nama\n",
        "        self.__usia = usia\n",
        "        self.__pendapatan = pendapatan\n",
        "        self.__pendapatan_tambahan = 0\n",
        "    def lembur(self):\n",
        "        insentif_lembur = self.__insentif_lembur\n",
        "        if usia > 30:\n",
        "            insentif_lembur *= 2\n",
        "        self.__pendapatan_tambahan += insentif_lembur\n",
        "    def tambahan_proyek(self, insentif_proyek):\n",
        "        self.__pendapatan_tambahan += insentif_proyek\n",
        "    def total_pendapatan(self):\n",
        "        return self.__pendapatan + self.__pendapatan_tambahan\n",
        "\n",
        "karyawan_1 = Karyawan('Kiki', 35, 8000000)\n",
        "karyawan_1.lembur()\n",
        "karyawan_1.tambahan_proyek(karyawan_1.total_pendapatan())\n",
        "print(karyawan_1.total_pendapatan())\n",
        "```"
      ]
    },
    {
      "cell_type": "code",
      "execution_count": null,
      "id": "8feac5d0",
      "metadata": {
        "id": "8feac5d0"
      },
      "outputs": [],
      "source": [
        "# Tulis disini ya! \n",
        "\n"
      ]
    },
    {
      "cell_type": "markdown",
      "id": "c6fa4f2d",
      "metadata": {
        "id": "c6fa4f2d"
      },
      "source": [
        "Inheritance adalah cara mendefinisikan class baru berdasarkan class/attribut yang sebelumnya dideklarasikan, catatan: Hanya yang memiliki access modifier public yang dapat diturunkan ya!\n",
        "\n",
        "Penurunan dengan tanda:\n",
        "> FUNGSI super(): cara child class akses parent class\n",
        "\n",
        "Pada dasarnya kita tidak perlu definisi constructor untuk akses public access, karena penurunan otomatis mewariskan seluruh fungs dan properti dengan public access modifier.\n",
        "\n",
        "```python\n",
        "# Definisikan class Karyawan (sebagai base class)\n",
        "class Karyawan: \n",
        "    nama_perusahaan = 'ABC' \n",
        "    insentif_lembur = 250000\n",
        "    def __init__(self, nama, usia, pendapatan): \n",
        "        self.nama = nama\n",
        "        self.usia = usia \n",
        "        self.pendapatan = pendapatan \n",
        "        self.pendapatan_tambahan = 0\n",
        "    def lembur(self):\n",
        "        self.pendapatan_tambahan += self.insentif_lembur \n",
        "    def tambahan_proyek(self, insentif_proyek):\n",
        "        self.pendapatan_tambahan += insentif_proyek \n",
        "    def total_pendapatan(self):\n",
        "        return self.pendapatan + self.pendapatan_tambahan\n",
        "    \n",
        "# Buat class turunan (sebagai inherit class) dari class karyawan, \n",
        "# yaitu class AnalisData\n",
        "class AnalisData(Karyawan):\n",
        "    def __init__(self, nama, usia, pendapatan):\n",
        "    # melakukan pemanggilan konstruktur class Karyawan \n",
        "        super().__init__(nama, usia, pendapatan)\n",
        "        \n",
        "# Buat kembali class turunan (sebagai inherit class) dari class karyawan,  \n",
        "# yaitu class IlmuwanData\n",
        "class IlmuwanData(Karyawan):\n",
        "    def __init__(self, nama, usia, pendapatan):\n",
        "        # melakukan pemanggilan konstruktur class Karyawan \n",
        "        super().__init__(nama, usia, pendapatan)\n",
        "\n",
        "class Admin(Karyawan):\n",
        "    super(Karyawan)\n",
        "        \n",
        "# Buat objek karyawan yang bekerja sebagai AnalisData\n",
        "budi = AnalisData('Budi', 25, 8500000)\n",
        "budi.lembur()\n",
        "print(budi.total_pendapatan())\n",
        "# Buat objek karyawan yang bekerja sebagai IlmuwanData\n",
        "didi = IlmuwanData('Didi', 28, 13000000)\n",
        "didi.tambahan_proyek(2000000)\n",
        "print(didi.total_pendapatan())\n",
        "\n",
        "# Buat objek karyawan yang bekerja sebagai Admin\n",
        "doni = Admin('Doni', 29, 6000000)\n",
        "doni.tambahan_proyek(100000)\n",
        "print(doni.total_pendapatan())\n",
        "```"
      ]
    },
    {
      "cell_type": "code",
      "execution_count": null,
      "id": "966fe0e1",
      "metadata": {
        "id": "966fe0e1"
      },
      "outputs": [],
      "source": [
        "# Tulis disini ya! \n",
        "\n"
      ]
    },
    {
      "cell_type": "markdown",
      "id": "6a26d2a8",
      "metadata": {
        "id": "6a26d2a8"
      },
      "source": [
        "Ingat, child class juga dapat melakukan modifikasi parent class dengan attribute/fungsi yang sama seperti berikut ini:\n",
        "\n",
        "```python\n",
        "# Definisikan class Karyawan (sebagai base class)\n",
        "class Karyawan: \n",
        "    nama_perusahaan = 'ABC' \n",
        "    insentif_lembur = 250000\n",
        "    def __init__(self, nama, usia, pendapatan): \n",
        "        self.nama = nama\n",
        "        self.usia = usia \n",
        "        self.pendapatan = pendapatan \n",
        "        self.pendapatan_tambahan = 0\n",
        "    def lembur(self):\n",
        "        self.pendapatan_tambahan += self.insentif_lembur \n",
        "    def tambahan_proyek(self, insentif_proyek):\n",
        "        self.pendapatan_tambahan += insentif_proyek \n",
        "    def total_pendapatan(self):\n",
        "        return self.pendapatan + self.pendapatan_tambahan\n",
        "\n",
        "# Buat class turunan (sebagai inherit class) dari class karyawan, \n",
        "# yaitu class AnalisData\n",
        "class AnalisData(Karyawan):\n",
        "    def __init__(self, nama, usia, pendapatan):\n",
        "    # melakukan pemanggilan konstruktur class Karyawan \n",
        "        super().__init__(nama, usia, pendapatan)\n",
        "\n",
        "# Buat kembali class turunan (sebagai inherit class) dari class karyawan,  \n",
        "# yaitu class IlmuwanData\n",
        "class IlmuwanData(Karyawan):\n",
        "    # mengubah atribut insentif_lembur yang digunakan pada fungsi lembur()\n",
        "    # PERUBAHAN NOMINAL PUBLIC ACCESS\n",
        "    insentif_lembur = 500000\n",
        "    def __init__(self, nama, usia, pendapatan): \n",
        "        super().__init__(nama, usia, pendapatan)\n",
        "\n",
        "class Admin(Karyawan):\n",
        "    nama_perusahaan = \"Company Ltd\"\n",
        "    insentif_lembur = 125000\n",
        "\n",
        "# Buat objek karyawan yang bekerja sebagai AnalisData\n",
        "budi = AnalisData('Budi', 25, 8500000)\n",
        "budi.lembur()\n",
        "print(budi.total_pendapatan())\n",
        "# Buat objek karyawan yang bekerja sebagai IlmuwanData\n",
        "doni = IlmuwanData('Doni', 28, 13000000)\n",
        "doni.lembur()\n",
        "print(doni.total_pendapatan())\n",
        "# Buat objek karyawan yang bekerja sebagai Admin\n",
        "didi = Admin('Didi', 35, 6500000)\n",
        "didi.lembur()\n",
        "print(didi.nama_perusahaan)\n",
        "print(didi.total_pendapatan())\n",
        "```"
      ]
    },
    {
      "cell_type": "code",
      "execution_count": null,
      "id": "8dff9b42",
      "metadata": {
        "ExecuteTime": {
          "end_time": "2022-03-20T09:11:05.163278Z",
          "start_time": "2022-03-20T09:11:05.159276Z"
        },
        "id": "8dff9b42"
      },
      "outputs": [],
      "source": [
        "# Tulis disini ya! \n",
        "\n"
      ]
    },
    {
      "cell_type": "markdown",
      "id": "2b245be7",
      "metadata": {
        "id": "2b245be7"
      },
      "source": [
        "Temukan, apakah ini bisa jalan? Jika tidak salah dimana?\n",
        "\n",
        "```python\n",
        "class Burung:\n",
        "    def __init__(self, nama):\n",
        "        self.nama = nama\n",
        "    def fly(self):\n",
        "        print(nama + ' sedang terbang')\n",
        "\n",
        "class Ayam(Burung):\n",
        "    def fly(self):\n",
        "        print(self.nama + ' tidak bisa terbang')\n",
        "\n",
        "anak_ayam = Ayam('Si Jago')\n",
        "anak_ayam.fly()\n",
        "```"
      ]
    },
    {
      "cell_type": "code",
      "execution_count": null,
      "id": "3830c2c5",
      "metadata": {
        "ExecuteTime": {
          "end_time": "2022-03-20T09:16:35.492322Z",
          "start_time": "2022-03-20T09:16:35.488321Z"
        },
        "id": "3830c2c5"
      },
      "outputs": [],
      "source": [
        "# Tulis disini ya! \n",
        "\n"
      ]
    },
    {
      "cell_type": "markdown",
      "id": "3b90d811",
      "metadata": {
        "id": "3b90d811"
      },
      "source": [
        "Temukan, apakah ini bisa jalan? Jika tidak salah dimana?\n",
        "\n",
        "```python\n",
        "class Mamalia:\n",
        "    def __init__(self, nama):\n",
        "        self.__nama = nama\n",
        "    def interaksi(self):\n",
        "        print('Bersuara')\n",
        "\n",
        "class Anjing(Mamalia):\n",
        "    def interaksi(self):\n",
        "        print('Guk')\n",
        "\n",
        "class Manusia(Mamalia):\n",
        "    pass\n",
        "\n",
        "blacky = Anjing('Blacky')\n",
        "toni = Manusia('Toni')\n",
        "toni.interaksi()\n",
        "blacky.interaksi()\n",
        "```"
      ]
    },
    {
      "cell_type": "code",
      "execution_count": null,
      "id": "a307e3f1",
      "metadata": {
        "id": "a307e3f1"
      },
      "outputs": [],
      "source": [
        "# Tulis disini ya! \n",
        "\n"
      ]
    }
  ],
  "metadata": {
    "kernelspec": {
      "display_name": "Python 3 (ipykernel)",
      "language": "python",
      "name": "python3"
    },
    "language_info": {
      "codemirror_mode": {
        "name": "ipython",
        "version": 3
      },
      "file_extension": ".py",
      "mimetype": "text/x-python",
      "name": "python",
      "nbconvert_exporter": "python",
      "pygments_lexer": "ipython3",
      "version": "3.8.12"
    },
    "toc": {
      "base_numbering": 1,
      "nav_menu": {
        "height": "273.991px",
        "width": "277.997px"
      },
      "number_sections": true,
      "sideBar": true,
      "skip_h1_title": false,
      "title_cell": "Table of Contents",
      "title_sidebar": "Contents",
      "toc_cell": false,
      "toc_position": {},
      "toc_section_display": true,
      "toc_window_display": false
    },
    "colab": {
      "name": "Encapsulation-and-Inheritance.ipynb",
      "provenance": [],
      "collapsed_sections": [],
      "toc_visible": true
    }
  },
  "nbformat": 4,
  "nbformat_minor": 5
}