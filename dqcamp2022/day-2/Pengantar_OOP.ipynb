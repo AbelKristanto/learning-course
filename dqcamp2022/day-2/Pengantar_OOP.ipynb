{
  "cells": [
    {
      "cell_type": "markdown",
      "id": "9015bedc",
      "metadata": {
        "id": "9015bedc"
      },
      "source": [
        "## Pengantar OOP\n",
        "\n",
        "Ini merupakan paradigma yang memuat struktur program yang dikemas dalam serangkaian properti (properties) dan fungsi (behaviours). \n",
        "\n",
        "Sebagai contoh:\n",
        "1. Sebuah karyawan memiliki properti: (nama, usia, keahlian) dan fungsi: (hadir ke kantor, absensi, lembur, tugas dinas)\n",
        "2. Sebuah toko memiliki properti: (luas toko, tinggi toko, desain toko) dan fungsi: (buka toko, tutup toko, menu toko)\n",
        "\n",
        "Kenapa perlu OOP?\n",
        "\n",
        "Ini untuk menciptakan potongan-potongan kode yang bersifat reusable dan tidak redundan (DRY - Don't Repeat Yourself)\n",
        "\n",
        "Konsep OOP mencakup berikut ini:\n",
        "1. Encapsulation: Menyembunyikan sebagain detail yang dimiliki oleh sebuah objek terhadap objek lainnya [SEMBUNYI]\n",
        "2. Inheritance: Menurunkan serangkaian fungsi yang dimiliki sebuah objek ke sebuah objek baru tanpa mengubah makna dari objek acuan digunakan [WARISAN]\n",
        "3. Polymorphism: Menggunakan fungsi dengan nama/tujuan sama dengan cara yang berbeda [TEKNIK PENGGUNAAN]"
      ]
    }
  ],
  "metadata": {
    "kernelspec": {
      "display_name": "Python 3 (ipykernel)",
      "language": "python",
      "name": "python3"
    },
    "language_info": {
      "codemirror_mode": {
        "name": "ipython",
        "version": 3
      },
      "file_extension": ".py",
      "mimetype": "text/x-python",
      "name": "python",
      "nbconvert_exporter": "python",
      "pygments_lexer": "ipython3",
      "version": "3.8.12"
    },
    "toc": {
      "base_numbering": 1,
      "nav_menu": {
        "height": "273.991px",
        "width": "277.997px"
      },
      "number_sections": true,
      "sideBar": true,
      "skip_h1_title": false,
      "title_cell": "Table of Contents",
      "title_sidebar": "Contents",
      "toc_cell": false,
      "toc_position": {},
      "toc_section_display": true,
      "toc_window_display": false
    },
    "colab": {
      "name": "Pengantar-OOP.ipynb",
      "provenance": [],
      "collapsed_sections": [
        "5205d62d",
        "935b2201",
        "a4f20cda",
        "1cb0d5af",
        "9a827999",
        "f864a62c",
        "16e5a08d",
        "fc557ee4",
        "9bf93b2f",
        "1d7f347c",
        "629735e5",
        "f2e9181a",
        "8f4cdcdb",
        "9015bedc",
        "d2a9f5a6",
        "a23eb1c4",
        "e9d14c90"
      ],
      "toc_visible": true
    }
  },
  "nbformat": 4,
  "nbformat_minor": 5
}