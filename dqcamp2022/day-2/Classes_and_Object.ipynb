{
  "cells": [
    {
      "cell_type": "markdown",
      "id": "d2a9f5a6",
      "metadata": {
        "id": "d2a9f5a6"
      },
      "source": [
        "# Classes & Object\n",
        "\n",
        "Class merupakan kerangka utama dari objek, yang mana mempresentasikan object yang kita buat. Ini artinya class menjelaskan tentang properti (ciri khas). Cara pembuatan class dengan begini:\n",
        "\n",
        "```python\n",
        "class Karyawan:\n",
        "    pass\n",
        "\n",
        "# Mendefinisikan karyawan\n",
        "budi = Karyawan()\n",
        "dono = Karyawan()\n",
        "```\n",
        "\n",
        "Jika kita perhatikan objek Budi dan Dono merupakan hal berbeda walaupun memiliki satu class yang sama yakni Karyawan.\n",
        "\n",
        "Selalu ingat bahwa setiap class memiliki attribut, yang terdiri dua jenis atribute:\n",
        "\n",
        "1. Class attribute: Properti yang bernilai sama seluruh objeck\n",
        "2. Instance attribute: Properti yang bernilai berbeda-beda untuk setiap objek\n",
        "\n",
        "Mari kita lihat perbedaannya:\n",
        "\n",
        "```python\n",
        "# CLASS ATTRIBUTE\n",
        "class Karyawan:\n",
        "    company_name = 'Company ltd'\n",
        "\n",
        "budi = Karyawan()\n",
        "dono = Karyawan()\n",
        "\n",
        "# Kita melihat penerapan class attribute\n",
        "print(budi.__class__.company_name)\n",
        "\n",
        "# Ini artinya jika class attribute diubah\n",
        "# Berpengaruh seluruh class attribute\n",
        "dono.__class__.company_name = 'Noman ltd'\n",
        "print(budi.__class__.company_name)\n",
        "\n",
        "# INSTANCE ATTRIBUTE\n",
        "# __init__(): constructor (meng-assign value)\n",
        "# self: menerima dirinya sendiri sebagai parameter pertama fungsi\n",
        "class Karyawan:\n",
        "    company_name = 'Company ltd'\n",
        "    def __init__(self, name, age, income):\n",
        "        self.name = name\n",
        "        self.age = age\n",
        "        self.income = income\n",
        "\n",
        "budi = Karyawan('Budi', 20, 9000000)\n",
        "dono = Karyawan('Dono', 22, 10500000)\n",
        "\n",
        "print(\"Hello, my name is \" + budi.name + str(budi.age) + 'years old and my income is ' + str(budi.income)) \n",
        "```\n",
        "\n",
        "Berapakah hasil potongan ini?\n",
        "\n",
        "```python\n",
        "class Karyawan: \n",
        "    nama_perusahaan = 'ABC'\n",
        "    def __init__(self, nama, usia, pendapatan):\n",
        "        self.nama = nama\n",
        "        self.usia = usia\n",
        "        self.pendapatan = pendapatan\n",
        "        if usia > 30:\n",
        "            self.pendapatan += 1500000\n",
        "\n",
        "karyawan_1 = Karyawan('Budi', 35, 7500000)\n",
        "karyawan_2 = Karyawan('Didi', 30, 8000000)\n",
        "\n",
        "total_pengeluaran = karyawan_1.pendapatan + karyawan_2.pendapatan \n",
        "print(total_pengeluaran)\n",
        "```"
      ]
    },
    {
      "cell_type": "code",
      "execution_count": null,
      "id": "cdac8aa8",
      "metadata": {
        "id": "cdac8aa8"
      },
      "outputs": [],
      "source": [
        "# Tulis disini ya! \n",
        "\n"
      ]
    },
    {
      "cell_type": "markdown",
      "id": "5311febb",
      "metadata": {
        "id": "5311febb"
      },
      "source": [
        "Bagaimana dengan ini?\n",
        "\n",
        "```python\n",
        "class Karyawan:\n",
        "    nama_perusahaan = 'ABC'\n",
        "    tunjangan_transportasi = 500000\n",
        "    def __init__(self, nama, usia, pendapatan):\n",
        "        self.nama = nama\n",
        "        self.usia = usia\n",
        "        self.pendapatan = pendapatan\n",
        "\n",
        "karyawan_1 = Karyawan('Budi', 35, 6000000)\n",
        "karyawan_2 = Karyawan('Didi', 30, 5000000)\n",
        "karyawan_1.__class__.nama_perusahaan = 1000000\n",
        "\n",
        "total_pengeluaran = karyawan_1.__class__.tunjangan_transportasi\n",
        "total_pengeluaran += karyawan_2. __class__.tunjangan_transportasi\n",
        "total_pengeluaran += karyawan_1.pendapatan\n",
        "total_pengeluaran += karyawan_2.pendapatan\n",
        "print(total_pengeluaran)\n",
        "```"
      ]
    },
    {
      "cell_type": "code",
      "execution_count": null,
      "id": "f4e8b6da",
      "metadata": {
        "id": "f4e8b6da"
      },
      "outputs": [],
      "source": [
        "# Tulis disini ya! \n",
        "\n"
      ]
    },
    {
      "cell_type": "markdown",
      "id": "016ae016",
      "metadata": {
        "id": "016ae016"
      },
      "source": [
        "Ingat! \n",
        "\n",
        "> Bahwa setiap atribut dalam class diperbolehkan mendefinisikan fungsi-fungsi atau behaviour sebuah class\n",
        "\n",
        "Sebagai contoh, pendefinisian class karyawan dapat diisikan berapa banyak jam lembur, jumlah proyek yang diselesaikan ataupun aktivitas yang dilakukan **sesuai yang kita butuhkan**.\n",
        "\n",
        "```python\n",
        "# Definisikan class Karyawan berikut dengan attribut dan fungsinya\n",
        "class Karyawan:\n",
        "    nama_perusahaan = 'Company Ltd'\n",
        "    insentif_lembur = 250000\n",
        "    def __init__(self, nama, usia, pendapatan):\n",
        "        self.nama = nama\n",
        "        self.usia = usia\n",
        "        self.pendapatan = pendapatan\n",
        "        self.pendapatan_tambahan = 0\n",
        "    def lembur(self):\n",
        "        self.pendapatan_tambahan += self.insentif_lembur\n",
        "    def tambahan_proyek(self, insentif_proyek):\n",
        "    \tself.pendapatan_tambahan += insentif_proyek\n",
        "    def total_pendapatan(self):\n",
        "    \treturn self.pendapatan + self.pendapatan_tambahan\n",
        "# Buat object dari karwayan bernama Budi dan Didi\n",
        "budi = Karyawan('Budi', 25, 8500000)\n",
        "didi = Karyawan('Didi', 28, 12500000)\n",
        "# Budi melaksanakan lembur\n",
        "budi.lembur()\n",
        "# Didi memiliki proyek tambahan\n",
        "didi.tambahan_proyek(2500000)\n",
        "# Cetak pendapatan total Budi dan Didi\n",
        "print('Pendapatan Total Budi: ' + str(budi.total_pendapatan()))\n",
        "print('Pendapatan Total Didi: ' +str(didi.total_pendapatan()))\n",
        "```"
      ]
    },
    {
      "cell_type": "code",
      "execution_count": null,
      "id": "902f34f3",
      "metadata": {
        "id": "902f34f3"
      },
      "outputs": [],
      "source": [
        "# Tulis disini ya! \n",
        "\n"
      ]
    },
    {
      "cell_type": "markdown",
      "id": "1d0d391e",
      "metadata": {
        "ExecuteTime": {
          "end_time": "2022-03-20T05:31:25.731458Z",
          "start_time": "2022-03-20T05:31:25.712449Z"
        },
        "id": "1d0d391e"
      },
      "source": [
        "Tugas Praktek!\n",
        "\n",
        "```python\n",
        "class Karyawan:\n",
        "    def __init__(self, nama, usia, pendapatan, insentif_lembur): \n",
        "        self.nama = nama\n",
        "        self.usia = usia \n",
        "        self.pendapatan = pendapatan \n",
        "        self.pendapatan_tambahan = 0\n",
        "        self.insentif_lembur = insentif_lembur \n",
        "    def lembur(self):\n",
        "        self.pendapatan_tambahan += self.insentif_lembur \n",
        "    def tambahan_proyek(self, jumlah_tambahan):\n",
        "        self.pendapatan_tambahan += jumlah_tambahan \n",
        "    def total_pendapatan(self):\n",
        "        return self.pendapatan + self.pendapatan_tambahan \n",
        "\n",
        "class Perusahaan:\n",
        "    def __init__(self, nama, alamat, nomor_telepon): \n",
        "        self.nama = nama\n",
        "        self.alamat = alamat \n",
        "        self.nomor_telepon = nomor_telepon\n",
        "        self.list_karyawan = []\n",
        "    def aktifkan_karyawan(self, karyawan): \n",
        "        self.list_karyawan.append(karyawan)\n",
        "    def nonaktifkan_karyawan(self, nama_karyawan): \n",
        "        karyawan_nonaktif = None\n",
        "        for karyawan in self.list_karyawan:\n",
        "            if karyawan.nama == nama_karyawan: \n",
        "                karyawan_nonaktif = karyawan \n",
        "                break\n",
        "        if karyawan_nonaktif is not None: \n",
        "            self.list_karyawan.remove(karyawan_nonaktif)\n",
        "\n",
        "# Definisikan perusahaan\n",
        "perusahaan = Perusahaan('ABC', 'Jl. Jendral Sudirman, Blok 11', '(021) 95205XX')\n",
        "# Definisikan nama-nama karyawan\n",
        "karyawan_1 = Karyawan('Ani', 25, 8500000, 100000)\n",
        "karyawan_2 = Karyawan('Budi', 28, 12000000, 150000)\n",
        "karyawan_3 = Karyawan('Cici', 30, 15000000, 200000)\n",
        "# Aktifkan karyawan di perusahaan ABC\n",
        "perusahaan.aktifkan_karyawan(karyawan_1) \n",
        "perusahaan.aktifkan_karyawan(karyawan_2) \n",
        "perusahaan.aktifkan_karyawan(karyawan_3)\n",
        "```"
      ]
    },
    {
      "cell_type": "code",
      "execution_count": null,
      "id": "fce94add",
      "metadata": {
        "ExecuteTime": {
          "end_time": "2022-03-20T05:52:58.555841Z",
          "start_time": "2022-03-20T05:52:58.550840Z"
        },
        "id": "fce94add"
      },
      "outputs": [],
      "source": [
        "# Tulis disini ya! \n",
        "\n"
      ]
    }
  ],
  "metadata": {
    "kernelspec": {
      "display_name": "Python 3 (ipykernel)",
      "language": "python",
      "name": "python3"
    },
    "language_info": {
      "codemirror_mode": {
        "name": "ipython",
        "version": 3
      },
      "file_extension": ".py",
      "mimetype": "text/x-python",
      "name": "python",
      "nbconvert_exporter": "python",
      "pygments_lexer": "ipython3",
      "version": "3.8.12"
    },
    "toc": {
      "base_numbering": 1,
      "nav_menu": {
        "height": "273.991px",
        "width": "277.997px"
      },
      "number_sections": true,
      "sideBar": true,
      "skip_h1_title": false,
      "title_cell": "Table of Contents",
      "title_sidebar": "Contents",
      "toc_cell": false,
      "toc_position": {},
      "toc_section_display": true,
      "toc_window_display": false
    },
    "colab": {
      "name": "Classes-and-Object.ipynb",
      "provenance": [],
      "collapsed_sections": [
        "5205d62d",
        "935b2201",
        "a4f20cda",
        "1cb0d5af",
        "9a827999",
        "f864a62c",
        "16e5a08d",
        "fc557ee4",
        "9bf93b2f",
        "1d7f347c",
        "629735e5",
        "f2e9181a",
        "8f4cdcdb",
        "9015bedc",
        "d2a9f5a6",
        "a23eb1c4",
        "e9d14c90"
      ],
      "toc_visible": true
    }
  },
  "nbformat": 4,
  "nbformat_minor": 5
}