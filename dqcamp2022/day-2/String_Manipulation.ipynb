{
  "cells": [
    {
      "cell_type": "markdown",
      "id": "821d1d3a",
      "metadata": {
        "id": "821d1d3a"
      },
      "source": [
        "<h1>String Manipulation</h1>\n",
        "<p>Di bagian ini kita akan membahas tentang manipulasi yang dapat dilakukan di dalam string atau yang tersimpan dalam <b>str</b>.</p>\n",
        "\n",
        "Perlu diingat bahwa, deklarasi string dapat dilakukan dengan:\n",
        "1. petik 1  : '....'\n",
        "2. petik 2  : \"....\"\n",
        "3. petik 3  : \"\"\"....\"\"\"\n",
        "\n",
        "Jenis manipulasi dengan:\n",
        "1. Menghitung dan slicing di data string\n",
        "```python\n",
        "tulisan = \"Saya Budi\"\n",
        "print(tulisan[:4])\n",
        "print(len(tulisan))\n",
        "```\n",
        "2. Menambah di string dengan (+) bukan & \n",
        "```python\n",
        "tulisan = \"Saya Budi\"\n",
        "print(tulisan + \" adalah temannya Anto\")\n",
        "```\n",
        "3. Menghilang whitespace dengan berikut ini:\n",
        "```python\n",
        "# Diawal dan akhir\n",
        "print(\" Saya adalah Budi \".strip())\n",
        "# Diawal\n",
        "print(\" Saya adalah Budi \".lstrip())\n",
        "# Diakhir\n",
        "print(\" Saya adalah Budi \".rstrip())\n",
        "```\n",
        "4. Merubah format penulisan dengan berikut ini:\n",
        "```python\n",
        "# Elemen pertama kapital\n",
        "print(\"saya adalah budi\".capitalize())\n",
        "# Semua elemen huruf kecil\n",
        "print(\"SAYA adaLAH BUDI\".lower())\n",
        "# Semua elemen huruf besar\n",
        "print(\"saya adalah budi\".upper())\n",
        "```\n",
        "5. Memecah-mecahkan menjadi kata\n",
        "```python\n",
        "print(\"Budi merupakan pengusaha kelapa sawit\".split())\n",
        "print(\"Budi merupakan pengusaha kelapa sawit\".split(\"merupakan\"))\n",
        "```\n",
        "6. Mengabungkan list berdasarkan yang didefinisikan\n",
        "```python\n",
        "print(\" dan \".join([\"Budi\", \"Alex\", \"Dono\"]))\n",
        "print(\" \".join([\"Saya\", \"adalah\", \"Budi\"]))\n",
        "```\n",
        "7. Mengubah string tertentu\n",
        "```python\n",
        "print(\"Saya adalah pengusaha minyak\".replace(\"Saya\", \"Kami\"))\n",
        "```\n",
        "8. Menemukan posisi pertama kali dalam sebuah teks\n",
        "```python\n",
        "print(\"Saya adalah pengusaha minyak\".find(\"minyak\"))\n",
        "```\n",
        "9. Menghitung kemunculan teks tertentu\n",
        "```python\n",
        "print(\"ular melingkari ular diatas pager bersama ular\".count(\"ular\"))\n",
        "```\n",
        "10. Boolean dimulai dari kata apa\n",
        "```python\n",
        "print(\"Apel itu bukan sayur\".startswith(\"Apel\"))\n",
        "```\n",
        "12. Boolean diakhir dari kata apa\n",
        "```python\n",
        "print(\"Apel itu bukan sayur\".endswith(\"buah\"))\n",
        "```"
      ]
    },
    {
      "cell_type": "code",
      "source": [
        "# Tulis disini ya! \n",
        "\n"
      ],
      "metadata": {
        "id": "ZjNVVa8Mxft2"
      },
      "id": "ZjNVVa8Mxft2",
      "execution_count": null,
      "outputs": []
    }
  ],
  "metadata": {
    "kernelspec": {
      "display_name": "Python 3 (ipykernel)",
      "language": "python",
      "name": "python3"
    },
    "language_info": {
      "codemirror_mode": {
        "name": "ipython",
        "version": 3
      },
      "file_extension": ".py",
      "mimetype": "text/x-python",
      "name": "python",
      "nbconvert_exporter": "python",
      "pygments_lexer": "ipython3",
      "version": "3.8.12"
    },
    "toc": {
      "base_numbering": 1,
      "nav_menu": {
        "height": "273.991px",
        "width": "277.997px"
      },
      "number_sections": true,
      "sideBar": true,
      "skip_h1_title": false,
      "title_cell": "Table of Contents",
      "title_sidebar": "Contents",
      "toc_cell": false,
      "toc_position": {},
      "toc_section_display": true,
      "toc_window_display": false
    },
    "colab": {
      "name": "String-Manipulation.ipynb",
      "provenance": [],
      "collapsed_sections": [],
      "toc_visible": true
    }
  },
  "nbformat": 4,
  "nbformat_minor": 5
}